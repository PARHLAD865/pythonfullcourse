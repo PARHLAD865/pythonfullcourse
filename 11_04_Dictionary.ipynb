{
 "cells": [
  {
   "cell_type": "markdown",
   "metadata": {},
   "source": [
    "## Dictionary"
   ]
  },
  {
   "cell_type": "code",
   "execution_count": null,
   "metadata": {},
   "outputs": [],
   "source": [
    "Dictionaries are used to store data values in key:value pairs.\n",
    "\n",
    "A dictionary is a collection which is ordered*, changeable and do not allow duplicates.\n",
    "\n",
    "Dictionaries are written with curly brackets, and have keys and values:\n",
    "\n",
    ">> dict1={key:value}"
   ]
  },
  {
   "cell_type": "markdown",
   "metadata": {},
   "source": [
    "### Dictionry Functions:"
   ]
  },
  {
   "cell_type": "code",
   "execution_count": null,
   "metadata": {},
   "outputs": [],
   "source": [
    ">> \n",
    "1. get()            :- Returns the value of the specified key\n",
    "2. keys()           :- Returns a list containing the dictionary's keys\n",
    "3. values()         :- Returns a list of all the values in the dictionary\n",
    "4. items()          :- Returns a list containing a tuple for each key value pair\n",
    "\n",
    "\n",
    "5.update()          :- Updates the dictionary with the specified key-value pairs\n",
    "6.pop()             :- Removes the element with the specified key\n",
    "7.popitem()         :- Removes the last inserted key-value pair\n",
    "8.clear()           :- Removes all the elements from the dictionary\n",
    "\n",
    "9.fromkeys()        :- Returns a dictionary with the specified keys and value\n",
    "10.setdefault()     :- Returns the value of the specified key. \n",
    "                               If the key does not exist: insert the key, with the specified value\n",
    "11.copy()           :- Returns a copy of the dictionary\n",
    "\n",
    "\n",
    "Dictionary Comprehension:\n",
    "    new_dict={key:value for i in iterable}\n",
    "    new_dict={key:value for i in iterable if condition==True}"
   ]
  },
  {
   "cell_type": "code",
   "execution_count": 1,
   "metadata": {},
   "outputs": [
    {
     "data": {
      "text/plain": [
       "{'name': 'Virat kohli',\n",
       " 'Age': 30,\n",
       " 'Designation': 'data Scientist',\n",
       " 'salary': 70000}"
      ]
     },
     "execution_count": 1,
     "metadata": {},
     "output_type": "execute_result"
    }
   ],
   "source": [
    "employe_data={\"name\":\"Virat kohli\",\n",
    "             \"Age\":30,\n",
    "             \"Designation\":\"data Scientist\",\n",
    "             \"salary\":70000}\n",
    "\n",
    "employe_data"
   ]
  },
  {
   "cell_type": "markdown",
   "metadata": {},
   "source": [
    "# update"
   ]
  },
  {
   "cell_type": "code",
   "execution_count": 3,
   "metadata": {},
   "outputs": [
    {
     "data": {
      "text/plain": [
       "{'name': 'Virat kohli',\n",
       " 'Age': 30,\n",
       " 'Designation': 'data Scientist',\n",
       " 'salary': 70000,\n",
       " 'location': 'Banglore'}"
      ]
     },
     "execution_count": 3,
     "metadata": {},
     "output_type": "execute_result"
    }
   ],
   "source": [
    "employe_data.update({\"location\":\"Banglore\"})\n",
    "employe_data"
   ]
  },
  {
   "cell_type": "code",
   "execution_count": 5,
   "metadata": {},
   "outputs": [
    {
     "data": {
      "text/plain": [
       "{'name': 'Virat kohli',\n",
       " 'Age': 30,\n",
       " 'Designation': 'data Scientist',\n",
       " 'salary': 70000,\n",
       " 'location': 'Banglore',\n",
       " 'Hobby': 'Cricket'}"
      ]
     },
     "execution_count": 5,
     "metadata": {},
     "output_type": "execute_result"
    }
   ],
   "source": [
    "employe_data[\"Hobby\"]=\"Cricket\"\n",
    "employe_data"
   ]
  },
  {
   "cell_type": "code",
   "execution_count": 4,
   "metadata": {},
   "outputs": [
    {
     "name": "stdout",
     "output_type": "stream",
     "text": [
      "4 64\n",
      "{4: 64} <class 'list'>\n",
      "5 125\n",
      "{4: 64, 5: 125} <class 'list'>\n",
      "1 1\n",
      "{4: 64, 5: 125, 1: 1} <class 'list'>\n",
      "3 27\n",
      "{4: 64, 5: 125, 1: 1, 3: 27} <class 'list'>\n",
      "8 512\n",
      "{4: 64, 5: 125, 1: 1, 3: 27, 8: 512} <class 'list'>\n",
      "9 729\n",
      "{4: 64, 5: 125, 1: 1, 3: 27, 8: 512, 9: 729} <class 'list'>\n"
     ]
    }
   ],
   "source": [
    "list1=[4,5,1,3,8,9]\n",
    "\n",
    "#cube_dict={4:64,5:125,1:1,3:27..........}\n",
    "\n",
    "cube_dict={}\n",
    "for i in list1:\n",
    "    cube=i**3\n",
    "    print(i,cube)\n",
    "    cube_dict.update({i:cube})\n",
    "    print(cube_dict,type(list1))\n",
    "\n",
    "\n",
    "\n"
   ]
  },
  {
   "cell_type": "code",
   "execution_count": 9,
   "metadata": {},
   "outputs": [
    {
     "name": "stdout",
     "output_type": "stream",
     "text": [
      "4 64\n",
      "5 125\n",
      "1 1\n",
      "3 27\n",
      "8 512\n",
      "9 729\n",
      "4 64\n",
      "{4: 64, 5: 125, 1: 1, 3: 27, 8: 512, 9: 729}\n"
     ]
    }
   ],
   "source": [
    "list1=[4,5,1,3,8,9,4]\n",
    "\n",
    "#cube_dict={4:64,5:125,1:1,3:27..........}\n",
    "\n",
    "cube_dict={}\n",
    "for i in list1:\n",
    "    cube=i**3\n",
    "    print(i,cube)\n",
    "    cube_dict.update({i:cube})\n",
    "print(cube_dict)"
   ]
  },
  {
   "cell_type": "code",
   "execution_count": 8,
   "metadata": {},
   "outputs": [
    {
     "name": "stdout",
     "output_type": "stream",
     "text": [
      "{4: 64, 5: 125, 1: 1, 3: 27, 8: 512, 9: 729}\n"
     ]
    }
   ],
   "source": [
    "list1=[4,5,1,3,8,9]      #json=key:value\n",
    "\n",
    "#cube_dict={4:64,5:125,1:1,3:27..........}\n",
    "\n",
    "cube_dict={}\n",
    "for i in list1:\n",
    "    cube=i**3\n",
    "    #print(i,cube)\n",
    "    cube_dict.update({i:cube})\n",
    "print(cube_dict)\n"
   ]
  },
  {
   "cell_type": "code",
   "execution_count": 10,
   "metadata": {},
   "outputs": [
    {
     "name": "stdout",
     "output_type": "stream",
     "text": [
      "{4: 64, 5: 125, 1: 1, 3: 27, 8: 512, 9: 729}\n"
     ]
    }
   ],
   "source": [
    "list1=[4,5,1,3,8,9]\n",
    "\n",
    "#cube_dict={4:64,5:125,1:1,3:27..........}\n",
    "\n",
    "cube_dict={}\n",
    "for i in list1:\n",
    "    #cube=i**3\n",
    "    #print(i,cube)\n",
    "    cube_dict.update({i:i**3})\n",
    "print(cube_dict)\n"
   ]
  },
  {
   "cell_type": "code",
   "execution_count": 11,
   "metadata": {},
   "outputs": [
    {
     "name": "stdout",
     "output_type": "stream",
     "text": [
      "{5: 25, 6: 36, 7: 49, 8: 64, 9: 81, 10: 100, 11: 121, 12: 144, 13: 169}\n"
     ]
    }
   ],
   "source": [
    "list2=[5,6,7,8,9,10,11,12,13]\n",
    "\n",
    "sqr_dict={}\n",
    "\n",
    "for i in list2:\n",
    "    sqr_dict.update({i:i**2})\n",
    "print(sqr_dict)"
   ]
  },
  {
   "cell_type": "code",
   "execution_count": 10,
   "metadata": {},
   "outputs": [
    {
     "name": "stdout",
     "output_type": "stream",
     "text": [
      "{11: 121, 12: 144, 13: 169, 14: 196, 15: 225, 16: 256, 17: 289, 18: 324, 19: 361, 20: 400}\n"
     ]
    }
   ],
   "source": [
    "square_dict= dict()\n",
    "\n",
    "for i in range(11,21):\n",
    "    square_dict[i]=i**2\n",
    "print(square_dict)\n",
    "\n"
   ]
  },
  {
   "cell_type": "code",
   "execution_count": null,
   "metadata": {},
   "outputs": [],
   "source": [
    "9918441120@icici"
   ]
  },
  {
   "cell_type": "code",
   "execution_count": 14,
   "metadata": {},
   "outputs": [
    {
     "data": {
      "text/plain": [
       "{'a': 20, 'b': 30}"
      ]
     },
     "execution_count": 14,
     "metadata": {},
     "output_type": "execute_result"
    }
   ],
   "source": [
    "dict1={\"a\":20,\"b\":30}\n",
    "dict1"
   ]
  },
  {
   "cell_type": "code",
   "execution_count": 15,
   "metadata": {},
   "outputs": [
    {
     "data": {
      "text/plain": [
       "20"
      ]
     },
     "execution_count": 15,
     "metadata": {},
     "output_type": "execute_result"
    }
   ],
   "source": [
    "dict1[\"a\"]"
   ]
  },
  {
   "cell_type": "code",
   "execution_count": 17,
   "metadata": {},
   "outputs": [
    {
     "name": "stdout",
     "output_type": "stream",
     "text": [
      "{11: 121, 12: 144, 13: 169, 14: 196, 15: 225, 16: 256, 17: 289, 18: 324, 19: 361, 20: 400}\n"
     ]
    }
   ],
   "source": [
    "square_dict= dict()\n",
    "\n",
    "for i in range(11,21):\n",
    "    square_dict[i]=i**2\n",
    "print(square_dict)\n"
   ]
  },
  {
   "cell_type": "code",
   "execution_count": null,
   "metadata": {},
   "outputs": [],
   "source": [
    "Ascii:\n",
    "    A=65 B=66.....\"Z\":90...a=97 b=98"
   ]
  },
  {
   "cell_type": "code",
   "execution_count": null,
   "metadata": {},
   "outputs": [],
   "source": [
    "# {\"A\":65,\"B\":66..........}"
   ]
  },
  {
   "cell_type": "code",
   "execution_count": 18,
   "metadata": {},
   "outputs": [
    {
     "name": "stdout",
     "output_type": "stream",
     "text": [
      "65 A\n",
      "66 B\n",
      "67 C\n",
      "68 D\n",
      "69 E\n",
      "70 F\n",
      "71 G\n",
      "72 H\n",
      "73 I\n",
      "74 J\n",
      "75 K\n",
      "76 L\n",
      "77 M\n",
      "78 N\n",
      "79 O\n",
      "80 P\n",
      "81 Q\n",
      "82 R\n",
      "83 S\n",
      "84 T\n",
      "85 U\n",
      "86 V\n",
      "87 W\n",
      "88 X\n",
      "89 Y\n",
      "90 Z\n"
     ]
    }
   ],
   "source": [
    "Ascii_Dict1={}\n",
    "for i in range(65,91):\n",
    "    print(i,chr(i))\n",
    "    \n",
    "    "
   ]
  },
  {
   "cell_type": "code",
   "execution_count": 19,
   "metadata": {},
   "outputs": [
    {
     "name": "stdout",
     "output_type": "stream",
     "text": [
      "{'A': 65}\n",
      "{'A': 65, 'B': 66}\n",
      "{'A': 65, 'B': 66, 'C': 67}\n",
      "{'A': 65, 'B': 66, 'C': 67, 'D': 68}\n",
      "{'A': 65, 'B': 66, 'C': 67, 'D': 68, 'E': 69}\n",
      "{'A': 65, 'B': 66, 'C': 67, 'D': 68, 'E': 69, 'F': 70}\n",
      "{'A': 65, 'B': 66, 'C': 67, 'D': 68, 'E': 69, 'F': 70, 'G': 71}\n",
      "{'A': 65, 'B': 66, 'C': 67, 'D': 68, 'E': 69, 'F': 70, 'G': 71, 'H': 72}\n",
      "{'A': 65, 'B': 66, 'C': 67, 'D': 68, 'E': 69, 'F': 70, 'G': 71, 'H': 72, 'I': 73}\n",
      "{'A': 65, 'B': 66, 'C': 67, 'D': 68, 'E': 69, 'F': 70, 'G': 71, 'H': 72, 'I': 73, 'J': 74}\n",
      "{'A': 65, 'B': 66, 'C': 67, 'D': 68, 'E': 69, 'F': 70, 'G': 71, 'H': 72, 'I': 73, 'J': 74, 'K': 75}\n",
      "{'A': 65, 'B': 66, 'C': 67, 'D': 68, 'E': 69, 'F': 70, 'G': 71, 'H': 72, 'I': 73, 'J': 74, 'K': 75, 'L': 76}\n",
      "{'A': 65, 'B': 66, 'C': 67, 'D': 68, 'E': 69, 'F': 70, 'G': 71, 'H': 72, 'I': 73, 'J': 74, 'K': 75, 'L': 76, 'M': 77}\n",
      "{'A': 65, 'B': 66, 'C': 67, 'D': 68, 'E': 69, 'F': 70, 'G': 71, 'H': 72, 'I': 73, 'J': 74, 'K': 75, 'L': 76, 'M': 77, 'N': 78}\n",
      "{'A': 65, 'B': 66, 'C': 67, 'D': 68, 'E': 69, 'F': 70, 'G': 71, 'H': 72, 'I': 73, 'J': 74, 'K': 75, 'L': 76, 'M': 77, 'N': 78, 'O': 79}\n",
      "{'A': 65, 'B': 66, 'C': 67, 'D': 68, 'E': 69, 'F': 70, 'G': 71, 'H': 72, 'I': 73, 'J': 74, 'K': 75, 'L': 76, 'M': 77, 'N': 78, 'O': 79, 'P': 80}\n",
      "{'A': 65, 'B': 66, 'C': 67, 'D': 68, 'E': 69, 'F': 70, 'G': 71, 'H': 72, 'I': 73, 'J': 74, 'K': 75, 'L': 76, 'M': 77, 'N': 78, 'O': 79, 'P': 80, 'Q': 81}\n",
      "{'A': 65, 'B': 66, 'C': 67, 'D': 68, 'E': 69, 'F': 70, 'G': 71, 'H': 72, 'I': 73, 'J': 74, 'K': 75, 'L': 76, 'M': 77, 'N': 78, 'O': 79, 'P': 80, 'Q': 81, 'R': 82}\n",
      "{'A': 65, 'B': 66, 'C': 67, 'D': 68, 'E': 69, 'F': 70, 'G': 71, 'H': 72, 'I': 73, 'J': 74, 'K': 75, 'L': 76, 'M': 77, 'N': 78, 'O': 79, 'P': 80, 'Q': 81, 'R': 82, 'S': 83}\n",
      "{'A': 65, 'B': 66, 'C': 67, 'D': 68, 'E': 69, 'F': 70, 'G': 71, 'H': 72, 'I': 73, 'J': 74, 'K': 75, 'L': 76, 'M': 77, 'N': 78, 'O': 79, 'P': 80, 'Q': 81, 'R': 82, 'S': 83, 'T': 84}\n",
      "{'A': 65, 'B': 66, 'C': 67, 'D': 68, 'E': 69, 'F': 70, 'G': 71, 'H': 72, 'I': 73, 'J': 74, 'K': 75, 'L': 76, 'M': 77, 'N': 78, 'O': 79, 'P': 80, 'Q': 81, 'R': 82, 'S': 83, 'T': 84, 'U': 85}\n",
      "{'A': 65, 'B': 66, 'C': 67, 'D': 68, 'E': 69, 'F': 70, 'G': 71, 'H': 72, 'I': 73, 'J': 74, 'K': 75, 'L': 76, 'M': 77, 'N': 78, 'O': 79, 'P': 80, 'Q': 81, 'R': 82, 'S': 83, 'T': 84, 'U': 85, 'V': 86}\n",
      "{'A': 65, 'B': 66, 'C': 67, 'D': 68, 'E': 69, 'F': 70, 'G': 71, 'H': 72, 'I': 73, 'J': 74, 'K': 75, 'L': 76, 'M': 77, 'N': 78, 'O': 79, 'P': 80, 'Q': 81, 'R': 82, 'S': 83, 'T': 84, 'U': 85, 'V': 86, 'W': 87}\n",
      "{'A': 65, 'B': 66, 'C': 67, 'D': 68, 'E': 69, 'F': 70, 'G': 71, 'H': 72, 'I': 73, 'J': 74, 'K': 75, 'L': 76, 'M': 77, 'N': 78, 'O': 79, 'P': 80, 'Q': 81, 'R': 82, 'S': 83, 'T': 84, 'U': 85, 'V': 86, 'W': 87, 'X': 88}\n",
      "{'A': 65, 'B': 66, 'C': 67, 'D': 68, 'E': 69, 'F': 70, 'G': 71, 'H': 72, 'I': 73, 'J': 74, 'K': 75, 'L': 76, 'M': 77, 'N': 78, 'O': 79, 'P': 80, 'Q': 81, 'R': 82, 'S': 83, 'T': 84, 'U': 85, 'V': 86, 'W': 87, 'X': 88, 'Y': 89}\n",
      "{'A': 65, 'B': 66, 'C': 67, 'D': 68, 'E': 69, 'F': 70, 'G': 71, 'H': 72, 'I': 73, 'J': 74, 'K': 75, 'L': 76, 'M': 77, 'N': 78, 'O': 79, 'P': 80, 'Q': 81, 'R': 82, 'S': 83, 'T': 84, 'U': 85, 'V': 86, 'W': 87, 'X': 88, 'Y': 89, 'Z': 90}\n"
     ]
    }
   ],
   "source": [
    "Ascii_Dict1={}\n",
    "for i in range(65,91):\n",
    "    Ascii_Dict1.update({chr(i):i})\n",
    "    print(Ascii_Dict1)\n",
    "    \n",
    "    "
   ]
  },
  {
   "cell_type": "code",
   "execution_count": 20,
   "metadata": {},
   "outputs": [
    {
     "name": "stdout",
     "output_type": "stream",
     "text": [
      "{'A': 65, 'B': 66, 'C': 67, 'D': 68, 'E': 69, 'F': 70, 'G': 71, 'H': 72, 'I': 73, 'J': 74, 'K': 75, 'L': 76, 'M': 77, 'N': 78, 'O': 79, 'P': 80, 'Q': 81, 'R': 82, 'S': 83, 'T': 84, 'U': 85, 'V': 86, 'W': 87, 'X': 88, 'Y': 89, 'Z': 90}\n"
     ]
    }
   ],
   "source": [
    "Ascii_Dict1={}\n",
    "for i in range(65,91):\n",
    "    Ascii_Dict1.update({chr(i):i})\n",
    "print(Ascii_Dict1)\n",
    "    "
   ]
  },
  {
   "cell_type": "code",
   "execution_count": 22,
   "metadata": {},
   "outputs": [
    {
     "name": "stdout",
     "output_type": "stream",
     "text": [
      "{'a': 97, 'b': 98, 'c': 99, 'd': 100, 'e': 101, 'f': 102, 'g': 103, 'h': 104, 'i': 105, 'j': 106, 'k': 107, 'l': 108, 'm': 109, 'n': 110, 'o': 111, 'p': 112, 'q': 113, 'r': 114, 's': 115, 't': 116, 'u': 117, 'v': 118, 'w': 119, 'x': 120, 'y': 121, 'z': 122}\n"
     ]
    }
   ],
   "source": [
    "Ascii_lower={}\n",
    "for i in range(97,123):\n",
    "    Ascii_lower.update({chr(i):i})\n",
    "print(Ascii_lower)"
   ]
  },
  {
   "cell_type": "code",
   "execution_count": 23,
   "metadata": {},
   "outputs": [
    {
     "name": "stdout",
     "output_type": "stream",
     "text": [
      "{'a': 97, 'b': 98, 'c': 99, 'd': 100, 'e': 101, 'f': 102, 'g': 103, 'h': 104, 'i': 105, 'j': 106, 'k': 107, 'l': 108, 'm': 109, 'n': 110, 'o': 111, 'p': 112, 'q': 113, 'r': 114, 's': 115, 't': 116, 'u': 117, 'v': 118, 'w': 119, 'x': 120, 'y': 121, 'z': 122}\n"
     ]
    }
   ],
   "source": [
    "Ascii_lower={}\n",
    "for i in range(97,123):\n",
    "    Ascii_lower[chr(i)]=i\n",
    "print(Ascii_lower)"
   ]
  },
  {
   "cell_type": "code",
   "execution_count": 29,
   "metadata": {},
   "outputs": [
    {
     "name": "stdout",
     "output_type": "stream",
     "text": [
      "{'phy': 91, 'math': 92, 'chem': 93, 'bio': 94, 'eng': 95}\n"
     ]
    }
   ],
   "source": [
    "list1=[\"phy\",\"math\",\"chem\",\"bio\",\"eng\"]\n",
    "list2=[91,92,93,94,95]\n",
    "\n",
    "#result={\"phy\":91,\"math\":92}\n",
    "result={}\n",
    "\n",
    "for i,sub in enumerate (list1):\n",
    "    result.update({sub:list2[i]})\n",
    "print(result)\n"
   ]
  },
  {
   "cell_type": "code",
   "execution_count": 30,
   "metadata": {},
   "outputs": [
    {
     "name": "stdout",
     "output_type": "stream",
     "text": [
      "{'phy': 91, 'math': 92, 'chem': 93, 'bio': 94, 'eng': 95}\n"
     ]
    }
   ],
   "source": [
    "result={}\n",
    "for i in range(len(list1)):\n",
    "    result.update({list1[i]:list2[i]})\n",
    "print(result)"
   ]
  },
  {
   "cell_type": "code",
   "execution_count": 31,
   "metadata": {},
   "outputs": [
    {
     "name": "stdout",
     "output_type": "stream",
     "text": [
      "0 phy 91\n",
      "1 math 92\n",
      "2 chem 93\n",
      "3 bio 94\n",
      "4 eng 95\n"
     ]
    }
   ],
   "source": [
    "list1=[\"phy\",\"math\",\"chem\",\"bio\",\"eng\"]\n",
    "list2=[91,92,93,94,95]\n",
    "result={}\n",
    "\n",
    "for i,sub_name in enumerate(list1):\n",
    "    print(i,sub_name,list2[i])\n",
    "    "
   ]
  },
  {
   "cell_type": "code",
   "execution_count": 4,
   "metadata": {},
   "outputs": [
    {
     "name": "stdout",
     "output_type": "stream",
     "text": [
      "{'phy': 91}\n",
      "{'phy': 91, 'math': 92}\n",
      "{'phy': 91, 'math': 92, 'chem': 93}\n",
      "{'phy': 91, 'math': 92, 'chem': 93, 'bio': 94}\n",
      "{'phy': 91, 'math': 92, 'chem': 93, 'bio': 94, 'eng': 95}\n"
     ]
    }
   ],
   "source": [
    "list1=[\"phy\",\"math\",\"chem\",\"bio\",\"eng\"]\n",
    "list2=[91,92,93,94,95]\n",
    "result={}\n",
    "\n",
    "for i,sub_name in enumerate(list1):\n",
    "    result.update({sub_name:list2[i]})\n",
    "    print(result)\n",
    "    "
   ]
  },
  {
   "cell_type": "code",
   "execution_count": 33,
   "metadata": {},
   "outputs": [
    {
     "name": "stdout",
     "output_type": "stream",
     "text": [
      "{'phy': 91, 'math': 92, 'chem': 93, 'bio': 94, 'eng': 95}\n"
     ]
    }
   ],
   "source": [
    "list1=[\"phy\",\"math\",\"chem\",\"bio\",\"eng\"]\n",
    "list2=[91,92,93,94,95]\n",
    "result={}\n",
    "\n",
    "for i,sub_name in enumerate(list1):\n",
    "    result.update({sub_name:list2[i]})\n",
    "print(result)"
   ]
  },
  {
   "cell_type": "code",
   "execution_count": 36,
   "metadata": {},
   "outputs": [
    {
     "name": "stdout",
     "output_type": "stream",
     "text": [
      "{'phy': 91, 'math': 92, 'chem': 93, 'bio': 94, 'eng': 95}\n"
     ]
    }
   ],
   "source": [
    "list1=[\"phy\",\"math\",\"chem\",\"bio\",\"eng\"]\n",
    "#list2=[91,92,93,94,95]\n",
    "result={}\n",
    "index=0\n",
    "\n",
    "for sub_name in list1:\n",
    "    result[sub_name]=list2[index]\n",
    "    index=index+1\n",
    "print(result)\n",
    "    "
   ]
  },
  {
   "cell_type": "code",
   "execution_count": 46,
   "metadata": {},
   "outputs": [
    {
     "name": "stdout",
     "output_type": "stream",
     "text": [
      "{'A': 100, 'B': 200, 'C': 300, 'D': 400, 'E': 500}\n"
     ]
    }
   ],
   "source": [
    "s1=\"ABCDE\"\n",
    "list1=list(s1)\n",
    "list2=[100,200,300,400,500]\n",
    "result={}\n",
    "for i,char in  enumerate(list1):\n",
    "    result.update({char:list2[i]})\n",
    "print(result)\n",
    "    "
   ]
  },
  {
   "cell_type": "markdown",
   "metadata": {},
   "source": [
    "### Delete items from Dictionary:"
   ]
  },
  {
   "cell_type": "code",
   "execution_count": null,
   "metadata": {},
   "outputs": [],
   "source": [
    "pop():\n",
    "    This method removes as item with a given key and return the removed value.\n",
    "\n",
    "dict.pop(key)"
   ]
  },
  {
   "cell_type": "code",
   "execution_count": 47,
   "metadata": {},
   "outputs": [
    {
     "data": {
      "text/plain": [
       "{'A': 100, 'B': 200, 'C': 300, 'D': 400, 'E': 500}"
      ]
     },
     "execution_count": 47,
     "metadata": {},
     "output_type": "execute_result"
    }
   ],
   "source": [
    "data={\"A\":100,\"B\":200,\"C\":300,\"D\":400,\"E\":500}\n",
    "data"
   ]
  },
  {
   "cell_type": "code",
   "execution_count": 48,
   "metadata": {},
   "outputs": [
    {
     "data": {
      "text/plain": [
       "200"
      ]
     },
     "execution_count": 48,
     "metadata": {},
     "output_type": "execute_result"
    }
   ],
   "source": [
    "data.pop(\"B\")"
   ]
  },
  {
   "cell_type": "code",
   "execution_count": 49,
   "metadata": {},
   "outputs": [
    {
     "data": {
      "text/plain": [
       "{'A': 100, 'C': 300, 'D': 400, 'E': 500}"
      ]
     },
     "execution_count": 49,
     "metadata": {},
     "output_type": "execute_result"
    }
   ],
   "source": [
    "data"
   ]
  },
  {
   "cell_type": "code",
   "execution_count": 50,
   "metadata": {},
   "outputs": [
    {
     "data": {
      "text/plain": [
       "300"
      ]
     },
     "execution_count": 50,
     "metadata": {},
     "output_type": "execute_result"
    }
   ],
   "source": [
    "a=data.pop(\"C\")\n",
    "a"
   ]
  },
  {
   "cell_type": "code",
   "execution_count": 51,
   "metadata": {},
   "outputs": [
    {
     "data": {
      "text/plain": [
       "{'A': 100, 'D': 400, 'E': 500}"
      ]
     },
     "execution_count": 51,
     "metadata": {},
     "output_type": "execute_result"
    }
   ],
   "source": [
    "data"
   ]
  },
  {
   "cell_type": "markdown",
   "metadata": {},
   "source": [
    "# data.pop()"
   ]
  },
  {
   "cell_type": "code",
   "execution_count": null,
   "metadata": {},
   "outputs": [],
   "source": [
    "2) popitem():\n",
    "    This method will remove any return any arbitary key:value pair from dictionary.\n",
    "    It will delete last element inserted in dict(key:value)\n",
    ">> dict.popitem()"
   ]
  },
  {
   "cell_type": "code",
   "execution_count": 53,
   "metadata": {},
   "outputs": [
    {
     "data": {
      "text/plain": [
       "('E', 500)"
      ]
     },
     "execution_count": 53,
     "metadata": {},
     "output_type": "execute_result"
    }
   ],
   "source": [
    "data={\"A\":100,\"B\":200,\"C\":300,\"D\":400,\"E\":500}\n",
    "data.popitem()"
   ]
  },
  {
   "cell_type": "code",
   "execution_count": 54,
   "metadata": {},
   "outputs": [
    {
     "data": {
      "text/plain": [
       "{'A': 100, 'B': 200, 'C': 300, 'D': 400}"
      ]
     },
     "execution_count": 54,
     "metadata": {},
     "output_type": "execute_result"
    }
   ],
   "source": [
    "data"
   ]
  },
  {
   "cell_type": "code",
   "execution_count": 55,
   "metadata": {},
   "outputs": [
    {
     "data": {
      "text/plain": [
       "('D', 400)"
      ]
     },
     "execution_count": 55,
     "metadata": {},
     "output_type": "execute_result"
    }
   ],
   "source": [
    "data.popitem()"
   ]
  },
  {
   "cell_type": "code",
   "execution_count": 56,
   "metadata": {},
   "outputs": [
    {
     "data": {
      "text/plain": [
       "('C', 300)"
      ]
     },
     "execution_count": 56,
     "metadata": {},
     "output_type": "execute_result"
    }
   ],
   "source": [
    "data.popitem()"
   ]
  },
  {
   "cell_type": "code",
   "execution_count": null,
   "metadata": {},
   "outputs": [],
   "source": [
    "3) clear()\n",
    ">> It will delete all elements from dict and give empty dict\n",
    "\n",
    "dict.clear()\n"
   ]
  },
  {
   "cell_type": "code",
   "execution_count": 57,
   "metadata": {},
   "outputs": [],
   "source": [
    "data={\"A\":100,\"B\":200,\"C\":300,\"D\":400,\"E\":500}\n",
    "data.clear()"
   ]
  },
  {
   "cell_type": "code",
   "execution_count": 58,
   "metadata": {},
   "outputs": [
    {
     "data": {
      "text/plain": [
       "{}"
      ]
     },
     "execution_count": 58,
     "metadata": {},
     "output_type": "execute_result"
    }
   ],
   "source": [
    "data"
   ]
  },
  {
   "cell_type": "markdown",
   "metadata": {},
   "source": [
    "# 4)del keyword:"
   ]
  },
  {
   "cell_type": "code",
   "execution_count": 60,
   "metadata": {},
   "outputs": [
    {
     "data": {
      "text/plain": [
       "{'A': 100, 'B': 200, 'C': 300, 'D': 400, 'E': 500}"
      ]
     },
     "execution_count": 60,
     "metadata": {},
     "output_type": "execute_result"
    }
   ],
   "source": [
    "data={\"A\":100,\"B\":200,\"C\":300,\"D\":400,\"E\":500}\n",
    "data"
   ]
  },
  {
   "cell_type": "code",
   "execution_count": 62,
   "metadata": {},
   "outputs": [
    {
     "ename": "NameError",
     "evalue": "name 'data' is not defined",
     "output_type": "error",
     "traceback": [
      "\u001b[1;31m---------------------------------------------------------------------------\u001b[0m",
      "\u001b[1;31mNameError\u001b[0m                                 Traceback (most recent call last)",
      "\u001b[1;32m<ipython-input-62-54c331ec1726>\u001b[0m in \u001b[0;36m<module>\u001b[1;34m\u001b[0m\n\u001b[1;32m----> 1\u001b[1;33m \u001b[1;32mdel\u001b[0m \u001b[0mdata\u001b[0m\u001b[1;33m\u001b[0m\u001b[1;33m\u001b[0m\u001b[0m\n\u001b[0m\u001b[0;32m      2\u001b[0m \u001b[0mdata\u001b[0m\u001b[1;33m\u001b[0m\u001b[1;33m\u001b[0m\u001b[0m\n",
      "\u001b[1;31mNameError\u001b[0m: name 'data' is not defined"
     ]
    }
   ],
   "source": [
    "del data\n",
    "data"
   ]
  },
  {
   "cell_type": "code",
   "execution_count": null,
   "metadata": {},
   "outputs": [],
   "source": [
    "# result.update({i:list2[i]})\n",
    "# print(result)\n"
   ]
  },
  {
   "cell_type": "markdown",
   "metadata": {},
   "source": [
    "### fromkeys()"
   ]
  },
  {
   "cell_type": "code",
   "execution_count": null,
   "metadata": {},
   "outputs": [],
   "source": [
    "dict.fromkeys(iterable,[value])\n",
    "\n",
    ">> It will create dictionary with same value.\n",
    ">> Default value is None"
   ]
  },
  {
   "cell_type": "code",
   "execution_count": 65,
   "metadata": {},
   "outputs": [
    {
     "data": {
      "text/plain": [
       "{'A': None, 'B': None, 'C': None, 'D': None, 'E': None}"
      ]
     },
     "execution_count": 65,
     "metadata": {},
     "output_type": "execute_result"
    }
   ],
   "source": [
    "x=list(\"ABCDE\")\n",
    "new_dict=dict.fromkeys(x)\n",
    "new_dict"
   ]
  },
  {
   "cell_type": "code",
   "execution_count": 66,
   "metadata": {},
   "outputs": [
    {
     "data": {
      "text/plain": [
       "{'A': 500, 'B': 500, 'C': 500, 'D': 500, 'E': 500}"
      ]
     },
     "execution_count": 66,
     "metadata": {},
     "output_type": "execute_result"
    }
   ],
   "source": [
    "x=list(\"ABCDE\")\n",
    "new_dict=dict.fromkeys(x,500)\n",
    "new_dict"
   ]
  },
  {
   "cell_type": "code",
   "execution_count": 67,
   "metadata": {},
   "outputs": [
    {
     "data": {
      "text/plain": [
       "{'A': [500, 400, 300, 200, 100],\n",
       " 'B': [500, 400, 300, 200, 100],\n",
       " 'C': [500, 400, 300, 200, 100],\n",
       " 'D': [500, 400, 300, 200, 100],\n",
       " 'E': [500, 400, 300, 200, 100]}"
      ]
     },
     "execution_count": 67,
     "metadata": {},
     "output_type": "execute_result"
    }
   ],
   "source": [
    "x=list(\"ABCDE\")\n",
    "new_dict=dict.fromkeys(x,[500,400,300,200,100])\n",
    "new_dict"
   ]
  },
  {
   "cell_type": "code",
   "execution_count": 68,
   "metadata": {},
   "outputs": [
    {
     "data": {
      "text/plain": [
       "{2: 400, 3: 400, 4: 400, 5: 400, 6: 400}"
      ]
     },
     "execution_count": 68,
     "metadata": {},
     "output_type": "execute_result"
    }
   ],
   "source": [
    "new_dict=dict.fromkeys((2,3,4,5,6),400)\n",
    "new_dict"
   ]
  },
  {
   "cell_type": "code",
   "execution_count": 69,
   "metadata": {},
   "outputs": [
    {
     "data": {
      "text/plain": [
       "{2: 400, 3: 400, 4: 400, 5: 400, 6: 400}"
      ]
     },
     "execution_count": 69,
     "metadata": {},
     "output_type": "execute_result"
    }
   ],
   "source": [
    "new_dict=dict.fromkeys([2,3,4,5,6],400)\n",
    "new_dict"
   ]
  },
  {
   "cell_type": "code",
   "execution_count": 70,
   "metadata": {},
   "outputs": [
    {
     "data": {
      "text/plain": [
       "{2: (400, 300, 200, 100),\n",
       " 3: (400, 300, 200, 100),\n",
       " 4: (400, 300, 200, 100),\n",
       " 5: (400, 300, 200, 100),\n",
       " 6: (400, 300, 200, 100)}"
      ]
     },
     "execution_count": 70,
     "metadata": {},
     "output_type": "execute_result"
    }
   ],
   "source": [
    "new_dict=dict.fromkeys([2,3,4,5,6],(400,300,200,100))\n",
    "new_dict"
   ]
  },
  {
   "cell_type": "code",
   "execution_count": 71,
   "metadata": {},
   "outputs": [
    {
     "data": {
      "text/plain": [
       "{2: (400, 300, 200, 100),\n",
       " 3: (400, 300, 200, 100),\n",
       " 4: (400, 300, 200, 100),\n",
       " 5: (400, 300, 200, 100),\n",
       " 6: (400, 300, 200, 100)}"
      ]
     },
     "execution_count": 71,
     "metadata": {},
     "output_type": "execute_result"
    }
   ],
   "source": [
    "new_dict=dict.fromkeys({2,3,4,5,6},(400,300,200,100))\n",
    "new_dict"
   ]
  },
  {
   "cell_type": "markdown",
   "metadata": {},
   "source": [
    "### setdefault()"
   ]
  },
  {
   "cell_type": "code",
   "execution_count": null,
   "metadata": {},
   "outputs": [],
   "source": [
    "Dict.setdefault(key,[val])\n",
    "\n",
    ">> Default value is None"
   ]
  },
  {
   "cell_type": "code",
   "execution_count": 72,
   "metadata": {},
   "outputs": [
    {
     "data": {
      "text/plain": [
       "90"
      ]
     },
     "execution_count": 72,
     "metadata": {},
     "output_type": "execute_result"
    }
   ],
   "source": [
    "result={\"phy\":88,\"chem\":90,\"math\":92,\"bio\":88}\n",
    "\n",
    "result.setdefault(\"chem\")"
   ]
  },
  {
   "cell_type": "code",
   "execution_count": 73,
   "metadata": {},
   "outputs": [],
   "source": [
    "result.setdefault(\"python\")"
   ]
  },
  {
   "cell_type": "code",
   "execution_count": 74,
   "metadata": {},
   "outputs": [
    {
     "data": {
      "text/plain": [
       "{'phy': 88, 'chem': 90, 'math': 92, 'bio': 88, 'python': None}"
      ]
     },
     "execution_count": 74,
     "metadata": {},
     "output_type": "execute_result"
    }
   ],
   "source": [
    "result"
   ]
  },
  {
   "cell_type": "code",
   "execution_count": 75,
   "metadata": {},
   "outputs": [
    {
     "data": {
      "text/plain": [
       "500"
      ]
     },
     "execution_count": 75,
     "metadata": {},
     "output_type": "execute_result"
    }
   ],
   "source": [
    "result.setdefault(\"data\",500)"
   ]
  },
  {
   "cell_type": "code",
   "execution_count": 76,
   "metadata": {},
   "outputs": [
    {
     "data": {
      "text/plain": [
       "{'phy': 88, 'chem': 90, 'math': 92, 'bio': 88, 'python': None, 'data': 500}"
      ]
     },
     "execution_count": 76,
     "metadata": {},
     "output_type": "execute_result"
    }
   ],
   "source": [
    "result"
   ]
  },
  {
   "cell_type": "code",
   "execution_count": null,
   "metadata": {},
   "outputs": [],
   "source": [
    "result[data]=500\n",
    "result.update({\"data\":500})\n"
   ]
  },
  {
   "cell_type": "code",
   "execution_count": 82,
   "metadata": {},
   "outputs": [
    {
     "data": {
      "text/plain": [
       "92"
      ]
     },
     "execution_count": 82,
     "metadata": {},
     "output_type": "execute_result"
    }
   ],
   "source": [
    "result.setdefault(\"math\",100)"
   ]
  },
  {
   "cell_type": "code",
   "execution_count": 83,
   "metadata": {},
   "outputs": [
    {
     "data": {
      "text/plain": [
       "{'phy': 88, 'chem': 90, 'math': 92, 'bio': 88, 'python': None, 'data': 500}"
      ]
     },
     "execution_count": 83,
     "metadata": {},
     "output_type": "execute_result"
    }
   ],
   "source": [
    "result"
   ]
  },
  {
   "cell_type": "code",
   "execution_count": 84,
   "metadata": {},
   "outputs": [
    {
     "data": {
      "text/plain": [
       "50"
      ]
     },
     "execution_count": 84,
     "metadata": {},
     "output_type": "execute_result"
    }
   ],
   "source": [
    "result.setdefault(\"java\",50)"
   ]
  },
  {
   "cell_type": "code",
   "execution_count": 85,
   "metadata": {},
   "outputs": [
    {
     "data": {
      "text/plain": [
       "{'phy': 88,\n",
       " 'chem': 90,\n",
       " 'math': 92,\n",
       " 'bio': 88,\n",
       " 'python': None,\n",
       " 'data': 500,\n",
       " 'java': 50}"
      ]
     },
     "execution_count": 85,
     "metadata": {},
     "output_type": "execute_result"
    }
   ],
   "source": [
    "result"
   ]
  },
  {
   "cell_type": "markdown",
   "metadata": {},
   "source": [
    "### Copy()"
   ]
  },
  {
   "cell_type": "code",
   "execution_count": 8,
   "metadata": {},
   "outputs": [],
   "source": [
    "result={\"phy\":88,\"chem\":90,\"math\":92,\"bio\":88}"
   ]
  },
  {
   "cell_type": "code",
   "execution_count": 6,
   "metadata": {},
   "outputs": [],
   "source": [
    "new_result=result.copy()"
   ]
  },
  {
   "cell_type": "code",
   "execution_count": 87,
   "metadata": {},
   "outputs": [
    {
     "name": "stdout",
     "output_type": "stream",
     "text": [
      "{'phy': 88, 'chem': 90, 'math': 92, 'bio': 88, 'python': None, 'data': 500, 'java': 50}\n",
      "{'phy': 88, 'chem': 90, 'math': 92, 'bio': 88, 'python': None, 'data': 500, 'java': 50}\n"
     ]
    }
   ],
   "source": [
    "print(result)\n",
    "print(new_result)"
   ]
  },
  {
   "cell_type": "code",
   "execution_count": 9,
   "metadata": {},
   "outputs": [
    {
     "name": "stdout",
     "output_type": "stream",
     "text": [
      "{'phy': 88, 'chem': 90, 'math': 92, 'bio': 88, 'eng': 70}\n",
      "{'phy': 91, 'math': 92, 'chem': 93, 'bio': 94, 'eng': 70}\n"
     ]
    }
   ],
   "source": [
    "result.update({\"eng\":70})\n",
    "print(result)\n",
    "print(new_result)"
   ]
  },
  {
   "cell_type": "markdown",
   "metadata": {},
   "source": [
    "### Nested Dictionary:"
   ]
  },
  {
   "cell_type": "code",
   "execution_count": null,
   "metadata": {},
   "outputs": [],
   "source": [
    ">> Dictionary as a value of dictionary."
   ]
  },
  {
   "cell_type": "code",
   "execution_count": 93,
   "metadata": {},
   "outputs": [
    {
     "name": "stdout",
     "output_type": "stream",
     "text": [
      "{'TCS1001': {'name': 'rahul', 'Age': 29, 'Company_name': 'TCS', 'designation': 'Data Scientist'}}\n"
     ]
    },
    {
     "data": {
      "text/plain": [
       "1"
      ]
     },
     "execution_count": 93,
     "metadata": {},
     "output_type": "execute_result"
    }
   ],
   "source": [
    "employee_data={\"TCS1001\":{\"name\":\"rahul\",\n",
    "                         \"Age\":29,\n",
    "                         \"Company_name\":\"TCS\",\n",
    "                         \"designation\":\"Data Scientist\"}}\n",
    "print(employee_data)\n",
    "len(employee_data)"
   ]
  },
  {
   "cell_type": "markdown",
   "metadata": {},
   "source": [
    "# Jupyter__Python"
   ]
  },
  {
   "cell_type": "code",
   "execution_count": 16,
   "metadata": {},
   "outputs": [
    {
     "name": "stdout",
     "output_type": "stream",
     "text": [
      "{'TCS1001': {'name': 'rahul', 'Age': 29, 'Company_name': 'TCS', 'designation': 'Data Scientist'}, 'TCS1002': {'name': 'rohit', 'Age': 32, 'Company_name': 'TCS', 'designation': 'Data Analyst'}, 'TCS1003': {'name': 'virat', 'Age': 29, 'Company_name': 'TCS', 'designation': 'Data Scientist'}, 'TCS1004': {'name': 'surya_kumar', 'Age': 29, 'Company_name': 'TCS', 'designation': 'Data Scientist'}}\n"
     ]
    },
    {
     "data": {
      "text/plain": [
       "4"
      ]
     },
     "execution_count": 16,
     "metadata": {},
     "output_type": "execute_result"
    }
   ],
   "source": [
    "employee_data={\"TCS1001\":{\"name\":\"rahul\",\n",
    "                         \"Age\":29,\n",
    "                         \"Company_name\":\"TCS\",\n",
    "                         \"designation\":\"Data Scientist\"},\n",
    "              \"TCS1002\":{\"name\":\"rohit\",\n",
    "                         \"Age\":32,\n",
    "                         \"Company_name\":\"TCS\",\n",
    "                         \"designation\":\"Data Analyst\"},\n",
    "               \"TCS1003\":{\"name\":\"virat\",\n",
    "                         \"Age\":29,\n",
    "                         \"Company_name\":\"TCS\",\n",
    "                         \"designation\":\"Data Scientist\"},\n",
    "               \"TCS1004\":{\"name\":\"surya_kumar\",\n",
    "                         \"Age\":29,\n",
    "                         \"Company_name\":\"TCS\",\n",
    "                         \"designation\":\"Data Scientist\"}}\n",
    "print(employee_data)\n",
    "len(employee_data)"
   ]
  },
  {
   "cell_type": "code",
   "execution_count": 95,
   "metadata": {},
   "outputs": [
    {
     "data": {
      "text/plain": [
       "{'name': 'surya_kumar',\n",
       " 'Age': 29,\n",
       " 'Company_name': 'TCS',\n",
       " 'designation': 'Data Scientist'}"
      ]
     },
     "execution_count": 95,
     "metadata": {},
     "output_type": "execute_result"
    }
   ],
   "source": [
    "employee_data[\"TCS1004\"]"
   ]
  },
  {
   "cell_type": "code",
   "execution_count": 96,
   "metadata": {},
   "outputs": [
    {
     "data": {
      "text/plain": [
       "{'name': 'rahul',\n",
       " 'Age': 29,\n",
       " 'Company_name': 'TCS',\n",
       " 'designation': 'Data Scientist'}"
      ]
     },
     "execution_count": 96,
     "metadata": {},
     "output_type": "execute_result"
    }
   ],
   "source": [
    "employee_data[\"TCS1001\"]"
   ]
  },
  {
   "cell_type": "code",
   "execution_count": 97,
   "metadata": {},
   "outputs": [
    {
     "data": {
      "text/plain": [
       "{'name': 'rohit',\n",
       " 'Age': 32,\n",
       " 'Company_name': 'TCS',\n",
       " 'designation': 'Data Analyst'}"
      ]
     },
     "execution_count": 97,
     "metadata": {},
     "output_type": "execute_result"
    }
   ],
   "source": [
    "employee_data[\"TCS1002\"]"
   ]
  },
  {
   "cell_type": "markdown",
   "metadata": {},
   "source": [
    "### Dictionary Comprehension:"
   ]
  },
  {
   "cell_type": "code",
   "execution_count": 12,
   "metadata": {},
   "outputs": [
    {
     "ename": "SyntaxError",
     "evalue": "invalid syntax (2584383427.py, line 3)",
     "output_type": "error",
     "traceback": [
      "\u001b[1;36m  Input \u001b[1;32mIn [12]\u001b[1;36m\u001b[0m\n\u001b[1;33m    cube_list=[i**3 for i in list1 if i>=3,else i**2]\u001b[0m\n\u001b[1;37m                                          ^\u001b[0m\n\u001b[1;31mSyntaxError\u001b[0m\u001b[1;31m:\u001b[0m invalid syntax\n"
     ]
    }
   ],
   "source": [
    "list1=[1,2,3,4,5,6,7]\n",
    "\n",
    "cube_list=[i**3 for i in list1 if i>=3,else i**2]\n",
    "cube_list"
   ]
  },
  {
   "cell_type": "code",
   "execution_count": 100,
   "metadata": {},
   "outputs": [
    {
     "name": "stdout",
     "output_type": "stream",
     "text": [
      "{3: 27, 4: 64, 5: 125, 6: 216, 7: 343, 8: 512, 9: 729, 10: 1000}\n"
     ]
    }
   ],
   "source": [
    "cube={}\n",
    "\n",
    "for i in range(1,11):\n",
    "    if i >=3:\n",
    "        cube.update({i:i**3})\n",
    "print(cube)"
   ]
  },
  {
   "cell_type": "code",
   "execution_count": 103,
   "metadata": {},
   "outputs": [],
   "source": [
    "# dict1={3: 27, 4: 64, 5: 125, 6: 216, 7: 343, 8: 512, 9: 729, 10: 1000}\n",
    "# cube1=[k:v for k,v in dict1]\n"
   ]
  },
  {
   "cell_type": "code",
   "execution_count": 14,
   "metadata": {},
   "outputs": [
    {
     "name": "stdout",
     "output_type": "stream",
     "text": [
      "last: fermi\n",
      "first: enrico\n",
      "username: efermi\n",
      "last: curie\n",
      "first: marie\n",
      "username: mcurie\n",
      "\n",
      "\n"
     ]
    }
   ],
   "source": [
    "# Start with an empty list.\n",
    "users = []\n",
    "# Make a new user, and add them to the list.\n",
    "new_user = {\n",
    " 'last': 'fermi',\n",
    " 'first': 'enrico',\n",
    " 'username': 'efermi',\n",
    " }\n",
    "users.append(new_user)\n",
    "# Make another new user, and add them as well.\n",
    "new_user = {\n",
    " 'last': 'curie',\n",
    " 'first': 'marie',\n",
    " 'username': 'mcurie',\n",
    " }\n",
    "users.append(new_user)\n",
    "# Show all information about each user.\n",
    "for user_dict in users:\n",
    "    for k, v in user_dict.items():\n",
    "        print(k + \": \" + v)\n",
    "print(\"\\n\")"
   ]
  },
  {
   "cell_type": "code",
   "execution_count": null,
   "metadata": {},
   "outputs": [],
   "source": []
  }
 ],
 "metadata": {
  "kernelspec": {
   "display_name": "Python 3 (ipykernel)",
   "language": "python",
   "name": "python3"
  },
  "language_info": {
   "codemirror_mode": {
    "name": "ipython",
    "version": 3
   },
   "file_extension": ".py",
   "mimetype": "text/x-python",
   "name": "python",
   "nbconvert_exporter": "python",
   "pygments_lexer": "ipython3",
   "version": "3.9.12"
  }
 },
 "nbformat": 4,
 "nbformat_minor": 4
}
