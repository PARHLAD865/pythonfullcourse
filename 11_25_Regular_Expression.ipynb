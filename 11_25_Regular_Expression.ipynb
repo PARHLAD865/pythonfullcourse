{
 "cells": [
  {
   "cell_type": "markdown",
   "metadata": {},
   "source": [
    "# Regular Expression:"
   ]
  },
  {
   "cell_type": "code",
   "execution_count": null,
   "metadata": {},
   "outputs": [],
   "source": [
    "import re\n",
    "\n",
    ">> Data should be text(string format)\n",
    "\n",
    "use cases:\n",
    "    1.To extract info from text data\n",
    "    2.Text preprocessing(Text cleaning >> To remove all special chars or spaces)\n",
    "    3. Web Scraping"
   ]
  },
  {
   "cell_type": "code",
   "execution_count": null,
   "metadata": {},
   "outputs": [],
   "source": [
    "Functions:\n",
    "1.findall() >> List of all matches\n",
    "2.re.search() >> Object >> Object.group()>> It will search for pattern in whole string\n",
    "3.re.match() >> Object.group()>> It will check for output in first line Only\n",
    "4. re.compile() >> string\n",
    "5.re.split() >> List\n",
    "6. re.sub()>> string"
   ]
  },
  {
   "cell_type": "code",
   "execution_count": null,
   "metadata": {},
   "outputs": [],
   "source": [
    "Special Sequences:\n",
    "\\d  >>[0-9]\n",
    "\\D  >>[^0-9]\n",
    "\\w  >>[a-zA-Z0-9_]\n",
    "\\W  >>[^a-zA-Z0-9_]\n",
    "\\s  >> [ ]\n",
    "\\S  >> [^ ]\n",
    "\\b >> To bind the pattern\n"
   ]
  },
  {
   "cell_type": "code",
   "execution_count": null,
   "metadata": {},
   "outputs": [],
   "source": [
    "Special Characters:\n",
    "1.Plus(+)  >> One or more Occurences\n",
    "2.Star(*)  >> zero or more Occurences\n",
    "3.dot(.)  >>  Any Char except newline\n",
    "4.Question Mark(?) >> Zero or one occurance\n",
    "5.startswith(^)\n",
    "6.Endswith($)\n",
    "7.Or(|)\n",
    "\n",
    "8.[] >> Set of characters\n",
    "9. {} >> Number of occurences\n",
    "10. () >> Group of characters"
   ]
  },
  {
   "cell_type": "code",
   "execution_count": null,
   "metadata": {},
   "outputs": [],
   "source": [
    "5. Compile():\n",
    "    "
   ]
  },
  {
   "cell_type": "code",
   "execution_count": 3,
   "metadata": {},
   "outputs": [
    {
     "name": "stdout",
     "output_type": "stream",
     "text": [
      "987-123-7534\n",
      "487-563-8534\n",
      "987-165-7994\n",
      "997-103-7004\n",
      "907-120-7534\n",
      "987-163-7564\n"
     ]
    }
   ],
   "source": [
    "import re\n",
    "string1=\"Contact number is: 987-123-7534\"\n",
    "string2=\"Contact number is: 487-563-8534\"\n",
    "string3=\"Contact number is: 987-165-7994\"\n",
    "string4=\"Contact number is: 997-103-7004\"\n",
    "string5=\"Contact number is: 907-120-7534\"\n",
    "string6=\"Contact number is: 987-163-7564\"\n",
    "\n",
    "\n",
    "result1= re .search(\"\\d{3}[-]\\d{3}[-]\\d{4}\",string1)\n",
    "print(result1.group())\n",
    "\n",
    "result2= re .search(\"\\d{3}[-]\\d{3}[-]\\d{4}\",string2)\n",
    "print(result2.group())\n",
    "\n",
    "result3= re .search(\"\\d{3}[-]\\d{3}[-]\\d{4}\",string3)\n",
    "print(result3.group())\n",
    "\n",
    "result4= re .search(\"\\d{3}[-]\\d{3}[-]\\d{4}\",string4)\n",
    "print(result4.group())\n",
    "\n",
    "result5= re .search(\"\\d{3}[-]\\d{3}[-]\\d{4}\",string5)\n",
    "print(result5.group())\n",
    "\n",
    "result6= re .search(\"\\d{3}[-]\\d{3}[-]\\d{4}\",string6)\n",
    "print(result6.group())"
   ]
  },
  {
   "cell_type": "code",
   "execution_count": 9,
   "metadata": {},
   "outputs": [
    {
     "name": "stdout",
     "output_type": "stream",
     "text": [
      "987-123-7534\n",
      "487-563-8534\n",
      "987-165-7994\n",
      "997-103-7004\n",
      "907-120-7534\n",
      "987-163-7564\n"
     ]
    }
   ],
   "source": [
    "pattern= re.compile(\"\\d{3}[-]\\d{3}[-]\\d{4}\")\n",
    "result1=pattern.search(string1)\n",
    "print(result1.group())\n",
    "\n",
    "result2=pattern.search(string2)\n",
    "print(result2.group())\n",
    "\n",
    "result3=pattern.search(string3)\n",
    "print(result3.group())\n",
    "\n",
    "result4=pattern.search(string4)\n",
    "print(result4.group())\n",
    "\n",
    "result5=pattern.search(string5)\n",
    "print(result5.group())\n",
    "\n",
    "result6=pattern.search(string6)\n",
    "print(result6.group())"
   ]
  },
  {
   "cell_type": "code",
   "execution_count": null,
   "metadata": {},
   "outputs": [],
   "source": [
    "6. Substitite():"
   ]
  },
  {
   "cell_type": "code",
   "execution_count": null,
   "metadata": {},
   "outputs": [],
   "source": [
    "re.sub(\"Patter\",\"pattern_tobe_replaced_by\",text)"
   ]
  },
  {
   "cell_type": "code",
   "execution_count": null,
   "metadata": {},
   "outputs": [],
   "source": [
    "Used to replace one or many matches.\n",
    ">> Returns the string"
   ]
  },
  {
   "cell_type": "code",
   "execution_count": 1,
   "metadata": {},
   "outputs": [
    {
     "data": {
      "text/plain": [
       "'Python and machine Learning'"
      ]
     },
     "execution_count": 1,
     "metadata": {},
     "output_type": "execute_result"
    }
   ],
   "source": [
    "string=\"Python and data Science\"\n",
    "string.replace(\"data Science\",\"machine Learning\")"
   ]
  },
  {
   "cell_type": "code",
   "execution_count": 16,
   "metadata": {},
   "outputs": [
    {
     "data": {
      "text/plain": [
       "'Python and data Science'"
      ]
     },
     "execution_count": 16,
     "metadata": {},
     "output_type": "execute_result"
    }
   ],
   "source": [
    "string=\"Python and data Science 2023, 2022\"\n",
    "string=string.replace(\"2022\",\"\").replace(\"2023\",\"\").replace(\",\",\"\").strip()\n",
    "string"
   ]
  },
  {
   "cell_type": "code",
   "execution_count": null,
   "metadata": {},
   "outputs": [],
   "source": [
    "string=\"Python and data Science 2023, 2022  #$%@&      %^&*$#    1234\""
   ]
  },
  {
   "cell_type": "code",
   "execution_count": null,
   "metadata": {},
   "outputs": [],
   "source": [
    "replace\n",
    "split\n",
    "isnum\n",
    "isaplha\n",
    "strip"
   ]
  },
  {
   "cell_type": "code",
   "execution_count": 18,
   "metadata": {},
   "outputs": [
    {
     "data": {
      "text/plain": [
       "'Python and machine Learning'"
      ]
     },
     "execution_count": 18,
     "metadata": {},
     "output_type": "execute_result"
    }
   ],
   "source": [
    "import re\n",
    "\n",
    "string=\"Python and data Science\"\n",
    "new_string=re.sub(\"data Science\",\"machine Learning\",string)\n",
    "new_string"
   ]
  },
  {
   "cell_type": "code",
   "execution_count": 19,
   "metadata": {},
   "outputs": [
    {
     "data": {
      "text/plain": [
       "'Python and data Science , '"
      ]
     },
     "execution_count": 19,
     "metadata": {},
     "output_type": "execute_result"
    }
   ],
   "source": [
    "string=\"Python and data Science 2023, 2022\"\n",
    "string1=re.sub(\"[0-9]\",\"\",string)\n",
    "string1"
   ]
  },
  {
   "cell_type": "code",
   "execution_count": 20,
   "metadata": {},
   "outputs": [
    {
     "data": {
      "text/plain": [
       "'Python and data Science ****, ****'"
      ]
     },
     "execution_count": 20,
     "metadata": {},
     "output_type": "execute_result"
    }
   ],
   "source": [
    "string=\"Python and data Science 2023, 2022\"\n",
    "string1=re.sub(\"[0-9]\",\"*\",string)\n",
    "string1"
   ]
  },
  {
   "cell_type": "code",
   "execution_count": 23,
   "metadata": {},
   "outputs": [
    {
     "data": {
      "text/plain": [
       "'Python and data Science ****, ****'"
      ]
     },
     "execution_count": 23,
     "metadata": {},
     "output_type": "execute_result"
    }
   ],
   "source": [
    "string=\"Python and data Science 2023, 2022\"\n",
    "string1=re.sub(\"\\d\",\"*\",string)\n",
    "string1"
   ]
  },
  {
   "cell_type": "code",
   "execution_count": 4,
   "metadata": {},
   "outputs": [
    {
     "data": {
      "text/plain": [
       "' Python and data Science '"
      ]
     },
     "execution_count": 4,
     "metadata": {},
     "output_type": "execute_result"
    }
   ],
   "source": [
    "string=\"      Python      and data       Science   \"\n",
    "string1=re.sub(\"\\s{2,20}\",\" \",string)\n",
    "string1"
   ]
  },
  {
   "cell_type": "code",
   "execution_count": 2,
   "metadata": {},
   "outputs": [
    {
     "data": {
      "text/plain": [
       "'Python and data Science'"
      ]
     },
     "execution_count": 2,
     "metadata": {},
     "output_type": "execute_result"
    }
   ],
   "source": [
    "import re\n",
    "string=\"   1234 Python        and data Science      #$%@& 2023, 2022 @#$%&*\"\n",
    "string1=re.sub(\"[^a-zA-Z]{2,20}\",\" \",string).strip()\n",
    "string1"
   ]
  },
  {
   "cell_type": "code",
   "execution_count": null,
   "metadata": {},
   "outputs": [],
   "source": [
    "#df[\"data\"]= df[\"data1\"].apply(string)"
   ]
  },
  {
   "cell_type": "markdown",
   "metadata": {},
   "source": [
    "### Special Characters with Special Meaning:"
   ]
  },
  {
   "cell_type": "code",
   "execution_count": null,
   "metadata": {},
   "outputs": [],
   "source": [
    "1. Plus(+)"
   ]
  },
  {
   "cell_type": "code",
   "execution_count": null,
   "metadata": {},
   "outputs": [],
   "source": [
    ">> One or more occurances"
   ]
  },
  {
   "cell_type": "code",
   "execution_count": 32,
   "metadata": {},
   "outputs": [
    {
     "data": {
      "text/plain": [
       "'Python and data Science'"
      ]
     },
     "execution_count": 32,
     "metadata": {},
     "output_type": "execute_result"
    }
   ],
   "source": [
    "string=\"1234 Python                                    and data Science      #$%@& 2023, 2022 @#$%&*\"\n",
    "string1=re.sub(\"[^a-zA-Z]+\",\" \",string).strip()\n",
    "string1"
   ]
  },
  {
   "cell_type": "code",
   "execution_count": 34,
   "metadata": {},
   "outputs": [
    {
     "data": {
      "text/plain": [
       "'Python    and data Science'"
      ]
     },
     "execution_count": 34,
     "metadata": {},
     "output_type": "execute_result"
    }
   ],
   "source": [
    "string=\"1234 Python                                    and data Science      #$%@& 2023, 2022 @#$%&*\"\n",
    "string1=re.sub(\"[^a-zA-Z]{2,10}\",\" \",string).strip()\n",
    "string1"
   ]
  },
  {
   "cell_type": "code",
   "execution_count": 35,
   "metadata": {},
   "outputs": [
    {
     "data": {
      "text/plain": [
       "'Python and data Science'"
      ]
     },
     "execution_count": 35,
     "metadata": {},
     "output_type": "execute_result"
    }
   ],
   "source": [
    "string=\"Python      and data       Science\"\n",
    "string1=re.sub(\"\\s+\",\" \",string)\n",
    "string1"
   ]
  },
  {
   "cell_type": "code",
   "execution_count": 36,
   "metadata": {},
   "outputs": [
    {
     "data": {
      "text/plain": [
       "False"
      ]
     },
     "execution_count": 36,
     "metadata": {},
     "output_type": "execute_result"
    }
   ],
   "source": [
    "s1=\"\"\n",
    "s1.isspace()"
   ]
  },
  {
   "cell_type": "code",
   "execution_count": 37,
   "metadata": {},
   "outputs": [
    {
     "data": {
      "text/plain": [
       "True"
      ]
     },
     "execution_count": 37,
     "metadata": {},
     "output_type": "execute_result"
    }
   ],
   "source": [
    "s1=\" \"\n",
    "s1.isspace()"
   ]
  },
  {
   "cell_type": "code",
   "execution_count": 39,
   "metadata": {},
   "outputs": [
    {
     "name": "stdout",
     "output_type": "stream",
     "text": [
      "I am there\n"
     ]
    }
   ],
   "source": [
    "line=\" \"\n",
    "if not line:\n",
    "    print(\"Blank line\")\n",
    "else:\n",
    "    print(\"I am there\")"
   ]
  },
  {
   "cell_type": "code",
   "execution_count": 40,
   "metadata": {},
   "outputs": [
    {
     "name": "stdout",
     "output_type": "stream",
     "text": [
      "Blank line\n"
     ]
    }
   ],
   "source": [
    "line=\"\"\n",
    "if not line:\n",
    "    print(\"Blank line\")\n",
    "else:\n",
    "    print(\"I am there\")"
   ]
  },
  {
   "cell_type": "code",
   "execution_count": 42,
   "metadata": {},
   "outputs": [
    {
     "data": {
      "text/plain": [
       "['Python']"
      ]
     },
     "execution_count": 42,
     "metadata": {},
     "output_type": "execute_result"
    }
   ],
   "source": [
    "text= \"Python and Data Science\"\n",
    "result=re.findall(\"Python\",text)\n",
    "result"
   ]
  },
  {
   "cell_type": "code",
   "execution_count": 43,
   "metadata": {},
   "outputs": [
    {
     "data": {
      "text/plain": [
       "['Python', 'Pyttthon']"
      ]
     },
     "execution_count": 43,
     "metadata": {},
     "output_type": "execute_result"
    }
   ],
   "source": [
    "text= \"Python python Pyttthon Pythhhon and Data Science\"\n",
    "result=re.findall(\"Pyt+hon\",text)\n",
    "result"
   ]
  },
  {
   "cell_type": "code",
   "execution_count": 53,
   "metadata": {},
   "outputs": [
    {
     "data": {
      "text/plain": [
       "['Python', 'Pythhhon']"
      ]
     },
     "execution_count": 53,
     "metadata": {},
     "output_type": "execute_result"
    }
   ],
   "source": [
    "text= \"Python python Pyttthon Pythhhon and Data Science\"\n",
    "result=re.findall(\"Pyth+on\",text)\n",
    "result"
   ]
  },
  {
   "cell_type": "code",
   "execution_count": 50,
   "metadata": {},
   "outputs": [
    {
     "data": {
      "text/plain": [
       "['Python', 'Pyttthon', 'Pythhhon', 'Python']"
      ]
     },
     "execution_count": 50,
     "metadata": {},
     "output_type": "execute_result"
    }
   ],
   "source": [
    "text= \"Python python Pyttthon Pythhhon and Data Science Python\"\n",
    "result=re.findall(\"Pyt+h+on\",text)\n",
    "result"
   ]
  },
  {
   "cell_type": "code",
   "execution_count": null,
   "metadata": {},
   "outputs": [],
   "source": [
    "2. Star(*)\n",
    "\n",
    ">> Zero or more occurence"
   ]
  },
  {
   "cell_type": "code",
   "execution_count": 57,
   "metadata": {},
   "outputs": [
    {
     "data": {
      "text/plain": [
       "['Python', 'Pyttthon', 'Pythhhon', 'Python', 'Pyon']"
      ]
     },
     "execution_count": 57,
     "metadata": {},
     "output_type": "execute_result"
    }
   ],
   "source": [
    "text= \"Python python Pyttthon Pythhhon and Data Science Python Pyon\"\n",
    "result=re.findall(\"Pyt*h*on\",text)\n",
    "result"
   ]
  },
  {
   "cell_type": "code",
   "execution_count": 59,
   "metadata": {},
   "outputs": [
    {
     "data": {
      "text/plain": [
       "['Python', 'Pythhhon', 'Python', 'Pythhhhhon', 'Pyton']"
      ]
     },
     "execution_count": 59,
     "metadata": {},
     "output_type": "execute_result"
    }
   ],
   "source": [
    "text= \"Python python Pyttthon Pythhhon and Data Science Python Pyon Pythhhhhon Pyton\"\n",
    "result=re.findall(\"Pyth*on\",text)\n",
    "result "
   ]
  },
  {
   "cell_type": "code",
   "execution_count": null,
   "metadata": {},
   "outputs": [],
   "source": [
    "3. dot(.)"
   ]
  },
  {
   "cell_type": "code",
   "execution_count": null,
   "metadata": {},
   "outputs": [],
   "source": [
    ">> Any char except new line \n",
    ">> Returns result in list"
   ]
  },
  {
   "cell_type": "code",
   "execution_count": 60,
   "metadata": {},
   "outputs": [
    {
     "data": {
      "text/plain": [
       "['Python']"
      ]
     },
     "execution_count": 60,
     "metadata": {},
     "output_type": "execute_result"
    }
   ],
   "source": [
    "text=\"Python and Data Science\"\n",
    "\n",
    "result=re.findall(\"Py..on\",text)\n",
    "result"
   ]
  },
  {
   "cell_type": "code",
   "execution_count": 62,
   "metadata": {},
   "outputs": [
    {
     "data": {
      "text/plain": [
       "['8888855555', '8812345655']"
      ]
     },
     "execution_count": 62,
     "metadata": {},
     "output_type": "execute_result"
    }
   ],
   "source": [
    "string=\"\"\"\n",
    "          8888855555\n",
    "          9999999999\n",
    "          4561237894\n",
    "          4561237895\n",
    "          1234567896\n",
    "          8812345655\n",
    "          \"\"\"\n",
    "\n",
    "result=re.findall(\"88......55\",string)\n",
    "result"
   ]
  },
  {
   "cell_type": "code",
   "execution_count": 63,
   "metadata": {},
   "outputs": [
    {
     "data": {
      "text/plain": [
       "['8888855555', '8812345655']"
      ]
     },
     "execution_count": 63,
     "metadata": {},
     "output_type": "execute_result"
    }
   ],
   "source": [
    "string=\"\"\"\n",
    "          8888855555\n",
    "          9999999999\n",
    "          4561237894\n",
    "          4561237895\n",
    "          1234567896\n",
    "          8812345655\n",
    "          \"\"\"\n",
    "\n",
    "result=re.findall(\"88........\",string)\n",
    "result"
   ]
  },
  {
   "cell_type": "code",
   "execution_count": 70,
   "metadata": {},
   "outputs": [
    {
     "data": {
      "text/plain": [
       "['    129999', '1234569999']"
      ]
     },
     "execution_count": 70,
     "metadata": {},
     "output_type": "execute_result"
    }
   ],
   "source": [
    "string=\"\"\"\n",
    "          8888855555 \n",
    "          1299999999\n",
    "          4561237894\n",
    "          4561237895\n",
    "          1234567896\n",
    "          8812345655\n",
    "          1234569999\n",
    "          \"\"\"\n",
    "\n",
    "result=re.findall(\"......9999\",string)\n",
    "result"
   ]
  },
  {
   "cell_type": "code",
   "execution_count": null,
   "metadata": {},
   "outputs": [],
   "source": [
    "4. Question Mark(?)"
   ]
  },
  {
   "cell_type": "code",
   "execution_count": null,
   "metadata": {},
   "outputs": [],
   "source": [
    ">> It matches exactly zero or one occurences"
   ]
  },
  {
   "cell_type": "code",
   "execution_count": 73,
   "metadata": {},
   "outputs": [
    {
     "data": {
      "text/plain": [
       "['Python', 'Python', 'Pyton']"
      ]
     },
     "execution_count": 73,
     "metadata": {},
     "output_type": "execute_result"
    }
   ],
   "source": [
    "text= \"Python python Pyttthon Pythhhon and Data Science Python Pyton Pythhhon\"\n",
    "result=re.findall(\"Pyth?on\",text)\n",
    "result"
   ]
  },
  {
   "cell_type": "code",
   "execution_count": 74,
   "metadata": {},
   "outputs": [
    {
     "data": {
      "text/plain": [
       "['batman']"
      ]
     },
     "execution_count": 74,
     "metadata": {},
     "output_type": "execute_result"
    }
   ],
   "source": [
    "text=\"batman and batwomen\"\n",
    "\n",
    "result=re.findall(\"batman\",text)\n",
    "result"
   ]
  },
  {
   "cell_type": "code",
   "execution_count": 76,
   "metadata": {},
   "outputs": [
    {
     "data": {
      "text/plain": [
       "['batwomen']"
      ]
     },
     "execution_count": 76,
     "metadata": {},
     "output_type": "execute_result"
    }
   ],
   "source": [
    "text=\"batman and batwomen\"\n",
    "\n",
    "result=re.findall(\"batwomen\",text)\n",
    "result"
   ]
  },
  {
   "cell_type": "code",
   "execution_count": 77,
   "metadata": {},
   "outputs": [
    {
     "data": {
      "text/plain": [
       "['batman', 'batwoman']"
      ]
     },
     "execution_count": 77,
     "metadata": {},
     "output_type": "execute_result"
    }
   ],
   "source": [
    "text=\"batman and batwoman\"\n",
    "\n",
    "result=re.findall(\"batw?o?man\",text)\n",
    "result"
   ]
  },
  {
   "cell_type": "code",
   "execution_count": null,
   "metadata": {},
   "outputs": [],
   "source": [
    "5. startswith(^)"
   ]
  },
  {
   "cell_type": "code",
   "execution_count": 78,
   "metadata": {},
   "outputs": [
    {
     "data": {
      "text/plain": [
       "True"
      ]
     },
     "execution_count": 78,
     "metadata": {},
     "output_type": "execute_result"
    }
   ],
   "source": [
    "text=\"batman and batwoman batwooman\"\n",
    "text.startswith(\"b\")"
   ]
  },
  {
   "cell_type": "code",
   "execution_count": 79,
   "metadata": {},
   "outputs": [
    {
     "data": {
      "text/plain": [
       "True"
      ]
     },
     "execution_count": 79,
     "metadata": {},
     "output_type": "execute_result"
    }
   ],
   "source": [
    "text=\"1.batman and batwoman batwooman\"\n",
    "text.startswith(\"1\")"
   ]
  },
  {
   "cell_type": "code",
   "execution_count": 80,
   "metadata": {},
   "outputs": [
    {
     "data": {
      "text/plain": [
       "False"
      ]
     },
     "execution_count": 80,
     "metadata": {},
     "output_type": "execute_result"
    }
   ],
   "source": [
    "text=\"2.batman and batwoman batwooman\"\n",
    "text.startswith(\"1\")"
   ]
  },
  {
   "cell_type": "code",
   "execution_count": 83,
   "metadata": {},
   "outputs": [
    {
     "data": {
      "text/plain": [
       "False"
      ]
     },
     "execution_count": 83,
     "metadata": {},
     "output_type": "execute_result"
    }
   ],
   "source": [
    "text=\"batman and batwoman batwooman\"\n",
    "text.startswith(\"B\")"
   ]
  },
  {
   "cell_type": "code",
   "execution_count": 84,
   "metadata": {},
   "outputs": [
    {
     "data": {
      "text/plain": [
       "True"
      ]
     },
     "execution_count": 84,
     "metadata": {},
     "output_type": "execute_result"
    }
   ],
   "source": [
    "text=\"#$%batman and batwoman batwooman\"\n",
    "text.startswith(\"#\")"
   ]
  },
  {
   "cell_type": "code",
   "execution_count": 86,
   "metadata": {},
   "outputs": [
    {
     "data": {
      "text/plain": [
       "['p']"
      ]
     },
     "execution_count": 86,
     "metadata": {},
     "output_type": "execute_result"
    }
   ],
   "source": [
    "text=\"python and machine learning\"\n",
    "\n",
    "result=re.findall(\"^p\",text)\n",
    "result"
   ]
  },
  {
   "cell_type": "code",
   "execution_count": 87,
   "metadata": {},
   "outputs": [
    {
     "data": {
      "text/plain": [
       "[]"
      ]
     },
     "execution_count": 87,
     "metadata": {},
     "output_type": "execute_result"
    }
   ],
   "source": [
    "text=\"python 1 and machine learning\"\n",
    "\n",
    "result=re.findall(\"^[0-9]\",text)\n",
    "result"
   ]
  },
  {
   "cell_type": "code",
   "execution_count": 88,
   "metadata": {},
   "outputs": [
    {
     "data": {
      "text/plain": [
       "['1']"
      ]
     },
     "execution_count": 88,
     "metadata": {},
     "output_type": "execute_result"
    }
   ],
   "source": [
    "text=\"1 python 1 and machine learning\"\n",
    "\n",
    "result=re.findall(\"^[0-9]\",text)\n",
    "result"
   ]
  },
  {
   "cell_type": "code",
   "execution_count": null,
   "metadata": {},
   "outputs": [],
   "source": []
  },
  {
   "cell_type": "code",
   "execution_count": null,
   "metadata": {},
   "outputs": [],
   "source": [
    "6. endswith($):"
   ]
  },
  {
   "cell_type": "code",
   "execution_count": 3,
   "metadata": {},
   "outputs": [
    {
     "ename": "AttributeError",
     "evalue": "'list' object has no attribute 'split'",
     "output_type": "error",
     "traceback": [
      "\u001b[1;31m---------------------------------------------------------------------------\u001b[0m",
      "\u001b[1;31mAttributeError\u001b[0m                            Traceback (most recent call last)",
      "Input \u001b[1;32mIn [3]\u001b[0m, in \u001b[0;36m<cell line: 4>\u001b[1;34m()\u001b[0m\n\u001b[0;32m      1\u001b[0m \u001b[38;5;28;01mimport\u001b[39;00m \u001b[38;5;21;01mre\u001b[39;00m\n\u001b[0;32m      2\u001b[0m text\u001b[38;5;241m=\u001b[39m\u001b[38;5;124m\"\u001b[39m\u001b[38;5;124mpython and machine learning\u001b[39m\u001b[38;5;124m\"\u001b[39m\n\u001b[1;32m----> 4\u001b[0m result\u001b[38;5;241m=\u001b[39m\u001b[43mre\u001b[49m\u001b[38;5;241;43m.\u001b[39;49m\u001b[43mfindall\u001b[49m\u001b[43m(\u001b[49m\u001b[38;5;124;43m\"\u001b[39;49m\u001b[38;5;124;43mand\u001b[39;49m\u001b[38;5;124;43m\"\u001b[39;49m\u001b[43m,\u001b[49m\u001b[43mtext\u001b[49m\u001b[43m)\u001b[49m\u001b[38;5;241;43m.\u001b[39;49m\u001b[43msplit\u001b[49m()\n\u001b[0;32m      5\u001b[0m result\n",
      "\u001b[1;31mAttributeError\u001b[0m: 'list' object has no attribute 'split'"
     ]
    }
   ],
   "source": [
    "import re\n",
    "text=\"python and machine learning\"\n",
    "\n",
    "result=re.findall(\"and\",text).split()\n",
    "result"
   ]
  },
  {
   "cell_type": "code",
   "execution_count": 90,
   "metadata": {},
   "outputs": [
    {
     "data": {
      "text/plain": [
       "[]"
      ]
     },
     "execution_count": 90,
     "metadata": {},
     "output_type": "execute_result"
    }
   ],
   "source": [
    "text=\"python and machine learning\"\n",
    "\n",
    "result=re.findall(\"p$\",text)\n",
    "result"
   ]
  },
  {
   "cell_type": "code",
   "execution_count": 92,
   "metadata": {},
   "outputs": [
    {
     "data": {
      "text/plain": [
       "['learning']"
      ]
     },
     "execution_count": 92,
     "metadata": {},
     "output_type": "execute_result"
    }
   ],
   "source": [
    "text=\"python and machine learning\"\n",
    "\n",
    "result=re.findall(\"[a-zA-Z]+$\",text)\n",
    "result"
   ]
  },
  {
   "cell_type": "code",
   "execution_count": 93,
   "metadata": {},
   "outputs": [
    {
     "data": {
      "text/plain": [
       "['123456']"
      ]
     },
     "execution_count": 93,
     "metadata": {},
     "output_type": "execute_result"
    }
   ],
   "source": [
    "text=\"python and machine learning 123456\"\n",
    "\n",
    "result=re.findall(\"[0-9]+$\",text)\n",
    "result"
   ]
  },
  {
   "cell_type": "code",
   "execution_count": 94,
   "metadata": {},
   "outputs": [
    {
     "data": {
      "text/plain": [
       "['6']"
      ]
     },
     "execution_count": 94,
     "metadata": {},
     "output_type": "execute_result"
    }
   ],
   "source": [
    "text=\"python and machine learning 123456\"\n",
    "\n",
    "result=re.findall(\"[0-9]$\",text)\n",
    "result"
   ]
  },
  {
   "cell_type": "code",
   "execution_count": null,
   "metadata": {},
   "outputs": [],
   "source": [
    "7. or(|)"
   ]
  },
  {
   "cell_type": "code",
   "execution_count": 95,
   "metadata": {},
   "outputs": [
    {
     "data": {
      "text/plain": [
       "['python', 'machine']"
      ]
     },
     "execution_count": 95,
     "metadata": {},
     "output_type": "execute_result"
    }
   ],
   "source": [
    "text=\"python and machine learning\"\n",
    "\n",
    "result= re.findall(\"python|machine\",text)\n",
    "result"
   ]
  },
  {
   "cell_type": "code",
   "execution_count": 96,
   "metadata": {},
   "outputs": [
    {
     "data": {
      "text/plain": [
       "['Python', 'Machine']"
      ]
     },
     "execution_count": 96,
     "metadata": {},
     "output_type": "execute_result"
    }
   ],
   "source": [
    "text=\"Python and Machine Learning\"\n",
    "\n",
    "result= re.findall(r\"\\b[a-zA-Z]{6}\\b|\\b[a-zA-Z]{7}\\b\",text)\n",
    "result"
   ]
  },
  {
   "cell_type": "code",
   "execution_count": 97,
   "metadata": {},
   "outputs": [
    {
     "data": {
      "text/plain": [
       "['Python']"
      ]
     },
     "execution_count": 97,
     "metadata": {},
     "output_type": "execute_result"
    }
   ],
   "source": [
    "text=\"Python and Learning\"\n",
    "\n",
    "result= re.findall(r\"\\b[a-zA-Z]{6}\\b|\\b[a-zA-Z]{7}\\b\",text)\n",
    "result"
   ]
  },
  {
   "cell_type": "code",
   "execution_count": 98,
   "metadata": {},
   "outputs": [
    {
     "data": {
      "text/plain": [
       "['Python', 'Machine', 'Learning']"
      ]
     },
     "execution_count": 98,
     "metadata": {},
     "output_type": "execute_result"
    }
   ],
   "source": [
    "text=\"Python and Machine Learning\"\n",
    "\n",
    "result= re.findall(r\"\\b[a-zA-Z]{6}\\b|\\b[a-zA-Z]{7}\\b|\\b[a-zA-Z]{8}\\b\",text)\n",
    "result"
   ]
  }
 ],
 "metadata": {
  "kernelspec": {
   "display_name": "Python 3 (ipykernel)",
   "language": "python",
   "name": "python3"
  },
  "language_info": {
   "codemirror_mode": {
    "name": "ipython",
    "version": 3
   },
   "file_extension": ".py",
   "mimetype": "text/x-python",
   "name": "python",
   "nbconvert_exporter": "python",
   "pygments_lexer": "ipython3",
   "version": "3.9.12"
  }
 },
 "nbformat": 4,
 "nbformat_minor": 4
}
