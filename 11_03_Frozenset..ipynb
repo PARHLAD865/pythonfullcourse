{
 "cells": [
  {
   "cell_type": "markdown",
   "metadata": {},
   "source": [
    "### Frozen_Set"
   ]
  },
  {
   "cell_type": "code",
   "execution_count": null,
   "metadata": {},
   "outputs": [],
   "source": [
    ">> Immutable\n",
    ">> Unordered\n",
    ">> Duplicates are not allowed.\n",
    ">> We can add only immutable items.\n",
    ">> Indexing and slicing not allowed"
   ]
  },
  {
   "cell_type": "markdown",
   "metadata": {},
   "source": [
    "### Frozen set Functions"
   ]
  },
  {
   "cell_type": "code",
   "execution_count": null,
   "metadata": {},
   "outputs": [],
   "source": [
    "1. union():\n",
    "2.intersection()\n",
    "3. difference()\n",
    "4. Symmetric_difference()\n",
    "5. issuperset()\n",
    "6. issubset()\n",
    "7. isdisjoint()"
   ]
  },
  {
   "cell_type": "code",
   "execution_count": 1,
   "metadata": {},
   "outputs": [
    {
     "data": {
      "text/plain": [
       "frozenset({1, 2, 3, 4, 5})"
      ]
     },
     "execution_count": 1,
     "metadata": {},
     "output_type": "execute_result"
    }
   ],
   "source": [
    "fs1=frozenset({1,2,3,4,5,1,2,2,2})\n",
    "fs1"
   ]
  },
  {
   "cell_type": "code",
   "execution_count": 3,
   "metadata": {},
   "outputs": [
    {
     "name": "stdout",
     "output_type": "stream",
     "text": [
      "<class 'set'>\n"
     ]
    }
   ],
   "source": [
    "x={1,2,3}\n",
    "x\n",
    "print(type(x))"
   ]
  },
  {
   "cell_type": "code",
   "execution_count": 4,
   "metadata": {},
   "outputs": [
    {
     "name": "stdout",
     "output_type": "stream",
     "text": [
      "frozenset({1, 2, 3})\n",
      "<class 'frozenset'>\n"
     ]
    }
   ],
   "source": [
    "x=frozenset({1,2,3})\n",
    "\n",
    "print(x)\n",
    "print(type(x))"
   ]
  },
  {
   "cell_type": "code",
   "execution_count": 5,
   "metadata": {},
   "outputs": [
    {
     "name": "stdout",
     "output_type": "stream",
     "text": [
      "frozenset({3, 4, 5, 6, 'python', 8, 'data', 6.54, (5+5j)})\n",
      "<class 'frozenset'>\n"
     ]
    }
   ],
   "source": [
    "x=frozenset({3,4,5,6,8,\"python\",\"data\",6.54,5+5j})\n",
    "\n",
    "print(x)\n",
    "print(type(x))"
   ]
  },
  {
   "cell_type": "code",
   "execution_count": 6,
   "metadata": {},
   "outputs": [
    {
     "ename": "TypeError",
     "evalue": "unhashable type: 'list'",
     "output_type": "error",
     "traceback": [
      "\u001b[1;31m---------------------------------------------------------------------------\u001b[0m",
      "\u001b[1;31mTypeError\u001b[0m                                 Traceback (most recent call last)",
      "\u001b[1;32m<ipython-input-6-91a99e5e8c03>\u001b[0m in \u001b[0;36m<module>\u001b[1;34m\u001b[0m\n\u001b[1;32m----> 1\u001b[1;33m \u001b[0mx\u001b[0m\u001b[1;33m=\u001b[0m\u001b[0mfrozenset\u001b[0m\u001b[1;33m(\u001b[0m\u001b[1;33m{\u001b[0m\u001b[1;36m3\u001b[0m\u001b[1;33m,\u001b[0m\u001b[1;36m4\u001b[0m\u001b[1;33m,\u001b[0m\u001b[1;36m5\u001b[0m\u001b[1;33m,\u001b[0m\u001b[1;36m6\u001b[0m\u001b[1;33m,\u001b[0m\u001b[1;36m8\u001b[0m\u001b[1;33m,\u001b[0m\u001b[1;34m\"python\"\u001b[0m\u001b[1;33m,\u001b[0m\u001b[1;34m\"data\"\u001b[0m\u001b[1;33m,\u001b[0m\u001b[1;36m6.54\u001b[0m\u001b[1;33m,\u001b[0m\u001b[1;36m5\u001b[0m\u001b[1;33m+\u001b[0m\u001b[1;36m5j\u001b[0m\u001b[1;33m,\u001b[0m\u001b[1;33m[\u001b[0m\u001b[1;36m1\u001b[0m\u001b[1;33m,\u001b[0m\u001b[1;36m2\u001b[0m\u001b[1;33m,\u001b[0m\u001b[1;36m3\u001b[0m\u001b[1;33m,\u001b[0m\u001b[1;36m4\u001b[0m\u001b[1;33m]\u001b[0m\u001b[1;33m}\u001b[0m\u001b[1;33m)\u001b[0m\u001b[1;33m\u001b[0m\u001b[1;33m\u001b[0m\u001b[0m\n\u001b[0m\u001b[0;32m      2\u001b[0m \u001b[1;33m\u001b[0m\u001b[0m\n\u001b[0;32m      3\u001b[0m \u001b[0mprint\u001b[0m\u001b[1;33m(\u001b[0m\u001b[0mx\u001b[0m\u001b[1;33m)\u001b[0m\u001b[1;33m\u001b[0m\u001b[1;33m\u001b[0m\u001b[0m\n\u001b[0;32m      4\u001b[0m \u001b[0mprint\u001b[0m\u001b[1;33m(\u001b[0m\u001b[0mtype\u001b[0m\u001b[1;33m(\u001b[0m\u001b[0mx\u001b[0m\u001b[1;33m)\u001b[0m\u001b[1;33m)\u001b[0m\u001b[1;33m\u001b[0m\u001b[1;33m\u001b[0m\u001b[0m\n",
      "\u001b[1;31mTypeError\u001b[0m: unhashable type: 'list'"
     ]
    }
   ],
   "source": [
    "x=frozenset({3,4,5,6,8,\"python\",\"data\",6.54,5+5j,[1,2,3,4]})\n",
    "\n",
    "print(x)\n",
    "print(type(x))"
   ]
  },
  {
   "cell_type": "code",
   "execution_count": 7,
   "metadata": {},
   "outputs": [
    {
     "ename": "TypeError",
     "evalue": "unhashable type: 'set'",
     "output_type": "error",
     "traceback": [
      "\u001b[1;31m---------------------------------------------------------------------------\u001b[0m",
      "\u001b[1;31mTypeError\u001b[0m                                 Traceback (most recent call last)",
      "\u001b[1;32m<ipython-input-7-8e6acbb1737e>\u001b[0m in \u001b[0;36m<module>\u001b[1;34m\u001b[0m\n\u001b[1;32m----> 1\u001b[1;33m \u001b[0mx\u001b[0m\u001b[1;33m=\u001b[0m\u001b[0mfrozenset\u001b[0m\u001b[1;33m(\u001b[0m\u001b[1;33m{\u001b[0m\u001b[1;36m3\u001b[0m\u001b[1;33m,\u001b[0m\u001b[1;36m4\u001b[0m\u001b[1;33m,\u001b[0m\u001b[1;36m5\u001b[0m\u001b[1;33m,\u001b[0m\u001b[1;36m6\u001b[0m\u001b[1;33m,\u001b[0m\u001b[1;36m8\u001b[0m\u001b[1;33m,\u001b[0m\u001b[1;34m\"python\"\u001b[0m\u001b[1;33m,\u001b[0m\u001b[1;34m\"data\"\u001b[0m\u001b[1;33m,\u001b[0m\u001b[1;36m6.54\u001b[0m\u001b[1;33m,\u001b[0m\u001b[1;36m5\u001b[0m\u001b[1;33m+\u001b[0m\u001b[1;36m5j\u001b[0m\u001b[1;33m,\u001b[0m\u001b[1;33m{\u001b[0m\u001b[1;36m1\u001b[0m\u001b[1;33m,\u001b[0m\u001b[1;36m2\u001b[0m\u001b[1;33m,\u001b[0m\u001b[1;36m3\u001b[0m\u001b[1;33m,\u001b[0m\u001b[1;36m4\u001b[0m\u001b[1;33m,\u001b[0m\u001b[1;36m5\u001b[0m\u001b[1;33m,\u001b[0m\u001b[1;36m5\u001b[0m\u001b[1;33m,\u001b[0m\u001b[1;36m5\u001b[0m\u001b[1;33m}\u001b[0m\u001b[1;33m}\u001b[0m\u001b[1;33m)\u001b[0m\u001b[1;33m\u001b[0m\u001b[1;33m\u001b[0m\u001b[0m\n\u001b[0m\u001b[0;32m      2\u001b[0m \u001b[1;33m\u001b[0m\u001b[0m\n\u001b[0;32m      3\u001b[0m \u001b[0mprint\u001b[0m\u001b[1;33m(\u001b[0m\u001b[0mx\u001b[0m\u001b[1;33m)\u001b[0m\u001b[1;33m\u001b[0m\u001b[1;33m\u001b[0m\u001b[0m\n\u001b[0;32m      4\u001b[0m \u001b[0mprint\u001b[0m\u001b[1;33m(\u001b[0m\u001b[0mtype\u001b[0m\u001b[1;33m(\u001b[0m\u001b[0mx\u001b[0m\u001b[1;33m)\u001b[0m\u001b[1;33m)\u001b[0m\u001b[1;33m\u001b[0m\u001b[1;33m\u001b[0m\u001b[0m\n",
      "\u001b[1;31mTypeError\u001b[0m: unhashable type: 'set'"
     ]
    }
   ],
   "source": [
    "x=frozenset({3,4,5,6,8,\"python\",\"data\",6.54,5+5j,{1,2,3,4,5,5,5}})\n",
    "\n",
    "print(x)\n",
    "print(type(x))"
   ]
  },
  {
   "cell_type": "code",
   "execution_count": 8,
   "metadata": {},
   "outputs": [
    {
     "ename": "TypeError",
     "evalue": "unhashable type: 'dict'",
     "output_type": "error",
     "traceback": [
      "\u001b[1;31m---------------------------------------------------------------------------\u001b[0m",
      "\u001b[1;31mTypeError\u001b[0m                                 Traceback (most recent call last)",
      "\u001b[1;32m<ipython-input-8-8f60de2739a6>\u001b[0m in \u001b[0;36m<module>\u001b[1;34m\u001b[0m\n\u001b[1;32m----> 1\u001b[1;33m \u001b[0mx\u001b[0m\u001b[1;33m=\u001b[0m\u001b[0mfrozenset\u001b[0m\u001b[1;33m(\u001b[0m\u001b[1;33m{\u001b[0m\u001b[1;36m3\u001b[0m\u001b[1;33m,\u001b[0m\u001b[1;36m4\u001b[0m\u001b[1;33m,\u001b[0m\u001b[1;36m5\u001b[0m\u001b[1;33m,\u001b[0m\u001b[1;36m6\u001b[0m\u001b[1;33m,\u001b[0m\u001b[1;36m8\u001b[0m\u001b[1;33m,\u001b[0m\u001b[1;34m\"python\"\u001b[0m\u001b[1;33m,\u001b[0m\u001b[1;34m\"data\"\u001b[0m\u001b[1;33m,\u001b[0m\u001b[1;36m6.54\u001b[0m\u001b[1;33m,\u001b[0m\u001b[1;36m5\u001b[0m\u001b[1;33m+\u001b[0m\u001b[1;36m5j\u001b[0m\u001b[1;33m,\u001b[0m\u001b[1;33m{\u001b[0m\u001b[1;36m1\u001b[0m\u001b[1;33m:\u001b[0m\u001b[1;34m\"a\"\u001b[0m\u001b[1;33m,\u001b[0m\u001b[1;36m2\u001b[0m\u001b[1;33m:\u001b[0m\u001b[1;34m\"b\"\u001b[0m\u001b[1;33m}\u001b[0m\u001b[1;33m}\u001b[0m\u001b[1;33m)\u001b[0m\u001b[1;33m\u001b[0m\u001b[1;33m\u001b[0m\u001b[0m\n\u001b[0m\u001b[0;32m      2\u001b[0m \u001b[1;33m\u001b[0m\u001b[0m\n\u001b[0;32m      3\u001b[0m \u001b[0mprint\u001b[0m\u001b[1;33m(\u001b[0m\u001b[0mx\u001b[0m\u001b[1;33m)\u001b[0m\u001b[1;33m\u001b[0m\u001b[1;33m\u001b[0m\u001b[0m\n\u001b[0;32m      4\u001b[0m \u001b[0mprint\u001b[0m\u001b[1;33m(\u001b[0m\u001b[0mtype\u001b[0m\u001b[1;33m(\u001b[0m\u001b[0mx\u001b[0m\u001b[1;33m)\u001b[0m\u001b[1;33m)\u001b[0m\u001b[1;33m\u001b[0m\u001b[1;33m\u001b[0m\u001b[0m\n",
      "\u001b[1;31mTypeError\u001b[0m: unhashable type: 'dict'"
     ]
    }
   ],
   "source": [
    "x=frozenset({3,4,5,6,8,\"python\",\"data\",6.54,5+5j,{1:\"a\",2:\"b\"}})\n",
    "\n",
    "print(x)\n",
    "print(type(x))"
   ]
  },
  {
   "cell_type": "code",
   "execution_count": 9,
   "metadata": {},
   "outputs": [
    {
     "name": "stdout",
     "output_type": "stream",
     "text": [
      "frozenset({3, 4, 5, 6, 'python', 8, 'data', 6.54, (5+5j)})\n",
      "<class 'frozenset'>\n"
     ]
    }
   ],
   "source": [
    "x=frozenset({3,4,5,6,8,\"python\",\"data\",6.54,5+5j})\n",
    "\n",
    "print(x)\n",
    "print(type(x))"
   ]
  },
  {
   "cell_type": "code",
   "execution_count": 10,
   "metadata": {},
   "outputs": [
    {
     "data": {
      "text/plain": [
       "{1, 2, 3, 100}"
      ]
     },
     "execution_count": 10,
     "metadata": {},
     "output_type": "execute_result"
    }
   ],
   "source": [
    "s1={1,2,3}\n",
    "s1.add(100)\n",
    "s1"
   ]
  },
  {
   "cell_type": "code",
   "execution_count": 11,
   "metadata": {},
   "outputs": [
    {
     "ename": "AttributeError",
     "evalue": "'frozenset' object has no attribute 'add'",
     "output_type": "error",
     "traceback": [
      "\u001b[1;31m---------------------------------------------------------------------------\u001b[0m",
      "\u001b[1;31mAttributeError\u001b[0m                            Traceback (most recent call last)",
      "\u001b[1;32m<ipython-input-11-c76e3e9cb40e>\u001b[0m in \u001b[0;36m<module>\u001b[1;34m\u001b[0m\n\u001b[0;32m      1\u001b[0m \u001b[0ms1\u001b[0m\u001b[1;33m=\u001b[0m\u001b[0mfrozenset\u001b[0m\u001b[1;33m(\u001b[0m\u001b[1;33m{\u001b[0m\u001b[1;36m1\u001b[0m\u001b[1;33m,\u001b[0m\u001b[1;36m2\u001b[0m\u001b[1;33m,\u001b[0m\u001b[1;36m3\u001b[0m\u001b[1;33m}\u001b[0m\u001b[1;33m)\u001b[0m\u001b[1;33m\u001b[0m\u001b[1;33m\u001b[0m\u001b[0m\n\u001b[1;32m----> 2\u001b[1;33m \u001b[0ms1\u001b[0m\u001b[1;33m.\u001b[0m\u001b[0madd\u001b[0m\u001b[1;33m(\u001b[0m\u001b[1;36m100\u001b[0m\u001b[1;33m)\u001b[0m\u001b[1;33m\u001b[0m\u001b[1;33m\u001b[0m\u001b[0m\n\u001b[0m\u001b[0;32m      3\u001b[0m \u001b[0ms1\u001b[0m\u001b[1;33m\u001b[0m\u001b[1;33m\u001b[0m\u001b[0m\n",
      "\u001b[1;31mAttributeError\u001b[0m: 'frozenset' object has no attribute 'add'"
     ]
    }
   ],
   "source": [
    "s1=frozenset({1,2,3})\n",
    "s1.add(100)\n",
    "s1"
   ]
  },
  {
   "cell_type": "code",
   "execution_count": 15,
   "metadata": {},
   "outputs": [
    {
     "name": "stdout",
     "output_type": "stream",
     "text": [
      "frozenset1: frozenset({3, 4, 5, 6})\n",
      "frozenset2: frozenset({50, 20, 40, 10, 30})\n",
      "Result: frozenset({3, 4, 5, 6, 40, 10, 50, 20, 30})\n",
      "9\n"
     ]
    }
   ],
   "source": [
    "fs1=frozenset({3,4,5,6})\n",
    "fs2=frozenset({10,20,30,40,50})\n",
    "\n",
    "x=fs1.union(fs2)\n",
    "\n",
    "print(\"frozenset1:\",fs1)\n",
    "print(\"frozenset2:\",fs2)\n",
    "print(\"Result:\",x)\n",
    "print(len(x))"
   ]
  },
  {
   "cell_type": "code",
   "execution_count": 14,
   "metadata": {},
   "outputs": [
    {
     "name": "stdout",
     "output_type": "stream",
     "text": [
      "frozenset1: frozenset({3, 4, 5, 6})\n",
      "frozenset2: frozenset({50, 20, 40, 10, 30})\n",
      "Result: frozenset({3, 4, 5, 6, 40, 10, 50, 20, 30})\n",
      "9\n"
     ]
    }
   ],
   "source": [
    "fs1=frozenset({3,4,5,6,6,5,5,5,5})\n",
    "fs2=frozenset({10,20,30,40,50,50,50,50})\n",
    "\n",
    "x=fs1.union(fs2)\n",
    "\n",
    "print(\"frozenset1:\",fs1)\n",
    "print(\"frozenset2:\",fs2)\n",
    "print(\"Result:\",x)\n",
    "print(len(x))"
   ]
  },
  {
   "cell_type": "code",
   "execution_count": 18,
   "metadata": {},
   "outputs": [
    {
     "name": "stdout",
     "output_type": "stream",
     "text": [
      "frozenset1: frozenset({3, 4, 5, 6, 40, 30})\n",
      "frozenset2: frozenset({50, 4, 5, 20, 40, 10, 30})\n",
      "Result: frozenset({40, 4, 5, 30})\n",
      "4\n"
     ]
    }
   ],
   "source": [
    "fs1=frozenset({3,4,5,6,30,40})\n",
    "fs2=frozenset({10,20,30,40,50,4,5})\n",
    "\n",
    "x=fs1.intersection(fs2)\n",
    "\n",
    "print(\"frozenset1:\",fs1)\n",
    "print(\"frozenset2:\",fs2)\n",
    "print(\"Result:\",x)\n",
    "print(len(x))"
   ]
  },
  {
   "cell_type": "code",
   "execution_count": 19,
   "metadata": {},
   "outputs": [
    {
     "name": "stdout",
     "output_type": "stream",
     "text": [
      "frozenset1: frozenset({3, 4, 5, 6, 40, 30})\n",
      "frozenset2: frozenset({50, 4, 5, 20, 40, 10, 30})\n",
      "Result: frozenset({40, 4, 5, 30})\n",
      "4\n"
     ]
    }
   ],
   "source": [
    "fs1=frozenset({3,4,5,6,30,40,40,40})\n",
    "fs2=frozenset({10,20,30,40,50,4,5,10,10})\n",
    "\n",
    "x=fs1.intersection(fs2)\n",
    "\n",
    "print(\"frozenset1:\",fs1)\n",
    "print(\"frozenset2:\",fs2)\n",
    "print(\"Result:\",x)\n",
    "print(len(x))"
   ]
  },
  {
   "cell_type": "code",
   "execution_count": 20,
   "metadata": {},
   "outputs": [
    {
     "name": "stdout",
     "output_type": "stream",
     "text": [
      "frozenset1: frozenset({3, 4, 5, 6, 40, 30})\n",
      "frozenset2: frozenset({50, 4, 5, 20, 40, 10, 30})\n",
      "Result: frozenset({3, 6})\n"
     ]
    }
   ],
   "source": [
    "fs1=frozenset({3,4,5,6,30,40})\n",
    "fs2=frozenset({10,20,30,40,50,4,5})\n",
    "\n",
    "x=fs1.difference(fs2)\n",
    "\n",
    "print(\"frozenset1:\",fs1)\n",
    "print(\"frozenset2:\",fs2)\n",
    "print(\"Result:\",x)"
   ]
  },
  {
   "cell_type": "code",
   "execution_count": 23,
   "metadata": {},
   "outputs": [
    {
     "name": "stdout",
     "output_type": "stream",
     "text": [
      "frozenset1: frozenset({3, 4, 5, 6, 'python', 40, 'data', 30})\n",
      "frozenset2: frozenset({4, 5, 'python', 40, 10, 'velocity', 50, 20, 30})\n",
      "Result: frozenset({'data', 3, 6})\n"
     ]
    }
   ],
   "source": [
    "fs1=frozenset({3,4,5,6,30,40,\"python\",\"data\"})\n",
    "fs2=frozenset({10,20,30,40,50,4,5,\"velocity\",\"python\"})\n",
    "\n",
    "x=fs1.difference(fs2)\n",
    "\n",
    "print(\"frozenset1:\",fs1)\n",
    "print(\"frozenset2:\",fs2)\n",
    "print(\"Result:\",x)"
   ]
  },
  {
   "cell_type": "code",
   "execution_count": 24,
   "metadata": {},
   "outputs": [
    {
     "name": "stdout",
     "output_type": "stream",
     "text": [
      "frozenset1: frozenset({3, 4, 5, 6, 'python', 40, 'data', 30})\n",
      "frozenset2: frozenset({4, 5, 'python', 40, 10, 'velocity', 50, 20, 30})\n",
      "Result: frozenset({3, 6, 'data', 10, 'velocity', 50, 20})\n"
     ]
    }
   ],
   "source": [
    "fs1=frozenset({3,4,5,6,30,40,\"python\",\"data\"})\n",
    "fs2=frozenset({10,20,30,40,50,4,5,\"velocity\",\"python\"})\n",
    "\n",
    "x=fs1.symmetric_difference(fs2)\n",
    "\n",
    "print(\"frozenset1:\",fs1)    #\n",
    "print(\"frozenset2:\",fs2)\n",
    "print(\"Result:\",x)"
   ]
  },
  {
   "cell_type": "code",
   "execution_count": 25,
   "metadata": {},
   "outputs": [
    {
     "name": "stdout",
     "output_type": "stream",
     "text": [
      "frozenset1: frozenset({3, 4, 5, 6, 'python', 40, 'data', 30})\n",
      "frozenset2: frozenset({4, 5, 'python', 40, 10, 'velocity', 50, 20, 30})\n",
      "Result: False\n"
     ]
    }
   ],
   "source": [
    "fs1=frozenset({3,4,5,6,30,40,\"python\",\"data\"})\n",
    "fs2=frozenset({10,20,30,40,50,4,5,\"velocity\",\"python\"})\n",
    "\n",
    "x=fs1.issuperset(fs2)\n",
    "\n",
    "print(\"frozenset1:\",fs1)    #\n",
    "print(\"frozenset2:\",fs2)\n",
    "print(\"Result:\",x)"
   ]
  },
  {
   "cell_type": "code",
   "execution_count": 27,
   "metadata": {},
   "outputs": [
    {
     "name": "stdout",
     "output_type": "stream",
     "text": [
      "frozenset1: frozenset({3, 4, 5, 6, 'python', 40, 'data', 30})\n",
      "frozenset2: frozenset({'python', 3, 4, 5})\n",
      "Result: True\n"
     ]
    }
   ],
   "source": [
    "fs1=frozenset({3,4,5,6,30,40,\"python\",\"data\"})\n",
    "fs2=frozenset({3,4,5,\"python\"})\n",
    "\n",
    "x=fs1.issuperset(fs2)\n",
    "\n",
    "print(\"frozenset1:\",fs1)    #\n",
    "print(\"frozenset2:\",fs2)\n",
    "print(\"Result:\",x)"
   ]
  },
  {
   "cell_type": "code",
   "execution_count": 28,
   "metadata": {},
   "outputs": [
    {
     "name": "stdout",
     "output_type": "stream",
     "text": [
      "frozenset1: frozenset({3, 'python', 5, 6, 40, 'data', 30})\n",
      "frozenset2: frozenset({'python', 3, 4, 5})\n",
      "Result: False\n"
     ]
    }
   ],
   "source": [
    "fs1=frozenset({3,5,6,30,40,\"python\",\"data\"})\n",
    "fs2=frozenset({3,4,5,\"python\"})\n",
    "\n",
    "x=fs1.issuperset(fs2)\n",
    "\n",
    "print(\"frozenset1:\",fs1)    #\n",
    "print(\"frozenset2:\",fs2)\n",
    "print(\"Result:\",x)"
   ]
  },
  {
   "cell_type": "code",
   "execution_count": 29,
   "metadata": {},
   "outputs": [
    {
     "name": "stdout",
     "output_type": "stream",
     "text": [
      "frozenset1: frozenset({3, 4, 5, 6, 'python', 40, 'data', 30})\n",
      "frozenset2: frozenset({'python', 3, 4, 5})\n",
      "Result: True\n"
     ]
    }
   ],
   "source": [
    "fs1=frozenset({3,4,5,6,30,40,\"python\",\"data\"})\n",
    "fs2=frozenset({3,4,5,\"python\"})\n",
    "\n",
    "x=fs2.issubset(fs1)\n",
    "\n",
    "print(\"frozenset1:\",fs1)    #\n",
    "print(\"frozenset2:\",fs2)\n",
    "print(\"Result:\",x)"
   ]
  },
  {
   "cell_type": "code",
   "execution_count": 30,
   "metadata": {},
   "outputs": [
    {
     "name": "stdout",
     "output_type": "stream",
     "text": [
      "frozenset1: frozenset({3, 4, 5, 6, 'python', 40, 'data', 30})\n",
      "frozenset2: frozenset({'python', 3, 4, 5})\n",
      "Result: False\n"
     ]
    }
   ],
   "source": [
    "fs1=frozenset({3,4,5,6,30,40,\"python\",\"data\"})\n",
    "fs2=frozenset({3,4,5,\"python\"})\n",
    "\n",
    "x=fs1.isdisjoint(fs2)\n",
    "\n",
    "print(\"frozenset1:\",fs1)    #\n",
    "print(\"frozenset2:\",fs2)\n",
    "print(\"Result:\",x)"
   ]
  },
  {
   "cell_type": "code",
   "execution_count": 31,
   "metadata": {},
   "outputs": [
    {
     "name": "stdout",
     "output_type": "stream",
     "text": [
      "frozenset1: frozenset({50, 20, 40, 10, 60, 30})\n",
      "frozenset2: frozenset({'python', 3, 4, 5})\n",
      "Result: True\n"
     ]
    }
   ],
   "source": [
    "fs1=frozenset({10,20,30,40,50,60})\n",
    "fs2=frozenset({3,4,5,\"python\"})\n",
    "\n",
    "x=fs1.isdisjoint(fs2)\n",
    "\n",
    "print(\"frozenset1:\",fs1)    #\n",
    "print(\"frozenset2:\",fs2)\n",
    "print(\"Result:\",x)"
   ]
  },
  {
   "cell_type": "code",
   "execution_count": 1,
   "metadata": {},
   "outputs": [
    {
     "name": "stdout",
     "output_type": "stream",
     "text": [
      "True\n",
      "False\n",
      "frozenset({1, 2, 3, 4, 'python', 'data'})\n",
      "frozenset({1, 2, 3, 4, 5, 6, 7, 'python', 'data', 'science'})\n",
      "frozenset({1, 2, 3, 4, 5, 6, 7, 'python', 'data', 'science'})\n",
      "False\n",
      "frozenset()\n"
     ]
    }
   ],
   "source": [
    "fs1=frozenset({1,2,3,4,\"python\",\"data\"})\n",
    "fs2=frozenset({5,6,7,\"science\"})\n",
    "\n",
    "x=fs1.isdisjoint(fs2)\n",
    "y=fs2.issubset(fs1)\n",
    "z=fs1.difference(fs2)\n",
    "a=fs1.symmetric_difference(fs2)\n",
    "b=fs1.union(fs2)\n",
    "c=fs1.issuperset(fs2)\n",
    "d=fs1.intersection(fs2)\n",
    "print(x)\n",
    "print(y)\n",
    "print(z)\n",
    "print(a)\n",
    "print(b)\n",
    "print(c)\n",
    "print(d)"
   ]
  },
  {
   "cell_type": "code",
   "execution_count": 4,
   "metadata": {},
   "outputs": [
    {
     "name": "stdout",
     "output_type": "stream",
     "text": [
      "False\n",
      "False\n",
      "frozenset({'python', 1})\n",
      "frozenset({1, 5, 6, 7, 'python'})\n",
      "frozenset({1, 2, 3, 4, 5, 6, 7, 'python', 'data'})\n",
      "False\n",
      "frozenset({2, 3, 4, 'data'})\n"
     ]
    }
   ],
   "source": [
    "fs1=frozenset({1,2,3,4,\"python\",\"data\"})\n",
    "fs2=frozenset({3,4,2,5,6,7,\"data\"})\n",
    "\n",
    "x=fs1.isdisjoint(fs2)\n",
    "y=fs2.issubset(fs1)\n",
    "z=fs1.difference(fs2)\n",
    "a=fs1.symmetric_difference(fs2)\n",
    "b=fs1.union(fs2)\n",
    "c=fs1.issuperset(fs2)\n",
    "d=fs1.intersection(fs2)\n",
    "print(x)\n",
    "print(y)\n",
    "print(z)\n",
    "print(a)\n",
    "print(b)\n",
    "print(c)\n",
    "print(d)"
   ]
  },
  {
   "cell_type": "code",
   "execution_count": null,
   "metadata": {},
   "outputs": [],
   "source": []
  },
  {
   "cell_type": "code",
   "execution_count": null,
   "metadata": {},
   "outputs": [],
   "source": []
  }
 ],
 "metadata": {
  "kernelspec": {
   "display_name": "Python 3 (ipykernel)",
   "language": "python",
   "name": "python3"
  },
  "language_info": {
   "codemirror_mode": {
    "name": "ipython",
    "version": 3
   },
   "file_extension": ".py",
   "mimetype": "text/x-python",
   "name": "python",
   "nbconvert_exporter": "python",
   "pygments_lexer": "ipython3",
   "version": "3.9.12"
  }
 },
 "nbformat": 4,
 "nbformat_minor": 4
}
