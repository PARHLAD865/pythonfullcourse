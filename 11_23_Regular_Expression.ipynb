{
 "cells": [
  {
   "cell_type": "markdown",
   "metadata": {},
   "source": [
    "### Regular_Epression"
   ]
  },
  {
   "cell_type": "code",
   "execution_count": null,
   "metadata": {},
   "outputs": [],
   "source": [
    "1. findall():\n",
    "re.findall(pattrn,text)\n",
    "\n",
    "pattern>> str\n",
    "text>> str\n",
    "output>> List "
   ]
  },
  {
   "cell_type": "code",
   "execution_count": null,
   "metadata": {},
   "outputs": [],
   "source": [
    "NLP>> Regex\n",
    "                ANN\n",
    "ML>>DL>>NLP(CNN,RNN-LSTM,Bert)>>"
   ]
  },
  {
   "cell_type": "code",
   "execution_count": 2,
   "metadata": {},
   "outputs": [
    {
     "name": "stdout",
     "output_type": "stream",
     "text": [
      "['23-11-2022', '24-11-2022', '04-12-2022', '12-11-2022', '28-10-2022']\n"
     ]
    }
   ],
   "source": [
    "import re\n",
    "\n",
    "text=\"\"\"My mobile number are:\n",
    "     9988776655 and 1122334455\n",
    "     Todays date is 23-11-2022\n",
    "     \n",
    "     24-11-2022\n",
    "     04-12-2022\n",
    "     12-11-2022\n",
    "     28-10-2022\n",
    "     \"\"\"\n",
    "\n",
    "date= re.findall(\"[0-9]{2}[-][0-9]{2}[-][0-9]{4}\",text)\n",
    "print(date)"
   ]
  },
  {
   "cell_type": "code",
   "execution_count": 3,
   "metadata": {},
   "outputs": [
    {
     "name": "stdout",
     "output_type": "stream",
     "text": [
      "['23-11-2022', '24-11-2022', '04-12-2022', '28-10-2022']\n"
     ]
    }
   ],
   "source": [
    "import re\n",
    "\n",
    "text=\"\"\"My mobile number are:\n",
    "     9988776655 and 1122334455\n",
    "     Todays date is 23-11-2022\n",
    "     \n",
    "     24-11-2022\n",
    "     04-12-2022\n",
    "     12/11/2022\n",
    "     28-10-2022\n",
    "     22/11/2022\n",
    "     02/12/2022\n",
    "     \"\"\"\n",
    "\n",
    "date= re.findall(\"[0-9]{2}[-][0-9]{2}[-][0-9]{4}\",text)\n",
    "print(date)"
   ]
  },
  {
   "cell_type": "code",
   "execution_count": 4,
   "metadata": {},
   "outputs": [
    {
     "name": "stdout",
     "output_type": "stream",
     "text": [
      "['23-11-2022', '24-11-2022', '04-12-2022', '12/11/2022', '28-10-2022', '22/11/2022', '02/12/2022']\n"
     ]
    }
   ],
   "source": [
    "import re\n",
    "\n",
    "text=\"\"\"My mobile number are:\n",
    "     9988776655 and 1122334455\n",
    "     Todays date is 23-11-2022\n",
    "     \n",
    "     24-11-2022\n",
    "     04-12-2022\n",
    "     12/11/2022\n",
    "     28-10-2022\n",
    "     22/11/2022\n",
    "     02/12/2022\n",
    "     \"\"\"\n",
    "\n",
    "date= re.findall(\"[0-9]{2}[-/][0-9]{2}[-/][0-9]{4}\",text)\n",
    "print(date)"
   ]
  },
  {
   "cell_type": "code",
   "execution_count": null,
   "metadata": {},
   "outputs": [],
   "source": [
    "[0-9] >> 0,1,2,3,4,5,6,7,8,9\n",
    "[09]>> 0,9"
   ]
  },
  {
   "cell_type": "code",
   "execution_count": 5,
   "metadata": {},
   "outputs": [
    {
     "name": "stdout",
     "output_type": "stream",
     "text": [
      "['23-11-2022', '24-11-2022', '04-12-2022', '12/11/2022', '28-10-2022', '22/11/2022', '02/12/2022']\n"
     ]
    }
   ],
   "source": [
    "import re\n",
    "\n",
    "text=\"\"\"My mobile number are:\n",
    "     9988776655 and 1122334455\n",
    "     Todays date is 23-11-2022\n",
    "     \n",
    "     24-11-2022\n",
    "     04-12-2022\n",
    "     12/11/2022\n",
    "     28-10-2022\n",
    "     22/11/2022\n",
    "     02/12/2022\n",
    "     11/12/22\n",
    "     \n",
    "     \"\"\"\n",
    "\n",
    "date= re.findall(\"[0-9]{2}[-/][0-9]{2}[-/][0-9]{4}\",text)\n",
    "print(date)"
   ]
  },
  {
   "cell_type": "code",
   "execution_count": 7,
   "metadata": {},
   "outputs": [
    {
     "name": "stdout",
     "output_type": "stream",
     "text": [
      "['viratkohli', 'gmail', 'rohitsharma', 'gmail', 'mahendrasinghdh']\n"
     ]
    }
   ],
   "source": [
    "import re \n",
    "\n",
    "text= \"\"\"Mail IDs\n",
    "       viratkohli@gmail.com\n",
    "       rohitsharma@gmail.com\n",
    "       mahendrasinghdhoni@ipl.com\n",
    "       \"\"\"\n",
    "\n",
    "mail_ID= re.findall(\"[a-z]{5,15}\",text)\n",
    "print(mail_ID)"
   ]
  },
  {
   "cell_type": "code",
   "execution_count": 8,
   "metadata": {},
   "outputs": [
    {
     "name": "stdout",
     "output_type": "stream",
     "text": [
      "['viratkohli@gmail.com', 'rohitsharma@gmail.com', 'mahendrasinghdhoni@ipl.com']\n"
     ]
    }
   ],
   "source": [
    "import re \n",
    "\n",
    "text= \"\"\"Mail IDs\n",
    "       viratkohli@gmail.com\n",
    "       rohitsharma@gmail.com\n",
    "       mahendrasinghdhoni@ipl.com\n",
    "       \"\"\"\n",
    "\n",
    "mail_ID= re.findall(\"[a-z]{5,25}[@][a-z.]{5,15}\",text)\n",
    "print(mail_ID)"
   ]
  },
  {
   "cell_type": "code",
   "execution_count": 1,
   "metadata": {},
   "outputs": [
    {
     "name": "stdout",
     "output_type": "stream",
     "text": [
      "['viratkohli@gmail.com', 'rohitsharma@gmail.com', 'mahendrasinghdhoni@ipl.com', 'rohitsharma1234@gmail.com', 'rohitsharma@ipl.co.in', 'rohit_sharma@gmail.com', 'virat.kohli@gmail.com', 'viratkohli18@gmail.com']\n",
      "8\n"
     ]
    }
   ],
   "source": [
    "import re \n",
    "\n",
    "text= \"\"\"Mail IDs\n",
    "       viratkohli@gmail.com\n",
    "       rohitsharma@gmail.com\n",
    "       mahendrasinghdhoni@ipl.com\n",
    "       rohitsharma1234@gmail.com\n",
    "       rohitsharma@ipl.co.in\n",
    "       rohit_sharma@gmail.com\n",
    "       virat.kohli@gmail.com\n",
    "       viratkohli18@gmail.com\n",
    "       \n",
    "       \"\"\"\n",
    "mail_Id= re.findall(\"[a-z0-9._]{5,25}[@][a-z.]{5,15}\",text)\n",
    "print(mail_Id)\n",
    "print(len(mail_Id))"
   ]
  },
  {
   "cell_type": "code",
   "execution_count": 12,
   "metadata": {},
   "outputs": [
    {
     "name": "stdout",
     "output_type": "stream",
     "text": [
      "['viratkohli@gmail.com', 'rohitsharma@gmail.com', 'endrasinghdhoni@ipl.com', 'hitsharma123412@gmail.com', 'rohitsharma@ipl.co.in', 'rohit_sharma@gmail.com', 'virat.kohli@gmail.com', 'viratkohli18@gmail.com']\n",
      "8\n"
     ]
    }
   ],
   "source": [
    "import re \n",
    "\n",
    "text= \"\"\"Mail IDs\n",
    "       viratkohli@gmail.com\n",
    "       rohitsharma@gmail.com\n",
    "       mahendrasinghdhoni@ipl.com\n",
    "       rohitsharma123412@gmail.com\n",
    "       rohitsharma@ipl.co.in\n",
    "       rohit_sharma@gmail.com\n",
    "       virat.kohli@gmail.com\n",
    "       viratkohli18@gmail.com\n",
    "       \n",
    "       \"\"\"\n",
    "mail_Id= re.findall(\"[a-z0-9._]{5,15}[@][a-z.]{5,15}\",text)\n",
    "print(mail_Id)\n",
    "print(len(mail_Id))"
   ]
  },
  {
   "cell_type": "code",
   "execution_count": 2,
   "metadata": {},
   "outputs": [
    {
     "name": "stdout",
     "output_type": "stream",
     "text": [
      "['ASDFG1234W', 'POUST5689N', 'XYZRT5689M', 'TYUOP7788T', 'CFGHU6543D']\n"
     ]
    }
   ],
   "source": [
    "import re \n",
    "\n",
    "text=\"\"\" PAN CARD NUMBERS:\n",
    "         ASDFG1234W   #VALID\n",
    "         POUST5689N   #VALID\n",
    "         XYZRT5689M   #VALID\n",
    "         HNMKY55467T  #INVALID\n",
    "         TYUOP7788TT  #INVALID\n",
    "         CFGHU6543D   # VALID\n",
    "\"\"\"\n",
    "\n",
    "PAN_CARD= re.findall(\"[A-Z]{5}[0-9]{4}[A-Z]{1}\",text)\n",
    "print(PAN_CARD)"
   ]
  },
  {
   "cell_type": "code",
   "execution_count": 15,
   "metadata": {},
   "outputs": [
    {
     "name": "stdout",
     "output_type": "stream",
     "text": [
      "[]\n"
     ]
    }
   ],
   "source": [
    "import re \n",
    "\n",
    "text= \"\"\" Aadhar Card Numbers:\n",
    "          1234 2345 7894\n",
    "          1111 2222 3333\n",
    "          4444 55556 7778\n",
    "          1234 4567 45678\n",
    "        \n",
    "      \"\"\"\n",
    "\n",
    "Aadhar_card= re.findall(\"[0-9]{4}[0-9]{4}[0-9]{4}\",text)\n",
    "print(Aadhar_card)"
   ]
  },
  {
   "cell_type": "code",
   "execution_count": 16,
   "metadata": {},
   "outputs": [
    {
     "name": "stdout",
     "output_type": "stream",
     "text": [
      "['1234 2345 7894', '1111 2222 3333', '1234 4567 4567']\n"
     ]
    }
   ],
   "source": [
    "import re \n",
    "\n",
    "text= \"\"\" Aadhar Card Numbers:\n",
    "          1234 2345 7894\n",
    "          1111 2222 3333\n",
    "          4444 55556 7778\n",
    "          1234 4567 45678\n",
    "        \n",
    "      \"\"\"\n",
    "\n",
    "Aadhar_card= re.findall(\"[0-9]{4}[ ][0-9]{4}[ ][0-9]{4}\",text)\n",
    "print(Aadhar_card)"
   ]
  },
  {
   "cell_type": "code",
   "execution_count": 17,
   "metadata": {},
   "outputs": [
    {
     "name": "stdout",
     "output_type": "stream",
     "text": [
      "[]\n"
     ]
    }
   ],
   "source": [
    "import re \n",
    "\n",
    "text= \"\"\" Aadhar Card Numbers:\n",
    "          1234 2345 7894\n",
    "          1111 2222 3333\n",
    "          4444 55556 7778\n",
    "          1234 4567 45678\n",
    "        \n",
    "      \"\"\"\n",
    "\n",
    "Aadhar_card= re.findall(\"[0-9]{4}[ ][0-9]{4}[ ][0-9]{4}[ ]\",text)\n",
    "print(Aadhar_card)"
   ]
  },
  {
   "cell_type": "code",
   "execution_count": 18,
   "metadata": {},
   "outputs": [
    {
     "name": "stdout",
     "output_type": "stream",
     "text": [
      "['1111 2222 3333 ']\n"
     ]
    }
   ],
   "source": [
    "import re \n",
    "\n",
    "text= \"\"\" Aadhar Card Numbers:\n",
    "          1234 2345 7894\n",
    "          1111 2222 3333 \n",
    "          4444 55556 7778\n",
    "          1234 4567 45678\n",
    "        \n",
    "      \"\"\"\n",
    "\n",
    "Aadhar_card= re.findall(\"[0-9]{4}[ ][0-9]{4}[ ][0-9]{4}[ ]\",text)\n",
    "print(Aadhar_card)"
   ]
  },
  {
   "cell_type": "code",
   "execution_count": 19,
   "metadata": {},
   "outputs": [
    {
     "name": "stdout",
     "output_type": "stream",
     "text": [
      "['HDFC0000128', 'SBIN0000125', 'ICIC0876512', 'BOI12345678']\n"
     ]
    }
   ],
   "source": [
    "import re \n",
    "\n",
    "text=\"\"\"IFSC Code:\n",
    "        HDFC0000128\n",
    "        SBIN0000125\n",
    "        ICIC0876512\n",
    "        BOI12345678\"\"\"\n",
    "\n",
    "IFSC_code= re.findall(\"[A-Z0-9]{5,15}\",text)\n",
    "print(IFSC_code)\n"
   ]
  },
  {
   "cell_type": "code",
   "execution_count": 20,
   "metadata": {},
   "outputs": [
    {
     "name": "stdout",
     "output_type": "stream",
     "text": [
      "['HDFC0000128', 'SBIN0000125', 'ICIC0876512']\n"
     ]
    }
   ],
   "source": [
    "import re \n",
    "\n",
    "text=\"\"\"IFSC Code:\n",
    "        HDFC0000128\n",
    "        SBIN0000125\n",
    "        ICIC0876512\n",
    "        BOI12345678\"\"\"\n",
    "\n",
    "IFSC_code= re.findall(\"[A-Z]{4}[0-9]{7}\",text)\n",
    "print(IFSC_code)\n"
   ]
  },
  {
   "cell_type": "markdown",
   "metadata": {},
   "source": [
    "### Special Sequences:"
   ]
  },
  {
   "cell_type": "code",
   "execution_count": null,
   "metadata": {},
   "outputs": [],
   "source": [
    "1. \\d >> [0-9]"
   ]
  },
  {
   "cell_type": "code",
   "execution_count": 21,
   "metadata": {},
   "outputs": [
    {
     "name": "stdout",
     "output_type": "stream",
     "text": [
      "['HDFC0000128', 'SBIN0000125', 'ICIC0876512']\n"
     ]
    }
   ],
   "source": [
    "import re \n",
    "\n",
    "text=\"\"\"IFSC Code:\n",
    "        HDFC0000128\n",
    "        SBIN0000125\n",
    "        ICIC0876512\n",
    "        BOI12345678\"\"\"\n",
    "\n",
    "IFSC_code= re.findall(\"[A-Z]{4}\\d{7}\",text)\n",
    "print(IFSC_code)\n"
   ]
  },
  {
   "cell_type": "code",
   "execution_count": 23,
   "metadata": {},
   "outputs": [
    {
     "name": "stdout",
     "output_type": "stream",
     "text": [
      "['1234 2345 7894', '1111 2222 3333', '1234 4567 4567']\n"
     ]
    }
   ],
   "source": [
    "import re \n",
    "\n",
    "text= \"\"\" Aadhar Card Numbers:\n",
    "          1234 2345 7894\n",
    "          1111 2222 3333\n",
    "          4444 55556 7778\n",
    "          1234 4567 45678\n",
    "        \n",
    "      \"\"\"\n",
    "\n",
    "Aadhar_card= re.findall(\"\\d{4}[ ]\\d{4}[ ]\\d{4}\",text)\n",
    "print(Aadhar_card)"
   ]
  },
  {
   "cell_type": "code",
   "execution_count": 24,
   "metadata": {},
   "outputs": [
    {
     "name": "stdout",
     "output_type": "stream",
     "text": [
      "['23-11-2022', '24-11-2022', '04-12-2022', '12/11/2022', '28-10-2022', '22/11/2022', '02/12/2022']\n"
     ]
    }
   ],
   "source": [
    "import re\n",
    "\n",
    "text=\"\"\"My mobile number are:\n",
    "     9988776655 and 1122334455\n",
    "     Todays date is 23-11-2022\n",
    "     \n",
    "     24-11-2022\n",
    "     04-12-2022\n",
    "     12/11/2022\n",
    "     28-10-2022\n",
    "     22/11/2022\n",
    "     02/12/2022\n",
    "     \"\"\"\n",
    "\n",
    "date= re.findall(\"\\d{2}[-/]\\d{2}[-/]\\d{4}\",text)\n",
    "print(date)"
   ]
  },
  {
   "cell_type": "code",
   "execution_count": 26,
   "metadata": {},
   "outputs": [
    {
     "name": "stdout",
     "output_type": "stream",
     "text": [
      "['9988776655', '1122334455', '1122334455']\n"
     ]
    }
   ],
   "source": [
    "import re\n",
    "\n",
    "text=\"\"\"My mobile number are:\n",
    "     9988776655 and 1122334455\n",
    "     11223344556 and 778899445\n",
    "     Todays date is 23-11-2022\n",
    "     \n",
    "     24-11-2022\n",
    "     04-12-2022\n",
    "     12/11/2022\n",
    "     28-10-2022\n",
    "     22/11/2022\n",
    "     02/12/2022\n",
    "     \"\"\"\n",
    "\n",
    "date= re.findall(\"\\d{10}\",text)\n",
    "print(date)"
   ]
  },
  {
   "cell_type": "code",
   "execution_count": 27,
   "metadata": {},
   "outputs": [
    {
     "name": "stdout",
     "output_type": "stream",
     "text": [
      "['9988776655', '1122334455']\n"
     ]
    }
   ],
   "source": [
    "import re\n",
    "\n",
    "text=\"\"\"My mobile number are:\n",
    "     9988776655 and 1122334455\n",
    "     Todays date is 23-11-2022\n",
    "     \n",
    "     24-11-2022\n",
    "     04-12-2022\n",
    "     12/11/2022\n",
    "     28-10-2022\n",
    "     22/11/2022\n",
    "     02/12/2022\n",
    "     \"\"\"\n",
    "\n",
    "date= re.findall(\"\\d{10}\",text)\n",
    "print(date)"
   ]
  },
  {
   "cell_type": "code",
   "execution_count": null,
   "metadata": {},
   "outputs": [],
   "source": [
    "2.\\D >> Except[0-9]\n",
    "     >> [^0-9]"
   ]
  },
  {
   "cell_type": "code",
   "execution_count": 30,
   "metadata": {},
   "outputs": [
    {
     "name": "stdout",
     "output_type": "stream",
     "text": [
      "['My mobile ', 'number are', '\\n     Toda', 'ys date is', '\\n     \\n   ']\n"
     ]
    }
   ],
   "source": [
    "import re\n",
    "\n",
    "text=\"\"\"My mobile number are:\n",
    "     9988776655 and 1122334455\n",
    "     Todays date is 23-11-2022\n",
    "     \n",
    "     24-11-2022\n",
    "     04-12-2022\n",
    "     12/11/2022\n",
    "     28-10-2022\n",
    "     22/11/2022\n",
    "     02/12/2022\n",
    "     \"\"\"\n",
    "\n",
    "date= re.findall(\"\\D{10}\",text)\n",
    "print(date)"
   ]
  },
  {
   "cell_type": "code",
   "execution_count": 31,
   "metadata": {},
   "outputs": [
    {
     "name": "stdout",
     "output_type": "stream",
     "text": [
      "['My mo', 'bile ', 'numbe', 'r are', ':\\n   ', ' and ', '\\n    ', ' Toda', 'ys da', 'te is', '\\n    ', ' \\n   ', '\\n    ', '\\n    ', '\\n    ', '\\n    ', '\\n    ', '\\n    ']\n"
     ]
    }
   ],
   "source": [
    "import re\n",
    "\n",
    "text=\"\"\"My mobile number are:\n",
    "     9988776655 and 1122334455\n",
    "     Todays date is 23-11-2022\n",
    "     \n",
    "     24-11-2022\n",
    "     04-12-2022\n",
    "     12/11/2022\n",
    "     28-10-2022\n",
    "     22/11/2022\n",
    "     02/12/2022\n",
    "     \"\"\"\n",
    "\n",
    "date= re.findall(\"\\D{5}\",text)\n",
    "print(date)"
   ]
  },
  {
   "cell_type": "code",
   "execution_count": 32,
   "metadata": {},
   "outputs": [
    {
     "name": "stdout",
     "output_type": "stream",
     "text": [
      "['M', 'y', ' ', 'm', 'o', 'b', 'i', 'l', 'e', ' ', 'n', 'u', 'm', 'b', 'e', 'r', ' ', 'a', 'r', 'e', ':', '\\n', ' ', ' ', ' ', ' ', ' ', ' ', 'a', 'n', 'd', ' ', '\\n', ' ', ' ', ' ', ' ', ' ', 'T', 'o', 'd', 'a', 'y', 's', ' ', 'd', 'a', 't', 'e', ' ', 'i', 's', ' ', '-', '-', '\\n', ' ', ' ', ' ', ' ', ' ', '\\n', ' ', ' ', ' ', ' ', ' ', '-', '-', '\\n', ' ', ' ', ' ', ' ', ' ', '-', '-', '\\n', ' ', ' ', ' ', ' ', ' ', '/', '/', '\\n', ' ', ' ', ' ', ' ', ' ', '-', '-', '\\n', ' ', ' ', ' ', ' ', ' ', '/', '/', '\\n', ' ', ' ', ' ', ' ', ' ', '/', '/', '\\n', ' ', ' ', ' ', ' ', ' ']\n"
     ]
    }
   ],
   "source": [
    "import re\n",
    "\n",
    "text=\"\"\"My mobile number are:\n",
    "     9988776655 and 1122334455\n",
    "     Todays date is 23-11-2022\n",
    "     \n",
    "     24-11-2022\n",
    "     04-12-2022\n",
    "     12/11/2022\n",
    "     28-10-2022\n",
    "     22/11/2022\n",
    "     02/12/2022\n",
    "     \"\"\"\n",
    "\n",
    "date= re.findall(\"\\D\",text)\n",
    "print(date)"
   ]
  },
  {
   "cell_type": "code",
   "execution_count": 33,
   "metadata": {},
   "outputs": [
    {
     "name": "stdout",
     "output_type": "stream",
     "text": [
      "['My mobile ', 'number are', '\\n     Toda', 'ys date is', '\\n     \\n   ']\n"
     ]
    }
   ],
   "source": [
    "import re\n",
    "\n",
    "text=\"\"\"My mobile number are:\n",
    "     9988776655 and 1122334455\n",
    "     Todays date is 23-11-2022\n",
    "     \n",
    "     24-11-2022\n",
    "     04-12-2022\n",
    "     12/11/2022\n",
    "     28-10-2022\n",
    "     22/11/2022\n",
    "     02/12/2022\n",
    "     \"\"\"\n",
    "\n",
    "date= re.findall(\"[^0-9]{10}\",text)\n",
    "print(date)"
   ]
  },
  {
   "cell_type": "code",
   "execution_count": null,
   "metadata": {},
   "outputs": [],
   "source": [
    "3. \\w >> \"[a-zA-Z0-9_]\""
   ]
  },
  {
   "cell_type": "code",
   "execution_count": 34,
   "metadata": {},
   "outputs": [
    {
     "name": "stdout",
     "output_type": "stream",
     "text": [
      "['viratkohli@gmail.com', 'rohitsharma@gmail.com', 'mahendrasinghdhoni@ipl.com', 'rohitsharma123412@gmail.com', 'rohitsharma@ipl.co.in', 'rohit_sharma@gmail.com', 'kohli@gmail.com', 'viratkohli18@gmail.com']\n",
      "8\n"
     ]
    }
   ],
   "source": [
    "import re \n",
    "\n",
    "text= \"\"\"Mail IDs\n",
    "       viratkohli@gmail.com\n",
    "       rohitsharma@gmail.com\n",
    "       mahendrasinghdhoni@ipl.com\n",
    "       rohitsharma123412@gmail.com\n",
    "       rohitsharma@ipl.co.in\n",
    "       rohit_sharma@gmail.com\n",
    "       virat.kohli@gmail.com\n",
    "       viratkohli18@gmail.com\n",
    "       \n",
    "       \"\"\"\n",
    "mail_Id= re.findall(\"\\w{5,25}[@][a-z.]{5,15}\",text)\n",
    "print(mail_Id)\n",
    "print(len(mail_Id))"
   ]
  },
  {
   "cell_type": "code",
   "execution_count": 35,
   "metadata": {},
   "outputs": [
    {
     "name": "stdout",
     "output_type": "stream",
     "text": [
      "['viratkohli@gmail.com', 'rohitsharma@gmail.com', 'mahendrasinghdhoni@ipl.com', 'rohitsharma123412@gmail.com', 'rohitsharma@ipl.co.in', 'rohit_sharma@gmail.com', 'viratkohli18@gmail.com']\n",
      "7\n"
     ]
    }
   ],
   "source": [
    "import re \n",
    "\n",
    "text= \"\"\"Mail IDs\n",
    "       viratkohli@gmail.com\n",
    "       rohitsharma@gmail.com\n",
    "       mahendrasinghdhoni@ipl.com\n",
    "       rohitsharma123412@gmail.com\n",
    "       rohitsharma@ipl.co.in\n",
    "       rohit_sharma@gmail.com\n",
    "       virat.kohli@gmail.com\n",
    "       viratkohli18@gmail.com\n",
    "       \n",
    "       \"\"\"\n",
    "mail_Id= re.findall(\"\\w{7,25}[@][a-z.]{5,15}\",text)\n",
    "print(mail_Id)\n",
    "print(len(mail_Id))"
   ]
  },
  {
   "cell_type": "code",
   "execution_count": 36,
   "metadata": {},
   "outputs": [
    {
     "name": "stdout",
     "output_type": "stream",
     "text": [
      "['short', 'India', 'Finan', 'Syste', 'repre', 'sents', 'digit', 'chara', 'usual', 'chequ', 'leave', 'other', 'spons', 'mater']\n"
     ]
    }
   ],
   "source": [
    "import re\n",
    "\n",
    "text=\"\"\"IFSC is short for Indian Financial \n",
    "     System Code and represents the 11 digit \n",
    "      character that you can usually see on your bank's \n",
    "      cheque leaves, or other bank sponsored material\"\"\"\n",
    "\n",
    "result= re.findall(\"\\w{5}\",text)\n",
    "print(result)"
   ]
  },
  {
   "cell_type": "code",
   "execution_count": 37,
   "metadata": {},
   "outputs": [
    {
     "name": "stdout",
     "output_type": "stream",
     "text": [
      "['IFSC', 'shor', 'Indi', 'Fina', 'ncia', 'Syst', 'Code', 'repr', 'esen', 'digi', 'char', 'acte', 'that', 'usua', 'your', 'bank', 'cheq', 'leav', 'othe', 'bank', 'spon', 'sore', 'mate', 'rial']\n"
     ]
    }
   ],
   "source": [
    "import re\n",
    "\n",
    "text=\"\"\"IFSC is short for Indian Financial \n",
    "     System Code and represents the 11 digit \n",
    "      character that you can usually see on your bank's \n",
    "      cheque leaves, or other bank sponsored material\"\"\"\n",
    "\n",
    "result= re.findall(\"\\w{4}\",text)\n",
    "print(result)"
   ]
  },
  {
   "cell_type": "code",
   "execution_count": null,
   "metadata": {},
   "outputs": [],
   "source": [
    "\\W >> Except[a-zA-Z0-9_]\n",
    "   >> [^a-zA-Z0-9_]  "
   ]
  },
  {
   "cell_type": "code",
   "execution_count": 38,
   "metadata": {},
   "outputs": [
    {
     "name": "stdout",
     "output_type": "stream",
     "text": [
      "[' ', ' ', ' ', ' ', ' ', ' ', '\\n', ' ', ' ', ' ', ' ', ' ', ' ', ' ', ' ', ' ', ' ', ' ', ' ', '\\n', ' ', ' ', ' ', ' ', ' ', ' ', ' ', ' ', ' ', ' ', ' ', ' ', ' ', ' ', \"'\", ' ', '\\n', ' ', ' ', ' ', ' ', ' ', ' ', ' ', ',', ' ', ' ', ' ', ' ', ' ']\n"
     ]
    }
   ],
   "source": [
    "import re\n",
    "\n",
    "text=\"\"\"IFSC is short for Indian Financial \n",
    "     System Code and represents the 11 digit \n",
    "      character that you can usually see on your bank's \n",
    "      cheque leaves, or other bank sponsored material\"\"\"\n",
    "\n",
    "result= re.findall(\"\\W\",text)\n",
    "print(result)"
   ]
  },
  {
   "cell_type": "code",
   "execution_count": 40,
   "metadata": {},
   "outputs": [
    {
     "name": "stdout",
     "output_type": "stream",
     "text": [
      "[' ', ' ', ' ', ' ', ' ', '$', ' ', ' ', '\\n', ' ', ' ', ' ', ' ', ' ', ' ', ' ', ' ', ' ', '&', ' ', ' ', ' ', ' ', '\\n', ' ', ' ', ' ', ' ', ' ', ' ', ' ', ' ', ' ', ' ', ' ', ' ', '*', '*', ' ', ' ', ' ', '%', '%', ' ', \"'\", ' ', '\\n', ' ', ' ', ' ', ' ', ' ', ' ', ' ', ',', ' ', ' ', ' ', ' ', ' ']\n"
     ]
    }
   ],
   "source": [
    "import re\n",
    "\n",
    "text=\"\"\"IFSC is short for Indian $ Financial \n",
    "     System Code and represents & the 11 digit \n",
    "      character that you can usually see ** on your %% bank's \n",
    "      cheque leaves, or other bank sponsored material\"\"\"\n",
    "\n",
    "result= re.findall(\"\\W\",text)\n",
    "print(result)"
   ]
  },
  {
   "cell_type": "code",
   "execution_count": null,
   "metadata": {},
   "outputs": [],
   "source": [
    "5. \\s >> [ ]"
   ]
  },
  {
   "cell_type": "code",
   "execution_count": 41,
   "metadata": {},
   "outputs": [
    {
     "name": "stdout",
     "output_type": "stream",
     "text": [
      "['1234 2345 7894', '1111 2222 3333', '1234 4567 4567']\n"
     ]
    }
   ],
   "source": [
    "import re \n",
    "\n",
    "text= \"\"\" Aadhar Card Numbers:\n",
    "          1234 2345 7894\n",
    "          1111 2222 3333\n",
    "          4444 55556 7778\n",
    "          1234 4567 45678\n",
    "        \n",
    "      \"\"\"\n",
    "\n",
    "Aadhar_card= re.findall(\"\\d{4}[ ]\\d{4}[ ]\\d{4}\",text)\n",
    "print(Aadhar_card)"
   ]
  },
  {
   "cell_type": "code",
   "execution_count": 42,
   "metadata": {},
   "outputs": [
    {
     "name": "stdout",
     "output_type": "stream",
     "text": [
      "['1234 2345 7894', '1111 2222 3333', '1234 4567 4567']\n"
     ]
    }
   ],
   "source": [
    "import re \n",
    "\n",
    "text= \"\"\" Aadhar Card Numbers:\n",
    "          1234 2345 7894\n",
    "          1111 2222 3333\n",
    "          4444 55556 7778\n",
    "          1234 4567 45678\n",
    "        \n",
    "      \"\"\"\n",
    "\n",
    "Aadhar_card= re.findall(\"\\d{4}\\s\\d{4}\\s\\d{4}\",text)\n",
    "print(Aadhar_card)"
   ]
  },
  {
   "cell_type": "code",
   "execution_count": null,
   "metadata": {},
   "outputs": [],
   "source": [
    "6. \\S  >> Except Space"
   ]
  },
  {
   "cell_type": "code",
   "execution_count": 43,
   "metadata": {},
   "outputs": [
    {
     "name": "stdout",
     "output_type": "stream",
     "text": [
      "['A', 'a', 'd', 'h', 'a', 'r', 'C', 'a', 'r', 'd', 'N', 'u', 'm', 'b', 'e', 'r', 's', ':', '1', '2', '3', '4', '2', '3', '4', '5', '7', '8', '9', '4', '1', '1', '1', '1', '2', '2', '2', '2', '3', '3', '3', '3', '4', '4', '4', '4', '5', '5', '5', '5', '6', '7', '7', '7', '8', '1', '2', '3', '4', '4', '5', '6', '7', '4', '5', '6', '7', '8']\n"
     ]
    }
   ],
   "source": [
    "import re \n",
    "\n",
    "text= \"\"\" Aadhar Card Numbers:\n",
    "          1234 2345 7894\n",
    "          1111 2222 3333\n",
    "          4444 55556 7778\n",
    "          1234 4567 45678\n",
    "        \n",
    "      \"\"\"\n",
    "\n",
    "Aadhar_card= re.findall(\"\\S\",text)\n",
    "print(Aadhar_card)"
   ]
  },
  {
   "cell_type": "code",
   "execution_count": 44,
   "metadata": {},
   "outputs": [
    {
     "name": "stdout",
     "output_type": "stream",
     "text": [
      "[' ', ' ', ' ', '\\n', ' ', ' ', ' ', ' ', ' ', ' ', ' ', ' ', ' ', ' ', ' ', ' ', '\\n', ' ', ' ', ' ', ' ', ' ', ' ', ' ', ' ', ' ', ' ', ' ', ' ', '\\n', ' ', ' ', ' ', ' ', ' ', ' ', ' ', ' ', ' ', ' ', ' ', ' ', '\\n', ' ', ' ', ' ', ' ', ' ', ' ', ' ', ' ', ' ', ' ', ' ', ' ', '\\n', ' ', ' ', ' ', ' ', ' ', ' ', ' ', ' ', '\\n', ' ', ' ', ' ', ' ', ' ', ' ']\n"
     ]
    }
   ],
   "source": [
    "import re \n",
    "\n",
    "text= \"\"\" Aadhar Card Numbers:\n",
    "          1234 2345 7894\n",
    "          1111 2222 3333\n",
    "          4444 55556 7778\n",
    "          1234 4567 45678\n",
    "        \n",
    "      \"\"\"\n",
    "\n",
    "Aadhar_card= re.findall(\"\\s\",text)\n",
    "print(Aadhar_card)"
   ]
  },
  {
   "cell_type": "code",
   "execution_count": 45,
   "metadata": {},
   "outputs": [
    {
     "name": "stdout",
     "output_type": "stream",
     "text": [
      "['Aa', 'dh', 'ar', 'Ca', 'rd', 'Nu', 'mb', 'er', 's:', '12', '34', '23', '45', '78', '94', '11', '11', '22', '22', '33', '33', '44', '44', '55', '55', '77', '78', '12', '34', '45', '67', '45', '67']\n"
     ]
    }
   ],
   "source": [
    "import re \n",
    "\n",
    "text= \"\"\" Aadhar Card Numbers:\n",
    "          1234 2345 7894\n",
    "          1111 2222 3333\n",
    "          4444 55556 7778\n",
    "          1234 4567 45678\n",
    "        \n",
    "      \"\"\"\n",
    "\n",
    "Aadhar_card= re.findall(\"\\S{2}\",text)\n",
    "print(Aadhar_card)"
   ]
  },
  {
   "cell_type": "code",
   "execution_count": 46,
   "metadata": {},
   "outputs": [
    {
     "name": "stdout",
     "output_type": "stream",
     "text": [
      "['Aadha', 'Numbe', '55556', '45678']\n"
     ]
    }
   ],
   "source": [
    "import re \n",
    "\n",
    "text= \"\"\" Aadhar Card Numbers:\n",
    "          1234 2345 7894\n",
    "          1111 2222 3333\n",
    "          4444 55556 7778\n",
    "          1234 4567 45678\n",
    "        \n",
    "      \"\"\"\n",
    "\n",
    "Aadhar_card= re.findall(\"\\S{5}\",text)\n",
    "print(Aadhar_card)"
   ]
  },
  {
   "cell_type": "code",
   "execution_count": null,
   "metadata": {},
   "outputs": [],
   "source": [
    "7.\\b "
   ]
  },
  {
   "cell_type": "code",
   "execution_count": null,
   "metadata": {},
   "outputs": [],
   "source": []
  },
  {
   "cell_type": "code",
   "execution_count": null,
   "metadata": {},
   "outputs": [],
   "source": [
    "#pytesseract"
   ]
  },
  {
   "cell_type": "code",
   "execution_count": null,
   "metadata": {},
   "outputs": [],
   "source": [
    "QUE Python Program for Common Divisors of Two Numbers"
   ]
  },
  {
   "cell_type": "code",
   "execution_count": null,
   "metadata": {},
   "outputs": [],
   "source": [
    "15,12 >> 3    >> 15/i 12/i ==0  >> "
   ]
  },
  {
   "cell_type": "code",
   "execution_count": 53,
   "metadata": {},
   "outputs": [],
   "source": [
    "def Highest_factor(a,b):\n",
    "    num= a if a<b else b\n",
    "    hcf=1\n",
    "    for i in range(1,num+1):\n",
    "        if a%i==0 and b%i==0:\n",
    "            hcf=i\n",
    "    return hcf"
   ]
  },
  {
   "cell_type": "code",
   "execution_count": 54,
   "metadata": {},
   "outputs": [
    {
     "data": {
      "text/plain": [
       "2"
      ]
     },
     "execution_count": 54,
     "metadata": {},
     "output_type": "execute_result"
    }
   ],
   "source": [
    "Highest_factor(10,12)"
   ]
  },
  {
   "cell_type": "code",
   "execution_count": null,
   "metadata": {},
   "outputs": [],
   "source": [
    "Que.Python Program to Check if a count of divisors is even or odd"
   ]
  },
  {
   "cell_type": "code",
   "execution_count": null,
   "metadata": {},
   "outputs": [],
   "source": [
    "12 >>1,2,3,4,6,12"
   ]
  },
  {
   "cell_type": "code",
   "execution_count": null,
   "metadata": {},
   "outputs": [],
   "source": [
    "Que.Python Program to Find the minimum sum of factors of a number"
   ]
  },
  {
   "cell_type": "code",
   "execution_count": null,
   "metadata": {},
   "outputs": [],
   "source": [
    ">>12 >> 2*6\n",
    "        2*2*3 >> 7"
   ]
  },
  {
   "cell_type": "code",
   "execution_count": 55,
   "metadata": {},
   "outputs": [
    {
     "data": {
      "text/plain": [
       "25"
      ]
     },
     "execution_count": 55,
     "metadata": {},
     "output_type": "execute_result"
    }
   ],
   "source": [
    "(lambda x: x**2)(5)"
   ]
  },
  {
   "cell_type": "code",
   "execution_count": 56,
   "metadata": {},
   "outputs": [],
   "source": [
    "from functools import reduce"
   ]
  },
  {
   "cell_type": "code",
   "execution_count": 57,
   "metadata": {},
   "outputs": [],
   "source": [
    "list1=[1,2,3,4,5,6,7,8,9]\n",
    "l2= reduce(lambda x,y: x+y,list1)"
   ]
  },
  {
   "cell_type": "code",
   "execution_count": 60,
   "metadata": {},
   "outputs": [
    {
     "data": {
      "text/plain": [
       "[1, 2, 3]"
      ]
     },
     "execution_count": 60,
     "metadata": {},
     "output_type": "execute_result"
    }
   ],
   "source": [
    "list1=[1,2,3,4,5,6,7,8,9]\n",
    "list2=[11,12,4,5,6,7,8,9]\n",
    "\n",
    "l3= list(filter(lambda x : x not in list2,list1))\n",
    "l3"
   ]
  },
  {
   "cell_type": "code",
   "execution_count": null,
   "metadata": {},
   "outputs": [],
   "source": [
    "stopwords= not is are \n",
    "tokennization="
   ]
  },
  {
   "cell_type": "code",
   "execution_count": 58,
   "metadata": {},
   "outputs": [
    {
     "data": {
      "text/plain": [
       "45"
      ]
     },
     "execution_count": 58,
     "metadata": {},
     "output_type": "execute_result"
    }
   ],
   "source": [
    "l2"
   ]
  }
 ],
 "metadata": {
  "kernelspec": {
   "display_name": "Python 3 (ipykernel)",
   "language": "python",
   "name": "python3"
  },
  "language_info": {
   "codemirror_mode": {
    "name": "ipython",
    "version": 3
   },
   "file_extension": ".py",
   "mimetype": "text/x-python",
   "name": "python",
   "nbconvert_exporter": "python",
   "pygments_lexer": "ipython3",
   "version": "3.9.12"
  }
 },
 "nbformat": 4,
 "nbformat_minor": 4
}
