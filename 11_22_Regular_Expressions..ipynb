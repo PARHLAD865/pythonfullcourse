{
 "cells": [
  {
   "cell_type": "code",
   "execution_count": null,
   "metadata": {},
   "outputs": [],
   "source": [
    "Regular Expressions >> Regex "
   ]
  },
  {
   "cell_type": "code",
   "execution_count": null,
   "metadata": {},
   "outputs": [],
   "source": [
    "\"\"\"I am happy my mob no is 9988775566\n",
    "pan_card no \n",
    "is 8888 5555 4444\"\"\""
   ]
  },
  {
   "cell_type": "code",
   "execution_count": 1,
   "metadata": {},
   "outputs": [],
   "source": [
    "import re\n",
    "re>> Regular Expressions\n",
    "re>> RegEX >> regex\n",
    "\n",
    "Input>> text format >> string datatype"
   ]
  },
  {
   "cell_type": "code",
   "execution_count": null,
   "metadata": {},
   "outputs": [],
   "source": [
    "# Finance>> python_coding >> Credit Score(Cibil) >> Fico score() >> SSN (9digit)  1234567.zfill(9) \n",
    "# 2milions== QC\n",
    "# 200-300\n",
    "# Application Received date= \n",
    "# Funding date=\n",
    "# funding_flag= IF (,>0),1,0)  Feature Engineering \n",
    "# int\n",
    "# EXL\n",
    "# HCL(Code)\n"
   ]
  },
  {
   "cell_type": "code",
   "execution_count": null,
   "metadata": {},
   "outputs": [],
   "source": [
    "1000 pan_cards\n",
    "\n",
    "\n",
    "images1  dob  pan_no   name    father_name\n",
    ".....\n",
    "\n",
    "\n",
    "\n",
    "\n",
    "1000 images"
   ]
  },
  {
   "cell_type": "code",
   "execution_count": null,
   "metadata": {},
   "outputs": [],
   "source": [
    "image or PDF formats\n",
    "\n",
    "PDF: 1. Readable\n",
    "     2. Non Readable\n",
    "        \n",
    "1. Readable:\n",
    "    1. pdftotext\n",
    "    2. pypdf2\n",
    "    3. pdfplumber\n",
    "    4. tabula-py  (Tabular format)\n",
    "    5. camelot\n",
    "2.  Non Readable\n",
    "   1. PDF TO Image \n",
    "        pdf2image\n",
    "   2. Image to text \n",
    "      1. pytesseract (open source)\n",
    "      2. Google vision\n",
    "      3. Amazon Textract\n",
    "      4. Easy-OCR\n",
    "\n",
    "        \n",
    "Images:\n",
    "    Images to text:\n",
    "      1. pytesseract (open source)\n",
    "      2. Google vision\n",
    "      3. Amazon Textract\n",
    "      4. Easy-OCR\n",
    "    "
   ]
  },
  {
   "cell_type": "code",
   "execution_count": null,
   "metadata": {},
   "outputs": [],
   "source": [
    "PAN Number \n",
    "AADHAR number\n",
    "Dates\n",
    "DL Number\n",
    "Voter ID\n",
    "Email ID\n",
    "Mobile Number\n",
    "IFSC Code"
   ]
  },
  {
   "cell_type": "code",
   "execution_count": null,
   "metadata": {},
   "outputs": [],
   "source": [
    "Regular Expression Functions:"
   ]
  },
  {
   "cell_type": "code",
   "execution_count": null,
   "metadata": {},
   "outputs": [],
   "source": [
    "1. Findall()\n",
    "2. sub()\n",
    "3. match()\n",
    "4. search()\n",
    "5. compile()\n",
    "6. split()"
   ]
  },
  {
   "cell_type": "code",
   "execution_count": null,
   "metadata": {},
   "outputs": [],
   "source": [
    "1. findall()"
   ]
  },
  {
   "cell_type": "code",
   "execution_count": null,
   "metadata": {},
   "outputs": [],
   "source": [
    "Syntax:\n",
    "    re.findall(pattern,text)\n",
    "    \n",
    "    pattern>> str\n",
    "    text>> str\n",
    "    It will return data in the form of list"
   ]
  },
  {
   "cell_type": "code",
   "execution_count": 6,
   "metadata": {},
   "outputs": [
    {
     "data": {
      "text/plain": [
       "['9988776655', '8855446688']"
      ]
     },
     "execution_count": 6,
     "metadata": {},
     "output_type": "execute_result"
    }
   ],
   "source": [
    "import re \n",
    "\n",
    "text=\"\"\"My mobile Number are:\n",
    "        9988776655 and 8855446688\n",
    "        Todays date is 22-11-2022\n",
    "        \"\"\"\n",
    "\n",
    "mob_num= re.findall(\"[0-9]{10}\",text)\n",
    "mob_num"
   ]
  },
  {
   "cell_type": "code",
   "execution_count": 4,
   "metadata": {},
   "outputs": [
    {
     "data": {
      "text/plain": [
       "str"
      ]
     },
     "execution_count": 4,
     "metadata": {},
     "output_type": "execute_result"
    }
   ],
   "source": [
    "type(text)"
   ]
  },
  {
   "cell_type": "code",
   "execution_count": 7,
   "metadata": {},
   "outputs": [
    {
     "data": {
      "text/plain": [
       "['9988776655', '8855446688']"
      ]
     },
     "execution_count": 7,
     "metadata": {},
     "output_type": "execute_result"
    }
   ],
   "source": [
    "import re \n",
    "\n",
    "text=\"\"\"My mobile Number are:\n",
    "        9988776655 and 88554466889\n",
    "        Todays date is 22-11-2022\n",
    "        \"\"\"\n",
    "\n",
    "mob_num= re.findall(\"[0-9]{10}\",text)\n",
    "mob_num"
   ]
  },
  {
   "cell_type": "code",
   "execution_count": 1,
   "metadata": {},
   "outputs": [
    {
     "data": {
      "text/plain": [
       "['9988776655']"
      ]
     },
     "execution_count": 1,
     "metadata": {},
     "output_type": "execute_result"
    }
   ],
   "source": [
    "import re \n",
    "\n",
    "text=\"\"\"My mobile Number are:\n",
    "        9988776655 and 885544668\n",
    "        Todays date is 22-11-2022\n",
    "        \"\"\"\n",
    "\n",
    "mob_num= re.findall(\"[0-9]{10}\",text)\n",
    "mob_num"
   ]
  },
  {
   "cell_type": "code",
   "execution_count": 9,
   "metadata": {},
   "outputs": [
    {
     "data": {
      "text/plain": [
       "['99887', '76655', '88554', '46688']"
      ]
     },
     "execution_count": 9,
     "metadata": {},
     "output_type": "execute_result"
    }
   ],
   "source": [
    "import re \n",
    "\n",
    "text=\"\"\"My mobile Number are:\n",
    "        9988776655 and 8855446688   \n",
    "        Todays date is 22-11-2022\n",
    "        \"\"\"\n",
    "\n",
    "mob_num= re.findall(\"[0-9]{5}\",text)\n",
    "mob_num"
   ]
  },
  {
   "cell_type": "code",
   "execution_count": 10,
   "metadata": {},
   "outputs": [
    {
     "data": {
      "text/plain": [
       "['9988', '7766', '8855', '4466', '2022']"
      ]
     },
     "execution_count": 10,
     "metadata": {},
     "output_type": "execute_result"
    }
   ],
   "source": [
    "import re \n",
    "\n",
    "text=\"\"\"My mobile Number are:\n",
    "        9988776655 and 8855446688   \n",
    "        Todays date is 22-11-2022\n",
    "        \"\"\"\n",
    "\n",
    "mob_num= re.findall(\"[0-9]{4}\",text)\n",
    "mob_num"
   ]
  },
  {
   "cell_type": "code",
   "execution_count": 13,
   "metadata": {},
   "outputs": [
    {
     "name": "stdout",
     "output_type": "stream",
     "text": [
      "['99', '88', '77', '66', '55', '88', '55', '44', '66', '88', '22', '11', '20', '22']\n",
      "14\n"
     ]
    }
   ],
   "source": [
    "import re \n",
    "\n",
    "text=\"\"\"My mobile Number are:\n",
    "        9988776655 and 8855446688   \n",
    "        Todays date is 22-11-2022\n",
    "        \"\"\"\n",
    "\n",
    "mob_num= re.findall(\"[0-9]{2}\",text)\n",
    "print(mob_num)\n",
    "print(len(mob_num))"
   ]
  },
  {
   "cell_type": "code",
   "execution_count": 14,
   "metadata": {},
   "outputs": [
    {
     "name": "stdout",
     "output_type": "stream",
     "text": [
      "['9', '9', '8', '8', '7', '7', '6', '6', '5', '5', '8', '8', '5', '5', '4', '4', '6', '6', '8', '8', '2', '2', '1', '1', '2', '0', '2', '2']\n",
      "28\n"
     ]
    }
   ],
   "source": [
    "import re \n",
    "\n",
    "text=\"\"\"My mobile Number are:\n",
    "        9988776655 and 8855446688   \n",
    "        Todays date is 22-11-2022\n",
    "        \"\"\"\n",
    "\n",
    "mob_num= re.findall(\"[0-9]{1}\",text)\n",
    "print(mob_num)\n",
    "print(len(mob_num))"
   ]
  },
  {
   "cell_type": "code",
   "execution_count": null,
   "metadata": {},
   "outputs": [],
   "source": []
  },
  {
   "cell_type": "code",
   "execution_count": 15,
   "metadata": {},
   "outputs": [
    {
     "name": "stdout",
     "output_type": "stream",
     "text": [
      "{'g': 2, 'o': 2, 'l': 1, 'e': 1}\n"
     ]
    }
   ],
   "source": [
    "s4=\"google\"\n",
    "\n",
    "#{g:2,o:2,l:1,e:1}\n",
    "d3={}\n",
    "for i in s4:\n",
    "    if i in d3:\n",
    "        d3[i]+=1\n",
    "    else:\n",
    "        d3[i]=1\n",
    "print(d3)\n",
    "    "
   ]
  },
  {
   "cell_type": "code",
   "execution_count": 17,
   "metadata": {},
   "outputs": [
    {
     "data": {
      "text/plain": [
       "[6, 8, 10, 12, 14]"
      ]
     },
     "execution_count": 17,
     "metadata": {},
     "output_type": "execute_result"
    }
   ],
   "source": [
    "list2=[1,2,3,4,5]\n",
    "list3=[5,6,7,8,9]\n",
    "\n",
    "l4=[6,8,10,12,14]\n",
    "\n",
    "l5= [value+list3[i] for i, value in enumerate(list2)]\n",
    "l5"
   ]
  },
  {
   "cell_type": "code",
   "execution_count": 18,
   "metadata": {},
   "outputs": [
    {
     "name": "stdout",
     "output_type": "stream",
     "text": [
      "[5]\n"
     ]
    }
   ],
   "source": [
    "list2=[1,2,3,4,5]\n",
    "list3=[5,6,7,8,9]\n",
    "l3=[]\n",
    "for i in list2:\n",
    "    if i in list3:\n",
    "        l3.append(i)\n",
    "print(l3)"
   ]
  },
  {
   "cell_type": "code",
   "execution_count": null,
   "metadata": {},
   "outputs": [],
   "source": []
  }
 ],
 "metadata": {
  "kernelspec": {
   "display_name": "Python 3 (ipykernel)",
   "language": "python",
   "name": "python3"
  },
  "language_info": {
   "codemirror_mode": {
    "name": "ipython",
    "version": 3
   },
   "file_extension": ".py",
   "mimetype": "text/x-python",
   "name": "python",
   "nbconvert_exporter": "python",
   "pygments_lexer": "ipython3",
   "version": "3.9.12"
  }
 },
 "nbformat": 4,
 "nbformat_minor": 4
}
