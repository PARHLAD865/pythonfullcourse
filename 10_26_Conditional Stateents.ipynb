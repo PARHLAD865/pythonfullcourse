{
 "cells": [
  {
   "cell_type": "code",
   "execution_count": null,
   "metadata": {},
   "outputs": [],
   "source": [
    "Loop in Python:"
   ]
  },
  {
   "cell_type": "code",
   "execution_count": null,
   "metadata": {},
   "outputs": [],
   "source": [
    "1. For loop\n",
    "2. While loop \n",
    "\n",
    ">> Same functionality with different syntax"
   ]
  },
  {
   "cell_type": "code",
   "execution_count": null,
   "metadata": {},
   "outputs": [],
   "source": [
    "1) For Loop"
   ]
  },
  {
   "cell_type": "code",
   "execution_count": null,
   "metadata": {},
   "outputs": [],
   "source": [
    "iterable-list,tuple,string"
   ]
  },
  {
   "cell_type": "code",
   "execution_count": null,
   "metadata": {},
   "outputs": [],
   "source": [
    ">> For loop works on iterables.\n"
   ]
  },
  {
   "cell_type": "code",
   "execution_count": null,
   "metadata": {},
   "outputs": [],
   "source": [
    "Syntax:\n",
    "    "
   ]
  },
  {
   "cell_type": "code",
   "execution_count": null,
   "metadata": {},
   "outputs": [],
   "source": [
    "for varible in sequence:\n",
    "    statement1\n",
    "    statement2\n",
    "    statement3\n",
    "    statement4\n",
    "    \n",
    "    \n",
    "for char in sequence:\n",
    "    statement1\n",
    "    statement2\n",
    "    statement3\n",
    "    statement4\n",
    "    \n",
    "for num in sequence:\n",
    "    statement1\n",
    "    statement2\n",
    "    statement3\n",
    "    statement4\n",
    "    \n",
    "for value in sequence:\n",
    "    statement1\n",
    "    statement2\n",
    "    statement3\n",
    "    statement4\n",
    "    \n",
    "for item in sequence:\n",
    "    statement1\n",
    "    statement2\n",
    "    statement3\n",
    "    statement4\n",
    "\n",
    "for i in sequence:\n",
    "    statement1\n",
    "    statement2\n",
    "    statement3\n",
    "    statement4\n",
    "    \n",
    "for j in sequence:\n",
    "    statement1\n",
    "    statement2\n",
    "    statement3\n",
    "    statement4\n",
    "    \n",
    "    "
   ]
  },
  {
   "cell_type": "code",
   "execution_count": null,
   "metadata": {},
   "outputs": [],
   "source": [
    "for index,value in enumerate (sequence):\n",
    "    statement1\n",
    "    statement2\n",
    "    statement3\n",
    "    statement4\n",
    "    \n",
    "for i,val in enumerate (sequence):\n",
    "    statement1\n",
    "    statement2\n",
    "    statement3\n",
    "    statement4\n",
    "    \n",
    "for i,char in enumerate (sequence):\n",
    "    statement1\n",
    "    statement2\n",
    "    statement3\n",
    "    statement4\n",
    "    \n",
    "for i,val in enumerate (sequence):\n",
    "    statement1\n",
    "    statement2\n",
    "    statement3\n",
    "    statement4"
   ]
  },
  {
   "cell_type": "code",
   "execution_count": 3,
   "metadata": {},
   "outputs": [
    {
     "name": "stdout",
     "output_type": "stream",
     "text": [
      "happy diwali from velocity family\n",
      "happy diwali from velocity family\n",
      "happy diwali from velocity family\n",
      "happy diwali from velocity family\n",
      "happy diwali from velocity family\n",
      "happy diwali from velocity family\n",
      "happy diwali from velocity family\n",
      "happy diwali from velocity family\n",
      "happy diwali from velocity family\n",
      "happy diwali from velocity family\n"
     ]
    }
   ],
   "source": [
    "print(\"happy diwali from velocity family\")\n",
    "print(\"happy diwali from velocity family\")\n",
    "print(\"happy diwali from velocity family\")\n",
    "print(\"happy diwali from velocity family\")\n",
    "print(\"happy diwali from velocity family\")\n",
    "print(\"happy diwali from velocity family\")\n",
    "print(\"happy diwali from velocity family\")\n",
    "print(\"happy diwali from velocity family\")\n",
    "print(\"happy diwali from velocity family\")\n",
    "print(\"happy diwali from velocity family\")"
   ]
  },
  {
   "cell_type": "code",
   "execution_count": 4,
   "metadata": {},
   "outputs": [
    {
     "name": "stdout",
     "output_type": "stream",
     "text": [
      "happy diwali from velocity family\n",
      "happy diwali from velocity family\n",
      "happy diwali from velocity family\n",
      "happy diwali from velocity family\n",
      "happy diwali from velocity family\n",
      "happy diwali from velocity family\n",
      "happy diwali from velocity family\n",
      "happy diwali from velocity family\n",
      "happy diwali from velocity family\n",
      "happy diwali from velocity family\n",
      "happy diwali from velocity family\n"
     ]
    }
   ],
   "source": [
    "for i in range(11):\n",
    "    print(\"happy diwali from velocity family\")\n",
    "    "
   ]
  },
  {
   "cell_type": "code",
   "execution_count": 6,
   "metadata": {},
   "outputs": [
    {
     "name": "stdout",
     "output_type": "stream",
     "text": [
      "happy diwali from velocity family\n",
      "happy diwali from velocity family\n",
      "happy diwali from velocity family\n",
      "happy diwali from velocity family\n",
      "happy diwali from velocity family\n",
      "happy diwali from velocity family\n",
      "happy diwali from velocity family\n",
      "happy diwali from velocity family\n",
      "happy diwali from velocity family\n",
      "happy diwali from velocity family\n"
     ]
    }
   ],
   "source": [
    "for i in range(10):\n",
    "    print(\"happy diwali from velocity family\")\n",
    "    "
   ]
  },
  {
   "cell_type": "code",
   "execution_count": 13,
   "metadata": {},
   "outputs": [
    {
     "name": "stdout",
     "output_type": "stream",
     "text": [
      "************************************************************\n",
      "Happy Diwali From Velocity\n",
      "************************************************************\n",
      "\n",
      "\n",
      "************************************************************\n",
      "Happy Diwali From Velocity\n",
      "************************************************************\n",
      "\n",
      "\n",
      "************************************************************\n",
      "Happy Diwali From Velocity\n",
      "************************************************************\n",
      "\n",
      "\n",
      "************************************************************\n",
      "Happy Diwali From Velocity\n",
      "************************************************************\n",
      "\n",
      "\n",
      "************************************************************\n",
      "Happy Diwali From Velocity\n",
      "************************************************************\n",
      "\n",
      "\n",
      "************************************************************\n",
      "Happy Diwali From Velocity\n",
      "************************************************************\n",
      "\n",
      "\n",
      "************************************************************\n",
      "Happy Diwali From Velocity\n",
      "************************************************************\n",
      "\n",
      "\n",
      "************************************************************\n",
      "Happy Diwali From Velocity\n",
      "************************************************************\n",
      "\n",
      "\n",
      "************************************************************\n",
      "Happy Diwali From Velocity\n",
      "************************************************************\n",
      "\n",
      "\n",
      "************************************************************\n",
      "Happy Diwali From Velocity\n",
      "************************************************************\n",
      "\n",
      "\n",
      "************************************************************\n",
      "Happy Diwali From Velocity\n",
      "************************************************************\n",
      "\n",
      "\n",
      "************************************************************\n",
      "Happy Diwali From Velocity\n",
      "************************************************************\n",
      "\n",
      "\n",
      "************************************************************\n",
      "Happy Diwali From Velocity\n",
      "************************************************************\n",
      "\n",
      "\n",
      "************************************************************\n",
      "Happy Diwali From Velocity\n",
      "************************************************************\n",
      "\n",
      "\n",
      "************************************************************\n",
      "Happy Diwali From Velocity\n",
      "************************************************************\n",
      "\n",
      "\n"
     ]
    }
   ],
   "source": [
    "for i in range(15):\n",
    "    print(\"*\"*60)\n",
    "    print(\"Happy Diwali From Velocity\")\n",
    "    print(\"*\"*60)\n",
    "    print(end=\"\\n\\n\")"
   ]
  },
  {
   "cell_type": "code",
   "execution_count": 16,
   "metadata": {},
   "outputs": [
    {
     "name": "stdout",
     "output_type": "stream",
     "text": [
      "############################################################\n",
      "I am Great\n",
      "############################################################\n",
      "\n",
      "############################################################\n",
      "I am Great\n",
      "############################################################\n",
      "\n",
      "############################################################\n",
      "I am Great\n",
      "############################################################\n",
      "\n",
      "############################################################\n",
      "I am Great\n",
      "############################################################\n",
      "\n",
      "############################################################\n",
      "I am Great\n",
      "############################################################\n",
      "\n",
      "############################################################\n",
      "I am Great\n",
      "############################################################\n",
      "\n",
      "############################################################\n",
      "I am Great\n",
      "############################################################\n",
      "\n",
      "############################################################\n",
      "I am Great\n",
      "############################################################\n",
      "\n",
      "############################################################\n",
      "I am Great\n",
      "############################################################\n",
      "\n",
      "############################################################\n",
      "I am Great\n",
      "############################################################\n",
      "\n",
      "############################################################\n",
      "I am Great\n",
      "############################################################\n",
      "\n",
      "############################################################\n",
      "I am Great\n",
      "############################################################\n",
      "\n"
     ]
    }
   ],
   "source": [
    "s1=\"data science\"\n",
    "for i in s1:\n",
    "    print(\"#\"*60)\n",
    "    print(\"I am Great\")\n",
    "    print(\"#\"*60)\n",
    "    print(end=\"\\n\")"
   ]
  },
  {
   "cell_type": "code",
   "execution_count": null,
   "metadata": {},
   "outputs": [],
   "source": []
  },
  {
   "cell_type": "code",
   "execution_count": 19,
   "metadata": {},
   "outputs": [],
   "source": [
    "s1=\"\"\"A bank is a financial institution that accepts deposits from the public and creates a demand deposit while simultaneously making loans.[1] Lending activities can be directly performed by the bank or indirectly through capital markets.\n",
    "\n",
    "Because banks play an important role in financial stability and the economy of a country, most jurisdictions exercise a high degree of regulation over banks. Most countries have institutionalised a system known as fractional reserve banking, under which banks hold liquid assets equal to only a portion of their current liabilities. In addition to other regulations intended to ensure liquidity, banks are generally subject to minimum capital requirements based on an international set of capital standards, the Basel Accords\"\"\""
   ]
  },
  {
   "cell_type": "code",
   "execution_count": 20,
   "metadata": {},
   "outputs": [
    {
     "data": {
      "text/plain": [
       "'A bank is a financial institution that accepts deposits from the public and creates a demand deposit while simultaneously making loans.[1] Lending activities can be directly performed by the bank or indirectly through capital markets.\\n\\nBecause banks play an important role in financial stability and the economy of a country, most jurisdictions exercise a high degree of regulation over banks. Most countries have institutionalised a system known as fractional reserve banking, under which banks hold liquid assets equal to only a portion of their current liabilities. In addition to other regulations intended to ensure liquidity, banks are generally subject to minimum capital requirements based on an international set of capital standards, the Basel Accords'"
      ]
     },
     "execution_count": 20,
     "metadata": {},
     "output_type": "execute_result"
    }
   ],
   "source": [
    "s1"
   ]
  },
  {
   "cell_type": "code",
   "execution_count": 21,
   "metadata": {},
   "outputs": [
    {
     "data": {
      "text/plain": [
       "761"
      ]
     },
     "execution_count": 21,
     "metadata": {},
     "output_type": "execute_result"
    }
   ],
   "source": [
    "len(s1)   # 350   meaningfull words string, No special character, no numbers"
   ]
  },
  {
   "cell_type": "code",
   "execution_count": null,
   "metadata": {},
   "outputs": [],
   "source": []
  }
 ],
 "metadata": {
  "kernelspec": {
   "display_name": "Python 3 (ipykernel)",
   "language": "python",
   "name": "python3"
  },
  "language_info": {
   "codemirror_mode": {
    "name": "ipython",
    "version": 3
   },
   "file_extension": ".py",
   "mimetype": "text/x-python",
   "name": "python",
   "nbconvert_exporter": "python",
   "pygments_lexer": "ipython3",
   "version": "3.9.12"
  }
 },
 "nbformat": 4,
 "nbformat_minor": 4
}
