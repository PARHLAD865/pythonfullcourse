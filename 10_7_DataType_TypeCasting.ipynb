{
 "cells": [
  {
   "cell_type": "code",
   "execution_count": 1,
   "metadata": {},
   "outputs": [
    {
     "name": "stdout",
     "output_type": "stream",
     "text": [
      "Addition of 10 and 20 is 30\n"
     ]
    }
   ],
   "source": [
    "a=10\n",
    "b=20\n",
    "add=a+b\n",
    "print(f\"Addition of {a} and {b} is {add}\")\n",
    "\n"
   ]
  },
  {
   "cell_type": "code",
   "execution_count": null,
   "metadata": {},
   "outputs": [],
   "source": [
    "# Standard INPUT-OUTPUT methods."
   ]
  },
  {
   "cell_type": "code",
   "execution_count": 4,
   "metadata": {},
   "outputs": [
    {
     "name": "stdout",
     "output_type": "stream",
     "text": [
      "Hello, Satish, Good Morning\n"
     ]
    }
   ],
   "source": [
    "# name=\"Suraj\"\n",
    "# Greeting=\"Good Morning\"\n",
    "\n",
    "print(\"Hello, {name}, {Greeting}\".format(name=\"Satish\",Greeting=\"Good Morning\"))\n"
   ]
  },
  {
   "cell_type": "code",
   "execution_count": 5,
   "metadata": {},
   "outputs": [
    {
     "name": "stdout",
     "output_type": "stream",
     "text": [
      "The story of Bill,John and George\n"
     ]
    }
   ],
   "source": [
    "print(\"The story of {0},{1} and {name}\".format(\"Bill\",\"John\",name=\"George\"))"
   ]
  },
  {
   "cell_type": "code",
   "execution_count": 7,
   "metadata": {},
   "outputs": [
    {
     "name": "stdout",
     "output_type": "stream",
     "text": [
      "Enter the Number:4\n",
      "Number is not greater than 5\n"
     ]
    }
   ],
   "source": [
    "num= int(input(\"Enter the Number:\"))\n",
    "\n",
    "if num>5:\n",
    "    print(\"Number is greater than 5\")\n",
    "else:\n",
    "    print(\"Number is not greater than 5\")"
   ]
  },
  {
   "cell_type": "code",
   "execution_count": null,
   "metadata": {},
   "outputs": [],
   "source": [
    "x=10\n",
    "num=50"
   ]
  },
  {
   "cell_type": "code",
   "execution_count": 9,
   "metadata": {},
   "outputs": [
    {
     "name": "stdout",
     "output_type": "stream",
     "text": [
      "Enter the value:data\n",
      "String lenght is smaller than 5\n"
     ]
    }
   ],
   "source": [
    "s1=input(\"Enter the value:\")\n",
    "\n",
    "if len(s1)>5:\n",
    "    print(\"String is big string\")\n",
    "else:\n",
    "    print(\"String lenght is smaller than 5\")\n",
    "    "
   ]
  },
  {
   "cell_type": "markdown",
   "metadata": {},
   "source": [
    "# Data_Types:-"
   ]
  },
  {
   "cell_type": "markdown",
   "metadata": {},
   "source": [
    "DataType-\n",
    "      Datatype is a classification of data which tells the compiller or interpreter how the programmer intends to use the data.\n",
    "      \n",
    "     -There are total 14 datatypes in Python"
   ]
  },
  {
   "cell_type": "code",
   "execution_count": null,
   "metadata": {},
   "outputs": [],
   "source": [
    "1) Text datatype- String\n",
    "2) Numeric datatype- int, flot,complex\n",
    "3) Sequence datatype- list,tuple,range\n",
    "4) Mapping datatype- dictionary\n",
    "5) Boolean datatype- True, False\n",
    "6) Set datatype- set, Frozen set\n",
    "7) Binary datatype- byte, byte array, memory view."
   ]
  },
  {
   "cell_type": "code",
   "execution_count": 10,
   "metadata": {},
   "outputs": [
    {
     "name": "stdout",
     "output_type": "stream",
     "text": [
      "10 <class 'int'> 140736539469888\n"
     ]
    }
   ],
   "source": [
    "a=10\n",
    "print(a,type(a),id(a))"
   ]
  },
  {
   "cell_type": "code",
   "execution_count": 11,
   "metadata": {},
   "outputs": [
    {
     "name": "stdout",
     "output_type": "stream",
     "text": [
      "10.0 <class 'float'> 2666656357680\n"
     ]
    }
   ],
   "source": [
    "a=10.00\n",
    "print(a,type(a),id(a))"
   ]
  },
  {
   "cell_type": "code",
   "execution_count": null,
   "metadata": {},
   "outputs": [],
   "source": [
    "1. Numeric Datatype:-\n",
    "    \n",
    "    int\n",
    "    float\n",
    "    complex"
   ]
  },
  {
   "cell_type": "code",
   "execution_count": 15,
   "metadata": {},
   "outputs": [
    {
     "name": "stdout",
     "output_type": "stream",
     "text": [
      "140736539469888\n",
      "140736539470208\n",
      "The value of a is: 40\n"
     ]
    }
   ],
   "source": [
    "a=10\n",
    "print(id(a))\n",
    "a=20\n",
    "print(id(a))\n",
    "a=40\n",
    "\n",
    "print(\"The value of a is:\",a)"
   ]
  },
  {
   "cell_type": "code",
   "execution_count": 16,
   "metadata": {},
   "outputs": [
    {
     "name": "stdout",
     "output_type": "stream",
     "text": [
      "140736539470848\n",
      "<class 'int'>\n"
     ]
    }
   ],
   "source": [
    "print(id(a))\n",
    "print(type(a))\n"
   ]
  },
  {
   "cell_type": "code",
   "execution_count": 17,
   "metadata": {},
   "outputs": [
    {
     "name": "stdout",
     "output_type": "stream",
     "text": [
      "10.2 <class 'float'> 2666656357264\n"
     ]
    }
   ],
   "source": [
    "c=10.2\n",
    "print(c,type(c),id(c))"
   ]
  },
  {
   "cell_type": "code",
   "execution_count": 18,
   "metadata": {},
   "outputs": [
    {
     "data": {
      "text/plain": [
       "True"
      ]
     },
     "execution_count": 18,
     "metadata": {},
     "output_type": "execute_result"
    }
   ],
   "source": [
    "isinstance(c,float)    # Output of isinstance is in boolean format(True/False)"
   ]
  },
  {
   "cell_type": "code",
   "execution_count": 20,
   "metadata": {},
   "outputs": [
    {
     "data": {
      "text/plain": [
       "True"
      ]
     },
     "execution_count": 20,
     "metadata": {},
     "output_type": "execute_result"
    }
   ],
   "source": [
    "isinstance(a,int)"
   ]
  },
  {
   "cell_type": "code",
   "execution_count": 21,
   "metadata": {},
   "outputs": [
    {
     "data": {
      "text/plain": [
       "False"
      ]
     },
     "execution_count": 21,
     "metadata": {},
     "output_type": "execute_result"
    }
   ],
   "source": [
    "isinstance(c,int)"
   ]
  },
  {
   "cell_type": "code",
   "execution_count": 22,
   "metadata": {},
   "outputs": [
    {
     "data": {
      "text/plain": [
       "False"
      ]
     },
     "execution_count": 22,
     "metadata": {},
     "output_type": "execute_result"
    }
   ],
   "source": [
    "isinstance(a,float)"
   ]
  },
  {
   "cell_type": "code",
   "execution_count": 26,
   "metadata": {},
   "outputs": [
    {
     "name": "stdout",
     "output_type": "stream",
     "text": [
      "(4+5j) <class 'complex'> 2666657387760\n"
     ]
    }
   ],
   "source": [
    "d= 4+5j\n",
    "print(d,type(d),id(d))"
   ]
  },
  {
   "cell_type": "code",
   "execution_count": 28,
   "metadata": {},
   "outputs": [
    {
     "data": {
      "text/plain": [
       "False"
      ]
     },
     "execution_count": 28,
     "metadata": {},
     "output_type": "execute_result"
    }
   ],
   "source": [
    "isinstance(d,int)"
   ]
  },
  {
   "cell_type": "markdown",
   "metadata": {},
   "source": [
    "# Type conversion:-"
   ]
  },
  {
   "cell_type": "code",
   "execution_count": 29,
   "metadata": {},
   "outputs": [
    {
     "name": "stdout",
     "output_type": "stream",
     "text": [
      "22.5\n"
     ]
    }
   ],
   "source": [
    "Implicit\n",
    "a=10\n",
    "b=12.5\n",
    "\n",
    "c=a+b\n",
    "print(c)"
   ]
  },
  {
   "cell_type": "code",
   "execution_count": 32,
   "metadata": {},
   "outputs": [
    {
     "name": "stdout",
     "output_type": "stream",
     "text": [
      "10python <class 'str'>\n"
     ]
    }
   ],
   "source": [
    "Explicit\n",
    "a=str(10)\n",
    "b=\"python\"\n",
    "c=a+b\n",
    "print(c,type(c))"
   ]
  },
  {
   "cell_type": "code",
   "execution_count": 40,
   "metadata": {},
   "outputs": [
    {
     "name": "stdout",
     "output_type": "stream",
     "text": [
      "22 <class 'int'>\n",
      "<class 'float'>\n",
      "<class 'int'>\n",
      "<class 'int'>\n"
     ]
    }
   ],
   "source": [
    "a=12.5\n",
    "b=10\n",
    "d=int(a)\n",
    "c=d+b\n",
    "print(c,type(c))\n",
    "print(type(a))\n",
    "print(type(b))\n",
    "print(type(d))"
   ]
  },
  {
   "cell_type": "markdown",
   "metadata": {},
   "source": [
    "Type Conversion:- \n",
    "    Type conversion is conversion of object from one datatype to other data type.\n",
    "    \n",
    "A) Implicit type conversion- Implicit type of conversion is done automatically by python interpreter.\n",
    "  -Python avoids loss of information in implicit type.\n",
    "  \n",
    "B)Explicit Type- Explicit type is also known as TYPE CASTING. The datatype of objrect are converted using predefined function by the user.\n",
    "-Explicit type conversion there is chances to loss of information."
   ]
  },
  {
   "cell_type": "markdown",
   "metadata": {},
   "source": [
    "# Numerical DataType"
   ]
  },
  {
   "cell_type": "code",
   "execution_count": null,
   "metadata": {},
   "outputs": [],
   "source": [
    "1. int >> Positive and Negative whole numbers\n",
    "\n",
    "20\n",
    "30\n",
    "35\n",
    "-40\n",
    "-30\n",
    "0\n",
    "100\n",
    "15\n",
    "-5\n"
   ]
  },
  {
   "cell_type": "code",
   "execution_count": 41,
   "metadata": {},
   "outputs": [
    {
     "name": "stdout",
     "output_type": "stream",
     "text": [
      "0 <class 'int'>\n"
     ]
    }
   ],
   "source": [
    "x=0\n",
    "\n",
    "print(x,type(x))"
   ]
  },
  {
   "cell_type": "code",
   "execution_count": 42,
   "metadata": {},
   "outputs": [
    {
     "name": "stdout",
     "output_type": "stream",
     "text": [
      "20 <class 'int'>\n"
     ]
    }
   ],
   "source": [
    "x=20\n",
    "print(x,type(x))"
   ]
  },
  {
   "cell_type": "code",
   "execution_count": 43,
   "metadata": {},
   "outputs": [
    {
     "name": "stdout",
     "output_type": "stream",
     "text": [
      "-30 <class 'int'>\n"
     ]
    }
   ],
   "source": [
    "x=-30\n",
    "print(x,type(x))"
   ]
  },
  {
   "cell_type": "code",
   "execution_count": 44,
   "metadata": {},
   "outputs": [
    {
     "name": "stdout",
     "output_type": "stream",
     "text": [
      "-320 <class 'int'>\n"
     ]
    }
   ],
   "source": [
    "x=-320\n",
    "print(x,type(x))"
   ]
  },
  {
   "cell_type": "code",
   "execution_count": 45,
   "metadata": {},
   "outputs": [
    {
     "name": "stdout",
     "output_type": "stream",
     "text": [
      "0 <class 'int'>\n"
     ]
    }
   ],
   "source": [
    "x=00\n",
    "print(x,type(x))"
   ]
  },
  {
   "cell_type": "code",
   "execution_count": null,
   "metadata": {},
   "outputs": [],
   "source": [
    "2. Float  >> Positive and negative with decimal point\n",
    "\n",
    "3.14\n",
    "6.78.\n",
    "12.5\n",
    "-3.14\n",
    "-10.22\n",
    "-0.0\n",
    "-00.00\n",
    "-4568.98745"
   ]
  },
  {
   "cell_type": "code",
   "execution_count": 46,
   "metadata": {},
   "outputs": [
    {
     "name": "stdout",
     "output_type": "stream",
     "text": [
      "The value of variable a is 10.56 and its datatype is <class 'float'>\n"
     ]
    }
   ],
   "source": [
    "a=10.56\n",
    "print(f\"The value of variable a is {a} and its datatype is {type(a)}\")"
   ]
  },
  {
   "cell_type": "code",
   "execution_count": 47,
   "metadata": {},
   "outputs": [
    {
     "name": "stdout",
     "output_type": "stream",
     "text": [
      "The value of variable a is -10.56 and its datatype is <class 'float'>\n"
     ]
    }
   ],
   "source": [
    "a=-10.56\n",
    "print(f\"The value of variable a is {a} and its datatype is {type(a)}\")"
   ]
  },
  {
   "cell_type": "code",
   "execution_count": 48,
   "metadata": {},
   "outputs": [
    {
     "name": "stdout",
     "output_type": "stream",
     "text": [
      "The value of variable a is -10.0 and its datatype is <class 'float'>\n"
     ]
    }
   ],
   "source": [
    "a=-10.000\n",
    "print(f\"The value of variable a is {a} and its datatype is {type(a)}\")"
   ]
  },
  {
   "cell_type": "code",
   "execution_count": 49,
   "metadata": {},
   "outputs": [
    {
     "name": "stdout",
     "output_type": "stream",
     "text": [
      "The value of variable a is 0.0 and its datatype is <class 'float'>\n"
     ]
    }
   ],
   "source": [
    "a=0.000\n",
    "print(f\"The value of variable a is {a} and its datatype is {type(a)}\")"
   ]
  },
  {
   "cell_type": "code",
   "execution_count": 50,
   "metadata": {},
   "outputs": [
    {
     "name": "stdout",
     "output_type": "stream",
     "text": [
      "The value of variable a is 1e-06 and its datatype is <class 'float'>\n"
     ]
    }
   ],
   "source": [
    "a=00.000001\n",
    "print(f\"The value of variable a is {a} and its datatype is {type(a)}\")"
   ]
  },
  {
   "cell_type": "code",
   "execution_count": 66,
   "metadata": {},
   "outputs": [
    {
     "name": "stdout",
     "output_type": "stream",
     "text": [
      "The value of variable a is 3200.0 and its datatype is <class 'float'>\n"
     ]
    }
   ],
   "source": [
    "a=32e2\n",
    "print(f\"The value of variable a is {a} and its datatype is {type(a)}\")"
   ]
  },
  {
   "cell_type": "code",
   "execution_count": 58,
   "metadata": {},
   "outputs": [
    {
     "name": "stdout",
     "output_type": "stream",
     "text": [
      "The value of variable a is 3200 and its datatype is <class 'int'>\n"
     ]
    }
   ],
   "source": [
    "a=int(32e2)\n",
    "print(f\"The value of variable a is {a} and its datatype is {type(a)}\")"
   ]
  },
  {
   "cell_type": "code",
   "execution_count": 59,
   "metadata": {},
   "outputs": [
    {
     "name": "stdout",
     "output_type": "stream",
     "text": [
      "The value of variable a is 0.32 and its datatype is <class 'float'>\n"
     ]
    }
   ],
   "source": [
    "a=32e-2\n",
    "print(f\"The value of variable a is {a} and its datatype is {type(a)}\")"
   ]
  },
  {
   "cell_type": "code",
   "execution_count": 60,
   "metadata": {},
   "outputs": [
    {
     "name": "stdout",
     "output_type": "stream",
     "text": [
      "The value of variable a is 12.35 and its datatype is <class 'float'>\n"
     ]
    }
   ],
   "source": [
    "a=12.345678987456\n",
    "print(f\"The value of variable a is {round(a,2)} and its datatype is {type(a)}\")"
   ]
  },
  {
   "cell_type": "code",
   "execution_count": 67,
   "metadata": {},
   "outputs": [
    {
     "data": {
      "text/plain": [
       "30.45"
      ]
     },
     "execution_count": 67,
     "metadata": {},
     "output_type": "execute_result"
    }
   ],
   "source": [
    "a=10\n",
    "b=20.45\n",
    "\n",
    "a+b"
   ]
  },
  {
   "cell_type": "code",
   "execution_count": 74,
   "metadata": {},
   "outputs": [
    {
     "data": {
      "text/plain": [
       "6"
      ]
     },
     "execution_count": 74,
     "metadata": {},
     "output_type": "execute_result"
    }
   ],
   "source": [
    "#syntax-string.count(\"Substring\")\n",
    "s1=\"pythonpythontttt\"\n",
    "s1.count(\"t\")"
   ]
  },
  {
   "cell_type": "code",
   "execution_count": null,
   "metadata": {},
   "outputs": [],
   "source": [
    "3.Complex\n",
    "\n",
    "It contains real and imaginary part\n",
    "\n",
    "number= real + imaginary_part"
   ]
  },
  {
   "cell_type": "code",
   "execution_count": 81,
   "metadata": {},
   "outputs": [
    {
     "name": "stdout",
     "output_type": "stream",
     "text": [
      "The value of variavle a is (3+5j) and datatype of a is <class 'complex'>\n",
      "The value of variavle a is (3+5j) and datatype of a is <class 'complex'>\n"
     ]
    }
   ],
   "source": [
    "a= 3+5j\n",
    "\n",
    "print(\"The value of variavle a is {} and datatype of a is {}\".format(a,type(a)))\n",
    "print(f\"The value of variavle a is {a} and datatype of a is {type(a)}\")"
   ]
  },
  {
   "cell_type": "code",
   "execution_count": 82,
   "metadata": {},
   "outputs": [
    {
     "name": "stdout",
     "output_type": "stream",
     "text": [
      "The value of variavle a is (-1-4j) and datatype of a is <class 'complex'>\n",
      "The value of variavle a is (-1-4j) and datatype of a is <class 'complex'>\n"
     ]
    }
   ],
   "source": [
    "a=-1-4j\n",
    "print(\"The value of variavle a is {} and datatype of a is {}\".format(a,type(a)))\n",
    "print(f\"The value of variavle a is {a} and datatype of a is {type(a)}\")"
   ]
  },
  {
   "cell_type": "code",
   "execution_count": 83,
   "metadata": {},
   "outputs": [
    {
     "name": "stdout",
     "output_type": "stream",
     "text": [
      "The value of variavle a is (-1+5j) and datatype of a is <class 'complex'>\n",
      "The value of variavle a is (-1+5j) and datatype of a is <class 'complex'>\n"
     ]
    }
   ],
   "source": [
    "a=-1+5j\n",
    "print(\"The value of variavle a is {} and datatype of a is {}\".format(a,type(a)))\n",
    "print(f\"The value of variavle a is {a} and datatype of a is {type(a)}\")"
   ]
  },
  {
   "cell_type": "code",
   "execution_count": 84,
   "metadata": {},
   "outputs": [
    {
     "name": "stdout",
     "output_type": "stream",
     "text": [
      "The value of variavle a is (-0-4j) and datatype of a is <class 'complex'>\n",
      "The value of variavle a is (-0-4j) and datatype of a is <class 'complex'>\n"
     ]
    }
   ],
   "source": [
    "a=-4j\n",
    "print(\"The value of variavle a is {} and datatype of a is {}\".format(a,type(a)))\n",
    "print(f\"The value of variavle a is {a} and datatype of a is {type(a)}\")"
   ]
  },
  {
   "cell_type": "code",
   "execution_count": 85,
   "metadata": {},
   "outputs": [
    {
     "name": "stdout",
     "output_type": "stream",
     "text": [
      "The value of variavle a is (5+0j) and datatype of a is <class 'complex'>\n",
      "The value of variavle a is (5+0j) and datatype of a is <class 'complex'>\n"
     ]
    }
   ],
   "source": [
    "a=5+0j\n",
    "print(\"The value of variavle a is {} and datatype of a is {}\".format(a,type(a)))\n",
    "print(f\"The value of variavle a is {a} and datatype of a is {type(a)}\")"
   ]
  },
  {
   "cell_type": "code",
   "execution_count": 86,
   "metadata": {},
   "outputs": [
    {
     "name": "stdout",
     "output_type": "stream",
     "text": [
      "The value of variavle a is 5 and datatype of a is <class 'int'>\n",
      "The value of variavle a is 5 and datatype of a is <class 'int'>\n"
     ]
    }
   ],
   "source": [
    "a=5\n",
    "print(\"The value of variavle a is {} and datatype of a is {}\".format(a,type(a)))\n",
    "print(f\"The value of variavle a is {a} and datatype of a is {type(a)}\")"
   ]
  }
 ],
 "metadata": {
  "kernelspec": {
   "display_name": "Python 3 (ipykernel)",
   "language": "python",
   "name": "python3"
  },
  "language_info": {
   "codemirror_mode": {
    "name": "ipython",
    "version": 3
   },
   "file_extension": ".py",
   "mimetype": "text/x-python",
   "name": "python",
   "nbconvert_exporter": "python",
   "pygments_lexer": "ipython3",
   "version": "3.9.12"
  }
 },
 "nbformat": 4,
 "nbformat_minor": 4
}
