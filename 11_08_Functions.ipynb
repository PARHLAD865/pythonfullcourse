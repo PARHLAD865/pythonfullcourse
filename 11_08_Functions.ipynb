{
 "cells": [
  {
   "cell_type": "code",
   "execution_count": null,
   "metadata": {},
   "outputs": [],
   "source": [
    "Functions:\n",
    "    >>Function is a group of related statements that performs specific task.\n",
    "    "
   ]
  },
  {
   "cell_type": "code",
   "execution_count": null,
   "metadata": {},
   "outputs": [],
   "source": [
    ">> Syntax:\n",
    "    def function_Name(Arguments/Parameters(option)):\n",
    "        \"\"\"Doc String\"\"\"\n",
    "        statement1   #Block of code \n",
    "        statement2   #print()\n",
    "        statement3\n",
    "        statement4\n",
    "        \n",
    "        return      #\n",
    "    "
   ]
  },
  {
   "cell_type": "code",
   "execution_count": null,
   "metadata": {},
   "outputs": [],
   "source": [
    "Function consist of:\n",
    "    >> 1) keyword def marks the start of the function header.\n",
    "    >> 2) Parameters(Arguments) through which we pass values to function.\n",
    "    >> 3) Colon: marks the end of function header.\n",
    "    >> 4) Doc String(Documentation string):It tell us what function.\n",
    "    >> 5) return- keyword is used to return the value from function."
   ]
  },
  {
   "cell_type": "code",
   "execution_count": null,
   "metadata": {},
   "outputs": [],
   "source": [
    ">> Doc String: >> The first string after function hrader\n",
    "               >> Documentation string\n",
    "               >> Its option but good practice\n",
    "               >> \"\"\"\"\"\"\n",
    "                \n",
    "To Get Doc String:\n",
    "    print(name_of_function.__doc__)"
   ]
  },
  {
   "cell_type": "code",
   "execution_count": 2,
   "metadata": {},
   "outputs": [
    {
     "name": "stdout",
     "output_type": "stream",
     "text": [
      "The sum is: 15\n",
      "I am Data Scientist\n"
     ]
    },
    {
     "data": {
      "text/plain": [
       "15"
      ]
     },
     "execution_count": 2,
     "metadata": {},
     "output_type": "execute_result"
    }
   ],
   "source": [
    "def get_sum():\n",
    "    l1=[1,2,3,4,5]\n",
    "    sum=0\n",
    "    for i in l1:\n",
    "        sum=sum+i\n",
    "    print(\"The sum is:\",sum)\n",
    "    print(\"I am Data Scientist\")\n",
    "    return sum\n",
    "       \n",
    "get_sum()"
   ]
  },
  {
   "cell_type": "code",
   "execution_count": 6,
   "metadata": {},
   "outputs": [],
   "source": [
    "def get_sum(l1):\n",
    "    \n",
    "    sum=0\n",
    "    for i in l1:\n",
    "        sum=sum+i\n",
    "    return sum\n",
    "    \n",
    "    "
   ]
  },
  {
   "cell_type": "code",
   "execution_count": 22,
   "metadata": {},
   "outputs": [
    {
     "data": {
      "text/plain": [
       "22"
      ]
     },
     "execution_count": 22,
     "metadata": {},
     "output_type": "execute_result"
    }
   ],
   "source": [
    "get_sum([4,5,6,7])"
   ]
  },
  {
   "cell_type": "code",
   "execution_count": 23,
   "metadata": {},
   "outputs": [
    {
     "data": {
      "text/plain": [
       "45"
      ]
     },
     "execution_count": 23,
     "metadata": {},
     "output_type": "execute_result"
    }
   ],
   "source": [
    "get_sum((1,2,3,4,5,6,7,8,9))"
   ]
  },
  {
   "cell_type": "code",
   "execution_count": 17,
   "metadata": {},
   "outputs": [
    {
     "data": {
      "text/plain": [
       "15"
      ]
     },
     "execution_count": 17,
     "metadata": {},
     "output_type": "execute_result"
    }
   ],
   "source": [
    "get_sum()"
   ]
  },
  {
   "cell_type": "code",
   "execution_count": 19,
   "metadata": {},
   "outputs": [
    {
     "ename": "TypeError",
     "evalue": "get_sum() takes 0 positional arguments but 1 was given",
     "output_type": "error",
     "traceback": [
      "\u001b[1;31m---------------------------------------------------------------------------\u001b[0m",
      "\u001b[1;31mTypeError\u001b[0m                                 Traceback (most recent call last)",
      "\u001b[1;32m<ipython-input-19-dc2c7cc7c40c>\u001b[0m in \u001b[0;36m<module>\u001b[1;34m\u001b[0m\n\u001b[1;32m----> 1\u001b[1;33m \u001b[0mget_sum\u001b[0m\u001b[1;33m(\u001b[0m\u001b[1;33m[\u001b[0m\u001b[1;36m5\u001b[0m\u001b[1;33m,\u001b[0m\u001b[1;36m5\u001b[0m\u001b[1;33m,\u001b[0m\u001b[1;36m5\u001b[0m\u001b[1;33m,\u001b[0m\u001b[1;36m6\u001b[0m\u001b[1;33m,\u001b[0m\u001b[1;36m7\u001b[0m\u001b[1;33m]\u001b[0m\u001b[1;33m)\u001b[0m\u001b[1;33m\u001b[0m\u001b[1;33m\u001b[0m\u001b[0m\n\u001b[0m",
      "\u001b[1;31mTypeError\u001b[0m: get_sum() takes 0 positional arguments but 1 was given"
     ]
    }
   ],
   "source": [
    "get_sum([5,5,5,6,7])"
   ]
  },
  {
   "cell_type": "code",
   "execution_count": 18,
   "metadata": {},
   "outputs": [
    {
     "data": {
      "text/plain": [
       "15"
      ]
     },
     "execution_count": 18,
     "metadata": {},
     "output_type": "execute_result"
    }
   ],
   "source": [
    "get_sum()"
   ]
  },
  {
   "cell_type": "code",
   "execution_count": 1,
   "metadata": {},
   "outputs": [
    {
     "name": "stdout",
     "output_type": "stream",
     "text": [
      "Good Morning\n",
      "Good Morning\n",
      "Good Morning\n",
      "Good Morning\n"
     ]
    }
   ],
   "source": [
    "for i in range(4):\n",
    "    print(\"Good Morning\")"
   ]
  },
  {
   "cell_type": "code",
   "execution_count": 3,
   "metadata": {},
   "outputs": [
    {
     "name": "stdout",
     "output_type": "stream",
     "text": [
      "python\n",
      "Machine Learning\n",
      "Data Science\n",
      "\n",
      "python\n",
      "Machine Learning\n",
      "Data Science\n",
      "\n",
      "python\n",
      "Machine Learning\n",
      "Data Science\n",
      "\n",
      "python\n",
      "Machine Learning\n",
      "Data Science\n",
      "\n",
      "python\n",
      "Machine Learning\n",
      "Data Science\n",
      "\n"
     ]
    }
   ],
   "source": [
    "print(\"python\")\n",
    "print(\"Machine Learning\")\n",
    "print(\"Data Science\")\n",
    "print()\n",
    "print(\"python\")\n",
    "print(\"Machine Learning\")\n",
    "print(\"Data Science\")\n",
    "print()\n",
    "print(\"python\")\n",
    "print(\"Machine Learning\")\n",
    "print(\"Data Science\")\n",
    "print()\n",
    "print(\"python\")\n",
    "print(\"Machine Learning\")\n",
    "print(\"Data Science\")\n",
    "print()\n",
    "print(\"python\")\n",
    "print(\"Machine Learning\")\n",
    "print(\"Data Science\")\n",
    "print()"
   ]
  },
  {
   "cell_type": "code",
   "execution_count": 10,
   "metadata": {},
   "outputs": [
    {
     "name": "stdout",
     "output_type": "stream",
     "text": [
      "python\n",
      "Machine Learning\n",
      "Data Science\n",
      "\n",
      "python\n",
      "Machine Learning\n",
      "Data Science\n",
      "\n",
      "python\n",
      "Machine Learning\n",
      "Data Science\n",
      "\n",
      "python\n",
      "Machine Learning\n",
      "Data Science\n",
      "\n"
     ]
    }
   ],
   "source": [
    "# def my_fuction():\n",
    "#     print(\"python\")\n",
    "#     print(\"Machine Learning\")\n",
    "#     print(\"Data Science\")\n",
    "#     print()\n",
    "    \n",
    "my_fuction()\n",
    "my_fuction()\n",
    "my_fuction()\n",
    "my_fuction()"
   ]
  },
  {
   "cell_type": "code",
   "execution_count": null,
   "metadata": {},
   "outputs": [],
   "source": [
    "add()\n",
    "append()\n",
    "extend()"
   ]
  },
  {
   "cell_type": "code",
   "execution_count": 15,
   "metadata": {},
   "outputs": [
    {
     "name": "stdout",
     "output_type": "stream",
     "text": [
      "python\n"
     ]
    }
   ],
   "source": [
    "print(\"python\")"
   ]
  },
  {
   "cell_type": "code",
   "execution_count": 14,
   "metadata": {},
   "outputs": [
    {
     "name": "stdout",
     "output_type": "stream",
     "text": [
      "python\n",
      "Machine Learning\n",
      "Data Science\n",
      "\n"
     ]
    }
   ],
   "source": [
    "my_fuction()"
   ]
  },
  {
   "cell_type": "code",
   "execution_count": null,
   "metadata": {},
   "outputs": [],
   "source": [
    "def "
   ]
  },
  {
   "cell_type": "code",
   "execution_count": 13,
   "metadata": {},
   "outputs": [
    {
     "name": "stdout",
     "output_type": "stream",
     "text": [
      "python\n",
      "Machine Learning\n",
      "Data Science\n",
      "\n"
     ]
    }
   ],
   "source": [
    "my_fuction()\n",
    "# my_fuction()\n",
    "# my_fuction()"
   ]
  },
  {
   "cell_type": "code",
   "execution_count": 31,
   "metadata": {},
   "outputs": [],
   "source": [
    "def my_function():\n",
    "    \"\"\"This is a Greeting function and this Doc strng          # doc string\n",
    "    tells about the functionality of Doc string\"\"\"\n",
    "    \n",
    "    print(\"Hello, Functions\")"
   ]
  },
  {
   "cell_type": "code",
   "execution_count": 29,
   "metadata": {},
   "outputs": [
    {
     "name": "stdout",
     "output_type": "stream",
     "text": [
      "Hello, Functions\n"
     ]
    }
   ],
   "source": [
    "my_function()"
   ]
  },
  {
   "cell_type": "code",
   "execution_count": 32,
   "metadata": {},
   "outputs": [
    {
     "name": "stdout",
     "output_type": "stream",
     "text": [
      "This is a Greeting function and this Doc strng\n",
      "    tells about the functionality of Doc string\n"
     ]
    }
   ],
   "source": [
    "print(my_function.__doc__)              #to pass doc string syntax is used"
   ]
  },
  {
   "cell_type": "code",
   "execution_count": 8,
   "metadata": {},
   "outputs": [
    {
     "name": "stdout",
     "output_type": "stream",
     "text": [
      "python\n",
      "Machine Learning\n",
      "Data Science\n",
      "\n",
      "python\n",
      "Machine Learning\n",
      "Data Science\n",
      "\n",
      "python\n",
      "Machine Learning\n",
      "Data Science\n",
      "\n",
      "python\n",
      "Machine Learning\n",
      "Data Science\n",
      "\n"
     ]
    }
   ],
   "source": [
    "def my_function():\n",
    "    print(\"python\")\n",
    "    print(\"Machine Learning\")\n",
    "    print(\"Data Science\")\n",
    "    print()\n",
    "    \n",
    "my_function()\n",
    "my_function()\n",
    "my_function()\n",
    "my_function()"
   ]
  },
  {
   "cell_type": "code",
   "execution_count": 35,
   "metadata": {},
   "outputs": [
    {
     "name": "stdout",
     "output_type": "stream",
     "text": [
      "python\n",
      "Machine Learning\n",
      "Data Science\n",
      "\n",
      "Addition is 30\n",
      "python\n",
      "Machine Learning\n",
      "Data Science\n",
      "\n"
     ]
    }
   ],
   "source": [
    "print(\"python\")\n",
    "print(\"Machine Learning\")\n",
    "print(\"Data Science\")\n",
    "print()\n",
    "x=10\n",
    "y=20\n",
    "z=x+y\n",
    "print(\"Addition is\",z)\n",
    "print(\"python\")\n",
    "print(\"Machine Learning\")\n",
    "print(\"Data Science\")\n",
    "print()"
   ]
  },
  {
   "cell_type": "code",
   "execution_count": 38,
   "metadata": {},
   "outputs": [
    {
     "name": "stdout",
     "output_type": "stream",
     "text": [
      "The average is: 20.0\n",
      "The average is: 216.66666666666666\n",
      "The average is: 23.599999999999998\n",
      "The average is: 533.3333333333334\n"
     ]
    }
   ],
   "source": [
    "a=10\n",
    "b=20\n",
    "c=30\n",
    "\n",
    "avg=(a+b+c)/3\n",
    "print(\"The average is:\",avg)\n",
    "\n",
    "a=100\n",
    "b=200\n",
    "c=350\n",
    "\n",
    "avg=(a+b+c)/3\n",
    "print(\"The average is:\",avg)\n",
    "\n",
    "a=12.5\n",
    "b=22.5\n",
    "c=35.8\n",
    "\n",
    "avg=(a+b+c)/3\n",
    "print(\"The average is:\",avg)\n",
    "\n",
    "a=1000\n",
    "b=200\n",
    "c=400\n",
    "\n",
    "avg=(a+b+c)/3\n",
    "print(\"The average is:\",avg)"
   ]
  },
  {
   "cell_type": "code",
   "execution_count": 39,
   "metadata": {},
   "outputs": [],
   "source": [
    "def average():\n",
    "    a=100\n",
    "    b=200\n",
    "    c=300\n",
    "    avg=(a+b+c)/3\n",
    "    return avg"
   ]
  },
  {
   "cell_type": "code",
   "execution_count": 40,
   "metadata": {},
   "outputs": [
    {
     "data": {
      "text/plain": [
       "200.0"
      ]
     },
     "execution_count": 40,
     "metadata": {},
     "output_type": "execute_result"
    }
   ],
   "source": [
    "average()"
   ]
  },
  {
   "cell_type": "code",
   "execution_count": 41,
   "metadata": {},
   "outputs": [
    {
     "ename": "TypeError",
     "evalue": "average() takes 0 positional arguments but 3 were given",
     "output_type": "error",
     "traceback": [
      "\u001b[1;31m---------------------------------------------------------------------------\u001b[0m",
      "\u001b[1;31mTypeError\u001b[0m                                 Traceback (most recent call last)",
      "\u001b[1;32m<ipython-input-41-1ca44679080b>\u001b[0m in \u001b[0;36m<module>\u001b[1;34m\u001b[0m\n\u001b[1;32m----> 1\u001b[1;33m \u001b[0maverage\u001b[0m\u001b[1;33m(\u001b[0m\u001b[1;36m50\u001b[0m\u001b[1;33m,\u001b[0m\u001b[1;36m40\u001b[0m\u001b[1;33m,\u001b[0m\u001b[1;36m30\u001b[0m\u001b[1;33m)\u001b[0m\u001b[1;33m\u001b[0m\u001b[1;33m\u001b[0m\u001b[0m\n\u001b[0m",
      "\u001b[1;31mTypeError\u001b[0m: average() takes 0 positional arguments but 3 were given"
     ]
    }
   ],
   "source": [
    "average(50,40,30)"
   ]
  },
  {
   "cell_type": "code",
   "execution_count": 46,
   "metadata": {},
   "outputs": [
    {
     "data": {
      "text/plain": [
       "20.0"
      ]
     },
     "execution_count": 46,
     "metadata": {},
     "output_type": "execute_result"
    }
   ],
   "source": [
    "def average(a,b,c):\n",
    "    avg=(a+b+c)/3\n",
    "    return avg\n",
    "\n",
    "average(10,20,30)\n",
    "average(100,200,300)\n",
    "average(12.5,22.5,33.8)"
   ]
  },
  {
   "cell_type": "code",
   "execution_count": 48,
   "metadata": {},
   "outputs": [
    {
     "name": "stdout",
     "output_type": "stream",
     "text": [
      "The Average of Number is: 20.0\n",
      "The Average of Number is: 200.0\n",
      "The Average of Number is: 22.93\n"
     ]
    }
   ],
   "source": [
    "def average(a,b,c):\n",
    "    avg=(a+b+c)/3\n",
    "    print(\"The Average of Number is:\",round(avg,2))\n",
    "    \n",
    "    \n",
    "average(10,20,30)\n",
    "average(100,200,300)\n",
    "average(12.5,22.5,33.8)"
   ]
  },
  {
   "cell_type": "code",
   "execution_count": 51,
   "metadata": {},
   "outputs": [
    {
     "name": "stdout",
     "output_type": "stream",
     "text": [
      "60\n",
      "a==10, b==20, c==60\n",
      "The Average of Number is: 30.0\n"
     ]
    }
   ],
   "source": [
    "def average(a,b,c):\n",
    "    print(f\"a=={a}, b=={b}, c=={c}\")\n",
    "    avg=(a+b+c)/3\n",
    "    print(\"The Average of Number is:\",round(avg,2))\n",
    "    \n",
    "x=40\n",
    "y=50\n",
    "z=60\n",
    "print(z)\n",
    "    \n",
    "average(10,20,z)    "
   ]
  },
  {
   "cell_type": "code",
   "execution_count": 52,
   "metadata": {},
   "outputs": [
    {
     "name": "stdout",
     "output_type": "stream",
     "text": [
      "60\n",
      "a==40, b==50, c==60\n",
      "The Average of Number is: 50.0\n"
     ]
    }
   ],
   "source": [
    "def average(a,b,c):\n",
    "    print(f\"a=={a}, b=={b}, c=={c}\")\n",
    "    avg=(a+b+c)/3\n",
    "    print(\"The Average of Number is:\",round(avg,2))\n",
    "    \n",
    "x=40\n",
    "y=50\n",
    "z=60\n",
    "print(z)\n",
    "    \n",
    "average(x,y,z)   "
   ]
  },
  {
   "cell_type": "code",
   "execution_count": 54,
   "metadata": {},
   "outputs": [],
   "source": [
    "def logistic_regression():\n",
    "    print(\"logistic_regression_Function\")\n",
    "    return\n",
    "def linear_regression():\n",
    "    print(\"linear_regression_Function\")\n",
    "    return\n",
    "\n",
    "def KNN_Classification():\n",
    "    print(\"KNN_Classification_Function is present in this block\")\n",
    "    return\n",
    "\n",
    "def random_Forest():\n",
    "    print(\"Random_Forest is present in this block\")\n",
    "    return"
   ]
  },
  {
   "cell_type": "code",
   "execution_count": 55,
   "metadata": {},
   "outputs": [
    {
     "name": "stdout",
     "output_type": "stream",
     "text": [
      "logistic_regression_Function\n",
      "linear_regression_Function\n",
      "KNN_Classification_Function is present in this block\n",
      "Random_Forest is present in this block\n"
     ]
    }
   ],
   "source": [
    "logistic_regression()\n",
    "linear_regression()\n",
    "KNN_Classification()\n",
    "random_Forest()\n"
   ]
  },
  {
   "cell_type": "code",
   "execution_count": null,
   "metadata": {},
   "outputs": [],
   "source": [
    "Factorial:\n",
    "    >> 5! =5*4*3*2*1"
   ]
  },
  {
   "cell_type": "code",
   "execution_count": 58,
   "metadata": {},
   "outputs": [
    {
     "name": "stdout",
     "output_type": "stream",
     "text": [
      "120\n"
     ]
    }
   ],
   "source": [
    "num=5\n",
    "fact=1\n",
    "for i in range(1,num+1):\n",
    "    fact*=i\n",
    "print(fact)\n"
   ]
  },
  {
   "cell_type": "code",
   "execution_count": 59,
   "metadata": {},
   "outputs": [
    {
     "name": "stdout",
     "output_type": "stream",
     "text": [
      "120\n",
      "720\n",
      "5040\n",
      "40320\n",
      "362880\n"
     ]
    }
   ],
   "source": [
    "num=5\n",
    "fact=1\n",
    "for i in range(1,num+1):\n",
    "    fact*=i\n",
    "print(fact)\n",
    "\n",
    "num=6\n",
    "fact=1\n",
    "for i in range(1,num+1):\n",
    "    fact*=i\n",
    "print(fact)\n",
    "\n",
    "num=7\n",
    "fact=1\n",
    "for i in range(1,num+1):\n",
    "    fact*=i\n",
    "print(fact)\n",
    "\n",
    "num=8\n",
    "fact=1\n",
    "for i in range(1,num+1):\n",
    "    fact*=i\n",
    "print(fact)\n",
    "\n",
    "num=9\n",
    "fact=1\n",
    "for i in range(1,num+1):\n",
    "    fact*=i\n",
    "print(fact)\n"
   ]
  },
  {
   "cell_type": "code",
   "execution_count": 4,
   "metadata": {},
   "outputs": [],
   "source": [
    "def factorial(num):\n",
    "    fact=1\n",
    "    for i in range(1,num+1):\n",
    "        fact*=i\n",
    "    return fact"
   ]
  },
  {
   "cell_type": "code",
   "execution_count": 13,
   "metadata": {},
   "outputs": [
    {
     "data": {
      "text/plain": [
       "40320"
      ]
     },
     "execution_count": 13,
     "metadata": {},
     "output_type": "execute_result"
    }
   ],
   "source": [
    "#factorial(5)\n",
    "#factorial(6)\n",
    "#factorial(7)\n",
    "factorial(8)"
   ]
  },
  {
   "cell_type": "code",
   "execution_count": 14,
   "metadata": {},
   "outputs": [],
   "source": [
    "def factorial(num):\n",
    "    fact=1\n",
    "    if num <0:\n",
    "        print(\"Factorial does not exist\")\n",
    "        \n",
    "    else:\n",
    "        for i in range(1,num+1):\n",
    "            fact*=i\n",
    "        #print(f\"factorial of {num} is {fact}\")\n",
    "        \n",
    "        return fact\n",
    "    "
   ]
  },
  {
   "cell_type": "code",
   "execution_count": 18,
   "metadata": {},
   "outputs": [
    {
     "name": "stdout",
     "output_type": "stream",
     "text": [
      "Factorial does not exist\n"
     ]
    },
    {
     "data": {
      "text/plain": [
       "1"
      ]
     },
     "execution_count": 18,
     "metadata": {},
     "output_type": "execute_result"
    }
   ],
   "source": [
    "factorial(4)\n",
    "factorial(5)\n",
    "factorial(6)\n",
    "factorial(-1)\n",
    "factorial(0)"
   ]
  },
  {
   "cell_type": "code",
   "execution_count": 37,
   "metadata": {},
   "outputs": [],
   "source": [
    "def factorial(num):\n",
    "    fact=1\n",
    "    if num <0:\n",
    "        pass\n",
    "        #print(\"Factorial does not exist\")\n",
    "        return \"Factorial does not exist\"\n",
    "    else:\n",
    "        for i in range(1,num+1):\n",
    "            fact*=i\n",
    "        #print(f\"factorial of {num} is {fact}\")\n",
    "        return fact"
   ]
  },
  {
   "cell_type": "code",
   "execution_count": 38,
   "metadata": {},
   "outputs": [
    {
     "data": {
      "text/plain": [
       "120"
      ]
     },
     "execution_count": 38,
     "metadata": {},
     "output_type": "execute_result"
    }
   ],
   "source": [
    "factorial(5)\n",
    "\n",
    "#factorial(4)+1000"
   ]
  },
  {
   "cell_type": "code",
   "execution_count": 31,
   "metadata": {},
   "outputs": [
    {
     "data": {
      "text/plain": [
       "'Factorial does not exist'"
      ]
     },
     "execution_count": 31,
     "metadata": {},
     "output_type": "execute_result"
    }
   ],
   "source": [
    "factorial(-1)"
   ]
  },
  {
   "cell_type": "code",
   "execution_count": 39,
   "metadata": {},
   "outputs": [
    {
     "data": {
      "text/plain": [
       "240"
      ]
     },
     "execution_count": 39,
     "metadata": {},
     "output_type": "execute_result"
    }
   ],
   "source": [
    "factorial(5)+120"
   ]
  },
  {
   "cell_type": "code",
   "execution_count": 75,
   "metadata": {},
   "outputs": [
    {
     "data": {
      "text/plain": [
       "1024"
      ]
     },
     "execution_count": 75,
     "metadata": {},
     "output_type": "execute_result"
    }
   ],
   "source": []
  },
  {
   "cell_type": "code",
   "execution_count": 78,
   "metadata": {},
   "outputs": [
    {
     "name": "stdout",
     "output_type": "stream",
     "text": [
      "we are learning python\n"
     ]
    }
   ],
   "source": [
    "def testing():\n",
    "    print(\"we are learning python\")\n",
    "\n",
    "    \n",
    "testing()"
   ]
  },
  {
   "cell_type": "code",
   "execution_count": 41,
   "metadata": {},
   "outputs": [
    {
     "name": "stdout",
     "output_type": "stream",
     "text": [
      "The addiction is: 30\n"
     ]
    },
    {
     "data": {
      "text/plain": [
       "100"
      ]
     },
     "execution_count": 41,
     "metadata": {},
     "output_type": "execute_result"
    }
   ],
   "source": [
    "def testing():\n",
    "    a=10\n",
    "    b=20\n",
    "    c=a+b\n",
    "    print(\"The addiction is:\",c)\n",
    "    return 100\n",
    "\n",
    "\n",
    "testing()"
   ]
  },
  {
   "cell_type": "code",
   "execution_count": 20,
   "metadata": {},
   "outputs": [],
   "source": [
    "def calculation(a,b):\n",
    "    print(f\"a=={a} and b=={b}\")\n",
    "    \n",
    "    add=a+b \n",
    "    mul=a*b \n",
    "    div=a/b \n",
    "    \n",
    "    return add,mul,div"
   ]
  },
  {
   "cell_type": "code",
   "execution_count": 22,
   "metadata": {},
   "outputs": [
    {
     "name": "stdout",
     "output_type": "stream",
     "text": [
      "a==4 and b==6\n"
     ]
    },
    {
     "data": {
      "text/plain": [
       "(10, 24, 0.6666666666666666)"
      ]
     },
     "execution_count": 22,
     "metadata": {},
     "output_type": "execute_result"
    }
   ],
   "source": [
    "#add(4,6)\n",
    "# mul(4,6)\n",
    "# div(4,6)\n",
    "calculation(4,6)"
   ]
  },
  {
   "cell_type": "code",
   "execution_count": 35,
   "metadata": {},
   "outputs": [],
   "source": [
    "def add1(a,b):\n",
    "    add=a+b\n",
    "    \n",
    "    return add\n",
    "\n",
    "def mul(a,b):\n",
    "    mul=a*b\n",
    "    \n",
    "    return mul\n",
    "\n",
    "def div(a,b):\n",
    "    div=a/b\n",
    "    \n",
    "    return div\n",
    "\n",
    "def calculations(a,b):\n",
    "    add=a+b\n",
    "    mul=a*b\n",
    "    div=a/b\n",
    "    return calculations"
   ]
  },
  {
   "cell_type": "code",
   "execution_count": 36,
   "metadata": {},
   "outputs": [
    {
     "data": {
      "text/plain": [
       "<function __main__.calculations(a, b)>"
      ]
     },
     "execution_count": 36,
     "metadata": {},
     "output_type": "execute_result"
    }
   ],
   "source": [
    "# add1(5,6)\n",
    "# mul(5,6)\n",
    "# div(11,6)\n",
    "calculations(5,6)"
   ]
  },
  {
   "cell_type": "code",
   "execution_count": 34,
   "metadata": {},
   "outputs": [
    {
     "data": {
      "text/plain": [
       "<function __main__.calculations(a, b)>"
      ]
     },
     "execution_count": 34,
     "metadata": {},
     "output_type": "execute_result"
    }
   ],
   "source": [
    "#calculations(4,6)\n",
    "# mul(4,6)\n",
    "# div(4,6)\n",
    "calculations(4,6)"
   ]
  },
  {
   "cell_type": "code",
   "execution_count": 89,
   "metadata": {},
   "outputs": [
    {
     "name": "stdout",
     "output_type": "stream",
     "text": [
      "a==40 and b==50\n"
     ]
    },
    {
     "data": {
      "text/plain": [
       "(90, 2000, 0.8)"
      ]
     },
     "execution_count": 89,
     "metadata": {},
     "output_type": "execute_result"
    }
   ],
   "source": [
    "calculation(40,50)"
   ]
  },
  {
   "cell_type": "code",
   "execution_count": null,
   "metadata": {},
   "outputs": [],
   "source": [
    "Function Arguments:\n",
    "    \n",
    "    >> Positional Argument\n",
    "    >> Default Arguments\n",
    "    >> Arbitary Positional Arguments\n",
    "    >> Arbitary keyword Arguments"
   ]
  },
  {
   "cell_type": "code",
   "execution_count": null,
   "metadata": {},
   "outputs": [],
   "source": [
    "Built_Ins\n",
    "Recursion\n",
    "Lambda"
   ]
  },
  {
   "cell_type": "code",
   "execution_count": null,
   "metadata": {},
   "outputs": [],
   "source": []
  },
  {
   "cell_type": "code",
   "execution_count": null,
   "metadata": {},
   "outputs": [],
   "source": []
  }
 ],
 "metadata": {
  "kernelspec": {
   "display_name": "Python 3 (ipykernel)",
   "language": "python",
   "name": "python3"
  },
  "language_info": {
   "codemirror_mode": {
    "name": "ipython",
    "version": 3
   },
   "file_extension": ".py",
   "mimetype": "text/x-python",
   "name": "python",
   "nbconvert_exporter": "python",
   "pygments_lexer": "ipython3",
   "version": "3.9.12"
  }
 },
 "nbformat": 4,
 "nbformat_minor": 4
}
