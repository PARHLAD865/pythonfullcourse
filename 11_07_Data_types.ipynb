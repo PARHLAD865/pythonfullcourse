{
 "cells": [
  {
   "cell_type": "code",
   "execution_count": null,
   "metadata": {},
   "outputs": [],
   "source": [
    ">>Data Types in python"
   ]
  },
  {
   "cell_type": "code",
   "execution_count": null,
   "metadata": {},
   "outputs": [],
   "source": [
    "1.int\n",
    "2.float\n",
    "3.complex\n",
    "4.str\n",
    "5.list\n",
    "6.tuple\n",
    "7.set\n",
    "8.range\n",
    "9.frozenset\n",
    "10. dict\n",
    "11.bool"
   ]
  },
  {
   "cell_type": "code",
   "execution_count": null,
   "metadata": {},
   "outputs": [],
   "source": [
    "String:\n",
    "    >>Immutable\n",
    "    >>Ordered\n",
    "    >>Duplicates are allowed\n",
    "    >>enclosed in '',\"\",'''''',''''''\n",
    "    \n",
    ">> Functions:\n",
    "1)Capitalize()        :- Converts the first character to upper case\n",
    "2)upper()             :- All the characters in a given string are uppers case.\n",
    "3)lower()             :- Converts a string into lower case\n",
    "4)title()             :- The first character in every word of the string is an upper case\n",
    "5)swapcase()          :- Swaps cases, lower case becomes upper case and upper to lower\n",
    "6)lstrip()\n",
    "7)rstrip()\n",
    "8)strip()             :- The used to trim whitespaces from the string object\n",
    "9)casefold()          :- Converts string into lower case\n",
    "10)replace()          :- Replaces a specified phrase with another specified phrase.\n",
    "11)count()            :- Returns the number of times a specified value occurs in a string\n",
    "12)index()            :- Searches the string for a specified value and returns the position of where it was found\n",
    "13)find()             :- Finds the first occurrence of the specified value.\n",
    "14)split()            :- Splits the string at the specified separator, and returns a list\n",
    "15)join()             :- Converts the elements of an iterable into a string\n",
    "16)endswith()         :- Returns true if the string ends with the specified value\n",
    "17)startswith()       :- Returns true if the string starts with the specified value\n",
    "18)isalnum()          :- Returns True if all characters in the string are alphanumeric\n",
    "19)isalpha()          :- Returns True if all characters in the string are in the alphabet\n",
    "20)islower()          :- Returns True if all characters in the string are lower case\n",
    "21)isupper()          :- Returns True if all characters in the string are upper case\n",
    "22)istitle()          :- Returns True if the string follows the rules of a title\n",
    "23)isdigit()          :- Returns True if all characters in the string are digits\n",
    "24)isdecimal()        :- Returns True if all characters in the string are decimals\n",
    "25)isnumeraic()       :- Returns True if all characters in the string are numeric\n",
    "26)zfill()            :- Fills the string with a specified number of 0 values at the beginning\n",
    "27)ljust()\n",
    "28)centre()           :- Returns a centered string\n",
    "29)partition()        :- Returns a tuple where the string is parted into three parts\n",
    "30)isspace()\n",
    "31)rjust()\n",
    "32)format()           :- Formats specified values in a string\n",
    "33)append()           :- Adds an element at the end of the list"
   ]
  },
  {
   "cell_type": "code",
   "execution_count": null,
   "metadata": {},
   "outputs": [],
   "source": [
    "List:\n",
    "    >>mutable\n",
    "    >>ordered\n",
    "    >>Duplicates allowed\n",
    "    >>Heterogenous datatype\n",
    "    >>[]\n",
    "    \n",
    ">>Functions:\n",
    "1)count()               :- Returns the number of elements with the specified value\n",
    "2)index()               :- Returns the index of the first element with the specified value\n",
    "3)append()              :- Adds an element at the end of the list\n",
    "4)extent()              :- Add the elements of a list (or any iterable), to the end of the current list\n",
    "5)insert()              :- Adds an element at the specified position\n",
    "6)remove()              :- Removes the first item with the specified value\n",
    "7)pop()                 :- Removes the element at the specified position\n",
    "8)clear()               :- Removes all the elements from the list\n",
    "9)del\n",
    "10reverse()             :- Reverses the order of the list\n",
    "11)copy()               :- Returns a copy of the list\n",
    "12.sort()               :- Sorts the list\n",
    "\n",
    ">>Built in \n",
    "\n",
    "1.sorted()\n",
    "2.reversed()\n",
    "3.sum()\n",
    "4.max()\n",
    "5.min()\n",
    "\n",
    "#List Comprehension"
   ]
  },
  {
   "cell_type": "code",
   "execution_count": null,
   "metadata": {},
   "outputs": [],
   "source": [
    "Tuple:\n",
    "    >> Immutable\n",
    "    >>ordered\n",
    "    >>Duplicates allowed\n",
    "    >>enclosed in ()\n",
    "    \n",
    ">>Functions:\n",
    "1) index()        :- Searches the tuple for a specified value and returns the position of where it was found\n",
    "2)count()         :- Returns the number of times a specified value occurs in a tuple\n",
    "3) del\n",
    "Built In \n",
    "\n",
    "1.sorted()\n",
    "2.reversed()\n",
    "3.max()\n",
    "4.min()\n",
    "5.sum()\n"
   ]
  },
  {
   "cell_type": "code",
   "execution_count": null,
   "metadata": {},
   "outputs": [],
   "source": [
    "Set:\n",
    "    >> Mutable\n",
    "    >> unoreder\n",
    "    >>Duplicates not allowed\n",
    "    >> {}\n",
    "    >> Initialization by set()\n",
    "    >> Only immutables items are allowed\n",
    "    \n",
    "Functions:\n",
    "    \n",
    "1)add()                          :- Adds an element to the set\n",
    "2)update()                       :- Update the set with another set, or any other iterable\n",
    "3)remove()                       :- Removes the specified element\n",
    "4)discard()                      :- Remove the specified item\n",
    "5)pop()                          :- Removes an element from the set\n",
    "6)clear()                        :- Removes all the elements from the set\n",
    "\n",
    "Operation:\n",
    "    1)union()                    :- Return a set containing the union of sets\n",
    "    2)intersection()             :- Returns a set, that is the intersection of two or more sets\n",
    "    3)difference()               :- Returns a set containing the difference between two or more sets\n",
    "    4)symmetric_difference()     :- Returns a set with the symmetric differences of two sets\n",
    "    5)issubset()                 :- Returns whether another set contains this set or not\n",
    "    6)issuperset()               :- Returns whether this set contains another set or not\n",
    "    7)isdisjoint()               :- Returns whether two sets have a intersection or not"
   ]
  },
  {
   "cell_type": "code",
   "execution_count": null,
   "metadata": {},
   "outputs": [],
   "source": [
    "Frozenset:\n",
    "    >>Immutable"
   ]
  },
  {
   "cell_type": "code",
   "execution_count": null,
   "metadata": {},
   "outputs": [],
   "source": [
    "dictionar:\n",
    "    >> Mutable\n",
    "    >>ordered/unordered\n",
    "    >>Duplicates allowed for values not for keys\n",
    "    >>Keys are immutables\n",
    "    >>keys are immutables values can be of any datatype\n",
    "    >>dict={key:value}\n",
    "    \n",
    "Functions:\n",
    "1. get()            :- Returns the value of the specified key\n",
    "2. keys()           :- Returns a list containing the dictionary's keys\n",
    "3. values()         :- Returns a list of all the values in the dictionary\n",
    "4. items()          :- Returns a list containing a tuple for each key value pair\n",
    "\n",
    "5.update()          :- Updates the dictionary with the specified key-value pairs\n",
    "6.pop()             :- Removes the element with the specified key\n",
    "7.popitem()         :- Removes the last inserted key-value pair\n",
    "8.clear()           :- Removes all the elements from the dictionary\n",
    "9.del\n",
    "10.fromkeys()       :- Returns a dictionary with the specified keys and value\n",
    "11.setdefault()     :- Returns the value of the specified key. \n",
    "                               If the key does not exist: insert the key, with the specified value\n",
    "12.copy()           :- Returns a copy of the dictionary"
   ]
  },
  {
   "cell_type": "code",
   "execution_count": null,
   "metadata": {},
   "outputs": [],
   "source": [
    "file methods\n",
    "\n",
    "\n",
    "Method\tDescription\n",
    "\n",
    "close()             :- Closes the file\n",
    "detach()            :-Returns the separated raw stream from the buffer\n",
    "fileno()            :-Returns a number that represents the stream, from the operating system's perspective\n",
    "flush()\tFlushes the internal buffer\n",
    "isatty()\tReturns whether the file stream is interactive or not\n",
    "read()\tReturns the file content\n",
    "readable()\tReturns whether the file stream can be read or not\n",
    "readline()\tReturns one line from the file\n",
    "readlines()\tReturns a list of lines from the file\n",
    "seek()\tChange the file position\n",
    "seekable()\tReturns whether the file allows us to change the file position\n",
    "tell()\tReturns the current file position\n",
    "truncate()\tResizes the file to a specified size\n",
    "writable()\tReturns whether the file can be written to or not\n",
    "write()\tWrites the specified string to the file\n",
    "writelines()\tWrites a list of strings to the file"
   ]
  },
  {
   "cell_type": "code",
   "execution_count": null,
   "metadata": {},
   "outputs": [],
   "source": [
    "Feature                                          Description\n",
    "\n",
    "\n",
    "Indentation                                Indentation refers to the spaces at the beginning of a code line\n",
    "Comments                                   Comments are code lines that will not be executed\n",
    "Multi Line Comments                        How to insert comments on multiple lines\n",
    "Creating Variables                         Variables are containers for storing data values\n",
    "Variable Names                             How to name your variables\n",
    "Assign Values to Multiple Variables        How to assign values to multiple variables\n",
    "Output Variables                           Use the print statement to output variables\n",
    "String Concatenation                       How to combine strings\n",
    "Global Variables                           Global variables are variables that belongs to the global scope\n",
    "Built-In Data Types                        Python has a set of built-in data types\n",
    "Getting Data Type                          How to get the data type of an object\n",
    "Setting Data Type                          How to set the data type of an object\n",
    "\n",
    "Numbers                                    There are three numeric types in Python\n",
    "\n",
    "Int                                        The integer number type\n",
    "Float                                      The floating number type\n",
    "Complex                                    The complex number type\n",
    "Type Conversion                            How to convert from one number type to another\n",
    "Random Number                              How to create a random number\n",
    "Specify a Variable Type\tHow to specify a certain data type for a variable\n",
    "String Literals\tHow to create string literals\n",
    "Assigning a String to a Variable\tHow to assign a string value to a variable\n",
    "Multiline Strings\tHow to create a multi line string\n",
    "Strings are Arrays\tStrings in Python are arrays of bytes representing Unicode characters\n",
    "Slicing a String\tHow to slice a string\n",
    "Negative Indexing on a String\tHow to use negative indexing when accessing a string\n",
    "String Length\tHow to get the length of a string\n",
    "Check In String\tHow to check if a string contains a specified phrase\n",
    "Format String\tHow to combine two strings\n",
    "Escape Characters\tHow to use escape characters\n",
    "Boolean Values\tTrue or False\n",
    "Evaluate Booleans\tEvaluate a value or statement and return either True or False\n",
    "Return Boolean Value\tFunctions that return a Boolean value\n",
    "Operators\tUse operator to perform operations in Python\n",
    "Arithmetic Operators\tArithmetic operator are used to perform common mathematical operations\n",
    "Assignment Operators\tAssignment operators are use to assign values to variables\n",
    "Comparison Operators\tComparison operators are used to compare two values\n",
    "Logical Operators\tLogical operators are used to combine conditional statements\n",
    "Identity Operators\tIdentity operators are used to see if two objects are in fact the same object\n",
    "Membership Operators\tMembership operators are used to test is a sequence is present in an object\n",
    "Bitwise Operators\tBitwise operators are used to compare (binary) numbers\n",
    "Lists\tA list is an ordered, and changeable, collection\n",
    "Access List Items\tHow to access items in a list\n",
    "Change List Item\tHow to change the value of a list item\n",
    "Loop Through List Items\tHow to loop through the items in a list\n",
    "List Comprehension\tHow use a list comprehensive\n",
    "Check if List Item Exists\tHow to check if a specified item is present in a list\n",
    "List Length\tHow to determine the length of a list\n",
    "Add List Items\tHow to add items to a list\n",
    "Remove List Items\tHow to remove list items\n",
    "Copy a List\tHow to copy a list\n",
    "Join Two Lists\tHow to join two lists\n",
    "Tuple\tA tuple is an ordered, and unchangeable, collection\n",
    "Access Tuple Items\tHow to access items in a tuple\n",
    "Change Tuple Item\tHow to change the value of a tuple item\n",
    "Loop List Items\tHow to loop through the items in a tuple\n",
    "Check if Tuple Item Exists\tHow to check if a specified item is present in a tuple\n",
    "Tuple Length\tHow to determine the length of a tuple\n",
    "Tuple With One Item\tHow to create a tuple with only one item\n",
    "Remove Tuple Items\tHow to remove tuple items\n",
    "Join Two Tuples\tHow to join two tuples\n",
    "Set\tA set is an unordered, and unchangeable, collection\n",
    "Access Set Items\tHow to access items in a set\n",
    "Add Set Items\tHow to add items to a set\n",
    "Loop Set Items\tHow to loop through the items in a set\n",
    "Check if Set Item Exists\tHow to check if a item exists\n",
    "Set Length\tHow to determine the length of a set\n",
    "Remove Set Items\tHow to remove set items\n",
    "Join Two Sets\tHow to join two sets\n",
    "Dictionary\tA dictionary is an unordered, and changeable, collection\n",
    "Access Dictionary Items\tHow to access items in a dictionary\n",
    "Change Dictionary Item\tHow to change the value of a dictionary item\n",
    "Loop Dictionary Items\tHow to loop through the items in a tuple\n",
    "Check if Dictionary Item Exists\tHow to check if a specified item is present in a dictionary\n",
    "Dictionary Length\tHow to determine the length of a dictionary\n",
    "Add Dictionary Item\tHow to add an item to a dictionary\n",
    "Remove Dictionary Items\tHow to remove dictionary items\n",
    "Copy Dictionary\tHow to copy a dictionary\n",
    "Nested Dictionaries\tA dictionary within a dictionary\n",
    "If Statement\tHow to write an if statement\n",
    "If Indentation\tIf statemnts in Python relies on indentation (whitespace at the beginning of a line)\n",
    "Elif\telif is the same as \"else if\" in other programming languages\n",
    "Else\tHow to write an if...else statement\n",
    "Shorthand If\tHow to write an if statement in one line\n",
    "Shorthand If Else\tHow to write an if...else statement in one line\n",
    "If AND\tUse the and keyword to combine if statements\n",
    "If OR\tUse the or keyword to combine if statements\n",
    "Nested If\tHow to write an if statement inside an if statement\n",
    "The pass Keyword in If\tUse the pass keyword inside empty if statements\n",
    "While\tHow to write a while loop\n",
    "While Break\tHow to break a while loop\n",
    "While Continue\tHow to stop the current iteration and continue wit the next\n",
    "While Else\tHow to use an else statement in a while loop\n",
    "For\tHow to write a for loop\n",
    "Loop Through a String\tHow to loop through a string\n",
    "For Break\tHow to break a for loop\n",
    "For Continue\tHow to stop the current iteration and continue wit the next\n",
    "Looping Through a rangee\tHow to loop through a range of values\n",
    "For Else\tHow to use an else statement in a for loop\n",
    "Nested Loops\tHow to write a loop inside a loop\n",
    "For pass\tUse the pass keyword inside empty for loops\n",
    "Function\tHow to create a function in Python\n",
    "Call a Function\tHow to call a function in Python\n",
    "Function Arguments\tHow to use arguments in a function\n",
    "*args\tTo deal with an unknown number of arguments in a function, use the * symbol before the parameter name\n",
    "Keyword Arguments\tHow to use keyword arguments in a function\n",
    "**kwargs\tTo deal with an unknown number of keyword arguments in a function, use the * symbol before the parameter name\n",
    "Default Parameter Value\tHow to use a default parameter value\n",
    "Passing a List as an Argument\tHow to pass a list as an argument\n",
    "Function Return Value\tHow to return a value from a function\n",
    "The pass Statement i Functions\tUse the pass statement in empty functions\n",
    "Function Recursion\tFunctions that can call itself is called recursive functions\n",
    "Lambda Function\tHow to create anonymous functions in Python\n",
    "Why Use Lambda Functions\tLearn when to use a lambda function or not\n",
    "Array\tLists can be used as Arrays\n",
    "What is an Array\tArrays are variables that can hold more than one value\n",
    "Access Arrays\tHow to access array items\n",
    "Array Length\tHow to get the length of an array\n",
    "Looping Array Elements\tHow to loop through array elements\n",
    "Add Array Element\tHow to add elements from an array\n",
    "Remove Array Element\tHow to remove elements from an array\n",
    "Array Methods\tPython has a set of Array/Lists methods\n",
    "Class\tA class is like an object constructor\n",
    "Create Class\tHow to create a class\n",
    "The Class __init__() Function\tThe __init__() function is executed when the class is initiated\n",
    "Object Methods\tMethods in objects are functions that belongs to the object\n",
    "self\tThe self parameter refers to the current instance of the class\n",
    "Modify Object Properties\tHow to modify properties of an object\n",
    "Delete Object Properties\tHow to modify properties of an object\n",
    "Delete Object\tHow to delete an object\n",
    "Class pass Statement\tUse the pass statement in empty classes\n",
    "Create Parent Class\tHow to create a parent class\n",
    "Create Child Class\tHow to create a child class\n",
    "Create the __init__() Function\tHow to create the __init__() function\n",
    "super Function\tThe super() function make the child class inherit the parent class\n",
    "Add Class Properties\tHow to add a property to a class\n",
    "Add Class Methods\tHow to add a method to a class\n",
    "Iterators\tAn iterator is an object that contains a countable number of values\n",
    "Iterator vs Iterable\tWhat is the difference between an iterator and an iterable\n",
    "Loop Through an Iterator\tHow to loop through the elements of an iterator\n",
    "Create an Iterator\tHow to create an iterator\n",
    "StopIteration\tHow to stop an iterator\n",
    "Global Scope\tWhen does a variable belong to the global scope?\n",
    "Global Keyword\tThe global keyword makes the variable global\n",
    "Create a Module\tHow to create a module\n",
    "Variables in Modules\tHow to use variables in a module\n",
    "Renaming a Module\tHow to rename a module\n",
    "Built-in Modules\tHow to import built-in modules\n",
    "Using the dir() Function\tList all variable names and function names in a module\n",
    "Import From Module\tHow to import only parts from a module\n",
    "Datetime Module\tHow to work with dates in Python\n",
    "Date Output\tHow to output a date\n",
    "Create a Date Object\tHow to create a date object\n",
    "The strftime Method\tHow to format a date object into a readable string\n",
    "Date Format Codes\tThe datetime module has a set of legal format codes\n",
    "JSON\tHow to work with JSON in Python\n",
    "Parse JSON\tHow to parse JSON code in Python\n",
    "Convert into JSON\tHow to convert a Python object in to JSON\n",
    "Format JSON\tHow to format JSON output with indentations and line breaks\n",
    "Sort JSON\tHow to sort JSON\n",
    "RegEx Module\tHow to import the regex module\n",
    "RegEx Functions\tThe re module has a set of functions\n",
    "Metacharacters in RegEx\tMetacharacters are characters with a special meaning\n",
    "RegEx Special Sequences\tA backslash followed by a a character has a special meaning\n",
    "RegEx Sets\tA set is a set of characters inside a pair of square brackets with a special meaning\n",
    "RegEx Match Object\tThe Match Object is an object containing information about the search and the result\n",
    "Install PIP\tHow to install PIP\n",
    "PIP Packages\tHow to download and install a package with PIP\n",
    "PIP Remove Package\tHow to remove a package with PIP\n",
    "Error Handling\tHow to handle errors in Python\n",
    "Handle Many Exceptions\tHow to handle more than one exception\n",
    "Try Else\tHow to use the else keyword in a try statement\n",
    "Try Finally\tHow to use the finally keyword in a try statement\n",
    "raise\tHow to raise an exception in Python"
   ]
  },
  {
   "cell_type": "code",
   "execution_count": null,
   "metadata": {},
   "outputs": [],
   "source": [
    "Built-in Exceptions\n",
    "\n",
    "The table below shows built-in exceptions that are usually raised in Python:\n",
    "\n",
    "    \n",
    "    \n",
    "Exception                                                   Description\n",
    "ArithmeticError                           Raised when an error occurs in numeric calculations\n",
    "AssertionError                            Raised when an assert statement fails\n",
    "AttributeError                            Raised when attribute reference or assignment fails\n",
    "Exception                                 Base class for all exceptions\n",
    "EOFError                                  Raised when the input() method hits an \"end of file\" condition (EOF)\n",
    "FloatingPointError                        Raised when a floating point calculation fails\n",
    "GeneratorExit                             Raised when a generator is closed (with the close() method)\n",
    "ImportError                               Raised when an imported module does not exist\n",
    "IndentationError                          Raised when indendation is not correct\n",
    "IndexError                                Raised when an index of a sequence does not exist\n",
    "KeyError                                  Raised when a key does not exist in a dictionary\n",
    "KeyboardInterrupt                         Raised when the user presses Ctrl+c, Ctrl+z or Delete\n",
    "LookupError                               Raised when errors raised cant be found\n",
    "MemoryError                               Raised when a program runs out of memory\n",
    "NameError                                 Raised when a variable does not exist\n",
    "NotImplementedError                       Raised when an abstract method requires an inherited class to override the method\n",
    "OSError                                   Raised when a system related operation causes an error\n",
    "OverflowError                             Raised when the result of a numeric calculation is too large\n",
    "ReferenceError                            Raised when a weak reference object does not exist\n",
    "RuntimeError                              Raised when an error occurs that do not belong to any specific expections\n",
    "StopIteration                             Raised when the next() method of an iterator has no further values\n",
    "SyntaxError                               Raised when a syntax error occurs\n",
    "TabError                                  Raised when indentation consists of tabs or spaces\n",
    "SystemError                               Raised when a system error occurs\n",
    "SystemExit                                Raised when the sys.exit() function is called\n",
    "TypeError                                 Raised when two different types are combined\n",
    "UnboundLocalError                         Raised when a local variable is referenced before assignment\n",
    "UnicodeError                              Raised when a unicode problem occurs\n",
    "UnicodeEncodeError                        Raised when a unicode encoding problem occurs\n",
    "UnicodeDecodeError                        Raised when a unicode decoding problem occurs\n",
    "UnicodeTranslateError                     Raised when a unicode translation problem occurs\n",
    "ValueError                                Raised when there is a wrong value in a specified data type\n",
    "ZeroDivisionError                         Raised when the second operator in a division is zero"
   ]
  },
  {
   "cell_type": "code",
   "execution_count": 1,
   "metadata": {},
   "outputs": [
    {
     "name": "stdout",
     "output_type": "stream",
     "text": [
      "True <class 'bool'>\n"
     ]
    }
   ],
   "source": [
    "string=\"python\"\n",
    "x=string.islower()   #true\n",
    "print(x,type(x))"
   ]
  },
  {
   "cell_type": "code",
   "execution_count": 2,
   "metadata": {},
   "outputs": [
    {
     "name": "stdout",
     "output_type": "stream",
     "text": [
      "False <class 'bool'>\n"
     ]
    }
   ],
   "source": [
    "string=\"Python\"\n",
    "x=string.islower()   #false\n",
    "print(x,type(x))"
   ]
  },
  {
   "cell_type": "code",
   "execution_count": 4,
   "metadata": {},
   "outputs": [
    {
     "name": "stdout",
     "output_type": "stream",
     "text": [
      "All chars are not in lower\n"
     ]
    }
   ],
   "source": [
    "string=\"Python\"\n",
    "if string.islower():\n",
    "    print(\"All chars are in lower\")\n",
    "else:\n",
    "    print(\"All chars are not in lower\")"
   ]
  },
  {
   "cell_type": "code",
   "execution_count": 5,
   "metadata": {},
   "outputs": [
    {
     "name": "stdout",
     "output_type": "stream",
     "text": [
      "All chars are in lower\n"
     ]
    }
   ],
   "source": [
    "string=\"python\"\n",
    "if string.islower():\n",
    "    print(\"All chars are in lower\")\n",
    "else:\n",
    "    print(\"All chars are not in lower\")"
   ]
  },
  {
   "cell_type": "code",
   "execution_count": 6,
   "metadata": {},
   "outputs": [
    {
     "name": "stdout",
     "output_type": "stream",
     "text": [
      "This is string datatype\n"
     ]
    }
   ],
   "source": [
    "string=\"python\"    #string\n",
    "if bool(string):\n",
    "    print(\"This is string datatype\")"
   ]
  },
  {
   "cell_type": "code",
   "execution_count": 7,
   "metadata": {},
   "outputs": [
    {
     "name": "stdout",
     "output_type": "stream",
     "text": [
      "This is string datatype\n"
     ]
    }
   ],
   "source": [
    "string=\"Python\"    #string\n",
    "if bool(string):\n",
    "    print(\"This is string datatype\")"
   ]
  },
  {
   "cell_type": "code",
   "execution_count": 12,
   "metadata": {},
   "outputs": [
    {
     "name": "stdout",
     "output_type": "stream",
     "text": [
      "This is not string\n"
     ]
    }
   ],
   "source": [
    "string=[]    #string\n",
    "if bool(string):\n",
    "    print(\"This is string datatype\")\n",
    "else:\n",
    "    print(\"This is not string\")"
   ]
  },
  {
   "cell_type": "code",
   "execution_count": 13,
   "metadata": {},
   "outputs": [
    {
     "data": {
      "text/plain": [
       "True"
      ]
     },
     "execution_count": 13,
     "metadata": {},
     "output_type": "execute_result"
    }
   ],
   "source": [
    "list1=[1,2,3,4,5,6]\n",
    "\n",
    "bool(list1)"
   ]
  },
  {
   "cell_type": "code",
   "execution_count": 14,
   "metadata": {},
   "outputs": [
    {
     "data": {
      "text/plain": [
       "False"
      ]
     },
     "execution_count": 14,
     "metadata": {},
     "output_type": "execute_result"
    }
   ],
   "source": [
    "list1=[]\n",
    "\n",
    "bool(list1)"
   ]
  },
  {
   "cell_type": "code",
   "execution_count": 15,
   "metadata": {},
   "outputs": [
    {
     "data": {
      "text/plain": [
       "True"
      ]
     },
     "execution_count": 15,
     "metadata": {},
     "output_type": "execute_result"
    }
   ],
   "source": [
    "s1=\"python\"\n",
    "bool(s1)"
   ]
  },
  {
   "cell_type": "code",
   "execution_count": 16,
   "metadata": {},
   "outputs": [
    {
     "data": {
      "text/plain": [
       "False"
      ]
     },
     "execution_count": 16,
     "metadata": {},
     "output_type": "execute_result"
    }
   ],
   "source": [
    "s1=\"\"\n",
    "bool(s1)"
   ]
  },
  {
   "cell_type": "code",
   "execution_count": 17,
   "metadata": {},
   "outputs": [
    {
     "name": "stdout",
     "output_type": "stream",
     "text": [
      "set1 is not empty\n"
     ]
    }
   ],
   "source": [
    "set1={2}\n",
    "if set1:\n",
    "    print(\"set1 is not empty\")\n",
    "else:\n",
    "    print(\"set1 is empty\")"
   ]
  },
  {
   "cell_type": "code",
   "execution_count": 18,
   "metadata": {},
   "outputs": [
    {
     "name": "stdout",
     "output_type": "stream",
     "text": [
      "set1 is empty\n"
     ]
    }
   ],
   "source": [
    "set1=set()\n",
    "if set1:\n",
    "    print(\"set1 is not empty\")\n",
    "else:\n",
    "    print(\"set1 is empty\")"
   ]
  }
 ],
 "metadata": {
  "kernelspec": {
   "display_name": "Python 3 (ipykernel)",
   "language": "python",
   "name": "python3"
  },
  "language_info": {
   "codemirror_mode": {
    "name": "ipython",
    "version": 3
   },
   "file_extension": ".py",
   "mimetype": "text/x-python",
   "name": "python",
   "nbconvert_exporter": "python",
   "pygments_lexer": "ipython3",
   "version": "3.9.12"
  }
 },
 "nbformat": 4,
 "nbformat_minor": 4
}
