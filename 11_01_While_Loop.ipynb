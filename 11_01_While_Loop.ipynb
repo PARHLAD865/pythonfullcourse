{
 "cells": [
  {
   "cell_type": "markdown",
   "metadata": {},
   "source": [
    "# While_Loop:"
   ]
  },
  {
   "cell_type": "code",
   "execution_count": null,
   "metadata": {},
   "outputs": [],
   "source": [
    "Syntax:\n",
    "    \n",
    "while condition == True:\n",
    "    Statement1\n",
    "    Statement2\n",
    "    Statement3\n",
    "    \n",
    "    increment\n",
    "    "
   ]
  },
  {
   "cell_type": "code",
   "execution_count": null,
   "metadata": {},
   "outputs": [],
   "source": [
    ">> Initialization\n",
    ">> Expression\n",
    ">> Incrementation"
   ]
  },
  {
   "cell_type": "code",
   "execution_count": 1,
   "metadata": {},
   "outputs": [
    {
     "name": "stdout",
     "output_type": "stream",
     "text": [
      "Data Science\n",
      "Data Science\n",
      "Data Science\n",
      "Data Science\n",
      "Data Science\n"
     ]
    }
   ],
   "source": [
    "i=1       # Initialization  1\n",
    "while i<=5:    #True\n",
    "    print(\"Data Science\")\n",
    "    i=i+1 # Incrementation   2 , 3 ,4 ,5"
   ]
  },
  {
   "cell_type": "code",
   "execution_count": 3,
   "metadata": {},
   "outputs": [
    {
     "name": "stdout",
     "output_type": "stream",
     "text": [
      "Data Science\n",
      "Machine Learning\n",
      "\n",
      "Data Science\n",
      "Machine Learning\n",
      "\n",
      "Data Science\n",
      "Machine Learning\n",
      "\n",
      "Data Science\n",
      "Machine Learning\n",
      "\n",
      "Data Science\n",
      "Machine Learning\n",
      "\n"
     ]
    }
   ],
   "source": [
    "i=1       # Initialization  1\n",
    "while i<=5:    #True\n",
    "    print(\"Data Science\")\n",
    "    print(\"Machine Learning\")\n",
    "    print()\n",
    "    i=i+1 # Incrementation   2 , 3 ,4 ,5"
   ]
  },
  {
   "cell_type": "code",
   "execution_count": 6,
   "metadata": {},
   "outputs": [
    {
     "name": "stdout",
     "output_type": "stream",
     "text": [
      "Iteration==1\n",
      "15*1==15\n",
      "\n",
      "Iteration==2\n",
      "15*2==30\n",
      "\n",
      "Iteration==3\n",
      "15*3==45\n",
      "\n",
      "Iteration==4\n",
      "15*4==60\n",
      "\n",
      "Iteration==5\n",
      "15*5==75\n",
      "\n",
      "Iteration==6\n",
      "15*6==90\n",
      "\n",
      "Iteration==7\n",
      "15*7==105\n",
      "\n",
      "Iteration==8\n",
      "15*8==120\n",
      "\n",
      "Iteration==9\n",
      "15*9==135\n",
      "\n",
      "Iteration==10\n",
      "15*10==150\n",
      "\n"
     ]
    }
   ],
   "source": [
    "n=15\n",
    "i=1\n",
    "while i<=10:\n",
    "    print(f\"Iteration=={i}\")\n",
    "    print(f\"{n}*{i}=={n*i}\")\n",
    "    print()\n",
    "    i=i+1"
   ]
  },
  {
   "cell_type": "code",
   "execution_count": 2,
   "metadata": {},
   "outputs": [
    {
     "name": "stdout",
     "output_type": "stream",
     "text": [
      "i==5\n",
      "i==6\n",
      "i==7\n",
      "i==8\n"
     ]
    }
   ],
   "source": [
    "i=5\n",
    "while i<10:\n",
    "    print(f\"i=={i}\")\n",
    "    if i==8: \n",
    "        break\n",
    "    i=i+1\n",
    "else:\n",
    "    print(\"We are compliting loop\")"
   ]
  },
  {
   "cell_type": "code",
   "execution_count": 9,
   "metadata": {},
   "outputs": [
    {
     "name": "stdout",
     "output_type": "stream",
     "text": [
      "i==5\n",
      "i==6\n",
      "i==7\n",
      "i==8\n",
      "****************************************\n"
     ]
    }
   ],
   "source": [
    "## While-Else Loop\n",
    "\n",
    "i=5\n",
    "while i<10:\n",
    "    print(f\"i=={i}\")\n",
    "    if i==8: \n",
    "        break\n",
    "    i=i+1\n",
    "else:\n",
    "    print(\"We are compliting loop\")\n",
    "    \n",
    "print(\"*\"*40)"
   ]
  },
  {
   "cell_type": "code",
   "execution_count": 3,
   "metadata": {},
   "outputs": [
    {
     "name": "stdout",
     "output_type": "stream",
     "text": [
      "* * * * * \n",
      "* * * * * \n",
      "* * * * * \n",
      "* * * * * \n",
      "* * * * * \n"
     ]
    }
   ],
   "source": [
    "n=5\n",
    "i=0\n",
    "while i<n:\n",
    "    i=i+1\n",
    "    j=0\n",
    "    while j<n:\n",
    "        print(\"*\",end=\" \")\n",
    "        j=j+1\n",
    "    print()\n",
    "\n",
    "# * * * * *\n",
    "# * * * * *\n"
   ]
  },
  {
   "cell_type": "code",
   "execution_count": 11,
   "metadata": {},
   "outputs": [
    {
     "name": "stdout",
     "output_type": "stream",
     "text": [
      "* \n",
      "* * \n",
      "* * * \n",
      "* * * * \n",
      "* * * * * \n"
     ]
    }
   ],
   "source": [
    "n=5\n",
    "i=0\n",
    "while i<n:\n",
    "    i=i+1\n",
    "    j=0\n",
    "    while j<i:\n",
    "        print(\"*\",end=\" \")\n",
    "        j=j+1\n",
    "    print()"
   ]
  },
  {
   "cell_type": "code",
   "execution_count": 12,
   "metadata": {},
   "outputs": [
    {
     "name": "stdout",
     "output_type": "stream",
     "text": [
      "A \n",
      "A A \n",
      "A A A \n",
      "A A A A \n",
      "A A A A A \n"
     ]
    }
   ],
   "source": [
    "n=5\n",
    "i=0\n",
    "while i<n:\n",
    "    i=i+1\n",
    "    j=0\n",
    "    while j<i:\n",
    "        print(\"A\",end=\" \")\n",
    "        j=j+1\n",
    "    print()"
   ]
  },
  {
   "cell_type": "code",
   "execution_count": 13,
   "metadata": {},
   "outputs": [
    {
     "name": "stdout",
     "output_type": "stream",
     "text": [
      "E \n",
      "E E \n",
      "E E E \n",
      "E E E E \n",
      "E E E E E \n"
     ]
    }
   ],
   "source": [
    "n=5\n",
    "i=0\n",
    "while i<n:\n",
    "    i=i+1\n",
    "    j=0\n",
    "    while j<i:\n",
    "        print(chr(69),end=\" \")\n",
    "        j=j+1\n",
    "    print()"
   ]
  },
  {
   "cell_type": "code",
   "execution_count": 14,
   "metadata": {},
   "outputs": [
    {
     "name": "stdout",
     "output_type": "stream",
     "text": [
      "0 \n",
      "0 1 \n",
      "0 1 2 \n",
      "0 1 2 3 \n",
      "0 1 2 3 4 \n"
     ]
    }
   ],
   "source": [
    "n=5\n",
    "i=0\n",
    "while i<n:\n",
    "    i=i+1\n",
    "    j=0\n",
    "    while j<i:\n",
    "        print(j,end=\" \")\n",
    "        j=j+1\n",
    "    print()"
   ]
  },
  {
   "cell_type": "code",
   "execution_count": 15,
   "metadata": {},
   "outputs": [
    {
     "name": "stdout",
     "output_type": "stream",
     "text": [
      "1 \n",
      "1 2 \n",
      "1 2 3 \n",
      "1 2 3 4 \n",
      "1 2 3 4 5 \n"
     ]
    }
   ],
   "source": [
    "n=5\n",
    "i=0\n",
    "while i<n:\n",
    "    i=i+1\n",
    "    j=0\n",
    "    while j<i:\n",
    "        print(j+1,end=\" \")\n",
    "        j=j+1\n",
    "    print()"
   ]
  }
 ],
 "metadata": {
  "kernelspec": {
   "display_name": "Python 3 (ipykernel)",
   "language": "python",
   "name": "python3"
  },
  "language_info": {
   "codemirror_mode": {
    "name": "ipython",
    "version": 3
   },
   "file_extension": ".py",
   "mimetype": "text/x-python",
   "name": "python",
   "nbconvert_exporter": "python",
   "pygments_lexer": "ipython3",
   "version": "3.9.12"
  }
 },
 "nbformat": 4,
 "nbformat_minor": 4
}
