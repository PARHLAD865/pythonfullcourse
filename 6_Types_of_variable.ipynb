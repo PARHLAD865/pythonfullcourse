{
 "cells": [
  {
   "cell_type": "code",
   "execution_count": null,
   "metadata": {},
   "outputs": [],
   "source": [
    "keywords-"
   ]
  },
  {
   "cell_type": "code",
   "execution_count": null,
   "metadata": {},
   "outputs": [],
   "source": [
    "Variables"
   ]
  },
  {
   "cell_type": "code",
   "execution_count": null,
   "metadata": {},
   "outputs": [],
   "source": [
    "Identifiers- variables,classes and functions "
   ]
  },
  {
   "cell_type": "code",
   "execution_count": 1,
   "metadata": {},
   "outputs": [
    {
     "name": "stdout",
     "output_type": "stream",
     "text": [
      "Snehal\n",
      "Pallavi\n"
     ]
    }
   ],
   "source": [
    "name_123=\"Snehal\"\n",
    "Name_123=\"Pallavi\"\n",
    "\n",
    "print(name_123)\n",
    "print(Name_123)"
   ]
  },
  {
   "cell_type": "code",
   "execution_count": 2,
   "metadata": {},
   "outputs": [
    {
     "ename": "SyntaxError",
     "evalue": "cannot assign to operator (<ipython-input-2-ca4dd9814b10>, line 1)",
     "output_type": "error",
     "traceback": [
      "\u001b[1;36m  File \u001b[1;32m\"<ipython-input-2-ca4dd9814b10>\"\u001b[1;36m, line \u001b[1;32m1\u001b[0m\n\u001b[1;33m    Name@123=\"Data Science\"\u001b[0m\n\u001b[1;37m    ^\u001b[0m\n\u001b[1;31mSyntaxError\u001b[0m\u001b[1;31m:\u001b[0m cannot assign to operator\n"
     ]
    }
   ],
   "source": [
    "Name@123=\"Data Science\""
   ]
  },
  {
   "cell_type": "code",
   "execution_count": 4,
   "metadata": {},
   "outputs": [
    {
     "data": {
      "text/plain": [
       "'Machine Learning'"
      ]
     },
     "execution_count": 4,
     "metadata": {},
     "output_type": "execute_result"
    }
   ],
   "source": [
    "_123Name=\"Machine Learning\"\n",
    "_123Name"
   ]
  },
  {
   "cell_type": "code",
   "execution_count": null,
   "metadata": {},
   "outputs": [],
   "source": [
    "Keywords-Reserve words in python which we canot use as a name of class variables functions."
   ]
  },
  {
   "cell_type": "code",
   "execution_count": 6,
   "metadata": {},
   "outputs": [
    {
     "name": "stdout",
     "output_type": "stream",
     "text": [
      "\n",
      "Here is a list of the Python keywords.  Enter any keyword to get more help.\n",
      "\n",
      "False               class               from                or\n",
      "None                continue            global              pass\n",
      "True                def                 if                  raise\n",
      "and                 del                 import              return\n",
      "as                  elif                in                  try\n",
      "assert              else                is                  while\n",
      "async               except              lambda              with\n",
      "await               finally             nonlocal            yield\n",
      "break               for                 not                 \n",
      "\n"
     ]
    }
   ],
   "source": [
    "import keyword\n",
    "\n",
    "help(\"keywords\")"
   ]
  },
  {
   "cell_type": "code",
   "execution_count": null,
   "metadata": {},
   "outputs": [],
   "source": [
    "False\n",
    "True\n",
    "and \n"
   ]
  },
  {
   "cell_type": "code",
   "execution_count": 11,
   "metadata": {},
   "outputs": [
    {
     "name": "stdout",
     "output_type": "stream",
     "text": [
      "False\n"
     ]
    }
   ],
   "source": [
    "a=True\n",
    "b=False\n",
    "\n",
    "print(a and b)"
   ]
  },
  {
   "cell_type": "code",
   "execution_count": 12,
   "metadata": {},
   "outputs": [
    {
     "ename": "SyntaxError",
     "evalue": "invalid syntax (<ipython-input-12-d56877f904c3>, line 1)",
     "output_type": "error",
     "traceback": [
      "\u001b[1;36m  File \u001b[1;32m\"<ipython-input-12-d56877f904c3>\"\u001b[1;36m, line \u001b[1;32m1\u001b[0m\n\u001b[1;33m    and=\"python\"\u001b[0m\n\u001b[1;37m    ^\u001b[0m\n\u001b[1;31mSyntaxError\u001b[0m\u001b[1;31m:\u001b[0m invalid syntax\n"
     ]
    }
   ],
   "source": [
    "and=\"python\""
   ]
  },
  {
   "cell_type": "code",
   "execution_count": 14,
   "metadata": {},
   "outputs": [
    {
     "data": {
      "text/plain": [
       "'python'"
      ]
     },
     "execution_count": 14,
     "metadata": {},
     "output_type": "execute_result"
    }
   ],
   "source": [
    "And=\"python\"\n",
    "And"
   ]
  },
  {
   "cell_type": "code",
   "execution_count": 16,
   "metadata": {},
   "outputs": [
    {
     "name": "stdout",
     "output_type": "stream",
     "text": [
      "['False', 'None', 'True', 'and', 'as', 'assert', 'async', 'await', 'break', 'class', 'continue', 'def', 'del', 'elif', 'else', 'except', 'finally', 'for', 'from', 'global', 'if', 'import', 'in', 'is', 'lambda', 'nonlocal', 'not', 'or', 'pass', 'raise', 'return', 'try', 'while', 'with', 'yield']\n",
      "35\n"
     ]
    }
   ],
   "source": [
    "print(keyword.kwlist)\n",
    "print(len(keyword.kwlist))"
   ]
  },
  {
   "cell_type": "code",
   "execution_count": null,
   "metadata": {},
   "outputs": [],
   "source": [
    "Built-in function\n",
    "print()\n",
    "max()\n",
    "min()\n"
   ]
  },
  {
   "cell_type": "code",
   "execution_count": 23,
   "metadata": {},
   "outputs": [],
   "source": [
    "# a=10\n",
    "# b=20\n",
    "# c=a+b\n",
    "\n",
    "def add(a,b):\n",
    "    print(a+b)\n"
   ]
  },
  {
   "cell_type": "code",
   "execution_count": 25,
   "metadata": {},
   "outputs": [
    {
     "name": "stdout",
     "output_type": "stream",
     "text": [
      "360\n"
     ]
    }
   ],
   "source": [
    "add(120,240)"
   ]
  },
  {
   "cell_type": "code",
   "execution_count": 28,
   "metadata": {},
   "outputs": [
    {
     "data": {
      "text/plain": [
       "1"
      ]
     },
     "execution_count": 28,
     "metadata": {},
     "output_type": "execute_result"
    }
   ],
   "source": [
    "list1=[1,2,3,5,100]\n",
    "max(list1)\n",
    "min(list1)"
   ]
  },
  {
   "cell_type": "code",
   "execution_count": 29,
   "metadata": {},
   "outputs": [
    {
     "name": "stdout",
     "output_type": "stream",
     "text": [
      "50 <class 'int'> 140736342076736\n"
     ]
    }
   ],
   "source": [
    "x=50\n",
    "print(x,type(x),id(x))"
   ]
  },
  {
   "cell_type": "code",
   "execution_count": 30,
   "metadata": {},
   "outputs": [
    {
     "name": "stdout",
     "output_type": "stream",
     "text": [
      "50 <class 'int'> 140736342076736\n"
     ]
    }
   ],
   "source": [
    "y=50\n",
    "print(y,type(y),id(y))"
   ]
  },
  {
   "cell_type": "code",
   "execution_count": 31,
   "metadata": {},
   "outputs": [
    {
     "name": "stdout",
     "output_type": "stream",
     "text": [
      "40 <class 'int'> 140736342076416\n"
     ]
    }
   ],
   "source": [
    "y=40\n",
    "print(y,type(y),id(y))"
   ]
  },
  {
   "cell_type": "code",
   "execution_count": 37,
   "metadata": {},
   "outputs": [
    {
     "name": "stdout",
     "output_type": "stream",
     "text": [
      "Addition of 10 and 20 is:30\n",
      "Addition of 10 and 20 is:30\n",
      "Addition of 20 and 10 is:30\n",
      "Addition of 10 and 20 is:30\n",
      "Addition of 10 and 20 is:30\n",
      "Addition of 10.00000 and 20 is:30.00000\n"
     ]
    }
   ],
   "source": [
    "a=10\n",
    "b=20\n",
    "\n",
    "add=a+b\n",
    "\n",
    "print(\"Addition of {} and {} is:{}\".format(a,b,add))\n",
    "print(\"Addition of {0} and {1} is:{2}\".format(a,b,add))\n",
    "print(\"Addition of {1} and {0} is:{2}\".format(a,b,add))\n",
    "print(f\"Addition of {a} and {b} is:{add}\")\n",
    "print(\"Addition of %d and %d is:%d\"%(a,b,add))\n",
    "print(\"Addition of %.5f and %d is:%.5f\"%(a,b,add))\n",
    "\n"
   ]
  },
  {
   "cell_type": "code",
   "execution_count": 39,
   "metadata": {},
   "outputs": [
    {
     "name": "stdout",
     "output_type": "stream",
     "text": [
      "X is not greater than 50\n"
     ]
    }
   ],
   "source": [
    "x=40\n",
    "\n",
    "if x>50:\n",
    "    print(\"X is greater than 50\")\n",
    "    if x>70:\n",
    "        print(\"X is greater than 70\")\n",
    "        if x>90:\n",
    "            print(\"X is greater than 90\")\n",
    "        else:\n",
    "            print(\"X is not greater than 90\")\n",
    "    else:\n",
    "        print(\"X is not greater than 70\")\n",
    "else:\n",
    "    print(\"X is not greater than 50\")\n",
    "    "
   ]
  },
  {
   "cell_type": "code",
   "execution_count": null,
   "metadata": {},
   "outputs": [],
   "source": [
    "if\n",
    "if-else\n",
    "if-elif-else\n",
    "while\n",
    "do-while\n",
    "for loop\n"
   ]
  },
  {
   "cell_type": "code",
   "execution_count": 42,
   "metadata": {},
   "outputs": [
    {
     "name": "stdout",
     "output_type": "stream",
     "text": [
      "X is greater than 50\n",
      "X is greater than 70\n",
      "X is greater than 90\n"
     ]
    }
   ],
   "source": [
    "x=100\n",
    "\n",
    "if x>50:\n",
    "    print(\"X is greater than 50\")\n",
    "    if x>70:\n",
    "        print(\"X is greater than 70\")\n",
    "        if x>90:\n",
    "            print(\"X is greater than 90\")\n",
    "        else:\n",
    "            print(\"X is not greater than 90\")\n",
    "    else:\n",
    "        print(\"X is not greater than 70\")\n",
    "else:\n",
    "    print(\"X is not greater than 50\")"
   ]
  },
  {
   "cell_type": "code",
   "execution_count": 43,
   "metadata": {},
   "outputs": [
    {
     "name": "stdout",
     "output_type": "stream",
     "text": [
      "X is not greater than 50\n"
     ]
    }
   ],
   "source": [
    "x=12.5\n",
    "\n",
    "if x>50:\n",
    "    print(\"X is greater than 50\")\n",
    "    if x>70:\n",
    "        print(\"X is greater than 70\")\n",
    "        if x>90:\n",
    "            print(\"X is greater than 90\")\n",
    "        else:\n",
    "            print(\"X is not greater than 90\")\n",
    "    else:\n",
    "        print(\"X is not greater than 70\")\n",
    "else:\n",
    "    print(\"X is not greater than 50\")"
   ]
  },
  {
   "cell_type": "markdown",
   "metadata": {},
   "source": [
    "## Types of Variable:-"
   ]
  },
  {
   "cell_type": "code",
   "execution_count": null,
   "metadata": {},
   "outputs": [],
   "source": [
    "1) Global Variable\n",
    "2) Local Variable"
   ]
  },
  {
   "cell_type": "code",
   "execution_count": 53,
   "metadata": {},
   "outputs": [
    {
     "name": "stdout",
     "output_type": "stream",
     "text": [
      "40\n",
      "30\n",
      "40\n",
      "30\n",
      "40\n"
     ]
    }
   ],
   "source": [
    "d=40    #Global variable\n",
    "\n",
    "def mul(a,b):\n",
    "    print(d)\n",
    "    p=a*b   #Local Variable\n",
    "    print(c)\n",
    "    \n",
    "\n",
    "mul(4,5)\n",
    "mul(9,10)\n",
    "# print(p)\n",
    "print(d)"
   ]
  },
  {
   "cell_type": "markdown",
   "metadata": {},
   "source": [
    "Global Variable-\n",
    "     A variable which is declared outside the function or in Global scope is called Global variable.\n",
    "-Global variables can be accessed inside or outside the function."
   ]
  },
  {
   "cell_type": "markdown",
   "metadata": {},
   "source": [
    "Local Variable-\n",
    "     A variable which is declared inside the function body or in local scope is called Local Variable.\n",
    "     -We can access local variables only inside local scope i.e. inside a function."
   ]
  },
  {
   "cell_type": "code",
   "execution_count": null,
   "metadata": {},
   "outputs": [],
   "source": [
    "Global Varible:-"
   ]
  },
  {
   "cell_type": "code",
   "execution_count": 55,
   "metadata": {},
   "outputs": [
    {
     "name": "stdout",
     "output_type": "stream",
     "text": [
      "value in variable x is : 100\n",
      "value in variable y is : 200\n",
      "value in variable z is : 300\n"
     ]
    }
   ],
   "source": [
    "x=100\n",
    "y=200\n",
    "z=300\n",
    "\n",
    "def my_function():\n",
    "    print(\"value in variable x is :\",x)\n",
    "    print(\"value in variable y is :\",y)\n",
    "    print(\"value in variable z is :\",z)\n",
    "    \n",
    "my_function()    \n",
    "    "
   ]
  },
  {
   "cell_type": "code",
   "execution_count": null,
   "metadata": {},
   "outputs": [],
   "source": [
    "x=100\n",
    "y=200\n",
    "z=300\n",
    "\n",
    "def my_function():\n",
    "    print(\"value in variable x is :\",x)\n",
    "    print(\"value in variable y is :\",y)\n",
    "    print(\"value in variable z is :\",z)\n",
    "    \n",
    "my_function()    "
   ]
  },
  {
   "cell_type": "code",
   "execution_count": 56,
   "metadata": {},
   "outputs": [
    {
     "name": "stdout",
     "output_type": "stream",
     "text": [
      "value in variable x is : 100\n",
      "value in variable y is : 200\n",
      "value in variable z is : 300\n",
      "100\n",
      "200\n",
      "300\n"
     ]
    }
   ],
   "source": [
    "x=100\n",
    "y=200\n",
    "z=300\n",
    "\n",
    "def my_function():\n",
    "    print(\"value in variable x is :\",x)\n",
    "    print(\"value in variable y is :\",y)\n",
    "    print(\"value in variable z is :\",z)\n",
    "    \n",
    "my_function()  \n",
    "\n",
    "print(x)\n",
    "print(y)\n",
    "print(z)"
   ]
  },
  {
   "cell_type": "code",
   "execution_count": 60,
   "metadata": {},
   "outputs": [
    {
     "ename": "UnboundLocalError",
     "evalue": "local variable 'x' referenced before assignment",
     "output_type": "error",
     "traceback": [
      "\u001b[1;31m---------------------------------------------------------------------------\u001b[0m",
      "\u001b[1;31mUnboundLocalError\u001b[0m                         Traceback (most recent call last)",
      "\u001b[1;32m<ipython-input-60-c293da22b32a>\u001b[0m in \u001b[0;36m<module>\u001b[1;34m\u001b[0m\n\u001b[0;32m      8\u001b[0m                                             \u001b[1;31m# To change it in local scope use keyword-GLobal\u001b[0m\u001b[1;33m\u001b[0m\u001b[1;33m\u001b[0m\u001b[1;33m\u001b[0m\u001b[0m\n\u001b[0;32m      9\u001b[0m \u001b[1;33m\u001b[0m\u001b[0m\n\u001b[1;32m---> 10\u001b[1;33m \u001b[0mmy_function\u001b[0m\u001b[1;33m(\u001b[0m\u001b[1;33m)\u001b[0m\u001b[1;33m\u001b[0m\u001b[1;33m\u001b[0m\u001b[0m\n\u001b[0m\u001b[0;32m     11\u001b[0m \u001b[1;33m\u001b[0m\u001b[0m\n\u001b[0;32m     12\u001b[0m \u001b[0mprint\u001b[0m\u001b[1;33m(\u001b[0m\u001b[0mx\u001b[0m\u001b[1;33m)\u001b[0m\u001b[1;33m\u001b[0m\u001b[1;33m\u001b[0m\u001b[0m\n",
      "\u001b[1;32m<ipython-input-60-c293da22b32a>\u001b[0m in \u001b[0;36mmy_function\u001b[1;34m()\u001b[0m\n\u001b[0;32m      4\u001b[0m \u001b[1;33m\u001b[0m\u001b[0m\n\u001b[0;32m      5\u001b[0m \u001b[1;32mdef\u001b[0m \u001b[0mmy_function\u001b[0m\u001b[1;33m(\u001b[0m\u001b[1;33m)\u001b[0m\u001b[1;33m:\u001b[0m\u001b[1;33m\u001b[0m\u001b[1;33m\u001b[0m\u001b[0m\n\u001b[1;32m----> 6\u001b[1;33m     \u001b[0mx\u001b[0m\u001b[1;33m=\u001b[0m\u001b[0mx\u001b[0m\u001b[1;33m*\u001b[0m\u001b[1;36m2\u001b[0m\u001b[1;33m\u001b[0m\u001b[1;33m\u001b[0m\u001b[0m\n\u001b[0m\u001b[0;32m      7\u001b[0m     \u001b[0mprint\u001b[0m\u001b[1;33m(\u001b[0m\u001b[1;34m\"value in variable x is :\"\u001b[0m\u001b[1;33m,\u001b[0m\u001b[0mx\u001b[0m\u001b[1;33m)\u001b[0m     \u001b[1;31m# We can access global variable in local scope but we can not change it in local scope\u001b[0m\u001b[1;33m\u001b[0m\u001b[1;33m\u001b[0m\u001b[0m\n\u001b[0;32m      8\u001b[0m                                             \u001b[1;31m# To change it in local scope use keyword-GLobal\u001b[0m\u001b[1;33m\u001b[0m\u001b[1;33m\u001b[0m\u001b[1;33m\u001b[0m\u001b[0m\n",
      "\u001b[1;31mUnboundLocalError\u001b[0m: local variable 'x' referenced before assignment"
     ]
    }
   ],
   "source": [
    "x=100\n",
    "y=200\n",
    "z=300\n",
    "\n",
    "def my_function(): \n",
    "    x=x*2\n",
    "    print(\"value in variable x is :\",x)     # We can access global variable in local scope but we can not change it in local scope\n",
    "                                            # To change it in local scope use keyword-GLobal\n",
    "    \n",
    "my_function()  \n",
    "\n",
    "print(x)\n",
    "print(y)\n",
    "print(z)"
   ]
  },
  {
   "cell_type": "code",
   "execution_count": 61,
   "metadata": {},
   "outputs": [
    {
     "name": "stdout",
     "output_type": "stream",
     "text": [
      "value in variable x is : 200\n",
      "200\n",
      "200\n",
      "300\n"
     ]
    }
   ],
   "source": [
    "x=100\n",
    "y=200\n",
    "z=300\n",
    "\n",
    "def my_function(): \n",
    "    global x\n",
    "    x=x*2\n",
    "    print(\"value in variable x is :\",x)     # We can access global variable in local scope but we can not change it in local scope\n",
    "                                            # To change it in local scope use keyword-GLobal\n",
    "    \n",
    "my_function()  \n",
    "\n",
    "print(x)\n",
    "print(y)\n",
    "print(z)"
   ]
  },
  {
   "cell_type": "code",
   "execution_count": null,
   "metadata": {},
   "outputs": [],
   "source": [
    "Local Variable:-"
   ]
  },
  {
   "cell_type": "code",
   "execution_count": 62,
   "metadata": {},
   "outputs": [
    {
     "name": "stdout",
     "output_type": "stream",
     "text": [
      "Value in variable x1 is: 40\n",
      "Value in variable x2 is: 50\n",
      "Value in variable x3 is: 60\n"
     ]
    }
   ],
   "source": [
    "def my_function():\n",
    "    x1=40\n",
    "    x2=50\n",
    "    x3=60\n",
    "    \n",
    "    print(\"Value in variable x1 is:\",x1)\n",
    "    print(\"Value in variable x2 is:\",x2)\n",
    "    print(\"Value in variable x3 is:\",x3)\n",
    "    \n",
    "my_function()"
   ]
  },
  {
   "cell_type": "code",
   "execution_count": 63,
   "metadata": {},
   "outputs": [
    {
     "name": "stdout",
     "output_type": "stream",
     "text": [
      "Value in variable x1 is: 40\n",
      "Value in variable x2 is: 50\n",
      "Value in variable x3 is: 60\n"
     ]
    },
    {
     "ename": "NameError",
     "evalue": "name 'x1' is not defined",
     "output_type": "error",
     "traceback": [
      "\u001b[1;31m---------------------------------------------------------------------------\u001b[0m",
      "\u001b[1;31mNameError\u001b[0m                                 Traceback (most recent call last)",
      "\u001b[1;32m<ipython-input-63-d17dff5a6bcc>\u001b[0m in \u001b[0;36m<module>\u001b[1;34m\u001b[0m\n\u001b[0;32m     10\u001b[0m \u001b[0mmy_function\u001b[0m\u001b[1;33m(\u001b[0m\u001b[1;33m)\u001b[0m\u001b[1;33m\u001b[0m\u001b[1;33m\u001b[0m\u001b[0m\n\u001b[0;32m     11\u001b[0m \u001b[1;33m\u001b[0m\u001b[0m\n\u001b[1;32m---> 12\u001b[1;33m \u001b[0mprint\u001b[0m\u001b[1;33m(\u001b[0m\u001b[0mx1\u001b[0m\u001b[1;33m)\u001b[0m\u001b[1;33m\u001b[0m\u001b[1;33m\u001b[0m\u001b[0m\n\u001b[0m\u001b[0;32m     13\u001b[0m \u001b[0mprint\u001b[0m\u001b[1;33m(\u001b[0m\u001b[0mx2\u001b[0m\u001b[1;33m)\u001b[0m\u001b[1;33m\u001b[0m\u001b[1;33m\u001b[0m\u001b[0m\n\u001b[0;32m     14\u001b[0m \u001b[0mprint\u001b[0m\u001b[1;33m(\u001b[0m\u001b[0mx3\u001b[0m\u001b[1;33m)\u001b[0m\u001b[1;33m\u001b[0m\u001b[1;33m\u001b[0m\u001b[0m\n",
      "\u001b[1;31mNameError\u001b[0m: name 'x1' is not defined"
     ]
    }
   ],
   "source": [
    "def my_function():\n",
    "    x1=40\n",
    "    x2=50\n",
    "    x3=60\n",
    "    \n",
    "    print(\"Value in variable x1 is:\",x1)\n",
    "    print(\"Value in variable x2 is:\",x2)\n",
    "    print(\"Value in variable x3 is:\",x3)\n",
    "    \n",
    "my_function()\n",
    "\n",
    "print(x1)\n",
    "print(x2)\n",
    "print(x3)\n"
   ]
  },
  {
   "cell_type": "code",
   "execution_count": 65,
   "metadata": {},
   "outputs": [
    {
     "name": "stdout",
     "output_type": "stream",
     "text": [
      "Virat Kohli\n",
      "Value in variable x1 is: 40\n",
      "Value in variable x2 is: 50\n",
      "Value in variable x3 is: 60\n",
      "Virat Kohli\n"
     ]
    }
   ],
   "source": [
    "name=\"Virat Kohli\"\n",
    "\n",
    "def my_function():\n",
    "    x1=40\n",
    "    x2=50\n",
    "    x3=60\n",
    "    print(name)\n",
    "    print(\"Value in variable x1 is:\",x1)\n",
    "    print(\"Value in variable x2 is:\",x2)\n",
    "    print(\"Value in variable x3 is:\",x3)\n",
    "    \n",
    "my_function()\n",
    "\n",
    "# print(x1)\n",
    "# print(x2)\n",
    "# print(x3)\n",
    "\n",
    "print(name)"
   ]
  },
  {
   "cell_type": "code",
   "execution_count": 66,
   "metadata": {},
   "outputs": [
    {
     "ename": "UnboundLocalError",
     "evalue": "local variable 'name' referenced before assignment",
     "output_type": "error",
     "traceback": [
      "\u001b[1;31m---------------------------------------------------------------------------\u001b[0m",
      "\u001b[1;31mUnboundLocalError\u001b[0m                         Traceback (most recent call last)",
      "\u001b[1;32m<ipython-input-66-003900a34f7e>\u001b[0m in \u001b[0;36m<module>\u001b[1;34m\u001b[0m\n\u001b[0;32m     11\u001b[0m     \u001b[0mprint\u001b[0m\u001b[1;33m(\u001b[0m\u001b[1;34m\"Value in variable x3 is:\"\u001b[0m\u001b[1;33m,\u001b[0m\u001b[0mx3\u001b[0m\u001b[1;33m)\u001b[0m\u001b[1;33m\u001b[0m\u001b[1;33m\u001b[0m\u001b[0m\n\u001b[0;32m     12\u001b[0m \u001b[1;33m\u001b[0m\u001b[0m\n\u001b[1;32m---> 13\u001b[1;33m \u001b[0mmy_function\u001b[0m\u001b[1;33m(\u001b[0m\u001b[1;33m)\u001b[0m\u001b[1;33m\u001b[0m\u001b[1;33m\u001b[0m\u001b[0m\n\u001b[0m\u001b[0;32m     14\u001b[0m \u001b[1;33m\u001b[0m\u001b[0m\n\u001b[0;32m     15\u001b[0m \u001b[1;31m# print(x1)\u001b[0m\u001b[1;33m\u001b[0m\u001b[1;33m\u001b[0m\u001b[1;33m\u001b[0m\u001b[0m\n",
      "\u001b[1;32m<ipython-input-66-003900a34f7e>\u001b[0m in \u001b[0;36mmy_function\u001b[1;34m()\u001b[0m\n\u001b[0;32m      5\u001b[0m     \u001b[0mx2\u001b[0m\u001b[1;33m=\u001b[0m\u001b[1;36m50\u001b[0m\u001b[1;33m\u001b[0m\u001b[1;33m\u001b[0m\u001b[0m\n\u001b[0;32m      6\u001b[0m     \u001b[0mx3\u001b[0m\u001b[1;33m=\u001b[0m\u001b[1;36m60\u001b[0m\u001b[1;33m\u001b[0m\u001b[1;33m\u001b[0m\u001b[0m\n\u001b[1;32m----> 7\u001b[1;33m     \u001b[0mname\u001b[0m\u001b[1;33m=\u001b[0m \u001b[0mname\u001b[0m\u001b[1;33m*\u001b[0m\u001b[1;36m2\u001b[0m\u001b[1;33m\u001b[0m\u001b[1;33m\u001b[0m\u001b[0m\n\u001b[0m\u001b[0;32m      8\u001b[0m     \u001b[0mprint\u001b[0m\u001b[1;33m(\u001b[0m\u001b[0mname\u001b[0m\u001b[1;33m)\u001b[0m\u001b[1;33m\u001b[0m\u001b[1;33m\u001b[0m\u001b[0m\n\u001b[0;32m      9\u001b[0m     \u001b[0mprint\u001b[0m\u001b[1;33m(\u001b[0m\u001b[1;34m\"Value in variable x1 is:\"\u001b[0m\u001b[1;33m,\u001b[0m\u001b[0mx1\u001b[0m\u001b[1;33m)\u001b[0m\u001b[1;33m\u001b[0m\u001b[1;33m\u001b[0m\u001b[0m\n",
      "\u001b[1;31mUnboundLocalError\u001b[0m: local variable 'name' referenced before assignment"
     ]
    }
   ],
   "source": [
    "name=\"Virat Kohli\"\n",
    "\n",
    "def my_function():\n",
    "    x1=40\n",
    "    x2=50\n",
    "    x3=60\n",
    "    name= name*2\n",
    "    print(name)\n",
    "    print(\"Value in variable x1 is:\",x1)\n",
    "    print(\"Value in variable x2 is:\",x2)\n",
    "    print(\"Value in variable x3 is:\",x3)\n",
    "    \n",
    "my_function()\n",
    "\n",
    "# print(x1)\n",
    "# print(x2)\n",
    "# print(x3)\n",
    "\n",
    "print(name)"
   ]
  },
  {
   "cell_type": "code",
   "execution_count": 103,
   "metadata": {},
   "outputs": [
    {
     "name": "stdout",
     "output_type": "stream",
     "text": [
      "Sachin Tendulkar  Sachin Tendulkar  \n",
      "Value in variable x1 is: 40\n",
      "Value in variable x2 is: 50\n",
      "Value in variable x3 is: 60\n",
      "Sachin Tendulkar  Sachin Tendulkar  \n"
     ]
    }
   ],
   "source": [
    "name=\"Virat Kohli\"\n",
    "\n",
    "def my_function():\n",
    "    x1=40\n",
    "    x2=50\n",
    "    x3=60\n",
    "    global name\n",
    "    name=\"Sachin Tendulkar  \" * 2\n",
    "    print(name)\n",
    "    print(\"Value in variable x1 is:\",x1)\n",
    "    print(\"Value in variable x2 is:\",x2)\n",
    "    print(\"Value in variable x3 is:\",x3)\n",
    "    \n",
    "my_function()\n",
    "\n",
    "# print(x1)\n",
    "# print(x2)\n",
    "# print(x3)\n",
    "\n",
    "print(name)"
   ]
  },
  {
   "cell_type": "code",
   "execution_count": 115,
   "metadata": {},
   "outputs": [
    {
     "name": "stdout",
     "output_type": "stream",
     "text": [
      "Sachin Tendulkar  Sachin Tendulkar  \n",
      "Value in variable x1 is: 40\n",
      "Value in variable x2 is: 50\n",
      "Value in variable x3 is: 60\n",
      "Sachin Tendulkar  Sachin Tendulkar  \n"
     ]
    }
   ],
   "source": [
    "name=\"Virat Kohli\"\n",
    "\n",
    "def my_function():\n",
    "    x1=40\n",
    "    x2=50\n",
    "    x3=60\n",
    "    global name\n",
    "    name=\"Sachin Tendulkar  \" * 2\n",
    "    print(name)\n",
    "    print(\"Value in variable x1 is:\",x1)\n",
    "    print(\"Value in variable x2 is:\",x2)\n",
    "    print(\"Value in variable x3 is:\",x3)\n",
    "    \n",
    "my_function()\n",
    "\n",
    "# print(x1)\n",
    "# print(x2)\n",
    "# print(x3)\n",
    "\n",
    "print(name)"
   ]
  },
  {
   "cell_type": "code",
   "execution_count": 120,
   "metadata": {},
   "outputs": [
    {
     "name": "stdout",
     "output_type": "stream",
     "text": [
      "Sachin Tendulkar  Sachin Tendulkar  \n",
      "Value in variable x1 is: 40\n",
      "Value in variable x2 is: 50\n",
      "Value in variable x3 is: 60\n",
      "Virat Kohli\n"
     ]
    }
   ],
   "source": [
    "name=\"Virat Kohli\"\n",
    "\n",
    "def my_function():\n",
    "    x1=40\n",
    "    x2=50\n",
    "    x3=60\n",
    "    name=\"Sachin Tendulkar  \" * 2\n",
    "    print(name)\n",
    "    print(\"Value in variable x1 is:\",x1)\n",
    "    print(\"Value in variable x2 is:\",x2)\n",
    "    print(\"Value in variable x3 is:\",x3)\n",
    "    \n",
    "my_function()\n",
    "\n",
    "# print(x1)\n",
    "# print(x2)\n",
    "# print(x3)\n",
    "\n",
    "print(name)"
   ]
  },
  {
   "cell_type": "code",
   "execution_count": 100,
   "metadata": {},
   "outputs": [
    {
     "name": "stdout",
     "output_type": "stream",
     "text": [
      "Virat KohliVirat Kohli\n"
     ]
    }
   ],
   "source": [
    "print(name)"
   ]
  },
  {
   "cell_type": "code",
   "execution_count": 74,
   "metadata": {},
   "outputs": [
    {
     "name": "stdout",
     "output_type": "stream",
     "text": [
      "The value in variable a is: 10\n",
      "The value in variable b is: 20\n",
      "Addition of 10 and 20 is 30\n",
      "The value in variable a is: 5\n",
      "The value in variable b is: 15\n",
      "Multiplication of 5 and 15 is 75\n",
      "Data Science\n"
     ]
    }
   ],
   "source": [
    "string=\"Data Science\"\n",
    "\n",
    "def addition():\n",
    "    a=10\n",
    "    b=20\n",
    "    print(\"The value in variable a is:\",a)\n",
    "    print(\"The value in variable b is:\",b)\n",
    "    \n",
    "    add=a+b\n",
    "    \n",
    "    print(f\"Addition of {a} and {b} is {add}\")\n",
    "    \n",
    "def multiplication():\n",
    "    a=5\n",
    "    b=15\n",
    "    print(\"The value in variable a is:\",a)\n",
    "    print(\"The value in variable b is:\",b)\n",
    "    mul= a*b\n",
    "    \n",
    "    print(f\"Multiplication of {a} and {b} is {mul}\")\n",
    "    \n",
    "addition()\n",
    "multiplication()\n",
    "print(string)"
   ]
  },
  {
   "cell_type": "code",
   "execution_count": 75,
   "metadata": {},
   "outputs": [
    {
     "name": "stdout",
     "output_type": "stream",
     "text": [
      "Data Science\n",
      "The value in variable a is: 10\n",
      "The value in variable b is: 20\n",
      "Addition of 10 and 20 is 30\n",
      "Data Science\n",
      "The value in variable a is: 5\n",
      "The value in variable b is: 15\n",
      "Multiplication of 5 and 15 is 75\n",
      "Data Science\n"
     ]
    }
   ],
   "source": [
    "string=\"Data Science\"\n",
    "\n",
    "def addition():\n",
    "    a=10\n",
    "    b=20\n",
    "    print(string)\n",
    "    print(\"The value in variable a is:\",a)\n",
    "    print(\"The value in variable b is:\",b)\n",
    "    \n",
    "    add=a+b\n",
    "    \n",
    "    print(f\"Addition of {a} and {b} is {add}\")\n",
    "    \n",
    "def multiplication():\n",
    "    a=5\n",
    "    b=15\n",
    "    print(string)\n",
    "    print(\"The value in variable a is:\",a)\n",
    "    print(\"The value in variable b is:\",b)\n",
    "    mul= a*b\n",
    "    \n",
    "    print(f\"Multiplication of {a} and {b} is {mul}\")\n",
    "    \n",
    "addition()\n",
    "multiplication()\n",
    "print(string)"
   ]
  },
  {
   "cell_type": "code",
   "execution_count": 76,
   "metadata": {},
   "outputs": [
    {
     "name": "stdout",
     "output_type": "stream",
     "text": [
      "The value in variable a is: 10\n",
      "The value in variable b is: 20\n",
      "Addition of 10 and 20 is 30\n",
      "The value in variable a is: 10\n",
      "The value in variable b is: 20\n",
      "Multiplication of 10 and 20 is 200\n",
      "Data Science\n"
     ]
    }
   ],
   "source": [
    "string=\"Data Science\"       #Global Variable\n",
    "\n",
    "def addition():\n",
    "    a=10                    #Local Variable\n",
    "    b=20                    #Local Variable\n",
    "    print(\"The value in variable a is:\",a)\n",
    "    print(\"The value in variable b is:\",b)\n",
    "    \n",
    "    add=a+b                 #Local Variable\n",
    "    \n",
    "    print(f\"Addition of {a} and {b} is {add}\")\n",
    "    \n",
    "def multiplication():\n",
    "    a=10                          #Local Variable\n",
    "    b=20                          #Local Variable\n",
    "    print(\"The value in variable a is:\",a)\n",
    "    print(\"The value in variable b is:\",b)\n",
    "    mul= a*b                       #Local Variable\n",
    "    \n",
    "    print(f\"Multiplication of {a} and {b} is {mul}\")\n",
    "    \n",
    "addition()\n",
    "multiplication()\n",
    "print(string)"
   ]
  },
  {
   "cell_type": "code",
   "execution_count": 111,
   "metadata": {},
   "outputs": [
    {
     "name": "stdout",
     "output_type": "stream",
     "text": [
      "The value in variable a is: 10\n",
      "The value in variable b is: 20\n",
      "Addition of 10 and 20 is 30\n",
      "The value in variable a is: 10\n",
      "The value in variable b is: 20\n",
      "Multiplication of 10 and 20 is 200\n",
      "Data Science\n"
     ]
    },
    {
     "data": {
      "text/plain": [
       "20"
      ]
     },
     "execution_count": 111,
     "metadata": {},
     "output_type": "execute_result"
    }
   ],
   "source": [
    "string=\"Data Science\"       #Global Variable\n",
    "\n",
    "def addition():\n",
    "    a=10                    #Local Variable\n",
    "    b=20                    #Local Variable\n",
    "    print(\"The value in variable a is:\",a)\n",
    "    print(\"The value in variable b is:\",b)\n",
    "    \n",
    "    add=a+b                 #Local Variable\n",
    "    \n",
    "    print(f\"Addition of {a} and {b} is {add}\")\n",
    "    \n",
    "def multiplication():\n",
    "    a=10                          #Local Variable\n",
    "    b=20                          #Local Variable\n",
    "    print(\"The value in variable a is:\",a)\n",
    "    print(\"The value in variable b is:\",b)\n",
    "    mul= a*b                       #Local Variable\n",
    "    \n",
    "    print(f\"Multiplication of {a} and {b} is {mul}\")\n",
    "    \n",
    "addition()\n",
    "multiplication()\n",
    "print(string)\n"
   ]
  },
  {
   "cell_type": "code",
   "execution_count": 107,
   "metadata": {},
   "outputs": [
    {
     "name": "stdout",
     "output_type": "stream",
     "text": [
      "The value in variable a is: 10\n",
      "The value in variable b is: 20\n",
      "Addition of 10 and 20 is 30\n",
      "The value in variable a is: 10\n",
      "The value in variable b is: 20\n",
      "Multiplication of 10 and 20 is 200\n",
      "Data Science\n",
      "10\n"
     ]
    }
   ],
   "source": [
    "string=\"Data Science\"       #Global Variable\n",
    "\n",
    "def addition():\n",
    "    global a\n",
    "    a=10                    #Local Variable\n",
    "    b=20                    #Local Variable\n",
    "    print(\"The value in variable a is:\",a)\n",
    "    print(\"The value in variable b is:\",b)\n",
    "    \n",
    "    add=a+b                 #Local Variable\n",
    "    \n",
    "    print(f\"Addition of {a} and {b} is {add}\")\n",
    "    \n",
    "def multiplication():\n",
    "    a=10                          #Local Variable\n",
    "    b=20                          #Local Variable\n",
    "    print(\"The value in variable a is:\",a)\n",
    "    print(\"The value in variable b is:\",b)\n",
    "    mul= a*b                       #Local Variable\n",
    "    \n",
    "    print(f\"Multiplication of {a} and {b} is {mul}\")\n",
    "    \n",
    "addition()\n",
    "multiplication()\n",
    "print(string)\n",
    "print(a)"
   ]
  },
  {
   "cell_type": "markdown",
   "metadata": {},
   "source": [
    "## Assigning values to variable:-"
   ]
  },
  {
   "cell_type": "code",
   "execution_count": 81,
   "metadata": {},
   "outputs": [
    {
     "name": "stdout",
     "output_type": "stream",
     "text": [
      "50 100 200 300\n",
      "50\n",
      "100\n",
      "200\n",
      "300\n"
     ]
    }
   ],
   "source": [
    "a=50;x=100;y=200;z=300;\n",
    "\n",
    "print(a,x,y,z)\n",
    "print(a)\n",
    "print(x)\n",
    "print(y)\n",
    "print(z)"
   ]
  },
  {
   "cell_type": "code",
   "execution_count": 79,
   "metadata": {},
   "outputs": [
    {
     "name": "stdout",
     "output_type": "stream",
     "text": [
      "x==10, y==20, z==30\n"
     ]
    }
   ],
   "source": [
    "x=10\n",
    "y=20\n",
    "z=30\n",
    "\n",
    "print(f\"x=={x}, y=={y}, z=={z}\")"
   ]
  },
  {
   "cell_type": "code",
   "execution_count": null,
   "metadata": {},
   "outputs": [],
   "source": [
    "Multiple values to multiple variables:-"
   ]
  },
  {
   "cell_type": "code",
   "execution_count": 86,
   "metadata": {},
   "outputs": [
    {
     "name": "stdout",
     "output_type": "stream",
     "text": [
      "10\n",
      "20\n",
      "30\n",
      "10 20 30\n"
     ]
    }
   ],
   "source": [
    "x,y,z=10,20,30\n",
    "\n",
    "print(x)\n",
    "print(y)\n",
    "print(z)\n",
    "print(x,y,z)"
   ]
  },
  {
   "cell_type": "code",
   "execution_count": 2,
   "metadata": {},
   "outputs": [
    {
     "ename": "ValueError",
     "evalue": "too many values to unpack (expected 2)",
     "output_type": "error",
     "traceback": [
      "\u001b[1;31m---------------------------------------------------------------------------\u001b[0m",
      "\u001b[1;31mValueError\u001b[0m                                Traceback (most recent call last)",
      "Input \u001b[1;32mIn [2]\u001b[0m, in \u001b[0;36m<cell line: 1>\u001b[1;34m()\u001b[0m\n\u001b[1;32m----> 1\u001b[0m x,y\u001b[38;5;241m=\u001b[39m\u001b[38;5;241m10\u001b[39m,\u001b[38;5;241m20\u001b[39m,\u001b[38;5;241m30\u001b[39m\n",
      "\u001b[1;31mValueError\u001b[0m: too many values to unpack (expected 2)"
     ]
    }
   ],
   "source": [
    "x,y=10,20,30"
   ]
  },
  {
   "cell_type": "code",
   "execution_count": 88,
   "metadata": {},
   "outputs": [
    {
     "ename": "ValueError",
     "evalue": "not enough values to unpack (expected 3, got 2)",
     "output_type": "error",
     "traceback": [
      "\u001b[1;31m---------------------------------------------------------------------------\u001b[0m",
      "\u001b[1;31mValueError\u001b[0m                                Traceback (most recent call last)",
      "\u001b[1;32m<ipython-input-88-62a22b664d46>\u001b[0m in \u001b[0;36m<module>\u001b[1;34m\u001b[0m\n\u001b[1;32m----> 1\u001b[1;33m \u001b[0mx\u001b[0m\u001b[1;33m,\u001b[0m\u001b[0my\u001b[0m\u001b[1;33m,\u001b[0m\u001b[0mz\u001b[0m\u001b[1;33m=\u001b[0m\u001b[1;36m10\u001b[0m\u001b[1;33m,\u001b[0m\u001b[1;36m20\u001b[0m\u001b[1;33m\u001b[0m\u001b[1;33m\u001b[0m\u001b[0m\n\u001b[0m",
      "\u001b[1;31mValueError\u001b[0m: not enough values to unpack (expected 3, got 2)"
     ]
    }
   ],
   "source": [
    "x,y,z=10,20"
   ]
  },
  {
   "cell_type": "code",
   "execution_count": null,
   "metadata": {},
   "outputs": [],
   "source": [
    "Multiple values to single variable:\n"
   ]
  },
  {
   "cell_type": "code",
   "execution_count": 89,
   "metadata": {},
   "outputs": [
    {
     "name": "stdout",
     "output_type": "stream",
     "text": [
      "(100, 200, 300, 400, 500)\n",
      "(10, 20, 30, 40)\n"
     ]
    }
   ],
   "source": [
    "var1=100,200,300,400,500\n",
    "var2=(10,20,30,40)\n",
    "\n",
    "print(var1)\n",
    "print(var2)"
   ]
  },
  {
   "cell_type": "code",
   "execution_count": 92,
   "metadata": {},
   "outputs": [
    {
     "data": {
      "text/plain": [
       "100"
      ]
     },
     "execution_count": 92,
     "metadata": {},
     "output_type": "execute_result"
    }
   ],
   "source": [
    "x=var1[0]\n",
    "x"
   ]
  },
  {
   "cell_type": "code",
   "execution_count": 93,
   "metadata": {},
   "outputs": [
    {
     "data": {
      "text/plain": [
       "300"
      ]
     },
     "execution_count": 93,
     "metadata": {},
     "output_type": "execute_result"
    }
   ],
   "source": [
    "y=var1[2]\n",
    "y"
   ]
  },
  {
   "cell_type": "code",
   "execution_count": 94,
   "metadata": {},
   "outputs": [
    {
     "data": {
      "text/plain": [
       "tuple"
      ]
     },
     "execution_count": 94,
     "metadata": {},
     "output_type": "execute_result"
    }
   ],
   "source": [
    "type(var1)"
   ]
  },
  {
   "cell_type": "code",
   "execution_count": 95,
   "metadata": {},
   "outputs": [
    {
     "data": {
      "text/plain": [
       "tuple"
      ]
     },
     "execution_count": 95,
     "metadata": {},
     "output_type": "execute_result"
    }
   ],
   "source": [
    "type(var2)"
   ]
  },
  {
   "cell_type": "code",
   "execution_count": 99,
   "metadata": {},
   "outputs": [
    {
     "name": "stdout",
     "output_type": "stream",
     "text": [
      "<class 'int'>\n",
      "<class 'int'>\n"
     ]
    }
   ],
   "source": [
    "print(type(x))\n",
    "print(type(var1[0]))"
   ]
  }
 ],
 "metadata": {
  "kernelspec": {
   "display_name": "Python 3 (ipykernel)",
   "language": "python",
   "name": "python3"
  },
  "language_info": {
   "codemirror_mode": {
    "name": "ipython",
    "version": 3
   },
   "file_extension": ".py",
   "mimetype": "text/x-python",
   "name": "python",
   "nbconvert_exporter": "python",
   "pygments_lexer": "ipython3",
   "version": "3.9.12"
  }
 },
 "nbformat": 4,
 "nbformat_minor": 4
}
