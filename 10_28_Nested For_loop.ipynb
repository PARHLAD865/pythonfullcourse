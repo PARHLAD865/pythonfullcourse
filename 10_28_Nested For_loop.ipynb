{
 "cells": [
  {
   "cell_type": "code",
   "execution_count": null,
   "metadata": {},
   "outputs": [],
   "source": [
    "Nested For-Loop:\n",
    "    >> Forloop inside Forloop"
   ]
  },
  {
   "cell_type": "code",
   "execution_count": null,
   "metadata": {},
   "outputs": [],
   "source": [
    "for variable in sequence:\n",
    "    statement1\n",
    "    statement2\n",
    "    statement3\n",
    "    statement4\n",
    "    for variable in sequence:\n",
    "        statement1\n",
    "        statement2\n",
    "        statement3\n",
    "        statement4\n",
    "        "
   ]
  },
  {
   "cell_type": "code",
   "execution_count": 1,
   "metadata": {},
   "outputs": [
    {
     "name": "stdout",
     "output_type": "stream",
     "text": [
      "Hello Python\n",
      "Happy Diwali\n",
      "Machine Learning\n",
      "****************************************\n",
      "\n",
      "Hello Python\n",
      "Happy Diwali\n",
      "Machine Learning\n",
      "****************************************\n",
      "\n",
      "Hello Python\n",
      "Happy Diwali\n",
      "Machine Learning\n",
      "****************************************\n",
      "\n"
     ]
    }
   ],
   "source": [
    "for i in range(3):\n",
    "    print(\"Hello Python\")\n",
    "    print(\"Happy Diwali\")\n",
    "    print(\"Machine Learning\")\n",
    "    print(\"*\"*40)\n",
    "    print()\n",
    "    \n",
    "# Hello Python\n",
    "# Happy Diwali\n",
    "# Machine Learning\n",
    "# ******************************\n",
    "\n",
    "# Hello Python\n",
    "# Happy Diwali\n",
    "# Machine Learning\n",
    "# ******************************\n",
    "\n",
    "# Hello Python\n",
    "# Happy Diwali\n",
    "# Machine Learning\n",
    "# ******************************\n"
   ]
  },
  {
   "cell_type": "code",
   "execution_count": 2,
   "metadata": {},
   "outputs": [
    {
     "name": "stdout",
     "output_type": "stream",
     "text": [
      "Hello Python\n",
      "Happy Diwali\n",
      "Machine Learning\n",
      "Hello Python\n",
      "Happy Diwali\n",
      "Machine Learning\n",
      "Hello Python\n",
      "Happy Diwali\n",
      "Machine Learning\n"
     ]
    }
   ],
   "source": [
    "for i in range(3):\n",
    "    print(\"Hello Python\")\n",
    "    print(\"Happy Diwali\")\n",
    "    print(\"Machine Learning\")\n",
    "    "
   ]
  },
  {
   "cell_type": "code",
   "execution_count": 4,
   "metadata": {},
   "outputs": [
    {
     "name": "stdout",
     "output_type": "stream",
     "text": [
      "\n",
      "2 * 1 = 2\n",
      "2 * 2 = 4\n",
      "2 * 3 = 6\n",
      "2 * 4 = 8\n",
      "2 * 5 = 10\n",
      "2 * 6 = 12\n",
      "2 * 7 = 14\n",
      "2 * 8 = 16\n",
      "2 * 9 = 18\n",
      "2 * 10 = 20\n",
      "\n",
      "3 * 1 = 3\n",
      "3 * 2 = 6\n",
      "3 * 3 = 9\n",
      "3 * 4 = 12\n",
      "3 * 5 = 15\n",
      "3 * 6 = 18\n",
      "3 * 7 = 21\n",
      "3 * 8 = 24\n",
      "3 * 9 = 27\n",
      "3 * 10 = 30\n",
      "\n",
      "4 * 1 = 4\n",
      "4 * 2 = 8\n",
      "4 * 3 = 12\n",
      "4 * 4 = 16\n",
      "4 * 5 = 20\n",
      "4 * 6 = 24\n",
      "4 * 7 = 28\n",
      "4 * 8 = 32\n",
      "4 * 9 = 36\n",
      "4 * 10 = 40\n"
     ]
    }
   ],
   "source": [
    "for i in range(2,5):\n",
    "    print()\n",
    "    for j in range(1,11):\n",
    "        print(i, \"*\" ,j, \"=\" ,i*j)"
   ]
  },
  {
   "cell_type": "code",
   "execution_count": 4,
   "metadata": {},
   "outputs": [
    {
     "name": "stdout",
     "output_type": "stream",
     "text": [
      "Hello Python\n",
      "Happy Diwali\n",
      "Machine Learning\n",
      "I love Velocity\n",
      "Good Morning\n",
      "****************************************\n",
      "I love Velocity\n",
      "Good Morning\n",
      "****************************************\n",
      "I love Velocity\n",
      "Good Morning\n",
      "****************************************\n",
      "I love Velocity\n",
      "Good Morning\n",
      "****************************************\n",
      "Hello Python\n",
      "Happy Diwali\n",
      "Machine Learning\n",
      "I love Velocity\n",
      "Good Morning\n",
      "****************************************\n",
      "I love Velocity\n",
      "Good Morning\n",
      "****************************************\n",
      "I love Velocity\n",
      "Good Morning\n",
      "****************************************\n",
      "I love Velocity\n",
      "Good Morning\n",
      "****************************************\n",
      "Hello Python\n",
      "Happy Diwali\n",
      "Machine Learning\n",
      "I love Velocity\n",
      "Good Morning\n",
      "****************************************\n",
      "I love Velocity\n",
      "Good Morning\n",
      "****************************************\n",
      "I love Velocity\n",
      "Good Morning\n",
      "****************************************\n",
      "I love Velocity\n",
      "Good Morning\n",
      "****************************************\n"
     ]
    }
   ],
   "source": [
    "for i in range(3):          #i=0    (0,1,2)\n",
    "    print(\"Hello Python\")\n",
    "    print(\"Happy Diwali\")\n",
    "    print(\"Machine Learning\")\n",
    "    for j in range(4):     #j=0     (0,1,2,3)\n",
    "        print(\"I love Velocity\")\n",
    "        print(\"Good Morning\")\n",
    "        print(\"*\"*40)\n",
    "        \n",
    "# Hello Python\n",
    "# Happy Diwali\n",
    "# Machine Learning\n",
    "# I love velocity\n",
    "# Good morning\n",
    "# I love velocity\n",
    "# Good morning\n",
    "# I love velocity\n",
    "# Good morning\n",
    "# I love velocity\n",
    "# Good morning\n",
    "\n",
    "# Hello Python\n",
    "# Happy Diwali\n",
    "# Machine Learning\n",
    "# I love velocity\n",
    "# Good morning\n",
    "# I love velocity\n",
    "# Good morning\n",
    "# I love velocity\n",
    "# Good morning\n",
    "# I love velocity\n",
    "# Good morning\n",
    "\n",
    "# Hello Python\n",
    "# Happy Diwali\n",
    "# Machine Learning\n",
    "# I love velocity\n",
    "# Good morning\n",
    "# I love velocity\n",
    "# Good morning\n",
    "# I love velocity\n",
    "# Good morning\n",
    "# I love velocity\n",
    "# Good morning\n",
    "\n"
   ]
  },
  {
   "cell_type": "code",
   "execution_count": 11,
   "metadata": {},
   "outputs": [
    {
     "name": "stdout",
     "output_type": "stream",
     "text": [
      "\n",
      "Iteration==0\n",
      "Data Science\n",
      "Data Science\n",
      "Data Science\n",
      "\n",
      "Iteration==1\n",
      "Data Science\n",
      "Data Science\n",
      "Data Science\n",
      "\n",
      "Iteration==2\n",
      "Data Science\n",
      "Data Science\n",
      "Data Science\n",
      "\n",
      "Iteration==3\n",
      "Data Science\n",
      "Data Science\n",
      "Data Science\n",
      "\n",
      "Iteration==4\n",
      "Data Science\n",
      "Data Science\n",
      "Data Science\n"
     ]
    }
   ],
   "source": [
    "for i in range(5):\n",
    "    print()\n",
    "    print(f\"Iteration=={i}\")\n",
    "    \n",
    "    for j in range(3):\n",
    "        print(\"Data Science\")\n",
    "        \n",
    "        \n",
    "# Iteration==0\n",
    "# Data Science\n",
    "# Data Science\n",
    "# Data Science\n",
    "\n",
    "# Iteration==1\n",
    "# Data Science\n",
    "# Data Science\n",
    "# Data Science\n",
    "\n",
    "# Iteration==2\n",
    "# Data Science\n",
    "# Data Science\n",
    "# Data Science\n",
    "\n",
    "# Iteration==3\n",
    "# Data Science\n",
    "# Data Science\n",
    "# Data Science\n",
    "\n",
    "# Iteration==4\n",
    "# Data Science\n",
    "# Data Science\n",
    "# Data Science"
   ]
  },
  {
   "cell_type": "code",
   "execution_count": 13,
   "metadata": {},
   "outputs": [
    {
     "name": "stdout",
     "output_type": "stream",
     "text": [
      "1\n",
      "2\n",
      "3\n"
     ]
    }
   ],
   "source": [
    "list1=[1,2,3]\n",
    "\n",
    "var1,var2,var3=list1\n",
    "\n",
    "print(var1)\n",
    "print(var2)\n",
    "print(var3)\n"
   ]
  },
  {
   "cell_type": "code",
   "execution_count": null,
   "metadata": {},
   "outputs": [],
   "source": []
  }
 ],
 "metadata": {
  "kernelspec": {
   "display_name": "Python 3 (ipykernel)",
   "language": "python",
   "name": "python3"
  },
  "language_info": {
   "codemirror_mode": {
    "name": "ipython",
    "version": 3
   },
   "file_extension": ".py",
   "mimetype": "text/x-python",
   "name": "python",
   "nbconvert_exporter": "python",
   "pygments_lexer": "ipython3",
   "version": "3.9.12"
  }
 },
 "nbformat": 4,
 "nbformat_minor": 4
}
