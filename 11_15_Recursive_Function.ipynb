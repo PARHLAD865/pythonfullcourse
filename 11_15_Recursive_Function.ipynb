{
 "cells": [
  {
   "cell_type": "markdown",
   "metadata": {},
   "source": [
    "### Recursive Function:"
   ]
  },
  {
   "cell_type": "code",
   "execution_count": null,
   "metadata": {},
   "outputs": [],
   "source": [
    "If Function is calling to itself or any other function this type of construct is called recursive Function\n",
    "\n",
    "there are 2 types of recursive function/depends upon recursive program\n",
    "\n",
    "1 factorial\n",
    "2 febonasii"
   ]
  },
  {
   "cell_type": "code",
   "execution_count": null,
   "metadata": {},
   "outputs": [],
   "source": [
    ">> Advantage:\n",
    "    1) Recursion makes the code clean and compact\n",
    "    2) A complex task can be broken down in simplest sub problems using recursion\n",
    "    3) Sequence generation is easy in recursion.\n",
    "    \n",
    "    Disadvantage:\n",
    "    1) Sometimes the logic behind recursion is hard to followe.\n",
    "    2) Recursion is taking alot of memory and computation power.\n",
    "    3) Recursion function is hard to debug.\n",
    "    "
   ]
  },
  {
   "cell_type": "code",
   "execution_count": 1,
   "metadata": {},
   "outputs": [
    {
     "name": "stdout",
     "output_type": "stream",
     "text": [
      "this is Me\n"
     ]
    }
   ],
   "source": [
    "def print2(str1):\n",
    "\n",
    "    print(\"this is \"+ str1)\n",
    "print2(\"Me\")\n",
    "    "
   ]
  },
  {
   "cell_type": "code",
   "execution_count": 1,
   "metadata": {},
   "outputs": [],
   "source": [
    "def my_fun():\n",
    "    print(\"We are learning python function\")\n",
    "    print(\"Machine Learning\")\n",
    "    x=15\n",
    "    y=10\n",
    "    div=x/y\n",
    "    return div"
   ]
  },
  {
   "cell_type": "code",
   "execution_count": 2,
   "metadata": {},
   "outputs": [
    {
     "name": "stdout",
     "output_type": "stream",
     "text": [
      "We are learning python function\n",
      "Machine Learning\n"
     ]
    },
    {
     "data": {
      "text/plain": [
       "1.5"
      ]
     },
     "execution_count": 2,
     "metadata": {},
     "output_type": "execute_result"
    }
   ],
   "source": [
    "my_fun()"
   ]
  },
  {
   "cell_type": "code",
   "execution_count": 3,
   "metadata": {},
   "outputs": [],
   "source": [
    "def my_fun(x,y):\n",
    "    print(\"We are learning python function\")\n",
    "    print(\"Machine Learning\")\n",
    "#     x=15\n",
    "#     y=10\n",
    "    div=x/y\n",
    "    return div"
   ]
  },
  {
   "cell_type": "code",
   "execution_count": 4,
   "metadata": {},
   "outputs": [
    {
     "name": "stdout",
     "output_type": "stream",
     "text": [
      "We are learning python function\n",
      "Machine Learning\n"
     ]
    },
    {
     "data": {
      "text/plain": [
       "5.0"
      ]
     },
     "execution_count": 4,
     "metadata": {},
     "output_type": "execute_result"
    }
   ],
   "source": [
    "my_fun(10,2)"
   ]
  },
  {
   "cell_type": "code",
   "execution_count": 5,
   "metadata": {},
   "outputs": [],
   "source": [
    "def my_fun():\n",
    "    print(\"We are learning python function\")\n",
    "    print(\"Machine Learning\")\n",
    "    x=15\n",
    "    y=10\n",
    "    div=x/y\n",
    "    return 10000"
   ]
  },
  {
   "cell_type": "code",
   "execution_count": 6,
   "metadata": {},
   "outputs": [
    {
     "name": "stdout",
     "output_type": "stream",
     "text": [
      "We are learning python function\n",
      "Machine Learning\n"
     ]
    },
    {
     "data": {
      "text/plain": [
       "10000"
      ]
     },
     "execution_count": 6,
     "metadata": {},
     "output_type": "execute_result"
    }
   ],
   "source": [
    "my_fun()"
   ]
  },
  {
   "cell_type": "code",
   "execution_count": 7,
   "metadata": {},
   "outputs": [],
   "source": [
    "def my_fun():\n",
    "    print(\"We are learning python function\")\n",
    "    print(\"Machine Learning\")\n",
    "    x=15\n",
    "    y=10\n",
    "    div=x/y\n",
    "    mul= x*y\n",
    "    return 'Python is great language'"
   ]
  },
  {
   "cell_type": "code",
   "execution_count": 8,
   "metadata": {},
   "outputs": [
    {
     "name": "stdout",
     "output_type": "stream",
     "text": [
      "We are learning python function\n",
      "Machine Learning\n"
     ]
    },
    {
     "data": {
      "text/plain": [
       "'Python is great language'"
      ]
     },
     "execution_count": 8,
     "metadata": {},
     "output_type": "execute_result"
    }
   ],
   "source": [
    "my_fun()"
   ]
  },
  {
   "cell_type": "code",
   "execution_count": 9,
   "metadata": {},
   "outputs": [],
   "source": [
    "def my_fun():\n",
    "    print(\"We are learning python function\")\n",
    "    print(\"Machine Learning\")\n",
    "    x=15\n",
    "    y=10\n",
    "    div=x/y\n",
    "    mul= x*y\n",
    "    return mul"
   ]
  },
  {
   "cell_type": "code",
   "execution_count": 10,
   "metadata": {},
   "outputs": [
    {
     "name": "stdout",
     "output_type": "stream",
     "text": [
      "We are learning python function\n",
      "Machine Learning\n"
     ]
    },
    {
     "data": {
      "text/plain": [
       "150"
      ]
     },
     "execution_count": 10,
     "metadata": {},
     "output_type": "execute_result"
    }
   ],
   "source": [
    "my_fun()"
   ]
  },
  {
   "cell_type": "code",
   "execution_count": 11,
   "metadata": {},
   "outputs": [],
   "source": [
    "def get_even_odd(x):\n",
    "    if x%2==0:\n",
    "        print(\"Even Number\")\n",
    "    else:\n",
    "        print(\"Odd Number\")"
   ]
  },
  {
   "cell_type": "code",
   "execution_count": 12,
   "metadata": {},
   "outputs": [
    {
     "name": "stdout",
     "output_type": "stream",
     "text": [
      "Odd Number\n"
     ]
    }
   ],
   "source": [
    "get_even_odd(45)"
   ]
  },
  {
   "cell_type": "code",
   "execution_count": 13,
   "metadata": {},
   "outputs": [
    {
     "name": "stdout",
     "output_type": "stream",
     "text": [
      "Even Number\n"
     ]
    }
   ],
   "source": [
    "get_even_odd(20)"
   ]
  },
  {
   "cell_type": "code",
   "execution_count": 14,
   "metadata": {},
   "outputs": [
    {
     "name": "stdout",
     "output_type": "stream",
     "text": [
      "Even Number\n"
     ]
    }
   ],
   "source": [
    "get_even_odd(2)"
   ]
  },
  {
   "cell_type": "code",
   "execution_count": 15,
   "metadata": {},
   "outputs": [
    {
     "name": "stdout",
     "output_type": "stream",
     "text": [
      "Odd Number\n"
     ]
    }
   ],
   "source": [
    "get_even_odd(1)"
   ]
  },
  {
   "cell_type": "code",
   "execution_count": null,
   "metadata": {},
   "outputs": [],
   "source": [
    "# If number is even then return its square and if odd returns its cube."
   ]
  },
  {
   "cell_type": "code",
   "execution_count": 16,
   "metadata": {},
   "outputs": [],
   "source": [
    "def get_even_odd(x):\n",
    "    if x%2==0:\n",
    "        print(f\"Square of {x} is {x**2}\")\n",
    "    else:\n",
    "        print(f\"Cube of {x} is {x**3}\")"
   ]
  },
  {
   "cell_type": "code",
   "execution_count": 17,
   "metadata": {},
   "outputs": [
    {
     "name": "stdout",
     "output_type": "stream",
     "text": [
      "Cube of 3 is 27\n"
     ]
    }
   ],
   "source": [
    "get_even_odd(3)"
   ]
  },
  {
   "cell_type": "code",
   "execution_count": 18,
   "metadata": {},
   "outputs": [],
   "source": [
    "def get_even_odd(x):\n",
    "    if x%2==0:\n",
    "        return f\"Square of {x} is {x**2}\"\n",
    "    else:\n",
    "        return f\"Cube of {x} is {x**3}\""
   ]
  },
  {
   "cell_type": "code",
   "execution_count": 19,
   "metadata": {},
   "outputs": [
    {
     "data": {
      "text/plain": [
       "'Square of 6 is 36'"
      ]
     },
     "execution_count": 19,
     "metadata": {},
     "output_type": "execute_result"
    }
   ],
   "source": [
    "get_even_odd(6)"
   ]
  },
  {
   "cell_type": "code",
   "execution_count": 20,
   "metadata": {},
   "outputs": [
    {
     "data": {
      "text/plain": [
       "'Cube of 5 is 125'"
      ]
     },
     "execution_count": 20,
     "metadata": {},
     "output_type": "execute_result"
    }
   ],
   "source": [
    "get_even_odd(5)"
   ]
  },
  {
   "cell_type": "markdown",
   "metadata": {},
   "source": [
    ">> If Function is calling to itself or any other function this type of construct is called recursive Function"
   ]
  },
  {
   "cell_type": "code",
   "execution_count": 23,
   "metadata": {},
   "outputs": [],
   "source": [
    "def test():\n",
    "    print(\"Testing\")\n",
    "    print(\"*\"*30)\n",
    "    return 100"
   ]
  },
  {
   "cell_type": "code",
   "execution_count": 24,
   "metadata": {},
   "outputs": [
    {
     "name": "stdout",
     "output_type": "stream",
     "text": [
      "Testing\n",
      "******************************\n"
     ]
    },
    {
     "data": {
      "text/plain": [
       "100"
      ]
     },
     "execution_count": 24,
     "metadata": {},
     "output_type": "execute_result"
    }
   ],
   "source": [
    "test()"
   ]
  },
  {
   "cell_type": "code",
   "execution_count": 28,
   "metadata": {},
   "outputs": [],
   "source": [
    "def test():\n",
    "    print(\"Testing\")\n",
    "    print(\"*\"*30)\n",
    "    return test()\n",
    "#test()"
   ]
  },
  {
   "cell_type": "code",
   "execution_count": null,
   "metadata": {},
   "outputs": [],
   "source": [
    "Factorial:"
   ]
  },
  {
   "cell_type": "code",
   "execution_count": 29,
   "metadata": {},
   "outputs": [],
   "source": [
    "def factorial(n):\n",
    "    fact=1\n",
    "    for i in range (1,n+1):\n",
    "        fact*=i\n",
    "    print(f\"Factorial of {n} is {fact}\")\n",
    "    return fact"
   ]
  },
  {
   "cell_type": "code",
   "execution_count": 30,
   "metadata": {},
   "outputs": [
    {
     "name": "stdout",
     "output_type": "stream",
     "text": [
      "Factorial of 5 is 120\n"
     ]
    },
    {
     "data": {
      "text/plain": [
       "120"
      ]
     },
     "execution_count": 30,
     "metadata": {},
     "output_type": "execute_result"
    }
   ],
   "source": [
    "factorial(5)"
   ]
  },
  {
   "cell_type": "code",
   "execution_count": 31,
   "metadata": {},
   "outputs": [
    {
     "name": "stdout",
     "output_type": "stream",
     "text": [
      "Factorial of 1 is 1\n"
     ]
    },
    {
     "data": {
      "text/plain": [
       "1"
      ]
     },
     "execution_count": 31,
     "metadata": {},
     "output_type": "execute_result"
    }
   ],
   "source": [
    "factorial(1)"
   ]
  },
  {
   "cell_type": "code",
   "execution_count": 13,
   "metadata": {},
   "outputs": [],
   "source": [
    "def factorial(n):\n",
    "    fact = 1\n",
    "    for i in range(n):\n",
    "        fact = fact * (i + 1)\n",
    "    return fact"
   ]
  },
  {
   "cell_type": "code",
   "execution_count": 14,
   "metadata": {},
   "outputs": [
    {
     "data": {
      "text/plain": [
       "120"
      ]
     },
     "execution_count": 14,
     "metadata": {},
     "output_type": "execute_result"
    }
   ],
   "source": [
    "factorial(5)"
   ]
  },
  {
   "cell_type": "code",
   "execution_count": null,
   "metadata": {},
   "outputs": [],
   "source": [
    "num=5\n",
    "num==1 return 1\n",
    "num= num* factorial(num-1)\n",
    "      5*factorial(5-1) #4\n",
    "      5*Factorial(4)==120\n",
    "      4* factorial(3)\n",
    "      3* factorial (2)\n",
    "      2* factorial(1)\n",
    "    return 1"
   ]
  },
  {
   "cell_type": "code",
   "execution_count": 32,
   "metadata": {},
   "outputs": [],
   "source": [
    "def factorial(num):\n",
    "    return 1 if num==1 else (num*factorial(num-1))"
   ]
  },
  {
   "cell_type": "code",
   "execution_count": 33,
   "metadata": {},
   "outputs": [
    {
     "data": {
      "text/plain": [
       "120"
      ]
     },
     "execution_count": 33,
     "metadata": {},
     "output_type": "execute_result"
    }
   ],
   "source": [
    "factorial(5)"
   ]
  },
  {
   "cell_type": "code",
   "execution_count": 1,
   "metadata": {},
   "outputs": [],
   "source": [
    "def factorial (n):     #n=5\n",
    "    if n==1:           #false\n",
    "        return 1\n",
    "    else:\n",
    "        return n*factorial(n-1)  # 5 * fact(4) =5*4*3*2*1\n",
    "    \n",
    "def factorial (n):     #n=4\n",
    "    if n==1:           #false\n",
    "        return 1\n",
    "    else:\n",
    "        return n*factorial(n-1)  # 4 * fact(3) =4*3*2*1\n",
    "    \n",
    "def factorial (n):     #n=3\n",
    "    if n==1:           #false\n",
    "        return 1\n",
    "    else:\n",
    "        return n*factorial(n-1)  # 3 * fact(2) =3*2*1\n",
    "    \n",
    "def factorial (n):     #n=2\n",
    "    if n==1:           #false\n",
    "        return 1\n",
    "    else:\n",
    "        return n*factorial(n-1)  # 2 * fact(1) =2*1\n",
    "    \n",
    "def factorial (n):     #n=1\n",
    "    if n==1:           #True\n",
    "        return 1      # 1\n",
    "    else:\n",
    "        return n*factorial(n-1)  "
   ]
  },
  {
   "cell_type": "code",
   "execution_count": null,
   "metadata": {},
   "outputs": [],
   "source": [
    "Fibonacci:\n",
    ">> Series= 0 1 1 2 3 5 8 13 21"
   ]
  },
  {
   "cell_type": "code",
   "execution_count": 17,
   "metadata": {},
   "outputs": [],
   "source": [
    "def fibonacci(n):\n",
    "    first,second=0,1\n",
    "    print(\"Fibonacci Series:\",first,second,end=\" \")\n",
    "    \n",
    "    for i in range(n-2):\n",
    "        first,second=second,first+second\n",
    "        print(second,end=\" \")\n",
    "        "
   ]
  },
  {
   "cell_type": "code",
   "execution_count": 8,
   "metadata": {},
   "outputs": [],
   "source": [
    "def fibo(num):\n",
    "    first=0\n",
    "    second=1\n",
    "    print(\"fibo series:\",end=\" \")\n",
    "    for i in range(num-2):\n",
    "        first=second\n",
    "        second=first+second\n",
    "        print(second,end=\" \")\n",
    "    "
   ]
  },
  {
   "cell_type": "code",
   "execution_count": 19,
   "metadata": {},
   "outputs": [
    {
     "name": "stdout",
     "output_type": "stream",
     "text": [
      "Fibonacci Series: 0 1 1 2 3 5 "
     ]
    }
   ],
   "source": [
    "fibonacci(6)"
   ]
  },
  {
   "cell_type": "code",
   "execution_count": 17,
   "metadata": {},
   "outputs": [
    {
     "name": "stdout",
     "output_type": "stream",
     "text": [
      "Fibonacci Series: 0 1 "
     ]
    }
   ],
   "source": [
    "fibonacci(1)"
   ]
  },
  {
   "cell_type": "code",
   "execution_count": 35,
   "metadata": {},
   "outputs": [
    {
     "name": "stdout",
     "output_type": "stream",
     "text": [
      "Fibonacci Series: 0 1 1 2 3 5 8 13 "
     ]
    }
   ],
   "source": [
    "fibonacci(8)"
   ]
  },
  {
   "cell_type": "code",
   "execution_count": 36,
   "metadata": {},
   "outputs": [
    {
     "name": "stdout",
     "output_type": "stream",
     "text": [
      "Fibonacci Series: 0 1 1 2 3 5 8 13 21 34 "
     ]
    }
   ],
   "source": [
    "fibonacci(10)"
   ]
  },
  {
   "cell_type": "code",
   "execution_count": 20,
   "metadata": {},
   "outputs": [],
   "source": [
    "def fibonacci(num):\n",
    "    return num if num <=1 else fibonacci(num-1)+fibonacci(num-2)"
   ]
  },
  {
   "cell_type": "code",
   "execution_count": 16,
   "metadata": {},
   "outputs": [
    {
     "data": {
      "text/plain": [
       "5"
      ]
     },
     "execution_count": 16,
     "metadata": {},
     "output_type": "execute_result"
    }
   ],
   "source": [
    "fibonacci(5)"
   ]
  },
  {
   "cell_type": "code",
   "execution_count": 21,
   "metadata": {},
   "outputs": [
    {
     "name": "stdout",
     "output_type": "stream",
     "text": [
      "0\n",
      "1\n",
      "1\n",
      "2\n",
      "3\n"
     ]
    }
   ],
   "source": [
    "num=5\n",
    "for num in range(num):\n",
    "    print(fibonacci(num))"
   ]
  },
  {
   "cell_type": "code",
   "execution_count": 41,
   "metadata": {},
   "outputs": [
    {
     "name": "stdout",
     "output_type": "stream",
     "text": [
      "0\n",
      "1\n",
      "1\n",
      "2\n",
      "3\n",
      "5\n",
      "8\n",
      "13\n",
      "21\n",
      "34\n"
     ]
    }
   ],
   "source": [
    "num=10\n",
    "for num in range(num):\n",
    "    print(fibonacci(num))"
   ]
  },
  {
   "cell_type": "code",
   "execution_count": 42,
   "metadata": {},
   "outputs": [
    {
     "name": "stdout",
     "output_type": "stream",
     "text": [
      "0\n",
      "1\n",
      "1\n",
      "2\n",
      "3\n",
      "5\n",
      "8\n",
      "13\n",
      "21\n",
      "34\n",
      "55\n",
      "89\n",
      "144\n",
      "233\n",
      "377\n",
      "610\n",
      "987\n",
      "1597\n",
      "2584\n",
      "4181\n"
     ]
    }
   ],
   "source": [
    "num=20\n",
    "for num in range(num):\n",
    "    print(fibonacci(num))"
   ]
  },
  {
   "cell_type": "code",
   "execution_count": null,
   "metadata": {},
   "outputs": [],
   "source": [
    ">> Advantage:\n",
    "    1) Recursion makes the code clean and compact\n",
    "    2) A complex task can be broken down in simplest sub problems using recursion\n",
    "    3) Sequence generation is easy in recursion.\n",
    "    \n",
    "    Disadvantage:\n",
    "    1) Sometimes the logic behind recursion is hard to followe.\n",
    "    2) Recursion is taking alot of memory and computation power.\n",
    "    3) Recursion function is hard to debug.\n",
    "    \n"
   ]
  },
  {
   "cell_type": "code",
   "execution_count": 46,
   "metadata": {},
   "outputs": [
    {
     "name": "stdout",
     "output_type": "stream",
     "text": [
      "[('rahul', 4), ('viraj', 5), ('rohit', 6), ('raj', 7)]\n"
     ]
    }
   ],
   "source": [
    "name=[\"rahul\",\"viraj\",\"rohit\",\"raj\"]\n",
    "roll_no=[4,5,6,7]\n",
    "\n",
    "var= zip(name,roll_no)\n",
    "\n",
    "print(list(var))\n"
   ]
  },
  {
   "cell_type": "code",
   "execution_count": 50,
   "metadata": {},
   "outputs": [
    {
     "name": "stdout",
     "output_type": "stream",
     "text": [
      "{('b', 2), ('c', 3), ('a', 1)}\n"
     ]
    }
   ],
   "source": [
    "name=[\"a\",\"b\",\"c\"]\n",
    "val=[1,2,3]\n",
    "\n",
    "list1=zip(name,val)\n",
    "\n",
    "print(set(list1))"
   ]
  },
  {
   "cell_type": "code",
   "execution_count": null,
   "metadata": {},
   "outputs": [],
   "source": [
    ">> Modules & Packages:\n",
    ">> OS \n",
    ">> Try-Except\n",
    ">> Regular Expressions (Regex)\n",
    ">> OOPS \n",
    ">> Pandas \n",
    ">> Numpy"
   ]
  },
  {
   "cell_type": "code",
   "execution_count": null,
   "metadata": {},
   "outputs": [],
   "source": [
    "Machine Learning:\n",
    "1) Linear regression   (Flask,AWS(Amazon Web Services)) Scalling\n",
    "2) Logistic Regression\n",
    "3) Svm\n",
    "4) KNN    # Euclidial,Manhattan, Minkoski,Multicollinearity,Dimentionality\n",
    "5) Naive Bayes\n",
    "6) Ensombles(RF,XGBoost)\n",
    "7) Decision Tree\n",
    "\n",
    "EDA \n",
    "Feature Selection methods\n",
    "Dimentionality reduction\n",
    "Multicollinearity\n"
   ]
  },
  {
   "cell_type": "code",
   "execution_count": null,
   "metadata": {},
   "outputs": [],
   "source": []
  },
  {
   "cell_type": "code",
   "execution_count": null,
   "metadata": {},
   "outputs": [],
   "source": []
  },
  {
   "cell_type": "code",
   "execution_count": null,
   "metadata": {},
   "outputs": [],
   "source": []
  },
  {
   "cell_type": "code",
   "execution_count": null,
   "metadata": {},
   "outputs": [],
   "source": []
  },
  {
   "cell_type": "code",
   "execution_count": null,
   "metadata": {},
   "outputs": [],
   "source": []
  },
  {
   "cell_type": "code",
   "execution_count": null,
   "metadata": {},
   "outputs": [],
   "source": []
  }
 ],
 "metadata": {
  "kernelspec": {
   "display_name": "Python 3 (ipykernel)",
   "language": "python",
   "name": "python3"
  },
  "language_info": {
   "codemirror_mode": {
    "name": "ipython",
    "version": 3
   },
   "file_extension": ".py",
   "mimetype": "text/x-python",
   "name": "python",
   "nbconvert_exporter": "python",
   "pygments_lexer": "ipython3",
   "version": "3.9.12"
  }
 },
 "nbformat": 4,
 "nbformat_minor": 4
}
