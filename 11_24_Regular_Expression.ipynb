{
 "cells": [
  {
   "cell_type": "markdown",
   "metadata": {},
   "source": [
    "# Regular_Expression:"
   ]
  },
  {
   "cell_type": "code",
   "execution_count": null,
   "metadata": {},
   "outputs": [],
   "source": [
    "7.\\b:"
   ]
  },
  {
   "cell_type": "code",
   "execution_count": null,
   "metadata": {},
   "outputs": [],
   "source": [
    "\\d>> [0-9]\n",
    "\\D >>[^0-9]\n",
    "\\w>> [a-zA-z0-9_]\n",
    "\\W>> [^a-zA-z0-9_]\n",
    "\\s>>[ ] >>Space\n",
    "\\S>> [^ ] >> Except Space"
   ]
  },
  {
   "cell_type": "code",
   "execution_count": null,
   "metadata": {},
   "outputs": [],
   "source": [
    "import re \n",
    "\n",
    "text=\"\"\" Aadhar Card Number is:\n",
    "         2345 7890 7654    #valid\n",
    "         4567 71234 6547   #invalid\n",
    "         9876 8996 4563    #valid\n",
    "         8978 5656 456789  #invalid\n",
    "         12345 5656 123456 #invalid\n",
    "     \"\"\"\n",
    "\n",
    "result= re.findall(\"\\d{4}\\s\\d{4}\\s\\d{4}\",text)"
   ]
  },
  {
   "cell_type": "code",
   "execution_count": null,
   "metadata": {},
   "outputs": [],
   "source": [
    "Domain Experties>>\n",
    "Research Phase>>Problem Statement\n",
    "\n",
    ">> Western Union >> Overseas money transfer >> 6000==Rs60/- \n",
    "\n",
    "1. Catch maximum no of fraud  \n",
    "2. Maximise the no of transactions\n",
    "\n",
    "Data Collection(Bureau-Experian,CIBIL)>> client\n",
    "\n",
    "1.virat kohli >> name last name dob application no  ssn pan   >> 155\n",
    "                 how many accounts                            >> 350\n",
    "                                                               600/- variable\n",
    "        \n",
    "        output>> \n",
    "2. data Cleaning:\n",
    "3. EDA: Appliction receive date   >> 25/11/22\n",
    "        Loan book date            >> 24/11/22\n",
    "        \n",
    "Height>> Age>>80,Gender>>77,area of existance>>60, colour of skin>>50\n",
    "Feature reduction methods>>\n",
    "VIF\n",
    "Multicollinearity\n",
    "Forward feature selection\n",
    "Wrapper method\n"
   ]
  },
  {
   "cell_type": "code",
   "execution_count": null,
   "metadata": {},
   "outputs": [],
   "source": [
    "df[\"Application_date\"]\n",
    "df[\"Loan_Date\"]"
   ]
  },
  {
   "cell_type": "code",
   "execution_count": null,
   "metadata": {},
   "outputs": [],
   "source": [
    "matplotlib \n",
    "seaborn\n",
    "plotly"
   ]
  },
  {
   "cell_type": "code",
   "execution_count": 1,
   "metadata": {},
   "outputs": [
    {
     "data": {
      "text/plain": [
       "['2345 7890 7654', '9876 8996 4563', '8978 5656 4567', '2345 5656 1234']"
      ]
     },
     "execution_count": 1,
     "metadata": {},
     "output_type": "execute_result"
    }
   ],
   "source": [
    "import re \n",
    "\n",
    "text=\"\"\" Aadhar Card Number is:\n",
    "         2345 7890 7654    #valid\n",
    "         4567 71234 6547   #invalid\n",
    "         9876 8996 4563    #valid\n",
    "         8978 5656 456789  #invalid\n",
    "         12345 5656 123456 #invalid\n",
    "     \"\"\"\n",
    "\n",
    "result= re.findall(\"\\d{4}\\s\\d{4}\\s\\d{4}\",text)\n",
    "result"
   ]
  },
  {
   "cell_type": "code",
   "execution_count": 2,
   "metadata": {},
   "outputs": [
    {
     "data": {
      "text/plain": [
       "['2345 7890 7654', '9876 8996 4563']"
      ]
     },
     "execution_count": 2,
     "metadata": {},
     "output_type": "execute_result"
    }
   ],
   "source": [
    "import re \n",
    "\n",
    "text=\"\"\" Aadhar Card Number is:\n",
    "         2345 7890 7654    #valid\n",
    "         4567 71234 6547   #invalid\n",
    "         9876 8996 4563    #valid\n",
    "         8978 5656 456789  #invalid\n",
    "         12345 5656 123456 #invalid\n",
    "     \"\"\"\n",
    "\n",
    "result= re.findall(r\"\\b\\d{4}\\s\\d{4}\\s\\d{4}\\b\",text)\n",
    "result"
   ]
  },
  {
   "cell_type": "code",
   "execution_count": 3,
   "metadata": {},
   "outputs": [
    {
     "data": {
      "text/plain": [
       "['2345 7890 7654', '9876 8996 4563', '8978 5656 4567']"
      ]
     },
     "execution_count": 3,
     "metadata": {},
     "output_type": "execute_result"
    }
   ],
   "source": [
    "import re \n",
    "\n",
    "text=\"\"\" Aadhar Card Number is:\n",
    "         2345 7890 7654    #valid\n",
    "         4567 71234 6547   #invalid\n",
    "         9876 8996 4563    #valid\n",
    "         8978 5656 456789  #invalid\n",
    "         12345 5656 123456 #invalid\n",
    "     \"\"\"\n",
    "\n",
    "result= re.findall(r\"\\b\\d{4}\\s\\d{4}\\s\\d{4}\",text)\n",
    "result"
   ]
  },
  {
   "cell_type": "code",
   "execution_count": 4,
   "metadata": {},
   "outputs": [
    {
     "data": {
      "text/plain": [
       "['2345 7890 7654', '9876 8996 4563']"
      ]
     },
     "execution_count": 4,
     "metadata": {},
     "output_type": "execute_result"
    }
   ],
   "source": [
    "import re \n",
    "\n",
    "text=\"\"\" Aadhar Card Number is:\n",
    "         2345 7890 7654    #valid\n",
    "         4567 71234 6547   #invalid\n",
    "         9876 8996 4563    #valid\n",
    "         8978 5656 456789  #invalid\n",
    "         12345 5656 123456 #invalid\n",
    "     \"\"\"\n",
    "\n",
    "result= re.findall(r\"\\d{4}\\s\\d{4}\\s\\d{4}\\b\",text)\n",
    "result"
   ]
  },
  {
   "cell_type": "code",
   "execution_count": 5,
   "metadata": {},
   "outputs": [
    {
     "data": {
      "text/plain": [
       "['2345 7890 7654', '9876 8996 4563']"
      ]
     },
     "execution_count": 5,
     "metadata": {},
     "output_type": "execute_result"
    }
   ],
   "source": [
    "import re \n",
    "\n",
    "text=\"\"\" Aadhar Card Number is:\n",
    "         2345 7890 7654    #valid\n",
    "         4567 71234 6547   #invalid\n",
    "         9876 8996 4563    #valid\n",
    "         8978 5656 456789  #invalid\n",
    "         12345 5656 123456 #invalid\n",
    "     \"\"\"\n",
    "\n",
    "result= re.findall(r\"\\b\\d{4}\\s\\d{4}\\s\\d{4}\\b\",text)\n",
    "result"
   ]
  },
  {
   "cell_type": "code",
   "execution_count": 7,
   "metadata": {},
   "outputs": [
    {
     "ename": "ModuleNotFoundError",
     "evalue": "No module named 'pytesseract'",
     "output_type": "error",
     "traceback": [
      "\u001b[1;31m---------------------------------------------------------------------------\u001b[0m",
      "\u001b[1;31mModuleNotFoundError\u001b[0m                       Traceback (most recent call last)",
      "Input \u001b[1;32mIn [7]\u001b[0m, in \u001b[0;36m<cell line: 1>\u001b[1;34m()\u001b[0m\n\u001b[1;32m----> 1\u001b[0m \u001b[38;5;28;01mimport\u001b[39;00m \u001b[38;5;21;01mpytesseract\u001b[39;00m\n",
      "\u001b[1;31mModuleNotFoundError\u001b[0m: No module named 'pytesseract'"
     ]
    }
   ],
   "source": [
    "import pytesseract\n",
    "\n",
    "#https://github.com/UB-Mannheim/tesseract/wiki\n",
    "    "
   ]
  },
  {
   "cell_type": "code",
   "execution_count": 8,
   "metadata": {
    "scrolled": true
   },
   "outputs": [
    {
     "ename": "SyntaxError",
     "evalue": "unexpected character after line continuation character (1135330884.py, line 1)",
     "output_type": "error",
     "traceback": [
      "\u001b[1;36m  Input \u001b[1;32mIn [8]\u001b[1;36m\u001b[0m\n\u001b[1;33m    C:\\Program Files\\Tesseract-OCR\u001b[0m\n\u001b[1;37m       ^\u001b[0m\n\u001b[1;31mSyntaxError\u001b[0m\u001b[1;31m:\u001b[0m unexpected character after line continuation character\n"
     ]
    }
   ],
   "source": [
    "C:\\Program Files\\Tesseract-OCR"
   ]
  },
  {
   "cell_type": "code",
   "execution_count": 2,
   "metadata": {},
   "outputs": [
    {
     "ename": "ModuleNotFoundError",
     "evalue": "No module named 'pytesseract'",
     "output_type": "error",
     "traceback": [
      "\u001b[1;31m---------------------------------------------------------------------------\u001b[0m",
      "\u001b[1;31mModuleNotFoundError\u001b[0m                       Traceback (most recent call last)",
      "Input \u001b[1;32mIn [2]\u001b[0m, in \u001b[0;36m<cell line: 1>\u001b[1;34m()\u001b[0m\n\u001b[1;32m----> 1\u001b[0m \u001b[38;5;28;01mimport\u001b[39;00m \u001b[38;5;21;01mpytesseract\u001b[39;00m \n\u001b[0;32m      3\u001b[0m pytesseract\u001b[38;5;241m.\u001b[39mpytesseract\u001b[38;5;241m.\u001b[39mtesseract_cmd\u001b[38;5;241m=\u001b[39m\u001b[38;5;124mr\u001b[39m\u001b[38;5;124m\"\u001b[39m\u001b[38;5;124mC:\u001b[39m\u001b[38;5;124m\\\u001b[39m\u001b[38;5;124mProgram Files\u001b[39m\u001b[38;5;124m\\\u001b[39m\u001b[38;5;124mTesseract-OCR\u001b[39m\u001b[38;5;124m\\\u001b[39m\u001b[38;5;124mtesseract.exe\u001b[39m\u001b[38;5;124m\"\u001b[39m\n\u001b[0;32m      4\u001b[0m pytesseract\u001b[38;5;241m.\u001b[39mpytesseract\u001b[38;5;241m.\u001b[39mtesseract_cmd\n",
      "\u001b[1;31mModuleNotFoundError\u001b[0m: No module named 'pytesseract'"
     ]
    }
   ],
   "source": [
    "import pytesseract \n",
    "\n",
    "pytesseract.pytesseract.tesseract_cmd=r\"C:\\Program Files\\Tesseract-OCR\\tesseract.exe\"\n",
    "pytesseract.pytesseract.tesseract_cmd"
   ]
  },
  {
   "cell_type": "code",
   "execution_count": 59,
   "metadata": {},
   "outputs": [
    {
     "data": {
      "text/plain": [
       "'pan_card4.jpg'"
      ]
     },
     "execution_count": 59,
     "metadata": {},
     "output_type": "execute_result"
    }
   ],
   "source": [
    "image_path=\"pan_card4.jpg\"\n",
    "image_path"
   ]
  },
  {
   "cell_type": "code",
   "execution_count": 3,
   "metadata": {},
   "outputs": [
    {
     "ename": "NameError",
     "evalue": "name 'pytesseract' is not defined",
     "output_type": "error",
     "traceback": [
      "\u001b[1;31m---------------------------------------------------------------------------\u001b[0m",
      "\u001b[1;31mNameError\u001b[0m                                 Traceback (most recent call last)",
      "Input \u001b[1;32mIn [3]\u001b[0m, in \u001b[0;36m<cell line: 1>\u001b[1;34m()\u001b[0m\n\u001b[1;32m----> 1\u001b[0m text\u001b[38;5;241m=\u001b[39m\u001b[43mpytesseract\u001b[49m\u001b[38;5;241m.\u001b[39mimage_to_string(image_path)\n\u001b[0;32m      2\u001b[0m \u001b[38;5;28mprint\u001b[39m(text)\n",
      "\u001b[1;31mNameError\u001b[0m: name 'pytesseract' is not defined"
     ]
    }
   ],
   "source": [
    "text=pytesseract.image_to_string(image_path)\n",
    "print(text)"
   ]
  },
  {
   "cell_type": "code",
   "execution_count": 61,
   "metadata": {},
   "outputs": [
    {
     "data": {
      "text/plain": [
       "'aadhar.jpg'"
      ]
     },
     "execution_count": 61,
     "metadata": {},
     "output_type": "execute_result"
    }
   ],
   "source": [
    "image_2='aadhar.jpg'\n",
    "image_2"
   ]
  },
  {
   "cell_type": "code",
   "execution_count": 62,
   "metadata": {},
   "outputs": [
    {
     "name": "stdout",
     "output_type": "stream",
     "text": [
      "See\n",
      "\n",
      "ee\n",
      "\n",
      "arr are\n",
      "at FR4yo0B'2/06/1985\n",
      "fee /FEMALE\n",
      "\n",
      "0000 0000 0000 LD\n",
      "\n",
      "Seng -31at atest ar atin\n",
      "\n",
      "\n"
     ]
    }
   ],
   "source": [
    "text1=pytesseract.image_to_string(image_2)\n",
    "print(text1)"
   ]
  },
  {
   "cell_type": "code",
   "execution_count": null,
   "metadata": {},
   "outputs": [],
   "source": [
    "im = Image.open(\"sample1.jpg\")\n",
    "\n",
    "text = pytesseract.image_to_string(im, lang = 'eng')\n",
    "\n",
    "print(text)"
   ]
  },
  {
   "cell_type": "markdown",
   "metadata": {},
   "source": [
    "# 2. re.search()  >> It return an object of first occurance only.\n"
   ]
  },
  {
   "cell_type": "code",
   "execution_count": 14,
   "metadata": {},
   "outputs": [
    {
     "data": {
      "text/plain": [
       "['9988776655', '8989898888', '4455664455']"
      ]
     },
     "execution_count": 14,
     "metadata": {},
     "output_type": "execute_result"
    }
   ],
   "source": [
    "import re \n",
    "\n",
    "text=\"\"\"mobile numbers:\n",
    "        9988776655\n",
    "        8989898888\n",
    "        4455664455\n",
    "     \"\"\"\n",
    "result= re.findall(\"\\d{10}\",text)\n",
    "result"
   ]
  },
  {
   "cell_type": "code",
   "execution_count": 1,
   "metadata": {},
   "outputs": [
    {
     "name": "stdout",
     "output_type": "stream",
     "text": [
      "<re.Match object; span=(24, 34), match='9988776655'>\n"
     ]
    }
   ],
   "source": [
    "import re \n",
    "\n",
    "text=\"\"\"mobile numbers:\n",
    "        9988776655\n",
    "        8989898888\n",
    "        4455664455\n",
    "     \"\"\"\n",
    "result= re.search(\"\\d{10}\",text)\n",
    "print(result)"
   ]
  },
  {
   "cell_type": "code",
   "execution_count": 17,
   "metadata": {},
   "outputs": [
    {
     "name": "stdout",
     "output_type": "stream",
     "text": [
      "<re.Match object; span=(24, 34), match='9988776655'>\n"
     ]
    },
    {
     "data": {
      "text/plain": [
       "'9988776655'"
      ]
     },
     "execution_count": 17,
     "metadata": {},
     "output_type": "execute_result"
    }
   ],
   "source": [
    "import re \n",
    "\n",
    "text=\"\"\"mobile numbers:\n",
    "        9988776655\n",
    "        8989898888\n",
    "        4455664455\n",
    "     \"\"\"\n",
    "result= re.search(\"\\d{10}\",text)\n",
    "print(result)\n",
    "result.group()"
   ]
  },
  {
   "cell_type": "code",
   "execution_count": 1,
   "metadata": {},
   "outputs": [
    {
     "name": "stdout",
     "output_type": "stream",
     "text": [
      "None\n"
     ]
    },
    {
     "ename": "AttributeError",
     "evalue": "'NoneType' object has no attribute 'group'",
     "output_type": "error",
     "traceback": [
      "\u001b[1;31m---------------------------------------------------------------------------\u001b[0m",
      "\u001b[1;31mAttributeError\u001b[0m                            Traceback (most recent call last)",
      "Input \u001b[1;32mIn [1]\u001b[0m, in \u001b[0;36m<cell line: 10>\u001b[1;34m()\u001b[0m\n\u001b[0;32m      8\u001b[0m result\u001b[38;5;241m=\u001b[39m re\u001b[38;5;241m.\u001b[39msearch(\u001b[38;5;124m\"\u001b[39m\u001b[38;5;124m\\\u001b[39m\u001b[38;5;124md\u001b[39m\u001b[38;5;132;01m{11}\u001b[39;00m\u001b[38;5;124m\"\u001b[39m,text)\n\u001b[0;32m      9\u001b[0m \u001b[38;5;28mprint\u001b[39m(result)\n\u001b[1;32m---> 10\u001b[0m \u001b[38;5;28mprint\u001b[39m(\u001b[43mresult\u001b[49m\u001b[38;5;241;43m.\u001b[39;49m\u001b[43mgroup\u001b[49m())\n",
      "\u001b[1;31mAttributeError\u001b[0m: 'NoneType' object has no attribute 'group'"
     ]
    }
   ],
   "source": [
    "import re \n",
    "\n",
    "text=\"\"\"mobile numbers:\n",
    "        9988776655\n",
    "        8989898888\n",
    "        4455664455\n",
    "     \"\"\"\n",
    "result= re.search(\"\\d{11}\",text)\n",
    "print(result)\n",
    "print(result.group())"
   ]
  },
  {
   "cell_type": "code",
   "execution_count": 19,
   "metadata": {},
   "outputs": [
    {
     "name": "stdout",
     "output_type": "stream",
     "text": [
      "<re.Match object; span=(62, 73), match='44556644555'>\n"
     ]
    },
    {
     "data": {
      "text/plain": [
       "'44556644555'"
      ]
     },
     "execution_count": 19,
     "metadata": {},
     "output_type": "execute_result"
    }
   ],
   "source": [
    "import re \n",
    "\n",
    "text=\"\"\"mobile numbers:\n",
    "        9988776655\n",
    "        8989898888\n",
    "        445566445555\n",
    "     \"\"\"\n",
    "result= re.search(\"\\d{11}\",text)\n",
    "print(result)\n",
    "result.group()"
   ]
  },
  {
   "cell_type": "code",
   "execution_count": 20,
   "metadata": {},
   "outputs": [
    {
     "name": "stdout",
     "output_type": "stream",
     "text": [
      "<re.Match object; span=(24, 35), match='99887766554'>\n"
     ]
    },
    {
     "data": {
      "text/plain": [
       "'99887766554'"
      ]
     },
     "execution_count": 20,
     "metadata": {},
     "output_type": "execute_result"
    }
   ],
   "source": [
    "import re \n",
    "\n",
    "text=\"\"\"mobile numbers:\n",
    "        99887766554\n",
    "        8989898888\n",
    "        445566445555\n",
    "     \"\"\"\n",
    "result= re.search(\"\\d{11}\",text)\n",
    "print(result)\n",
    "result.group()"
   ]
  },
  {
   "cell_type": "code",
   "execution_count": 21,
   "metadata": {},
   "outputs": [
    {
     "name": "stdout",
     "output_type": "stream",
     "text": [
      "No match found\n"
     ]
    }
   ],
   "source": [
    "import re \n",
    "\n",
    "text=\"\"\"mobile numbers:\n",
    "        9988776655\n",
    "        8989898888\n",
    "        4455664455\n",
    "     \"\"\"\n",
    "result= re.search(\"\\d{11}\",text)\n",
    "if result:\n",
    "    print(result.group())\n",
    "else:\n",
    "    print(\"No match found\")\n"
   ]
  },
  {
   "cell_type": "code",
   "execution_count": 22,
   "metadata": {},
   "outputs": [
    {
     "name": "stdout",
     "output_type": "stream",
     "text": [
      "99887766559\n"
     ]
    }
   ],
   "source": [
    "import re \n",
    "\n",
    "text=\"\"\"mobile numbers:\n",
    "        99887766559\n",
    "        8989898888\n",
    "        4455664455\n",
    "     \"\"\"\n",
    "result= re.search(\"\\d{11}\",text)\n",
    "if result:\n",
    "    print(result.group())\n",
    "else:\n",
    "    print(\"No match found\")"
   ]
  },
  {
   "cell_type": "code",
   "execution_count": 24,
   "metadata": {},
   "outputs": [
    {
     "name": "stdout",
     "output_type": "stream",
     "text": [
      "9988776655\n",
      "(24, 34)\n"
     ]
    }
   ],
   "source": [
    "import re \n",
    "\n",
    "text=\"\"\"mobile numbers:\n",
    "        9988776655\n",
    "        8989898888\n",
    "        4455664455\n",
    "     \"\"\"\n",
    "result= re.search(\"\\d{10}\",text)\n",
    "if result:\n",
    "    print(result.group())\n",
    "    print(result.span())\n",
    "else:\n",
    "    print(\"No match found\")"
   ]
  },
  {
   "cell_type": "code",
   "execution_count": 25,
   "metadata": {},
   "outputs": [
    {
     "name": "stdout",
     "output_type": "stream",
     "text": [
      "9988776655\n",
      "(24, 34)\n",
      "24\n",
      "34\n"
     ]
    }
   ],
   "source": [
    "import re \n",
    "\n",
    "text=\"\"\"mobile numbers:\n",
    "        9988776655\n",
    "        8989898888\n",
    "        4455664455\n",
    "     \"\"\"\n",
    "result= re.search(\"\\d{10}\",text)\n",
    "if result:\n",
    "    print(result.group())\n",
    "    print(result.span())\n",
    "    print(result.start())\n",
    "    print(result.end())\n",
    "else:\n",
    "    print(\"No match found\")"
   ]
  },
  {
   "cell_type": "code",
   "execution_count": 26,
   "metadata": {},
   "outputs": [
    {
     "name": "stdout",
     "output_type": "stream",
     "text": [
      "No match found\n"
     ]
    }
   ],
   "source": [
    "import re \n",
    "\n",
    "text=\"\"\"mobile numbers:\n",
    "        9988776655\n",
    "        8989898888\n",
    "        4455664455\n",
    "     \"\"\"\n",
    "result= re.search(\"\\d{11}\",text)\n",
    "if result:\n",
    "    print(result.group())\n",
    "    print(result.span())\n",
    "    print(result.start())\n",
    "    print(result.end())\n",
    "else:\n",
    "    print(\"No match found\")"
   ]
  },
  {
   "cell_type": "code",
   "execution_count": 27,
   "metadata": {},
   "outputs": [
    {
     "name": "stdout",
     "output_type": "stream",
     "text": [
      "445566445566\n",
      "(62, 74)\n",
      "62\n",
      "74\n"
     ]
    }
   ],
   "source": [
    "import re \n",
    "\n",
    "text=\"\"\"mobile numbers:\n",
    "        9988776655\n",
    "        8989898888\n",
    "        445566445566\n",
    "     \"\"\"\n",
    "result= re.search(\"\\d{12}\",text)\n",
    "if result:\n",
    "    print(result.group())\n",
    "    print(result.span())\n",
    "    print(result.start())\n",
    "    print(result.end())\n",
    "else:\n",
    "    print(\"No match found\")"
   ]
  },
  {
   "cell_type": "code",
   "execution_count": null,
   "metadata": {},
   "outputs": [],
   "source": [
    "3.match():\n",
    "re.match()"
   ]
  },
  {
   "cell_type": "code",
   "execution_count": 41,
   "metadata": {},
   "outputs": [
    {
     "name": "stdout",
     "output_type": "stream",
     "text": [
      "<re.Match object; span=(0, 10), match='9988776655'>\n"
     ]
    }
   ],
   "source": [
    "import re \n",
    "\n",
    "text=\"\"\"9988776655\n",
    "        89898988\n",
    "        445566445566\n",
    "     \"\"\"\n",
    "result= re.match(\"\\d{10}\",text)\n",
    "print(result)\n"
   ]
  },
  {
   "cell_type": "code",
   "execution_count": 40,
   "metadata": {},
   "outputs": [
    {
     "name": "stdout",
     "output_type": "stream",
     "text": [
      "None\n"
     ]
    }
   ],
   "source": [
    "import re \n",
    "\n",
    "text=\"\"\"\n",
    "        9988776655\n",
    "        89898988\n",
    "        445566445566\n",
    "     \"\"\"\n",
    "result= re.match(\"\\d{10}\",text)\n",
    "print(result)\n"
   ]
  },
  {
   "cell_type": "code",
   "execution_count": 34,
   "metadata": {},
   "outputs": [
    {
     "data": {
      "text/plain": [
       "<re.Match object; span=(0, 10), match='9988776655'>"
      ]
     },
     "execution_count": 34,
     "metadata": {},
     "output_type": "execute_result"
    }
   ],
   "source": [
    "import re \n",
    "\n",
    "text=\"\"\"9988776655\n",
    "        89898988\n",
    "        445566445566\n",
    "     \"\"\"\n",
    "result= re.match(\"\\d{10}\",text)\n",
    "result\n"
   ]
  },
  {
   "cell_type": "code",
   "execution_count": 45,
   "metadata": {},
   "outputs": [
    {
     "name": "stdout",
     "output_type": "stream",
     "text": [
      "None\n"
     ]
    }
   ],
   "source": [
    "import re \n",
    "\n",
    "text=\"\"\"998877665\n",
    "        89898988\n",
    "        445566445566\n",
    "     \"\"\"\n",
    "result= re.match(\"\\d{10}\",text)\n",
    "print(result)\n"
   ]
  },
  {
   "cell_type": "code",
   "execution_count": null,
   "metadata": {},
   "outputs": [],
   "source": [
    "4.compile:\n",
    "    ? >> "
   ]
  },
  {
   "cell_type": "code",
   "execution_count": null,
   "metadata": {},
   "outputs": [],
   "source": []
  },
  {
   "cell_type": "code",
   "execution_count": null,
   "metadata": {},
   "outputs": [],
   "source": [
    "5. split()"
   ]
  },
  {
   "cell_type": "code",
   "execution_count": 46,
   "metadata": {},
   "outputs": [
    {
     "data": {
      "text/plain": [
       "['Python', 'and', 'data', 'science']"
      ]
     },
     "execution_count": 46,
     "metadata": {},
     "output_type": "execute_result"
    }
   ],
   "source": [
    "string=\"Python and data science\"\n",
    "string.split()"
   ]
  },
  {
   "cell_type": "code",
   "execution_count": 47,
   "metadata": {},
   "outputs": [
    {
     "data": {
      "text/plain": [
       "['Python ', ' and data 2 science']"
      ]
     },
     "execution_count": 47,
     "metadata": {},
     "output_type": "execute_result"
    }
   ],
   "source": [
    "string=\"Python 1 and data 2 science\"\n",
    "string.split(\"1\")"
   ]
  },
  {
   "cell_type": "code",
   "execution_count": 48,
   "metadata": {},
   "outputs": [
    {
     "data": {
      "text/plain": [
       "['Python ', ' and data ', 'science']"
      ]
     },
     "execution_count": 48,
     "metadata": {},
     "output_type": "execute_result"
    }
   ],
   "source": [
    "string=\"Python , and data ,science\"\n",
    "string.split(\",\")"
   ]
  },
  {
   "cell_type": "code",
   "execution_count": 49,
   "metadata": {},
   "outputs": [
    {
     "data": {
      "text/plain": [
       "['23', '45|67', '89', '63|45', '45', '45']"
      ]
     },
     "execution_count": 49,
     "metadata": {},
     "output_type": "execute_result"
    }
   ],
   "source": [
    "text=\"23-45|67-89-63|45-45-45\"\n",
    "\n",
    "text.split(\"-\")"
   ]
  },
  {
   "cell_type": "code",
   "execution_count": 50,
   "metadata": {},
   "outputs": [
    {
     "data": {
      "text/plain": [
       "['23-45', '67-89-63', '45-45-45']"
      ]
     },
     "execution_count": 50,
     "metadata": {},
     "output_type": "execute_result"
    }
   ],
   "source": [
    "text=\"23-45|67-89-63|45-45-45\"\n",
    "\n",
    "text.split(\"|\")"
   ]
  },
  {
   "cell_type": "code",
   "execution_count": null,
   "metadata": {},
   "outputs": [],
   "source": [
    "6. re.sub()"
   ]
  },
  {
   "cell_type": "code",
   "execution_count": 55,
   "metadata": {},
   "outputs": [
    {
     "data": {
      "text/plain": [
       "'Aadhar card Number:\\n        \\n        \\n        \\n     '"
      ]
     },
     "execution_count": 55,
     "metadata": {},
     "output_type": "execute_result"
    }
   ],
   "source": [
    "import re \n",
    "\n",
    "text=\"\"\"Aadhar card Number:\n",
    "        9988776655\n",
    "        89898988\n",
    "        445566445566\n",
    "     \"\"\"\n",
    "result= re.sub(\"\\d\",\"\",text)\n",
    "result"
   ]
  },
  {
   "cell_type": "code",
   "execution_count": 56,
   "metadata": {},
   "outputs": [
    {
     "data": {
      "text/plain": [
       "'$Aadhar$Card$Number$is:$$$$$$$$$$2345$7890$7654$$$$#valid$$$$$$$$$$4567$71234$6547$$$#invalid$$$$$$$$$$9876$8996$4563$$$$#valid$$$$$$$$$$8978$5656$456789$$#invalid$$$$$$$$$$12345$5656$123456$#invalid$$$$$$'"
      ]
     },
     "execution_count": 56,
     "metadata": {},
     "output_type": "execute_result"
    }
   ],
   "source": [
    "import re \n",
    "\n",
    "text=\"\"\" Aadhar Card Number is:\n",
    "         2345 7890 7654    #valid\n",
    "         4567 71234 6547   #invalid\n",
    "         9876 8996 4563    #valid\n",
    "         8978 5656 456789  #invalid\n",
    "         12345 5656 123456 #invalid\n",
    "     \"\"\"\n",
    "\n",
    "result= re.sub(\"\\s\",\"$\",text)\n",
    "result\n"
   ]
  },
  {
   "cell_type": "code",
   "execution_count": null,
   "metadata": {},
   "outputs": [],
   "source": [
    "datetime module\n",
    "os module>> open file \n",
    "module packages\n",
    "regex\n",
    "exception handling"
   ]
  },
  {
   "cell_type": "code",
   "execution_count": null,
   "metadata": {},
   "outputs": [],
   "source": [
    "OOPS\n",
    "NUMPY(NUMERICAL PYTHON)(3-4DAYS)\n",
    "PANDAS(90-95% DATA SCIENTIST)>> ML,DL,NLP(8DAYS)\n",
    "\n",
    "LINEAR REGRESSION\n",
    "AWS(AMAZON WED SERVICE)>> Renu\n",
    "Flask>> Gererate api\n",
    "\n",
    "LOGISTIC REGRESSION\n",
    "20\n",
    "EDA:\n",
    "FEATURE SELECTION\n",
    "\n",
    "NLP>> \n",
    "DL>> \n",
    "\n",
    "SQL>> swapnali/Premanad\n",
    "\n"
   ]
  },
  {
   "cell_type": "code",
   "execution_count": null,
   "metadata": {},
   "outputs": [],
   "source": [
    "AWS(amazon)>> leasing boxes \n",
    "azure\n"
   ]
  },
  {
   "cell_type": "code",
   "execution_count": null,
   "metadata": {},
   "outputs": [],
   "source": [
    "input="
   ]
  },
  {
   "cell_type": "code",
   "execution_count": null,
   "metadata": {},
   "outputs": [],
   "source": [
    "output="
   ]
  }
 ],
 "metadata": {
  "kernelspec": {
   "display_name": "Python 3 (ipykernel)",
   "language": "python",
   "name": "python3"
  },
  "language_info": {
   "codemirror_mode": {
    "name": "ipython",
    "version": 3
   },
   "file_extension": ".py",
   "mimetype": "text/x-python",
   "name": "python",
   "nbconvert_exporter": "python",
   "pygments_lexer": "ipython3",
   "version": "3.9.12"
  }
 },
 "nbformat": 4,
 "nbformat_minor": 4
}
