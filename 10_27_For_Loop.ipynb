{
 "cells": [
  {
   "cell_type": "code",
   "execution_count": null,
   "metadata": {},
   "outputs": [],
   "source": [
    "for variable in sequence:\n",
    "    statements\n",
    "    print(variable)\n",
    "    \n",
    "for index, value in enumerate(sequence):\n",
    "    print(index,value)"
   ]
  },
  {
   "cell_type": "code",
   "execution_count": null,
   "metadata": {},
   "outputs": [],
   "source": [
    "num=5\n",
    "\n",
    "fact=1\n",
    "\n",
    "for i in range(1,num+1): # (n,1)=(5,4,3,2)   (n,1,-1)\n",
    "    fact=fact*i            \n",
    "    \n",
    "print(fact)"
   ]
  },
  {
   "cell_type": "code",
   "execution_count": 1,
   "metadata": {},
   "outputs": [
    {
     "name": "stdout",
     "output_type": "stream",
     "text": [
      "120\n"
     ]
    }
   ],
   "source": [
    "num=5\n",
    "\n",
    "fact=1\n",
    "\n",
    "for i in range(num,1,-1): # (n,1)=(5,4,3,2)   (n,1,-1)\n",
    "    fact=fact*i            \n",
    "    \n",
    "print(fact)"
   ]
  },
  {
   "cell_type": "code",
   "execution_count": 2,
   "metadata": {},
   "outputs": [
    {
     "name": "stdout",
     "output_type": "stream",
     "text": [
      "I am good with char == p\n",
      "I am good with char == y\n",
      "I am good with char == t\n",
      "I am good with char == h\n",
      "I am good with char == o\n",
      "I am good with char == n\n"
     ]
    }
   ],
   "source": [
    "s1=\"python\"\n",
    "\n",
    "for char in s1:   # no of iteration\n",
    "    print(\"I am good with char ==\",char)    "
   ]
  },
  {
   "cell_type": "markdown",
   "metadata": {},
   "source": [
    "# Loop Control Statement:"
   ]
  },
  {
   "cell_type": "code",
   "execution_count": null,
   "metadata": {},
   "outputs": [],
   "source": [
    "break\n",
    "continue\n",
    "pass\n",
    "\n",
    ">> In python break and continue statements are use to alter the flow of normal loop."
   ]
  },
  {
   "cell_type": "code",
   "execution_count": null,
   "metadata": {},
   "outputs": [],
   "source": [
    "1) break:- \n",
    "    \n",
    ">> break will cause to come out of for-else block."
   ]
  },
  {
   "cell_type": "code",
   "execution_count": 3,
   "metadata": {},
   "outputs": [
    {
     "name": "stdout",
     "output_type": "stream",
     "text": [
      "odd number\n",
      "even number\n",
      "odd number\n",
      "even number\n"
     ]
    }
   ],
   "source": [
    "numbers=[1,2,3,4]\n",
    "\n",
    "for num in numbers:\n",
    "    if num%2==0:    # 2 , 4\n",
    "        print(\"even number\")\n",
    "    else:\n",
    "        print(\"odd number\")\n",
    "        \n",
    "    "
   ]
  },
  {
   "cell_type": "code",
   "execution_count": 4,
   "metadata": {},
   "outputs": [
    {
     "name": "stdout",
     "output_type": "stream",
     "text": [
      "1\n",
      "2\n",
      "3\n",
      "4\n"
     ]
    }
   ],
   "source": [
    "numbers=[1,2,3,4]\n",
    "\n",
    "for num in numbers:\n",
    "    if num%2==0:    # 2 , 4\n",
    "        print(num)\n",
    "    else:\n",
    "        print(num)\n",
    "        "
   ]
  },
  {
   "cell_type": "code",
   "execution_count": 5,
   "metadata": {},
   "outputs": [
    {
     "name": "stdout",
     "output_type": "stream",
     "text": [
      "1\n",
      "2\n"
     ]
    }
   ],
   "source": [
    "numbers=[1,2,3,4]\n",
    "\n",
    "for num in numbers:     # 1   2\n",
    "    if num%2==0:    # false   True \n",
    "        print(num)\n",
    "        break\n",
    "    else:             # 1\n",
    "        print(num)\n",
    "   \n",
    "\n",
    "# 1\n",
    "# 2"
   ]
  },
  {
   "cell_type": "code",
   "execution_count": 6,
   "metadata": {},
   "outputs": [
    {
     "name": "stdout",
     "output_type": "stream",
     "text": [
      "char==d\n",
      "****************************************\n",
      "char==a\n",
      "****************************************\n",
      "char==t\n",
      "****************************************\n",
      "char==a\n",
      "****************************************\n",
      "char== \n",
      "****************************************\n",
      "char==s\n",
      "****************************************\n",
      "char==c\n",
      "****************************************\n",
      "char==i\n",
      "****************************************\n",
      "char==e\n",
      "****************************************\n",
      "char==n\n",
      "****************************************\n",
      "char==c\n",
      "****************************************\n",
      "char==e\n",
      "****************************************\n",
      "I am out of loop\n"
     ]
    }
   ],
   "source": [
    "for char in \"data science\":\n",
    "    print(f\"char=={char}\")    # d  a\n",
    "    \n",
    "    if char.isupper():      # false  false\n",
    "        print(\"char is in uppercase\")\n",
    "        break\n",
    "        \n",
    "    print(\"*\"*40)\n",
    "    \n",
    "print(\"I am out of loop\")\n",
    "\n",
    "\n",
    "# char == d\n",
    "# *******************************\n",
    "# char == a\n",
    "# ********************************"
   ]
  },
  {
   "cell_type": "code",
   "execution_count": 7,
   "metadata": {},
   "outputs": [
    {
     "name": "stdout",
     "output_type": "stream",
     "text": [
      "char==d\n",
      "****************************************\n",
      "I am out of loop\n",
      "char==a\n",
      "****************************************\n",
      "I am out of loop\n",
      "char==t\n",
      "****************************************\n",
      "I am out of loop\n",
      "char==a\n",
      "****************************************\n",
      "I am out of loop\n",
      "char== \n",
      "****************************************\n",
      "I am out of loop\n",
      "char==s\n",
      "****************************************\n",
      "I am out of loop\n",
      "char==c\n",
      "****************************************\n",
      "I am out of loop\n",
      "char==i\n",
      "****************************************\n",
      "I am out of loop\n",
      "char==e\n",
      "****************************************\n",
      "I am out of loop\n",
      "char==n\n",
      "****************************************\n",
      "I am out of loop\n",
      "char==c\n",
      "****************************************\n",
      "I am out of loop\n",
      "char==e\n",
      "****************************************\n",
      "I am out of loop\n"
     ]
    }
   ],
   "source": [
    "for char in \"data science\":\n",
    "    print(f\"char=={char}\")    # d  a\n",
    "    \n",
    "    if char.isupper():      # false  false\n",
    "        print(\"char is in uppercase\")\n",
    "        break\n",
    "        \n",
    "    print(\"*\"*40)\n",
    "    \n",
    "    print(\"I am out of loop\")"
   ]
  },
  {
   "cell_type": "code",
   "execution_count": 9,
   "metadata": {},
   "outputs": [
    {
     "name": "stdout",
     "output_type": "stream",
     "text": [
      "I am out of loop\n"
     ]
    }
   ],
   "source": [
    "numbers=[1,2,3,4]\n",
    "\n",
    "for num in numbers:\n",
    "    if num%2==0:    # 2 , 4\n",
    "        break\n",
    "        print(num)\n",
    "    \n",
    "else:\n",
    "    print(\"I am in else-Block\")\n",
    "    \n",
    "print(\"I am out of loop\")\n",
    "    \n",
    "\n"
   ]
  },
  {
   "cell_type": "code",
   "execution_count": 10,
   "metadata": {},
   "outputs": [
    {
     "name": "stdout",
     "output_type": "stream",
     "text": [
      "2\n",
      "I am out of loop\n"
     ]
    }
   ],
   "source": [
    "numbers=[1,2,3,4]\n",
    "\n",
    "for num in numbers:\n",
    "    if num%2==0:    # 2 , 4\n",
    "        print(num)\n",
    "        break\n",
    "        \n",
    "    \n",
    "else:\n",
    "    print(\"I am in else-Block\")\n",
    "    \n",
    "print(\"I am out of loop\")\n",
    "    "
   ]
  },
  {
   "cell_type": "code",
   "execution_count": 11,
   "metadata": {},
   "outputs": [
    {
     "name": "stdout",
     "output_type": "stream",
     "text": [
      "1\n",
      "I am out of loop\n"
     ]
    }
   ],
   "source": [
    "numbers=[1,2,3,4]\n",
    "\n",
    "for num in numbers:\n",
    "    if num%2==0:    # 2 , 4\n",
    "        break\n",
    "    print(num)\n",
    "    \n",
    "else:\n",
    "    print(\"I am in else-Block\")\n",
    "    \n",
    "print(\"I am out of loop\")"
   ]
  },
  {
   "cell_type": "code",
   "execution_count": 12,
   "metadata": {},
   "outputs": [
    {
     "name": "stdout",
     "output_type": "stream",
     "text": [
      "Number==0\n",
      "Number==1\n",
      "Number==2\n",
      "Number==3\n",
      "Number==4\n"
     ]
    }
   ],
   "source": [
    "  for i in range(5):\n",
    "        print(f\"Number=={i}\")"
   ]
  },
  {
   "cell_type": "code",
   "execution_count": 13,
   "metadata": {},
   "outputs": [
    {
     "name": "stdout",
     "output_type": "stream",
     "text": [
      "Number==0\n",
      "Number==1\n",
      "Number==2\n"
     ]
    }
   ],
   "source": [
    "for i in range(5):\n",
    "    if i==3:\n",
    "        break\n",
    "    \n",
    "    print(f\"Number=={i}\")\n",
    "    \n",
    "# 0\n",
    "# 1\n",
    "# 2"
   ]
  },
  {
   "cell_type": "code",
   "execution_count": null,
   "metadata": {},
   "outputs": [],
   "source": [
    "2) continue:-"
   ]
  },
  {
   "cell_type": "code",
   "execution_count": null,
   "metadata": {},
   "outputs": [],
   "source": [
    "continue will take you to the next iteration."
   ]
  },
  {
   "cell_type": "code",
   "execution_count": 14,
   "metadata": {},
   "outputs": [
    {
     "name": "stdout",
     "output_type": "stream",
     "text": [
      "1\n",
      "3\n",
      "5\n",
      "I am in else-Block\n",
      "I am out of loop\n"
     ]
    }
   ],
   "source": [
    "numbers=[1,2,3,4,5,6]\n",
    "\n",
    "for i in numbers:  #1  2    3   4    5\n",
    "    if i%2==0:     # false  True   false\n",
    "        continue\n",
    "    print(i)\n",
    "    \n",
    "else:\n",
    "    print(\"I am in else-Block\")\n",
    "    \n",
    "print(\"I am out of loop\")\n",
    "\n",
    "\n",
    "# 1\n",
    "# 3\n",
    "# 5\n",
    "# I am out of loop"
   ]
  },
  {
   "cell_type": "code",
   "execution_count": null,
   "metadata": {},
   "outputs": [],
   "source": [
    "3. Pass:-\n",
    "    \n",
    ">> Pass is used to denote there is no operation\n",
    ">> Pass is used to make statement syntatically correct"
   ]
  },
  {
   "cell_type": "code",
   "execution_count": null,
   "metadata": {},
   "outputs": [],
   "source": [
    "if (condition):\n",
    "    pass\n",
    "else:\n",
    "    print(\"I am good\")"
   ]
  },
  {
   "cell_type": "code",
   "execution_count": 16,
   "metadata": {},
   "outputs": [
    {
     "name": "stdout",
     "output_type": "stream",
     "text": [
      "I am out\n"
     ]
    }
   ],
   "source": [
    "if 10>2:   \n",
    "    pass\n",
    "else:\n",
    "    print(\"Else part\")\n",
    "    \n",
    "print(\"I am out\")"
   ]
  },
  {
   "cell_type": "code",
   "execution_count": 17,
   "metadata": {},
   "outputs": [
    {
     "name": "stdout",
     "output_type": "stream",
     "text": [
      "Else part\n",
      "I am out\n"
     ]
    }
   ],
   "source": [
    "if 1>2:   \n",
    "    pass\n",
    "else:\n",
    "    print(\"Else part\")\n",
    "    \n",
    "print(\"I am out\")"
   ]
  },
  {
   "cell_type": "code",
   "execution_count": null,
   "metadata": {},
   "outputs": [],
   "source": []
  },
  {
   "cell_type": "code",
   "execution_count": null,
   "metadata": {},
   "outputs": [],
   "source": []
  },
  {
   "cell_type": "code",
   "execution_count": null,
   "metadata": {},
   "outputs": [],
   "source": []
  },
  {
   "cell_type": "code",
   "execution_count": null,
   "metadata": {},
   "outputs": [],
   "source": []
  },
  {
   "cell_type": "code",
   "execution_count": null,
   "metadata": {},
   "outputs": [],
   "source": []
  }
 ],
 "metadata": {
  "kernelspec": {
   "display_name": "Python 3 (ipykernel)",
   "language": "python",
   "name": "python3"
  },
  "language_info": {
   "codemirror_mode": {
    "name": "ipython",
    "version": 3
   },
   "file_extension": ".py",
   "mimetype": "text/x-python",
   "name": "python",
   "nbconvert_exporter": "python",
   "pygments_lexer": "ipython3",
   "version": "3.9.12"
  }
 },
 "nbformat": 4,
 "nbformat_minor": 4
}
