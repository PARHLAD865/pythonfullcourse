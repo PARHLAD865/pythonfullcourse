{
 "cells": [
  {
   "cell_type": "markdown",
   "metadata": {},
   "source": [
    "### Exception_Handling:"
   ]
  },
  {
   "cell_type": "code",
   "execution_count": null,
   "metadata": {},
   "outputs": [],
   "source": [
    "try:\n",
    "except:\n",
    "    \n",
    ">> In try block if any error occured it jumps to except block And performs \n",
    "operations there and then again goes back to try block as its loop.\n",
    "\n",
    ">> If No Error Occured in try block except block will never execute."
   ]
  },
  {
   "cell_type": "code",
   "execution_count": null,
   "metadata": {},
   "outputs": [],
   "source": [
    "python built-in-Exceptions:"
   ]
  },
  {
   "cell_type": "code",
   "execution_count": 1,
   "metadata": {},
   "outputs": [
    {
     "data": {
      "text/plain": [
       "['ArithmeticError',\n",
       " 'AssertionError',\n",
       " 'AttributeError',\n",
       " 'BaseException',\n",
       " 'BlockingIOError',\n",
       " 'BrokenPipeError',\n",
       " 'BufferError',\n",
       " 'BytesWarning',\n",
       " 'ChildProcessError',\n",
       " 'ConnectionAbortedError',\n",
       " 'ConnectionError',\n",
       " 'ConnectionRefusedError',\n",
       " 'ConnectionResetError',\n",
       " 'DeprecationWarning',\n",
       " 'EOFError',\n",
       " 'Ellipsis',\n",
       " 'EnvironmentError',\n",
       " 'Exception',\n",
       " 'False',\n",
       " 'FileExistsError',\n",
       " 'FileNotFoundError',\n",
       " 'FloatingPointError',\n",
       " 'FutureWarning',\n",
       " 'GeneratorExit',\n",
       " 'IOError',\n",
       " 'ImportError',\n",
       " 'ImportWarning',\n",
       " 'IndentationError',\n",
       " 'IndexError',\n",
       " 'InterruptedError',\n",
       " 'IsADirectoryError',\n",
       " 'KeyError',\n",
       " 'KeyboardInterrupt',\n",
       " 'LookupError',\n",
       " 'MemoryError',\n",
       " 'ModuleNotFoundError',\n",
       " 'NameError',\n",
       " 'None',\n",
       " 'NotADirectoryError',\n",
       " 'NotImplemented',\n",
       " 'NotImplementedError',\n",
       " 'OSError',\n",
       " 'OverflowError',\n",
       " 'PendingDeprecationWarning',\n",
       " 'PermissionError',\n",
       " 'ProcessLookupError',\n",
       " 'RecursionError',\n",
       " 'ReferenceError',\n",
       " 'ResourceWarning',\n",
       " 'RuntimeError',\n",
       " 'RuntimeWarning',\n",
       " 'StopAsyncIteration',\n",
       " 'StopIteration',\n",
       " 'SyntaxError',\n",
       " 'SyntaxWarning',\n",
       " 'SystemError',\n",
       " 'SystemExit',\n",
       " 'TabError',\n",
       " 'TimeoutError',\n",
       " 'True',\n",
       " 'TypeError',\n",
       " 'UnboundLocalError',\n",
       " 'UnicodeDecodeError',\n",
       " 'UnicodeEncodeError',\n",
       " 'UnicodeError',\n",
       " 'UnicodeTranslateError',\n",
       " 'UnicodeWarning',\n",
       " 'UserWarning',\n",
       " 'ValueError',\n",
       " 'Warning',\n",
       " 'WindowsError',\n",
       " 'ZeroDivisionError',\n",
       " '__IPYTHON__',\n",
       " '__build_class__',\n",
       " '__debug__',\n",
       " '__doc__',\n",
       " '__import__',\n",
       " '__loader__',\n",
       " '__name__',\n",
       " '__package__',\n",
       " '__spec__',\n",
       " 'abs',\n",
       " 'all',\n",
       " 'any',\n",
       " 'ascii',\n",
       " 'bin',\n",
       " 'bool',\n",
       " 'breakpoint',\n",
       " 'bytearray',\n",
       " 'bytes',\n",
       " 'callable',\n",
       " 'chr',\n",
       " 'classmethod',\n",
       " 'compile',\n",
       " 'complex',\n",
       " 'copyright',\n",
       " 'credits',\n",
       " 'delattr',\n",
       " 'dict',\n",
       " 'dir',\n",
       " 'display',\n",
       " 'divmod',\n",
       " 'enumerate',\n",
       " 'eval',\n",
       " 'exec',\n",
       " 'filter',\n",
       " 'float',\n",
       " 'format',\n",
       " 'frozenset',\n",
       " 'get_ipython',\n",
       " 'getattr',\n",
       " 'globals',\n",
       " 'hasattr',\n",
       " 'hash',\n",
       " 'help',\n",
       " 'hex',\n",
       " 'id',\n",
       " 'input',\n",
       " 'int',\n",
       " 'isinstance',\n",
       " 'issubclass',\n",
       " 'iter',\n",
       " 'len',\n",
       " 'license',\n",
       " 'list',\n",
       " 'locals',\n",
       " 'map',\n",
       " 'max',\n",
       " 'memoryview',\n",
       " 'min',\n",
       " 'next',\n",
       " 'object',\n",
       " 'oct',\n",
       " 'open',\n",
       " 'ord',\n",
       " 'pow',\n",
       " 'print',\n",
       " 'property',\n",
       " 'range',\n",
       " 'repr',\n",
       " 'reversed',\n",
       " 'round',\n",
       " 'set',\n",
       " 'setattr',\n",
       " 'slice',\n",
       " 'sorted',\n",
       " 'staticmethod',\n",
       " 'str',\n",
       " 'sum',\n",
       " 'super',\n",
       " 'tuple',\n",
       " 'type',\n",
       " 'vars',\n",
       " 'zip']"
      ]
     },
     "execution_count": 1,
     "metadata": {},
     "output_type": "execute_result"
    }
   ],
   "source": [
    "dir(__builtins__)"
   ]
  },
  {
   "cell_type": "code",
   "execution_count": 2,
   "metadata": {},
   "outputs": [
    {
     "name": "stdout",
     "output_type": "stream",
     "text": [
      "python\n"
     ]
    }
   ],
   "source": [
    "try:\n",
    "    print(\"python\")\n",
    "    \n",
    "except:\n",
    "    print(\"I am in except block\")"
   ]
  },
  {
   "cell_type": "code",
   "execution_count": 3,
   "metadata": {},
   "outputs": [
    {
     "ename": "NameError",
     "evalue": "name 'python' is not defined",
     "output_type": "error",
     "traceback": [
      "\u001b[1;31m---------------------------------------------------------------------------\u001b[0m",
      "\u001b[1;31mNameError\u001b[0m                                 Traceback (most recent call last)",
      "\u001b[1;32m<ipython-input-3-3f83d545ebda>\u001b[0m in \u001b[0;36m<module>\u001b[1;34m\u001b[0m\n\u001b[1;32m----> 1\u001b[1;33m \u001b[0mprint\u001b[0m\u001b[1;33m(\u001b[0m\u001b[0mpython\u001b[0m\u001b[1;33m)\u001b[0m\u001b[1;33m\u001b[0m\u001b[1;33m\u001b[0m\u001b[0m\n\u001b[0m",
      "\u001b[1;31mNameError\u001b[0m: name 'python' is not defined"
     ]
    }
   ],
   "source": [
    "print(python)"
   ]
  },
  {
   "cell_type": "code",
   "execution_count": 4,
   "metadata": {},
   "outputs": [
    {
     "ename": "IndexError",
     "evalue": "list index out of range",
     "output_type": "error",
     "traceback": [
      "\u001b[1;31m---------------------------------------------------------------------------\u001b[0m",
      "\u001b[1;31mIndexError\u001b[0m                                Traceback (most recent call last)",
      "\u001b[1;32m<ipython-input-4-29dfe5e27fb3>\u001b[0m in \u001b[0;36m<module>\u001b[1;34m\u001b[0m\n\u001b[0;32m      1\u001b[0m \u001b[0mlist1\u001b[0m\u001b[1;33m=\u001b[0m\u001b[1;33m[\u001b[0m\u001b[1;36m1\u001b[0m\u001b[1;33m,\u001b[0m\u001b[1;36m2\u001b[0m\u001b[1;33m,\u001b[0m\u001b[1;36m3\u001b[0m\u001b[1;33m]\u001b[0m\u001b[1;33m\u001b[0m\u001b[1;33m\u001b[0m\u001b[0m\n\u001b[1;32m----> 2\u001b[1;33m \u001b[0mprint\u001b[0m\u001b[1;33m(\u001b[0m\u001b[0mlist1\u001b[0m\u001b[1;33m[\u001b[0m\u001b[1;36m3\u001b[0m\u001b[1;33m]\u001b[0m\u001b[1;33m)\u001b[0m\u001b[1;33m\u001b[0m\u001b[1;33m\u001b[0m\u001b[0m\n\u001b[0m",
      "\u001b[1;31mIndexError\u001b[0m: list index out of range"
     ]
    }
   ],
   "source": [
    "list1=[1,2,3]\n",
    "print(list1[3])"
   ]
  },
  {
   "cell_type": "code",
   "execution_count": 5,
   "metadata": {},
   "outputs": [
    {
     "data": {
      "text/plain": [
       "[1, 2, 3, 4, 100, 1000]"
      ]
     },
     "execution_count": 5,
     "metadata": {},
     "output_type": "execute_result"
    }
   ],
   "source": [
    "input_data=[1,2,3,4]\n",
    "input_data.append(100)\n",
    "input_data.append(1000)\n",
    "input_data"
   ]
  },
  {
   "cell_type": "code",
   "execution_count": 6,
   "metadata": {},
   "outputs": [
    {
     "ename": "AttributeError",
     "evalue": "'tuple' object has no attribute 'append'",
     "output_type": "error",
     "traceback": [
      "\u001b[1;31m---------------------------------------------------------------------------\u001b[0m",
      "\u001b[1;31mAttributeError\u001b[0m                            Traceback (most recent call last)",
      "\u001b[1;32m<ipython-input-6-ffe0722a44c5>\u001b[0m in \u001b[0;36m<module>\u001b[1;34m\u001b[0m\n\u001b[0;32m      1\u001b[0m \u001b[0minput_data\u001b[0m\u001b[1;33m=\u001b[0m\u001b[1;33m(\u001b[0m\u001b[1;36m1\u001b[0m\u001b[1;33m,\u001b[0m\u001b[1;36m2\u001b[0m\u001b[1;33m,\u001b[0m\u001b[1;36m3\u001b[0m\u001b[1;33m,\u001b[0m\u001b[1;36m4\u001b[0m\u001b[1;33m)\u001b[0m\u001b[1;33m\u001b[0m\u001b[1;33m\u001b[0m\u001b[0m\n\u001b[1;32m----> 2\u001b[1;33m \u001b[0minput_data\u001b[0m\u001b[1;33m.\u001b[0m\u001b[0mappend\u001b[0m\u001b[1;33m(\u001b[0m\u001b[1;36m100\u001b[0m\u001b[1;33m)\u001b[0m\u001b[1;33m\u001b[0m\u001b[1;33m\u001b[0m\u001b[0m\n\u001b[0m\u001b[0;32m      3\u001b[0m \u001b[0minput_data\u001b[0m\u001b[1;33m.\u001b[0m\u001b[0mappend\u001b[0m\u001b[1;33m(\u001b[0m\u001b[1;36m1000\u001b[0m\u001b[1;33m)\u001b[0m\u001b[1;33m\u001b[0m\u001b[1;33m\u001b[0m\u001b[0m\n\u001b[0;32m      4\u001b[0m \u001b[0minput_data\u001b[0m\u001b[1;33m\u001b[0m\u001b[1;33m\u001b[0m\u001b[0m\n",
      "\u001b[1;31mAttributeError\u001b[0m: 'tuple' object has no attribute 'append'"
     ]
    }
   ],
   "source": [
    "input_data=(1,2,3,4)\n",
    "input_data.append(100)\n",
    "input_data.append(1000)\n",
    "input_data"
   ]
  },
  {
   "cell_type": "code",
   "execution_count": 7,
   "metadata": {},
   "outputs": [
    {
     "name": "stdout",
     "output_type": "stream",
     "text": [
      "The input data is: [1, 2, 3, 4, 100, 1000]\n"
     ]
    }
   ],
   "source": [
    "input_data=(1,2,3,4)\n",
    "try:\n",
    "    input_data.append(100)\n",
    "    input_data.append(1000)\n",
    "    print(\"The input data is:\",input_data)\n",
    "    \n",
    "except:\n",
    "    input_data=list(input_data)\n",
    "    input_data.append(100)\n",
    "    input_data.append(1000)\n",
    "    print(\"The input data is:\",input_data)\n",
    "    "
   ]
  },
  {
   "cell_type": "markdown",
   "metadata": {},
   "source": [
    "### try-except-else:"
   ]
  },
  {
   "cell_type": "code",
   "execution_count": 8,
   "metadata": {},
   "outputs": [
    {
     "name": "stdout",
     "output_type": "stream",
     "text": [
      "Try block\n",
      "We are getting an error in the Try Block\n",
      "Except Block\n",
      "None\n"
     ]
    },
    {
     "name": "stderr",
     "output_type": "stream",
     "text": [
      "Traceback (most recent call last):\n",
      "  File \"<ipython-input-8-df59d6d389f2>\", line 5, in <module>\n",
      "    string.replace(\"p\")\n",
      "TypeError: replace expected at least 2 arguments, got 1\n"
     ]
    }
   ],
   "source": [
    "import traceback\n",
    "try:\n",
    "    print(\"Try block\")\n",
    "    string=\"python\"\n",
    "    string.replace(\"p\")\n",
    "    \n",
    "except:\n",
    "    print(\"We are getting an error in the Try Block\")\n",
    "    print(\"Except Block\")\n",
    "    print(traceback.print_exc())\n",
    "    \n",
    "else:\n",
    "    print(\"We are not getting error in try block\")\n",
    "    print(\"I am else block\")"
   ]
  },
  {
   "cell_type": "code",
   "execution_count": 9,
   "metadata": {},
   "outputs": [
    {
     "name": "stdout",
     "output_type": "stream",
     "text": [
      "Try block\n",
      "We are not getting error in try block\n",
      "I am else block\n"
     ]
    }
   ],
   "source": [
    "import traceback\n",
    "try:\n",
    "    print(\"Try block\")\n",
    "    string=\"python\"\n",
    "    string.replace(\"p\",\"P\")\n",
    "    \n",
    "except:\n",
    "    print(\"We are getting an error in the Try Block\")\n",
    "    print(\"Except Block\")\n",
    "    print(traceback.print_exc())\n",
    "    \n",
    "else:\n",
    "    print(\"We are not getting error in try block\")\n",
    "    print(\"I am else block\")"
   ]
  },
  {
   "cell_type": "code",
   "execution_count": null,
   "metadata": {},
   "outputs": [],
   "source": [
    "try-except-finally:"
   ]
  },
  {
   "cell_type": "code",
   "execution_count": 10,
   "metadata": {},
   "outputs": [
    {
     "name": "stdout",
     "output_type": "stream",
     "text": [
      "try block\n",
      "Finally Block\n"
     ]
    }
   ],
   "source": [
    "try:\n",
    "    print(\"try block\")\n",
    "except:\n",
    "    print(\"We are in except block\")\n",
    "finally:\n",
    "    print(\"Finally Block\")"
   ]
  },
  {
   "cell_type": "code",
   "execution_count": 11,
   "metadata": {},
   "outputs": [
    {
     "name": "stdout",
     "output_type": "stream",
     "text": [
      "try block\n",
      "We are in except block\n",
      "Finally Block\n"
     ]
    }
   ],
   "source": [
    "try:\n",
    "    print(\"try block\")\n",
    "    print(python)\n",
    "except:\n",
    "    print(\"We are in except block\")\n",
    "finally:\n",
    "    print(\"Finally Block\")"
   ]
  },
  {
   "cell_type": "markdown",
   "metadata": {},
   "source": [
    "# file:\n",
    "    file is nothing but name of memory location on disk that stores data permanently"
   ]
  },
  {
   "cell_type": "code",
   "execution_count": null,
   "metadata": {},
   "outputs": [],
   "source": [
    "x = empty file"
   ]
  },
  {
   "cell_type": "code",
   "execution_count": 4,
   "metadata": {},
   "outputs": [
    {
     "name": "stdout",
     "output_type": "stream",
     "text": [
      "file created successfully\n"
     ]
    }
   ],
   "source": [
    "#open\n",
    "\n",
    "f=open(\"C:\\\\Users\\\\Deepak\\\\Downloads\\\\python daily class notes\\\\10_31\\B.txt\",\"x\")\n",
    "\n",
    "print(\"file created successfully\")"
   ]
  },
  {
   "cell_type": "code",
   "execution_count": 4,
   "metadata": {},
   "outputs": [
    {
     "name": "stdout",
     "output_type": "stream",
     "text": [
      "file writing done successfully\n"
     ]
    }
   ],
   "source": [
    "# write\n",
    "\n",
    "f=open(\"C:\\\\Users\\\\Deepak\\\\Downloads\\\\python daily class notes\\\\10_31\\B.txt\",\"w\")\n",
    "f.write(\"Learning coding\\n deepak\")\n",
    "\n",
    "print(\"file writing done successfully\")"
   ]
  },
  {
   "cell_type": "code",
   "execution_count": 6,
   "metadata": {},
   "outputs": [
    {
     "name": "stdout",
     "output_type": "stream",
     "text": [
      "Learning coding\n",
      " deepak\n",
      "file read done\n"
     ]
    }
   ],
   "source": [
    "# read\n",
    "\n",
    "f=open(\"C:\\\\Users\\\\Deepak\\\\Downloads\\\\python daily class notes\\\\10_31\\B.txt\",\"r\")\n",
    "print(f.read(30))\n",
    "\n",
    "print(\"file read done\")"
   ]
  },
  {
   "cell_type": "code",
   "execution_count": 9,
   "metadata": {},
   "outputs": [
    {
     "name": "stdout",
     "output_type": "stream",
     "text": [
      "Learning coding\n",
      "\n",
      "file read done\n"
     ]
    }
   ],
   "source": [
    "# readline function\n",
    "\n",
    "f=open(\"C:\\\\Users\\\\Deepak\\\\Downloads\\\\python daily class notes\\\\10_31\\B.txt\",\"r\")\n",
    "print(f.readline())\n",
    "\n",
    "print(\"file read done\")"
   ]
  },
  {
   "cell_type": "code",
   "execution_count": 18,
   "metadata": {},
   "outputs": [
    {
     "name": "stdout",
     "output_type": "stream",
     "text": [
      "close file\n"
     ]
    }
   ],
   "source": [
    "# copy\n",
    "try:\n",
    "    with open(\"C:\\\\Users\\\\Deepak\\\\Downloads\\\\python daily class notes\\\\10_31\\B.txt\") as f2:\n",
    "        with open(\"C:\\\\Users\\\\Deepak\\\\Downloads\\\\python daily class notes\\\\10_31\\A.txt\",\"w\") as f3:\n",
    "            for i in f2:\n",
    "                f3.write(i)\n",
    "except:\n",
    "    print(\"file not available error...plz create file first\")\n",
    "else:\n",
    "    f.close()\n",
    "    print(\"close file\")"
   ]
  },
  {
   "cell_type": "code",
   "execution_count": 20,
   "metadata": {},
   "outputs": [
    {
     "name": "stdout",
     "output_type": "stream",
     "text": [
      "file not available....|\n",
      "file deleted successfully\n"
     ]
    }
   ],
   "source": [
    "# deleting file b\n",
    "import os\n",
    "if os.path.exists(\"C:\\\\Users\\\\Deepak\\\\Downloads\\\\python daily class notes\\\\10_31\\B.txt\"):\n",
    "    os.remove(\"C:\\\\Users\\\\Deepak\\\\Downloads\\\\python daily class notes\\\\10_31\\B.txt\")\n",
    "else:\n",
    "    print(\"file not available....|\")\n",
    "print(\"file deleted successfully\")"
   ]
  },
  {
   "cell_type": "code",
   "execution_count": 12,
   "metadata": {},
   "outputs": [
    {
     "name": "stdout",
     "output_type": "stream",
     "text": [
      "This is try block\n",
      "Finally Block\n"
     ]
    }
   ],
   "source": [
    "try:\n",
    "    print(\"This is try block\")\n",
    "    f=open(\"data.txt\",\"x\")\n",
    "    f.write(\"Data Science\")\n",
    "    \n",
    "except:\n",
    "    print(\"We are getting error in try block\")\n",
    "    print(\"Except Block\")\n",
    "    f=open(\"data.txt\",\"w\")\n",
    "    f.write(\"Data Science\")\n",
    "    \n",
    "finally:\n",
    "    print(\"Finally Block\")\n",
    "    f.close()"
   ]
  },
  {
   "cell_type": "markdown",
   "metadata": {},
   "source": [
    "# File_handling:\n",
    "    file handling is a mechanism through which we can handle (read,write,create,append etc) the file"
   ]
  },
  {
   "cell_type": "markdown",
   "metadata": {},
   "source": [
    "# syntax:\n",
    "    file_obj=open('file_path','mode')\n",
    "    \n",
    "    >>open() is a function to work with files and it takes 2 parameters"
   ]
  },
  {
   "cell_type": "code",
   "execution_count": null,
   "metadata": {},
   "outputs": [],
   "source": [
    "File_mode:\n",
    "    >> r = read\n",
    "    >> w = write\n",
    "    >> a = append\n",
    "    >> rt = both read and write\n",
    "    >> b = binary mode\n",
    "\n",
    "File_operations:\n",
    "    >> create\n",
    "    >> read\n",
    "    >> write\n",
    "    >> copy\n",
    "    >> close\n",
    "    >> delete etc"
   ]
  },
  {
   "cell_type": "code",
   "execution_count": 16,
   "metadata": {},
   "outputs": [
    {
     "name": "stdout",
     "output_type": "stream",
     "text": [
      "file not available error...plz create file first\n"
     ]
    }
   ],
   "source": [
    "# exception handling using try expect block\n",
    "try:\n",
    "    f=open(\"C:\\\\Users\\\\Deepak\\\\Downloads\\\\python daily class notes\\\\10_31\\A.txt\",\"r\")\n",
    "    print(f.readlines())\n",
    "except:\n",
    "    print(\"file not available error...plz create file first\")\n",
    "#print(\"file read done\")"
   ]
  },
  {
   "cell_type": "code",
   "execution_count": 17,
   "metadata": {},
   "outputs": [
    {
     "name": "stdout",
     "output_type": "stream",
     "text": [
      "['Learning coding\\n', ' deepak']\n",
      "close file\n"
     ]
    }
   ],
   "source": [
    "#close\n",
    "try:\n",
    "    f=open(\"C:\\\\Users\\\\Deepak\\\\Downloads\\\\python daily class notes\\\\10_31\\B.txt\",\"r\")\n",
    "    print(f.readlines())\n",
    "except:\n",
    "    print(\"file not available error...plz create file first\")\n",
    "else:\n",
    "    f.close()\n",
    "    print(\"close file\")\n",
    "#print(\"file read done\")"
   ]
  },
  {
   "cell_type": "code",
   "execution_count": null,
   "metadata": {},
   "outputs": [],
   "source": [
    "#"
   ]
  },
  {
   "cell_type": "code",
   "execution_count": 14,
   "metadata": {},
   "outputs": [
    {
     "name": "stdout",
     "output_type": "stream",
     "text": [
      "This is try block\n",
      "We are getting error in try block\n",
      "Except Block\n",
      "None\n",
      "Finally Block\n"
     ]
    },
    {
     "name": "stderr",
     "output_type": "stream",
     "text": [
      "Traceback (most recent call last):\n",
      "  File \"<ipython-input-14-cd3374047784>\", line 4, in <module>\n",
      "    f=open(\"data.txt\",\"x\")\n",
      "FileExistsError: [Errno 17] File exists: 'data.txt'\n"
     ]
    }
   ],
   "source": [
    "import traceback\n",
    "try:\n",
    "    print(\"This is try block\")\n",
    "    f=open(\"data.txt\",\"x\")\n",
    "    f.write(\"Data Science\")\n",
    "    \n",
    "except:\n",
    "    print(\"We are getting error in try block\")\n",
    "    print(\"Except Block\")\n",
    "    f=open(\"data.txt\",\"w\")\n",
    "    f.write(\"Data Science\")\n",
    "    print(traceback.print_exc())\n",
    "    \n",
    "finally:\n",
    "    print(\"Finally Block\")\n",
    "    f.close()"
   ]
  },
  {
   "cell_type": "code",
   "execution_count": 15,
   "metadata": {},
   "outputs": [
    {
     "name": "stdout",
     "output_type": "stream",
     "text": [
      "try block\n",
      "Nested Try block\n"
     ]
    }
   ],
   "source": [
    "try:\n",
    "    print(\"try block\")\n",
    "    \n",
    "    try:\n",
    "        print(\"Nested Try block\")\n",
    "    except:\n",
    "        print(\"Nested Except Block\")\n",
    "        \n",
    "except:\n",
    "    print(\"Except Block\")"
   ]
  },
  {
   "cell_type": "code",
   "execution_count": 16,
   "metadata": {},
   "outputs": [
    {
     "name": "stdout",
     "output_type": "stream",
     "text": [
      "try block\n",
      "Except Block\n"
     ]
    }
   ],
   "source": [
    "try:\n",
    "    print(\"try block\")\n",
    "    print(python)\n",
    "    \n",
    "    try:\n",
    "        print(\"Nested Try block\")\n",
    "    except:\n",
    "        print(\"Nested Except Block\")\n",
    "        \n",
    "except:\n",
    "    print(\"Except Block\")"
   ]
  },
  {
   "cell_type": "code",
   "execution_count": 18,
   "metadata": {},
   "outputs": [
    {
     "name": "stdout",
     "output_type": "stream",
     "text": [
      "try block\n",
      "python\n",
      "Nested Try block\n",
      "Nested Except Block\n",
      "<class 'NameError'>\n"
     ]
    }
   ],
   "source": [
    "import sys\n",
    "try:\n",
    "    print(\"try block\")\n",
    "    print(\"python\")\n",
    "    \n",
    "    try:\n",
    "        print(\"Nested Try block\")\n",
    "        print(python)\n",
    "    except:\n",
    "        print(\"Nested Except Block\")\n",
    "        print(sys.exc_info()[0])\n",
    "        \n",
    "except:\n",
    "    print(\"Except Block\")"
   ]
  },
  {
   "cell_type": "markdown",
   "metadata": {},
   "source": [
    "### Raising An Error:"
   ]
  },
  {
   "cell_type": "code",
   "execution_count": null,
   "metadata": {},
   "outputs": [],
   "source": [
    "raise keyword is used to raise an errors"
   ]
  },
  {
   "cell_type": "code",
   "execution_count": 20,
   "metadata": {},
   "outputs": [
    {
     "name": "stdout",
     "output_type": "stream",
     "text": [
      "Try Block\n",
      "Except Block\n"
     ]
    }
   ],
   "source": [
    "try:\n",
    "    print(\"Try Block\")\n",
    "    raise NameError(\"Python is not define\")\n",
    "    \n",
    "except:\n",
    "    print(\"Except Block\")"
   ]
  },
  {
   "cell_type": "code",
   "execution_count": 21,
   "metadata": {},
   "outputs": [
    {
     "ename": "NameError",
     "evalue": "Python is not define",
     "output_type": "error",
     "traceback": [
      "\u001b[1;31m---------------------------------------------------------------------------\u001b[0m",
      "\u001b[1;31mNameError\u001b[0m                                 Traceback (most recent call last)",
      "\u001b[1;32m<ipython-input-21-3b06c7a2de30>\u001b[0m in \u001b[0;36m<module>\u001b[1;34m\u001b[0m\n\u001b[1;32m----> 1\u001b[1;33m \u001b[1;32mraise\u001b[0m \u001b[0mNameError\u001b[0m\u001b[1;33m(\u001b[0m\u001b[1;34m\"Python is not define\"\u001b[0m\u001b[1;33m)\u001b[0m\u001b[1;33m\u001b[0m\u001b[1;33m\u001b[0m\u001b[0m\n\u001b[0m",
      "\u001b[1;31mNameError\u001b[0m: Python is not define"
     ]
    }
   ],
   "source": [
    "raise NameError(\"Python is not define\")"
   ]
  },
  {
   "cell_type": "code",
   "execution_count": 22,
   "metadata": {},
   "outputs": [
    {
     "ename": "TypeError",
     "evalue": "unsupported operand type(s) for +: 'int' and 'str'",
     "output_type": "error",
     "traceback": [
      "\u001b[1;31m---------------------------------------------------------------------------\u001b[0m",
      "\u001b[1;31mTypeError\u001b[0m                                 Traceback (most recent call last)",
      "\u001b[1;32m<ipython-input-22-53e37ba5b5eb>\u001b[0m in \u001b[0;36m<module>\u001b[1;34m\u001b[0m\n\u001b[0;32m      2\u001b[0m \u001b[0my\u001b[0m\u001b[1;33m=\u001b[0m\u001b[1;34m\"40\"\u001b[0m\u001b[1;33m\u001b[0m\u001b[1;33m\u001b[0m\u001b[0m\n\u001b[0;32m      3\u001b[0m \u001b[1;33m\u001b[0m\u001b[0m\n\u001b[1;32m----> 4\u001b[1;33m \u001b[0mx\u001b[0m\u001b[1;33m+\u001b[0m\u001b[0my\u001b[0m\u001b[1;33m\u001b[0m\u001b[1;33m\u001b[0m\u001b[0m\n\u001b[0m",
      "\u001b[1;31mTypeError\u001b[0m: unsupported operand type(s) for +: 'int' and 'str'"
     ]
    }
   ],
   "source": [
    "x=10\n",
    "y=\"40\"\n",
    "\n",
    "x+y"
   ]
  },
  {
   "cell_type": "code",
   "execution_count": 24,
   "metadata": {},
   "outputs": [],
   "source": [
    "x=10\n",
    "y=\"40\"\n",
    "\n",
    "if type(x)==int and type(y)==int:\n",
    "    add=x+y\n",
    "    print(f\"Addition of {x} and {y} is {add}\")\n",
    "\n"
   ]
  },
  {
   "cell_type": "code",
   "execution_count": 26,
   "metadata": {},
   "outputs": [
    {
     "name": "stdout",
     "output_type": "stream",
     "text": [
      "Addition of 10 and 40 is 50\n"
     ]
    }
   ],
   "source": [
    "x=10\n",
    "y=40\n",
    "\n",
    "if type(x)==int and type(y)==int:\n",
    "    add=x+y\n",
    "    print(f\"Addition of {x} and {y} is {add}\")\n",
    "\n",
    "else:\n",
    "    raise TypeError(f\"Either {x} or {y} is not in integer format\")"
   ]
  },
  {
   "cell_type": "code",
   "execution_count": 27,
   "metadata": {},
   "outputs": [
    {
     "ename": "TypeError",
     "evalue": "Either 10 or 40 is not in integer format",
     "output_type": "error",
     "traceback": [
      "\u001b[1;31m---------------------------------------------------------------------------\u001b[0m",
      "\u001b[1;31mTypeError\u001b[0m                                 Traceback (most recent call last)",
      "\u001b[1;32m<ipython-input-27-ea09d93a2890>\u001b[0m in \u001b[0;36m<module>\u001b[1;34m\u001b[0m\n\u001b[0;32m      7\u001b[0m \u001b[1;33m\u001b[0m\u001b[0m\n\u001b[0;32m      8\u001b[0m \u001b[1;32melse\u001b[0m\u001b[1;33m:\u001b[0m\u001b[1;33m\u001b[0m\u001b[1;33m\u001b[0m\u001b[0m\n\u001b[1;32m----> 9\u001b[1;33m     \u001b[1;32mraise\u001b[0m \u001b[0mTypeError\u001b[0m\u001b[1;33m(\u001b[0m\u001b[1;34mf\"Either {x} or {y} is not in integer format\"\u001b[0m\u001b[1;33m)\u001b[0m\u001b[1;33m\u001b[0m\u001b[1;33m\u001b[0m\u001b[0m\n\u001b[0m",
      "\u001b[1;31mTypeError\u001b[0m: Either 10 or 40 is not in integer format"
     ]
    }
   ],
   "source": [
    "x=10\n",
    "y=\"40\"\n",
    "\n",
    "if type(x)==int and type(y)==int:\n",
    "    add=x+y\n",
    "    print(f\"Addition of {x} and {y} is {add}\")\n",
    "\n",
    "else:\n",
    "    raise TypeError(f\"Either {x} or {y} is not in integer format\")"
   ]
  },
  {
   "cell_type": "code",
   "execution_count": 28,
   "metadata": {},
   "outputs": [
    {
     "ename": "TypeError",
     "evalue": "Either 10 or 30 is not in integer format",
     "output_type": "error",
     "traceback": [
      "\u001b[1;31m---------------------------------------------------------------------------\u001b[0m",
      "\u001b[1;31mTypeError\u001b[0m                                 Traceback (most recent call last)",
      "\u001b[1;32m<ipython-input-28-f0fbe1d61e05>\u001b[0m in \u001b[0;36m<module>\u001b[1;34m\u001b[0m\n\u001b[0;32m      7\u001b[0m \u001b[1;33m\u001b[0m\u001b[0m\n\u001b[0;32m      8\u001b[0m \u001b[1;32melse\u001b[0m\u001b[1;33m:\u001b[0m\u001b[1;33m\u001b[0m\u001b[1;33m\u001b[0m\u001b[0m\n\u001b[1;32m----> 9\u001b[1;33m     \u001b[1;32mraise\u001b[0m \u001b[0mTypeError\u001b[0m\u001b[1;33m(\u001b[0m\u001b[1;34mf\"Either {x} or {y} is not in integer format\"\u001b[0m\u001b[1;33m)\u001b[0m\u001b[1;33m\u001b[0m\u001b[1;33m\u001b[0m\u001b[0m\n\u001b[0m",
      "\u001b[1;31mTypeError\u001b[0m: Either 10 or 30 is not in integer format"
     ]
    }
   ],
   "source": [
    "x=10\n",
    "y=\"30\"\n",
    "\n",
    "if type(x)==int and type(y)==int:\n",
    "    add=x+y\n",
    "    print(f\"Addition of {x} and {y} is {add}\")\n",
    "\n",
    "else:\n",
    "    raise TypeError(f\"Either {x} or {y} is not in integer format\")"
   ]
  },
  {
   "cell_type": "code",
   "execution_count": 29,
   "metadata": {},
   "outputs": [
    {
     "ename": "NameError",
     "evalue": "Either 10 or 30 is not in integer format",
     "output_type": "error",
     "traceback": [
      "\u001b[1;31m---------------------------------------------------------------------------\u001b[0m",
      "\u001b[1;31mNameError\u001b[0m                                 Traceback (most recent call last)",
      "\u001b[1;32m<ipython-input-29-db0ddbe186f3>\u001b[0m in \u001b[0;36m<module>\u001b[1;34m\u001b[0m\n\u001b[0;32m      7\u001b[0m \u001b[1;33m\u001b[0m\u001b[0m\n\u001b[0;32m      8\u001b[0m \u001b[1;32melse\u001b[0m\u001b[1;33m:\u001b[0m\u001b[1;33m\u001b[0m\u001b[1;33m\u001b[0m\u001b[0m\n\u001b[1;32m----> 9\u001b[1;33m     \u001b[1;32mraise\u001b[0m \u001b[0mNameError\u001b[0m\u001b[1;33m(\u001b[0m\u001b[1;34mf\"Either {x} or {y} is not in integer format\"\u001b[0m\u001b[1;33m)\u001b[0m\u001b[1;33m\u001b[0m\u001b[1;33m\u001b[0m\u001b[0m\n\u001b[0m",
      "\u001b[1;31mNameError\u001b[0m: Either 10 or 30 is not in integer format"
     ]
    }
   ],
   "source": [
    "x=10\n",
    "y=\"30\"\n",
    "\n",
    "if type(x)==int and type(y)==int:\n",
    "    add=x+y\n",
    "    print(f\"Addition of {x} and {y} is {add}\")\n",
    "\n",
    "else:\n",
    "    raise NameError(f\"Either {x} or {y} is not in integer format\")"
   ]
  },
  {
   "cell_type": "code",
   "execution_count": 31,
   "metadata": {},
   "outputs": [
    {
     "name": "stdout",
     "output_type": "stream",
     "text": [
      "Enter a Positive number:-5\n",
      "Error:Entered Negative number\n"
     ]
    }
   ],
   "source": [
    "try:\n",
    "    num=int(input(\"Enter a Positive number:\"))\n",
    "    \n",
    "    if num<=0:\n",
    "        raise ValueError(\"Error:Entered Negative number\")\n",
    "        \n",
    "except ValueError as e:\n",
    "    print(e)\n",
    "    "
   ]
  }
 ],
 "metadata": {
  "kernelspec": {
   "display_name": "Python 3 (ipykernel)",
   "language": "python",
   "name": "python3"
  },
  "language_info": {
   "codemirror_mode": {
    "name": "ipython",
    "version": 3
   },
   "file_extension": ".py",
   "mimetype": "text/x-python",
   "name": "python",
   "nbconvert_exporter": "python",
   "pygments_lexer": "ipython3",
   "version": "3.9.12"
  }
 },
 "nbformat": 4,
 "nbformat_minor": 4
}
