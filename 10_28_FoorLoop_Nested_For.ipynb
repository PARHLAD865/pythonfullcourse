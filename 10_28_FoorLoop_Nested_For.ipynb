{
 "cells": [
  {
   "cell_type": "markdown",
   "metadata": {},
   "source": [
    "# Conditional Statements:"
   ]
  },
  {
   "cell_type": "code",
   "execution_count": null,
   "metadata": {},
   "outputs": [],
   "source": [
    "break\n",
    "continue\n",
    "pass"
   ]
  },
  {
   "cell_type": "code",
   "execution_count": 2,
   "metadata": {},
   "outputs": [
    {
     "name": "stdout",
     "output_type": "stream",
     "text": [
      "the char is == d\n",
      "I am in loop\n",
      "****************************************\n",
      "the char is == a\n",
      "I am in loop\n",
      "****************************************\n",
      "the char is == t\n",
      "I am in loop\n",
      "****************************************\n",
      "the char is == a\n",
      "I am in loop\n",
      "****************************************\n",
      "the char is ==  \n",
      "I am in loop\n",
      "****************************************\n",
      "the char is == S\n",
      "char is in upper case\n",
      "I am out of loop\n"
     ]
    }
   ],
   "source": [
    "for char in \"data Science\":       # no of iterations\n",
    "    print(f\"the char is == {char}\")  #d\n",
    "    \n",
    "    if char.isupper():\n",
    "        print(\"char is in upper case\")\n",
    "        break\n",
    "        \n",
    "    print(\"I am in loop\")\n",
    "    print(\"*\"*40)\n",
    "    \n",
    "print(\"I am out of loop\")\n",
    "\n",
    "\n",
    "# the char is == d\n",
    "# I am in loop\n",
    "# ***************************\n",
    "# the char is == a\n",
    "# I am in loop\n",
    "# ***************************\n",
    "# the char is == t\n",
    "# I am in loop\n",
    "# ***************************\n",
    "# the char is == a\n",
    "# I am in loop\n",
    "# ***************************\n",
    "# the char is == \n",
    "# I am in loop\n",
    "# ***************************\n",
    "# the char is == S\n",
    "# char is in upper case\n",
    "# I am outof loop\n",
    "\n"
   ]
  },
  {
   "cell_type": "code",
   "execution_count": 5,
   "metadata": {},
   "outputs": [
    {
     "name": "stdout",
     "output_type": "stream",
     "text": [
      "i==10\n",
      "we are learning For loop\n",
      "****************************************\n",
      "\n",
      "i==11\n",
      "we are learning For loop\n",
      "****************************************\n",
      "\n",
      "i==12\n",
      "we are learning For loop\n",
      "****************************************\n",
      "\n",
      "i==13\n",
      "we are learning For loop\n",
      "****************************************\n",
      "\n",
      "i==14\n",
      "we are learning For loop\n",
      "****************************************\n",
      "\n",
      "i==15\n",
      "The value of i in==15\n",
      "i==16\n",
      "we are learning For loop\n",
      "****************************************\n",
      "\n",
      "i==17\n",
      "we are learning For loop\n",
      "****************************************\n",
      "\n",
      "i==18\n",
      "we are learning For loop\n",
      "****************************************\n",
      "\n",
      "i==19\n",
      "we are learning For loop\n",
      "****************************************\n",
      "\n",
      "i==20\n",
      "we are learning For loop\n",
      "****************************************\n",
      "\n"
     ]
    }
   ],
   "source": [
    "for i in range(10,21):\n",
    "    print(f\"i=={i}\")\n",
    "    \n",
    "    if i ==15:     # i=15 true\n",
    "        print(\"The value of i in==15\")\n",
    "        continue\n",
    "        \n",
    "    print(\"we are learning For loop\")\n",
    "    print(\"*\"*40)\n",
    "    print()\n",
    "    \n",
    "    \n",
    "# i==10\n",
    "# we are learning for loop\n",
    "# *********************************\n",
    "\n",
    "# i==11\n",
    "# we are learning for loop\n",
    "# *********************************\n",
    "\n",
    "# i==12\n",
    "# we are learning for loop\n",
    "# *********************************8\n",
    "\n",
    "# i==13\n",
    "# we are learning for loop\n",
    "# *********************************8\n",
    "\n",
    "# i==14\n",
    "# we are learning for loop\n",
    "# *********************************8\n",
    "\n",
    "# i==15\n",
    "# the value of i is ==15\n",
    "\n",
    "# i==16\n",
    "# we are learning for loop\n",
    "# *********************************8\n",
    "# i==17\n",
    "# we are learning for loop\n",
    "# *********************************8\n",
    "# i==18\n",
    "# we are learning for loop\n",
    "# *********************************8\n",
    "\n",
    "# i==19\n",
    "# we are learning for loop\n",
    "# *********************************8\n",
    "\n",
    "# i==20\n",
    "# we are learning for loop\n",
    "# *********************************8\n",
    "\n"
   ]
  },
  {
   "cell_type": "code",
   "execution_count": 6,
   "metadata": {},
   "outputs": [
    {
     "name": "stdout",
     "output_type": "stream",
     "text": [
      "i==10\n",
      "we are learning For loop\n",
      "****************************************\n",
      "\n",
      "i==11\n",
      "we are learning For loop\n",
      "****************************************\n",
      "\n",
      "i==12\n",
      "we are learning For loop\n",
      "****************************************\n",
      "\n",
      "i==13\n",
      "we are learning For loop\n",
      "****************************************\n",
      "\n",
      "i==14\n",
      "we are learning For loop\n",
      "****************************************\n",
      "\n",
      "i==15\n",
      "The value of i is ==15\n"
     ]
    }
   ],
   "source": [
    "for i in range(10,21):\n",
    "    print(f\"i=={i}\")\n",
    "    \n",
    "    if i ==15:     # i=15 true\n",
    "        print(\"The value of i is ==15\")\n",
    "        break\n",
    "        \n",
    "    print(\"we are learning For loop\")\n",
    "    print(\"*\"*40)\n",
    "    print()"
   ]
  },
  {
   "cell_type": "markdown",
   "metadata": {},
   "source": [
    "# Prime Number:"
   ]
  },
  {
   "cell_type": "code",
   "execution_count": null,
   "metadata": {},
   "outputs": [],
   "source": [
    "Prime number:\n",
    "    If number is divisible by 1 and itself:\n",
    "        \n",
    "5 >>  2,3,4    #  n=5   (n)  (0,1,2,3,4)     (2,n)  \n",
    "\n",
    "7>> 2,3,4,5,6\n",
    "\n",
    "3 >> 1,3    prime\n",
    "\n",
    "4>> 1,2,4    not prime\n",
    "10>> 1,2,5,10    not prime   (2,n)"
   ]
  },
  {
   "cell_type": "code",
   "execution_count": 8,
   "metadata": {},
   "outputs": [
    {
     "name": "stdout",
     "output_type": "stream",
     "text": [
      "The value of i is 2\n",
      "15 is a prime number\n",
      "The value of i is 3\n",
      "15 is not a prime number\n",
      "The value of i is 4\n",
      "15 is a prime number\n",
      "The value of i is 5\n",
      "15 is not a prime number\n",
      "The value of i is 6\n",
      "15 is a prime number\n",
      "The value of i is 7\n",
      "15 is a prime number\n",
      "The value of i is 8\n",
      "15 is a prime number\n",
      "The value of i is 9\n",
      "15 is a prime number\n",
      "The value of i is 10\n",
      "15 is a prime number\n",
      "The value of i is 11\n",
      "15 is a prime number\n",
      "The value of i is 12\n",
      "15 is a prime number\n",
      "The value of i is 13\n",
      "15 is a prime number\n",
      "The value of i is 14\n",
      "15 is a prime number\n"
     ]
    }
   ],
   "source": [
    "n=15\n",
    "\n",
    "for i in range(2,n):      # loop will run for n-1 times\n",
    "    print(f\"The value of i is {i}\")\n",
    "    \n",
    "    if n%i==0:      #15%2==0 false\n",
    "        print(f\"{n} is not a prime number\")\n",
    "        \n",
    "    else:\n",
    "        print(f\"{n} is a prime number\")\n",
    "        \n",
    "        "
   ]
  },
  {
   "cell_type": "code",
   "execution_count": 11,
   "metadata": {},
   "outputs": [
    {
     "name": "stdout",
     "output_type": "stream",
     "text": [
      "\n",
      "The value of iteration  is 2\n",
      "17 is a prime number\n",
      "\n",
      "The value of iteration  is 3\n",
      "17 is a prime number\n",
      "\n",
      "The value of iteration  is 4\n",
      "17 is a prime number\n",
      "\n",
      "The value of iteration  is 5\n",
      "17 is a prime number\n",
      "\n",
      "The value of iteration  is 6\n",
      "17 is a prime number\n",
      "\n",
      "The value of iteration  is 7\n",
      "17 is a prime number\n",
      "\n",
      "The value of iteration  is 8\n",
      "17 is a prime number\n",
      "\n",
      "The value of iteration  is 9\n",
      "17 is a prime number\n",
      "\n",
      "The value of iteration  is 10\n",
      "17 is a prime number\n",
      "\n",
      "The value of iteration  is 11\n",
      "17 is a prime number\n",
      "\n",
      "The value of iteration  is 12\n",
      "17 is a prime number\n",
      "\n",
      "The value of iteration  is 13\n",
      "17 is a prime number\n",
      "\n",
      "The value of iteration  is 14\n",
      "17 is a prime number\n",
      "\n",
      "The value of iteration  is 15\n",
      "17 is a prime number\n",
      "\n",
      "The value of iteration  is 16\n",
      "17 is a prime number\n"
     ]
    }
   ],
   "source": [
    "n=17\n",
    "\n",
    "for i in range(2,n):      # loop will run for n-1 times\n",
    "    print()\n",
    "    print(f\"The value of iteration  is {i}\")\n",
    "    \n",
    "    if n%i==0:      #15%2==0 false\n",
    "        print(f\"{n} is not a prime number\")\n",
    "        \n",
    "    else:\n",
    "        print(f\"{n} is a prime number\")\n",
    "        \n",
    "        "
   ]
  },
  {
   "cell_type": "code",
   "execution_count": 12,
   "metadata": {},
   "outputs": [
    {
     "name": "stdout",
     "output_type": "stream",
     "text": [
      "\n",
      "The value of iteration  is 2\n",
      "15 is a prime number\n",
      "\n",
      "The value of iteration  is 3\n",
      "15 is not a prime number\n",
      "\n",
      "The value of iteration  is 4\n",
      "15 is a prime number\n",
      "\n",
      "The value of iteration  is 5\n",
      "15 is not a prime number\n",
      "\n",
      "The value of iteration  is 6\n",
      "15 is a prime number\n",
      "\n",
      "The value of iteration  is 7\n",
      "15 is a prime number\n",
      "\n",
      "The value of iteration  is 8\n",
      "15 is a prime number\n",
      "\n",
      "The value of iteration  is 9\n",
      "15 is a prime number\n",
      "\n",
      "The value of iteration  is 10\n",
      "15 is a prime number\n",
      "\n",
      "The value of iteration  is 11\n",
      "15 is a prime number\n",
      "\n",
      "The value of iteration  is 12\n",
      "15 is a prime number\n",
      "\n",
      "The value of iteration  is 13\n",
      "15 is a prime number\n",
      "\n",
      "The value of iteration  is 14\n",
      "15 is a prime number\n"
     ]
    }
   ],
   "source": [
    "n=15\n",
    "\n",
    "for i in range(2,n):      # loop will run for n-1 times\n",
    "    print()\n",
    "    print(f\"The value of iteration  is {i}\")\n",
    "    \n",
    "    if n%i==0:      #15%2==0 false\n",
    "        print(f\"{n} is not a prime number\")\n",
    "        \n",
    "    else:\n",
    "        print(f\"{n} is a prime number\")"
   ]
  },
  {
   "cell_type": "code",
   "execution_count": 13,
   "metadata": {},
   "outputs": [
    {
     "name": "stdout",
     "output_type": "stream",
     "text": [
      "\n",
      "The value of iteration  is 2\n",
      "15 is a prime number\n",
      "\n",
      "The value of iteration  is 3\n",
      "15 is not a prime number\n"
     ]
    }
   ],
   "source": [
    "n=15\n",
    "\n",
    "for i in range(2,n):      # loop will run for n-1 times\n",
    "    print()\n",
    "    print(f\"The value of iteration  is {i}\")\n",
    "    \n",
    "    if n%i==0:      \n",
    "        print(f\"{n} is not a prime number\")\n",
    "        break\n",
    "        \n",
    "    else:\n",
    "        print(f\"{n} is a prime number\")"
   ]
  },
  {
   "cell_type": "code",
   "execution_count": 14,
   "metadata": {},
   "outputs": [
    {
     "name": "stdout",
     "output_type": "stream",
     "text": [
      "15 is a prime number\n",
      "15 is not a prime number\n"
     ]
    }
   ],
   "source": [
    "n=15\n",
    "\n",
    "for i in range(2,n):      # loop will run for n-1 times\n",
    "    if n%i==0:      \n",
    "        print(f\"{n} is not a prime number\")\n",
    "        break\n",
    "        \n",
    "    else:\n",
    "        print(f\"{n} is a prime number\")"
   ]
  },
  {
   "cell_type": "code",
   "execution_count": 15,
   "metadata": {},
   "outputs": [
    {
     "name": "stdout",
     "output_type": "stream",
     "text": [
      "15 is not a prime number\n"
     ]
    }
   ],
   "source": [
    "n=15\n",
    "\n",
    "for i in range(2,n):      # loop will run for n-1 times\n",
    "    if n%i==0:      \n",
    "        print(f\"{n} is not a prime number\")\n",
    "        break\n",
    "        \n",
    "else:\n",
    "    print(f\"{n} is a prime number\")\n",
    "    \n"
   ]
  },
  {
   "cell_type": "code",
   "execution_count": 16,
   "metadata": {},
   "outputs": [
    {
     "name": "stdout",
     "output_type": "stream",
     "text": [
      "17 is a prime number\n"
     ]
    }
   ],
   "source": [
    "n=17\n",
    "\n",
    "for i in range(2,n):      # loop will run for n-1 times\n",
    "    if n%i==0:      \n",
    "        print(f\"{n} is not a prime number\")\n",
    "        break\n",
    "        \n",
    "else:\n",
    "    print(f\"{n} is a prime number\")\n",
    "    "
   ]
  },
  {
   "cell_type": "code",
   "execution_count": 17,
   "metadata": {},
   "outputs": [
    {
     "name": "stdout",
     "output_type": "stream",
     "text": [
      "97 is a prime number\n"
     ]
    }
   ],
   "source": [
    "n=97\n",
    "\n",
    "for i in range(2,n):      # loop will run for n-1 times\n",
    "    if n%i==0:      \n",
    "        print(f\"{n} is not a prime number\")\n",
    "        break\n",
    "        \n",
    "else:\n",
    "    print(f\"{n} is a prime number\")\n",
    "    "
   ]
  },
  {
   "cell_type": "code",
   "execution_count": 18,
   "metadata": {},
   "outputs": [
    {
     "name": "stdout",
     "output_type": "stream",
     "text": [
      "20 is not a prime number\n"
     ]
    }
   ],
   "source": [
    "n=20\n",
    "\n",
    "for i in range(2,n):      # loop will run for n-1 times\n",
    "    if n%i==0:      \n",
    "        print(f\"{n} is not a prime number\")\n",
    "        break\n",
    "        \n",
    "else:\n",
    "    print(f\"{n} is a prime number\")\n",
    "    "
   ]
  },
  {
   "cell_type": "markdown",
   "metadata": {},
   "source": [
    "# Fibonnacci Series:"
   ]
  },
  {
   "cell_type": "code",
   "execution_count": null,
   "metadata": {},
   "outputs": [],
   "source": [
    "Fibonnaci:\n",
    "    \n",
    "    first= 0     \n",
    "    second=1\n",
    "    new= first + second   new= 0+1= 1\n",
    "    \n",
    "    first=second        first=1\n",
    "                        second=new=1\n",
    "    second=new\n",
    "    \n",
    "    \n",
    "    0  1 1 2 3 5 8 13 21 34 55"
   ]
  },
  {
   "cell_type": "code",
   "execution_count": 19,
   "metadata": {},
   "outputs": [
    {
     "name": "stdout",
     "output_type": "stream",
     "text": [
      "Fibonacci Series: 0 1\n",
      "1\n",
      "2\n",
      "3\n",
      "5\n",
      "8\n",
      "13\n"
     ]
    }
   ],
   "source": [
    "n=8\n",
    "\n",
    "first=0\n",
    "second=1\n",
    "\n",
    "print(\"Fibonacci Series:\",first,second)\n",
    "\n",
    "for i in range(n-2): #(9)  (0,1,2,3,4,5,6,7,8)   no of iterations (n-2)   (2,n-2)\n",
    "    new=first+second\n",
    "    \n",
    "    print(new)\n",
    "    \n",
    "    first= second\n",
    "    second=new\n",
    "    \n",
    "#Fibonacci Series: 0 1 1 2 3 5 8 13"
   ]
  },
  {
   "cell_type": "code",
   "execution_count": 22,
   "metadata": {},
   "outputs": [
    {
     "name": "stdout",
     "output_type": "stream",
     "text": [
      "Fibonacci Series: 0 1 1 2 3 5 8 13 "
     ]
    }
   ],
   "source": [
    "n=8\n",
    "\n",
    "first=0\n",
    "second=1\n",
    "\n",
    "print(\"Fibonacci Series:\",first,second,end=\" \")\n",
    "\n",
    "for i in range(n-2): #(9)  (0,1,2,3,4,5,6,7,8)   no of iterations (n-2)   (2,n-2)\n",
    "    new=first+second\n",
    "    \n",
    "    print(new, end=\" \")\n",
    "    \n",
    "    first= second\n",
    "    second=new"
   ]
  },
  {
   "cell_type": "code",
   "execution_count": 24,
   "metadata": {},
   "outputs": [
    {
     "name": "stdout",
     "output_type": "stream",
     "text": [
      "Fibonacci Series: 0 1 1 2 3 5 8 13 "
     ]
    }
   ],
   "source": [
    "n=8\n",
    "\n",
    "first=0\n",
    "second=1\n",
    "\n",
    "print(\"Fibonacci Series:\",first,second,end=\" \")\n",
    "\n",
    "for i in range(n-2): #(9)  (0,1,2,3,4,5,6,7,8)   no of iterations (n-2)   (2,n-2)\n",
    "    first,second=second,first+second\n",
    "    print(second, end=\" \")\n",
    "    \n",
    "    "
   ]
  },
  {
   "cell_type": "code",
   "execution_count": 25,
   "metadata": {},
   "outputs": [
    {
     "name": "stdout",
     "output_type": "stream",
     "text": [
      "Fibonacci Series: 0 1 1 2 3 5 8 13 21 34 "
     ]
    }
   ],
   "source": [
    "n=10\n",
    "\n",
    "first=0\n",
    "second=1\n",
    "\n",
    "print(\"Fibonacci Series:\",first,second,end=\" \")\n",
    "\n",
    "for i in range(n-2): #(9)  (0,1,2,3,4,5,6,7,8)   no of iterations (n-2)   (2,n-2)\n",
    "    first,second=second,first+second\n",
    "    print(second, end=\" \")"
   ]
  },
  {
   "cell_type": "markdown",
   "metadata": {},
   "source": [
    "# For-Else:"
   ]
  },
  {
   "cell_type": "code",
   "execution_count": 27,
   "metadata": {},
   "outputs": [
    {
     "name": "stdout",
     "output_type": "stream",
     "text": [
      "Happy 0\n",
      "Happy 1\n",
      "Happy 2\n",
      "Happy 3\n",
      "Happy 4\n",
      "Loop Completed\n"
     ]
    }
   ],
   "source": [
    "for i in range(5):   #5times iterations\n",
    "    print(f\"Happy {i}\")\n",
    "    \n",
    "else:\n",
    "    print(\"Loop Completed\")"
   ]
  },
  {
   "cell_type": "code",
   "execution_count": 30,
   "metadata": {},
   "outputs": [
    {
     "name": "stdout",
     "output_type": "stream",
     "text": [
      "Happy 0\n",
      "Happy 1\n",
      "Happy 2\n",
      "Happy 3\n"
     ]
    }
   ],
   "source": [
    "for i in range(5):  \n",
    "    print(f\"Happy {i}\")\n",
    "    if i==3:\n",
    "        break\n",
    "    \n",
    "    \n",
    "else:\n",
    "    print(\"Loop Completed\")"
   ]
  },
  {
   "cell_type": "code",
   "execution_count": null,
   "metadata": {},
   "outputs": [],
   "source": [
    "break will take u out of for-else loop"
   ]
  },
  {
   "cell_type": "code",
   "execution_count": null,
   "metadata": {},
   "outputs": [],
   "source": []
  }
 ],
 "metadata": {
  "kernelspec": {
   "display_name": "Python 3 (ipykernel)",
   "language": "python",
   "name": "python3"
  },
  "language_info": {
   "codemirror_mode": {
    "name": "ipython",
    "version": 3
   },
   "file_extension": ".py",
   "mimetype": "text/x-python",
   "name": "python",
   "nbconvert_exporter": "python",
   "pygments_lexer": "ipython3",
   "version": "3.9.12"
  }
 },
 "nbformat": 4,
 "nbformat_minor": 4
}
