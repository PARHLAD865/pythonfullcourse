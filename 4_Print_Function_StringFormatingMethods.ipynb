{
 "cells": [
  {
   "cell_type": "markdown",
   "metadata": {},
   "source": [
    "# String Formatting Methods"
   ]
  },
  {
   "cell_type": "code",
   "execution_count": null,
   "metadata": {},
   "outputs": [],
   "source": [
    "1. Formatting with f-string.\n",
    "2. Formatting with format() string method.\n",
    "3. Formatting with % operator."
   ]
  },
  {
   "cell_type": "markdown",
   "metadata": {},
   "source": [
    "## 1. Formatting with f-string."
   ]
  },
  {
   "cell_type": "code",
   "execution_count": 17,
   "metadata": {},
   "outputs": [
    {
     "name": "stdout",
     "output_type": "stream",
     "text": [
      "Addition of a and b is sum\n"
     ]
    }
   ],
   "source": [
    "a=50\n",
    "b=40\n",
    "sum=a+b\n",
    "\n",
    "result= \"Addition of a and b is sum\"\n",
    "print(result)"
   ]
  },
  {
   "cell_type": "code",
   "execution_count": 30,
   "metadata": {},
   "outputs": [
    {
     "name": "stdout",
     "output_type": "stream",
     "text": [
      "Addition of 50 and 40 is: 250\n"
     ]
    }
   ],
   "source": [
    "print(\"Addition of 50 and 40 is:\",sum)"
   ]
  },
  {
   "cell_type": "code",
   "execution_count": 31,
   "metadata": {},
   "outputs": [
    {
     "name": "stdout",
     "output_type": "stream",
     "text": [
      "Addition of 50 and 200 is 250\n"
     ]
    }
   ],
   "source": [
    "a=50\n",
    "b=200\n",
    "sum=a+b\n",
    "\n",
    "result= f\"Addition of {a} and {b} is {sum}\"\n",
    "print(result)"
   ]
  },
  {
   "cell_type": "code",
   "execution_count": 27,
   "metadata": {},
   "outputs": [
    {
     "name": "stdout",
     "output_type": "stream",
     "text": [
      "Addition of 50 and 40 is 90\n"
     ]
    }
   ],
   "source": [
    "x=50\n",
    "y=40\n",
    "addition=x+y\n",
    "\n",
    "print(f\"Addition of {x} and {y} is {addition}\")\n"
   ]
  },
  {
   "cell_type": "code",
   "execution_count": 32,
   "metadata": {},
   "outputs": [
    {
     "name": "stdout",
     "output_type": "stream",
     "text": [
      "50\n"
     ]
    }
   ],
   "source": [
    "x=50\n",
    "print(x)"
   ]
  },
  {
   "cell_type": "code",
   "execution_count": 33,
   "metadata": {},
   "outputs": [
    {
     "name": "stdout",
     "output_type": "stream",
     "text": [
      "50\n"
     ]
    }
   ],
   "source": [
    "print(50)"
   ]
  },
  {
   "cell_type": "code",
   "execution_count": 35,
   "metadata": {},
   "outputs": [
    {
     "name": "stdout",
     "output_type": "stream",
     "text": [
      "Substarction of 60 and 100 is -40\n"
     ]
    }
   ],
   "source": [
    "a=60\n",
    "b=100\n",
    "substraction=a-b\n",
    "\n",
    "print(f\"Substarction of {a} and {b} is {substraction}\")"
   ]
  },
  {
   "cell_type": "code",
   "execution_count": 37,
   "metadata": {},
   "outputs": [
    {
     "name": "stdout",
     "output_type": "stream",
     "text": [
      "Sum of 20 and 50 is 70\n"
     ]
    }
   ],
   "source": [
    "a=20\n",
    "b=50\n",
    "\n",
    "add=a+b\n",
    "\n",
    "print(f\"Sum of {a} and {b} is {add}\")"
   ]
  },
  {
   "cell_type": "code",
   "execution_count": 39,
   "metadata": {},
   "outputs": [
    {
     "name": "stdout",
     "output_type": "stream",
     "text": [
      "Multiplication of 40 and 30 is 1200\n"
     ]
    }
   ],
   "source": [
    "x=40\n",
    "y=30\n",
    "\n",
    "print(f\"Multiplication of {x} and {y} is {x*y}\")\n",
    "\n",
    "\n"
   ]
  },
  {
   "cell_type": "code",
   "execution_count": 42,
   "metadata": {},
   "outputs": [
    {
     "name": "stdout",
     "output_type": "stream",
     "text": [
      "Sum of 200 and 50 sub 20 multiply 5  is 150\n"
     ]
    }
   ],
   "source": [
    "a=200\n",
    "b=50\n",
    "c=20\n",
    "d=5\n",
    "result=a+b-c*d     #BODMAS\n",
    "\n",
    "print(f\"Sum of {a} and {b} sub {c} multiply {d}  is {result}\")"
   ]
  },
  {
   "cell_type": "code",
   "execution_count": 48,
   "metadata": {},
   "outputs": [
    {
     "name": "stdout",
     "output_type": "stream",
     "text": [
      "10.0 <class 'float'> 2098999712656\n",
      "The division of 50 and 5 is 10.0\n"
     ]
    }
   ],
   "source": [
    "a=50\n",
    "b=5\n",
    "result= a/b\n",
    "# result=a*b\n",
    "print(result,type(result),id(result))\n",
    "\n",
    "print(f\"The division of {a} and {b} is {result}\")"
   ]
  },
  {
   "cell_type": "markdown",
   "metadata": {},
   "source": [
    "# 2. Formating with format() string method."
   ]
  },
  {
   "cell_type": "code",
   "execution_count": 49,
   "metadata": {},
   "outputs": [
    {
     "name": "stdout",
     "output_type": "stream",
     "text": [
      "Addition of 20 and 30 is :50\n"
     ]
    }
   ],
   "source": [
    "a=20\n",
    "b=30\n",
    "addition=a+b\n",
    "\n",
    "print(\"Addition of {} and {} is :{}\".format(a,b,addition))"
   ]
  },
  {
   "cell_type": "code",
   "execution_count": 50,
   "metadata": {},
   "outputs": [
    {
     "name": "stdout",
     "output_type": "stream",
     "text": [
      "Addition of 30 and 20 is :50\n"
     ]
    }
   ],
   "source": [
    "a=20\n",
    "b=30\n",
    "addition=a+b\n",
    "\n",
    "print(\"Addition of {} and {} is :{}\".format(b,a,addition))"
   ]
  },
  {
   "cell_type": "code",
   "execution_count": 77,
   "metadata": {},
   "outputs": [
    {
     "name": "stdout",
     "output_type": "stream",
     "text": [
      "Summation of 10 and 20 is:50\n"
     ]
    }
   ],
   "source": [
    "x=40\n",
    "y=50\n",
    "\n",
    "sum=x+y\n",
    "\n",
    "print(\"Summation of {} and {} is:{}\".format(10,20,50))"
   ]
  },
  {
   "cell_type": "code",
   "execution_count": 55,
   "metadata": {},
   "outputs": [
    {
     "name": "stdout",
     "output_type": "stream",
     "text": [
      "Summation of 400 and 350 is:750\n"
     ]
    }
   ],
   "source": [
    "x=400\n",
    "y=350\n",
    "\n",
    "sum=x+y\n",
    "\n",
    "print(\"Summation of {} and {} is:{}\".format(x,y,sum))"
   ]
  },
  {
   "cell_type": "code",
   "execution_count": 58,
   "metadata": {},
   "outputs": [
    {
     "name": "stdout",
     "output_type": "stream",
     "text": [
      "Addition of 40 and 50 is:90\n"
     ]
    }
   ],
   "source": [
    "a=40\n",
    "b=50\n",
    "addition=a+b\n",
    "\n",
    "print(\"Addition of {0} and {1} is:{2}\".format(a,b,addition))\n"
   ]
  },
  {
   "cell_type": "code",
   "execution_count": 59,
   "metadata": {},
   "outputs": [
    {
     "name": "stdout",
     "output_type": "stream",
     "text": [
      "Multiplication of 50 and 60 is:3000\n"
     ]
    }
   ],
   "source": [
    "x=50\n",
    "y=60\n",
    "\n",
    "mul=x*y\n",
    "\n",
    "print(\"Multiplication of {} and {} is:{}\".format(x,y,mul))"
   ]
  },
  {
   "cell_type": "code",
   "execution_count": 62,
   "metadata": {},
   "outputs": [
    {
     "name": "stdout",
     "output_type": "stream",
     "text": [
      "Multiplication of 3000 and 60 is:50 and division is:0.8333333333333334\n"
     ]
    }
   ],
   "source": [
    "x=50\n",
    "y=60\n",
    "\n",
    "mul=x*y\n",
    "div=x/y\n",
    "\n",
    "print(\"Multiplication of {2} and {1} is:{0} and division is:{3}\".format(x,y,mul,div))"
   ]
  },
  {
   "cell_type": "markdown",
   "metadata": {},
   "source": [
    "# 3. Formatting with % Operator."
   ]
  },
  {
   "cell_type": "code",
   "execution_count": 63,
   "metadata": {},
   "outputs": [
    {
     "name": "stdout",
     "output_type": "stream",
     "text": [
      "Addition of 40 and 50 is: 90\n"
     ]
    }
   ],
   "source": [
    "a=40\n",
    "b=50\n",
    "addition=a+b\n",
    "\n",
    "print(\"Addition of %d and %d is: %d\"%(a,b,addition))\n",
    "    "
   ]
  },
  {
   "cell_type": "code",
   "execution_count": 64,
   "metadata": {},
   "outputs": [
    {
     "name": "stdout",
     "output_type": "stream",
     "text": [
      "Addition of 40 and 3 is: 43\n"
     ]
    }
   ],
   "source": [
    "a=40\n",
    "b=3.14\n",
    "addition=a+b\n",
    "\n",
    "print(\"Addition of %d and %d is: %d\"%(a,b,addition))"
   ]
  },
  {
   "cell_type": "code",
   "execution_count": 67,
   "metadata": {},
   "outputs": [
    {
     "name": "stdout",
     "output_type": "stream",
     "text": [
      "Addition of 40 and 3.140000 is: 43.140000\n"
     ]
    }
   ],
   "source": [
    "a=40\n",
    "b=3.14\n",
    "addition=a+b\n",
    "\n",
    "print(\"Addition of %d and %f is: %f\"%(a,b,addition))"
   ]
  },
  {
   "cell_type": "code",
   "execution_count": 68,
   "metadata": {},
   "outputs": [
    {
     "name": "stdout",
     "output_type": "stream",
     "text": [
      "Addition of 40 and 3.14 is: 43.14\n"
     ]
    }
   ],
   "source": [
    "a=40\n",
    "b=3.14\n",
    "addition=a+b\n",
    "\n",
    "print(\"Addition of %d and %.2f is: %.2f\"%(a,b,addition))"
   ]
  },
  {
   "cell_type": "code",
   "execution_count": 69,
   "metadata": {},
   "outputs": [
    {
     "name": "stdout",
     "output_type": "stream",
     "text": [
      "Addition of 40 and 3.140 is: 43.140\n"
     ]
    }
   ],
   "source": [
    "a=40\n",
    "b=3.14\n",
    "addition=a+b\n",
    "\n",
    "print(\"Addition of %d and %.3f is: %.3f\"%(a,b,addition))"
   ]
  },
  {
   "cell_type": "code",
   "execution_count": 70,
   "metadata": {},
   "outputs": [
    {
     "name": "stdout",
     "output_type": "stream",
     "text": [
      "Value of s1 variable is:Data Science and Machine Learning\n"
     ]
    }
   ],
   "source": [
    "s1=\"Data Science and Machine Learning\"\n",
    "\n",
    "print(\"Value of s1 variable is:%s\"%s1)"
   ]
  },
  {
   "cell_type": "code",
   "execution_count": 75,
   "metadata": {},
   "outputs": [
    {
     "name": "stdout",
     "output_type": "stream",
     "text": [
      "Value in x variable is:3.123456789\n",
      "The value in x variable is 3.123456789\n",
      "The value in x variable is 3.123456789\n",
      "The value in x variable is 3.12\n"
     ]
    }
   ],
   "source": [
    "x=3.123456789\n",
    "\n",
    "print(f\"Value in x variable is:{x}\")\n",
    "print(\"The value in x variable is {}\".format(x))\n",
    "print(\"The value in x variable is {0}\".format(x))\n",
    "print(\"The value in x variable is %.2f\"%x)"
   ]
  },
  {
   "cell_type": "code",
   "execution_count": null,
   "metadata": {},
   "outputs": [],
   "source": [
    "a=20\n",
    "b=30.5\n",
    "c=a+b\n",
    "\n"
   ]
  },
  {
   "cell_type": "code",
   "execution_count": null,
   "metadata": {},
   "outputs": [],
   "source": [
    "Data Science=\n",
    "      1. Programming Language-Python,R,SAS\n",
    "      2. IDE(Intigrated Developement Environment)-Jupyter,Anaconda,Pycharm,VS code\n",
    "      3. Machine Learning/Deep Learning/ NLP\n",
    "      4. Data Visualisation(Matplotlib,Seaborn)\n",
    "      5. Maths/Stats(mean,median,mode,variance,std deviation)\n",
    "      6. Web Scraping(Beautiful soup, Scrapy)\n",
    "      7. Deployment Cloud Platform(AWS, Azure)"
   ]
  },
  {
   "cell_type": "code",
   "execution_count": 79,
   "metadata": {},
   "outputs": [
    {
     "data": {
      "text/plain": [
       "50"
      ]
     },
     "execution_count": 79,
     "metadata": {},
     "output_type": "execute_result"
    }
   ],
   "source": [
    "_name=50\n",
    "_name\n"
   ]
  },
  {
   "cell_type": "code",
   "execution_count": 82,
   "metadata": {},
   "outputs": [],
   "source": [
    "# Variable- Variable is a location in memory used to store some data\n",
    "\n",
    "Identifiers- Is the name of entities which can be given to variables,Functions and classes"
   ]
  },
  {
   "cell_type": "code",
   "execution_count": 2,
   "metadata": {},
   "outputs": [
    {
     "name": "stdout",
     "output_type": "stream",
     "text": [
      "Data Science  priyanka     Machine Learning\n"
     ]
    }
   ],
   "source": [
    "x=\"Data Science\"\n",
    "y=\"priyanka\"\n",
    "z=\"Machine Learning\"\n",
    "print(x,y,sep=\"  \",end=\"     \")\n",
    "print(z)\n"
   ]
  },
  {
   "cell_type": "code",
   "execution_count": null,
   "metadata": {},
   "outputs": [],
   "source": []
  },
  {
   "cell_type": "code",
   "execution_count": null,
   "metadata": {},
   "outputs": [],
   "source": []
  },
  {
   "cell_type": "code",
   "execution_count": null,
   "metadata": {},
   "outputs": [],
   "source": []
  }
 ],
 "metadata": {
  "kernelspec": {
   "display_name": "Python 3 (ipykernel)",
   "language": "python",
   "name": "python3"
  },
  "language_info": {
   "codemirror_mode": {
    "name": "ipython",
    "version": 3
   },
   "file_extension": ".py",
   "mimetype": "text/x-python",
   "name": "python",
   "nbconvert_exporter": "python",
   "pygments_lexer": "ipython3",
   "version": "3.9.12"
  }
 },
 "nbformat": 4,
 "nbformat_minor": 4
}
